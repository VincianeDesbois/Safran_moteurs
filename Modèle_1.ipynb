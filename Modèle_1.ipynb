{
 "cells": [
  {
   "cell_type": "markdown",
   "metadata": {},
   "source": [
    "# CNN-Modèle"
   ]
  },
  {
   "cell_type": "markdown",
   "metadata": {},
   "source": [
    "Avec nos données, on peut maintenant passer à la partie modélisation"
   ]
  },
  {
   "cell_type": "code",
   "execution_count": 2,
   "metadata": {},
   "outputs": [],
   "source": [
    "from tensorflow.keras.models import Sequential\n",
    "from tensorflow.keras.layers import Conv2D, MaxPooling2D, Flatten, Dense, Reshape\n",
    "import pandas as pd\n",
    "import numpy as np"
   ]
  },
  {
   "cell_type": "code",
   "execution_count": 56,
   "metadata": {},
   "outputs": [],
   "source": [
    "X = pd.read_csv('D:/Données/ENSAE/2A/S2/Séminaire de modélisation statistique/X.csv')\n",
    "Y = pd.read_csv('D:/Données/ENSAE/2A/S2/Séminaire de modélisation statistique/Y.csv')\n",
    "X_and_Y = pd.read_csv('D:/Données/ENSAE/2A/S2/Séminaire de modélisation statistique/X_and_Y.csv')"
   ]
  },
  {
   "cell_type": "code",
   "execution_count": 57,
   "metadata": {},
   "outputs": [],
   "source": [
    "# ATTENTION, il ne faut le lancer qu'une fois A METTRE SUR L'AUTRE CODE\n",
    "X['engine_serial_number'] = X['engine_serial_number'].str[4:]\n",
    "X['engine_series'] = X['engine_series'].str[14:]\n",
    "X['config_A'] = X['config_A'].str[9:]\n",
    "X['config_B'] = X['config_B'].str[9:]\n",
    "X = X.drop('Unnamed: 0', axis=1)\n",
    "Y =Y.drop('Unnamed: 0', axis=1)\n",
    "X_and_Y = X_and_Y.drop('Unnamed: 0', axis=1)\n",
    "X = X.astype(float)"
   ]
  },
  {
   "cell_type": "code",
   "execution_count": 58,
   "metadata": {},
   "outputs": [
    {
     "data": {
      "text/html": [
       "<div>\n",
       "<style scoped>\n",
       "    .dataframe tbody tr th:only-of-type {\n",
       "        vertical-align: middle;\n",
       "    }\n",
       "\n",
       "    .dataframe tbody tr th {\n",
       "        vertical-align: top;\n",
       "    }\n",
       "\n",
       "    .dataframe thead th {\n",
       "        text-align: right;\n",
       "    }\n",
       "</style>\n",
       "<table border=\"1\" class=\"dataframe\">\n",
       "  <thead>\n",
       "    <tr style=\"text-align: right;\">\n",
       "      <th></th>\n",
       "      <th>engine_serial_number</th>\n",
       "      <th>engine_series</th>\n",
       "      <th>cycles_counter</th>\n",
       "      <th>config_A</th>\n",
       "      <th>config_B</th>\n",
       "      <th>Interpolate_flight_leg_hours</th>\n",
       "      <th>event_rank</th>\n",
       "      <th>Interpolate_SV_rank</th>\n",
       "      <th>Interpolate_Config_B_rank</th>\n",
       "      <th>Interpolate_var_env_1</th>\n",
       "      <th>Interpolate_var_env_2</th>\n",
       "      <th>Interpolate_var_env_3</th>\n",
       "      <th>Interpolate_var_env_4</th>\n",
       "      <th>Interpolate_var_env_5</th>\n",
       "      <th>id_int</th>\n",
       "    </tr>\n",
       "  </thead>\n",
       "  <tbody>\n",
       "    <tr>\n",
       "      <th>0</th>\n",
       "      <td>1041.0</td>\n",
       "      <td>1.0</td>\n",
       "      <td>1051.0</td>\n",
       "      <td>2.0</td>\n",
       "      <td>1.0</td>\n",
       "      <td>0.811111</td>\n",
       "      <td>2.0</td>\n",
       "      <td>0.0</td>\n",
       "      <td>0.0</td>\n",
       "      <td>-0.413768</td>\n",
       "      <td>-0.337710</td>\n",
       "      <td>-0.498373</td>\n",
       "      <td>0.0</td>\n",
       "      <td>-1.760685</td>\n",
       "      <td>499.0</td>\n",
       "    </tr>\n",
       "    <tr>\n",
       "      <th>1</th>\n",
       "      <td>1041.0</td>\n",
       "      <td>1.0</td>\n",
       "      <td>1067.0</td>\n",
       "      <td>2.0</td>\n",
       "      <td>1.0</td>\n",
       "      <td>2.771667</td>\n",
       "      <td>2.0</td>\n",
       "      <td>0.0</td>\n",
       "      <td>0.0</td>\n",
       "      <td>-0.487399</td>\n",
       "      <td>-0.368209</td>\n",
       "      <td>-0.919261</td>\n",
       "      <td>0.0</td>\n",
       "      <td>0.400740</td>\n",
       "      <td>499.0</td>\n",
       "    </tr>\n",
       "    <tr>\n",
       "      <th>2</th>\n",
       "      <td>1041.0</td>\n",
       "      <td>1.0</td>\n",
       "      <td>1026.0</td>\n",
       "      <td>2.0</td>\n",
       "      <td>1.0</td>\n",
       "      <td>2.071667</td>\n",
       "      <td>2.0</td>\n",
       "      <td>0.0</td>\n",
       "      <td>0.0</td>\n",
       "      <td>-0.390356</td>\n",
       "      <td>-0.367936</td>\n",
       "      <td>0.027738</td>\n",
       "      <td>0.0</td>\n",
       "      <td>0.199678</td>\n",
       "      <td>499.0</td>\n",
       "    </tr>\n",
       "    <tr>\n",
       "      <th>3</th>\n",
       "      <td>1041.0</td>\n",
       "      <td>1.0</td>\n",
       "      <td>1044.0</td>\n",
       "      <td>2.0</td>\n",
       "      <td>1.0</td>\n",
       "      <td>3.485000</td>\n",
       "      <td>2.0</td>\n",
       "      <td>0.0</td>\n",
       "      <td>0.0</td>\n",
       "      <td>-0.479503</td>\n",
       "      <td>-0.337710</td>\n",
       "      <td>-0.919261</td>\n",
       "      <td>0.0</td>\n",
       "      <td>-1.660153</td>\n",
       "      <td>499.0</td>\n",
       "    </tr>\n",
       "    <tr>\n",
       "      <th>4</th>\n",
       "      <td>1041.0</td>\n",
       "      <td>1.0</td>\n",
       "      <td>1041.0</td>\n",
       "      <td>2.0</td>\n",
       "      <td>1.0</td>\n",
       "      <td>1.550556</td>\n",
       "      <td>2.0</td>\n",
       "      <td>0.0</td>\n",
       "      <td>0.0</td>\n",
       "      <td>-0.580330</td>\n",
       "      <td>-0.356625</td>\n",
       "      <td>-1.234928</td>\n",
       "      <td>0.0</td>\n",
       "      <td>-2.665467</td>\n",
       "      <td>499.0</td>\n",
       "    </tr>\n",
       "    <tr>\n",
       "      <th>...</th>\n",
       "      <td>...</td>\n",
       "      <td>...</td>\n",
       "      <td>...</td>\n",
       "      <td>...</td>\n",
       "      <td>...</td>\n",
       "      <td>...</td>\n",
       "      <td>...</td>\n",
       "      <td>...</td>\n",
       "      <td>...</td>\n",
       "      <td>...</td>\n",
       "      <td>...</td>\n",
       "      <td>...</td>\n",
       "      <td>...</td>\n",
       "      <td>...</td>\n",
       "      <td>...</td>\n",
       "    </tr>\n",
       "    <tr>\n",
       "      <th>585095</th>\n",
       "      <td>1.0</td>\n",
       "      <td>1.0</td>\n",
       "      <td>1403.0</td>\n",
       "      <td>1.0</td>\n",
       "      <td>1.0</td>\n",
       "      <td>4.098889</td>\n",
       "      <td>2.0</td>\n",
       "      <td>0.0</td>\n",
       "      <td>0.0</td>\n",
       "      <td>-0.251725</td>\n",
       "      <td>4.245779</td>\n",
       "      <td>-0.393150</td>\n",
       "      <td>0.0</td>\n",
       "      <td>-0.956433</td>\n",
       "      <td>6349.0</td>\n",
       "    </tr>\n",
       "    <tr>\n",
       "      <th>585096</th>\n",
       "      <td>1.0</td>\n",
       "      <td>1.0</td>\n",
       "      <td>1428.0</td>\n",
       "      <td>1.0</td>\n",
       "      <td>1.0</td>\n",
       "      <td>0.727778</td>\n",
       "      <td>2.0</td>\n",
       "      <td>0.0</td>\n",
       "      <td>0.0</td>\n",
       "      <td>-0.574341</td>\n",
       "      <td>0.531657</td>\n",
       "      <td>-1.234928</td>\n",
       "      <td>0.0</td>\n",
       "      <td>0.501272</td>\n",
       "      <td>6349.0</td>\n",
       "    </tr>\n",
       "    <tr>\n",
       "      <th>585097</th>\n",
       "      <td>1.0</td>\n",
       "      <td>1.0</td>\n",
       "      <td>267.0</td>\n",
       "      <td>1.0</td>\n",
       "      <td>1.0</td>\n",
       "      <td>0.727222</td>\n",
       "      <td>0.0</td>\n",
       "      <td>0.0</td>\n",
       "      <td>0.0</td>\n",
       "      <td>-0.475763</td>\n",
       "      <td>0.193871</td>\n",
       "      <td>0.448627</td>\n",
       "      <td>0.0</td>\n",
       "      <td>-0.101917</td>\n",
       "      <td>6349.0</td>\n",
       "    </tr>\n",
       "    <tr>\n",
       "      <th>585098</th>\n",
       "      <td>1.0</td>\n",
       "      <td>1.0</td>\n",
       "      <td>2183.0</td>\n",
       "      <td>1.0</td>\n",
       "      <td>2.0</td>\n",
       "      <td>1.103889</td>\n",
       "      <td>5.0</td>\n",
       "      <td>0.0</td>\n",
       "      <td>3.0</td>\n",
       "      <td>-0.513067</td>\n",
       "      <td>0.017431</td>\n",
       "      <td>1.079960</td>\n",
       "      <td>0.0</td>\n",
       "      <td>-1.408825</td>\n",
       "      <td>6349.0</td>\n",
       "    </tr>\n",
       "    <tr>\n",
       "      <th>585099</th>\n",
       "      <td>1.0</td>\n",
       "      <td>1.0</td>\n",
       "      <td>1896.0</td>\n",
       "      <td>1.0</td>\n",
       "      <td>3.0</td>\n",
       "      <td>0.859167</td>\n",
       "      <td>4.0</td>\n",
       "      <td>0.0</td>\n",
       "      <td>2.0</td>\n",
       "      <td>-0.468031</td>\n",
       "      <td>0.344733</td>\n",
       "      <td>-0.708817</td>\n",
       "      <td>0.0</td>\n",
       "      <td>0.903397</td>\n",
       "      <td>6349.0</td>\n",
       "    </tr>\n",
       "  </tbody>\n",
       "</table>\n",
       "<p>585100 rows × 15 columns</p>\n",
       "</div>"
      ],
      "text/plain": [
       "        engine_serial_number  engine_series  cycles_counter  config_A  \\\n",
       "0                     1041.0            1.0          1051.0       2.0   \n",
       "1                     1041.0            1.0          1067.0       2.0   \n",
       "2                     1041.0            1.0          1026.0       2.0   \n",
       "3                     1041.0            1.0          1044.0       2.0   \n",
       "4                     1041.0            1.0          1041.0       2.0   \n",
       "...                      ...            ...             ...       ...   \n",
       "585095                   1.0            1.0          1403.0       1.0   \n",
       "585096                   1.0            1.0          1428.0       1.0   \n",
       "585097                   1.0            1.0           267.0       1.0   \n",
       "585098                   1.0            1.0          2183.0       1.0   \n",
       "585099                   1.0            1.0          1896.0       1.0   \n",
       "\n",
       "        config_B  Interpolate_flight_leg_hours  event_rank  \\\n",
       "0            1.0                      0.811111         2.0   \n",
       "1            1.0                      2.771667         2.0   \n",
       "2            1.0                      2.071667         2.0   \n",
       "3            1.0                      3.485000         2.0   \n",
       "4            1.0                      1.550556         2.0   \n",
       "...          ...                           ...         ...   \n",
       "585095       1.0                      4.098889         2.0   \n",
       "585096       1.0                      0.727778         2.0   \n",
       "585097       1.0                      0.727222         0.0   \n",
       "585098       2.0                      1.103889         5.0   \n",
       "585099       3.0                      0.859167         4.0   \n",
       "\n",
       "        Interpolate_SV_rank  Interpolate_Config_B_rank  Interpolate_var_env_1  \\\n",
       "0                       0.0                        0.0              -0.413768   \n",
       "1                       0.0                        0.0              -0.487399   \n",
       "2                       0.0                        0.0              -0.390356   \n",
       "3                       0.0                        0.0              -0.479503   \n",
       "4                       0.0                        0.0              -0.580330   \n",
       "...                     ...                        ...                    ...   \n",
       "585095                  0.0                        0.0              -0.251725   \n",
       "585096                  0.0                        0.0              -0.574341   \n",
       "585097                  0.0                        0.0              -0.475763   \n",
       "585098                  0.0                        3.0              -0.513067   \n",
       "585099                  0.0                        2.0              -0.468031   \n",
       "\n",
       "        Interpolate_var_env_2  Interpolate_var_env_3  Interpolate_var_env_4  \\\n",
       "0                   -0.337710              -0.498373                    0.0   \n",
       "1                   -0.368209              -0.919261                    0.0   \n",
       "2                   -0.367936               0.027738                    0.0   \n",
       "3                   -0.337710              -0.919261                    0.0   \n",
       "4                   -0.356625              -1.234928                    0.0   \n",
       "...                       ...                    ...                    ...   \n",
       "585095               4.245779              -0.393150                    0.0   \n",
       "585096               0.531657              -1.234928                    0.0   \n",
       "585097               0.193871               0.448627                    0.0   \n",
       "585098               0.017431               1.079960                    0.0   \n",
       "585099               0.344733              -0.708817                    0.0   \n",
       "\n",
       "        Interpolate_var_env_5  id_int  \n",
       "0                   -1.760685   499.0  \n",
       "1                    0.400740   499.0  \n",
       "2                    0.199678   499.0  \n",
       "3                   -1.660153   499.0  \n",
       "4                   -2.665467   499.0  \n",
       "...                       ...     ...  \n",
       "585095              -0.956433  6349.0  \n",
       "585096               0.501272  6349.0  \n",
       "585097              -0.101917  6349.0  \n",
       "585098              -1.408825  6349.0  \n",
       "585099               0.903397  6349.0  \n",
       "\n",
       "[585100 rows x 15 columns]"
      ]
     },
     "execution_count": 58,
     "metadata": {},
     "output_type": "execute_result"
    }
   ],
   "source": [
    "X"
   ]
  },
  {
   "cell_type": "code",
   "execution_count": 59,
   "metadata": {},
   "outputs": [
    {
     "data": {
      "text/html": [
       "<div>\n",
       "<style scoped>\n",
       "    .dataframe tbody tr th:only-of-type {\n",
       "        vertical-align: middle;\n",
       "    }\n",
       "\n",
       "    .dataframe tbody tr th {\n",
       "        vertical-align: top;\n",
       "    }\n",
       "\n",
       "    .dataframe thead th {\n",
       "        text-align: right;\n",
       "    }\n",
       "</style>\n",
       "<table border=\"1\" class=\"dataframe\">\n",
       "  <thead>\n",
       "    <tr style=\"text-align: right;\">\n",
       "      <th></th>\n",
       "      <th>Interpolate_egt_slope</th>\n",
       "      <th>id_int</th>\n",
       "    </tr>\n",
       "  </thead>\n",
       "  <tbody>\n",
       "    <tr>\n",
       "      <th>0</th>\n",
       "      <td>-0.024441</td>\n",
       "      <td>499</td>\n",
       "    </tr>\n",
       "    <tr>\n",
       "      <th>1</th>\n",
       "      <td>-0.024441</td>\n",
       "      <td>499</td>\n",
       "    </tr>\n",
       "    <tr>\n",
       "      <th>2</th>\n",
       "      <td>-0.024441</td>\n",
       "      <td>499</td>\n",
       "    </tr>\n",
       "    <tr>\n",
       "      <th>3</th>\n",
       "      <td>-0.024441</td>\n",
       "      <td>499</td>\n",
       "    </tr>\n",
       "    <tr>\n",
       "      <th>4</th>\n",
       "      <td>-0.024441</td>\n",
       "      <td>499</td>\n",
       "    </tr>\n",
       "    <tr>\n",
       "      <th>...</th>\n",
       "      <td>...</td>\n",
       "      <td>...</td>\n",
       "    </tr>\n",
       "    <tr>\n",
       "      <th>585095</th>\n",
       "      <td>0.002829</td>\n",
       "      <td>6349</td>\n",
       "    </tr>\n",
       "    <tr>\n",
       "      <th>585096</th>\n",
       "      <td>0.002829</td>\n",
       "      <td>6349</td>\n",
       "    </tr>\n",
       "    <tr>\n",
       "      <th>585097</th>\n",
       "      <td>-0.029193</td>\n",
       "      <td>6349</td>\n",
       "    </tr>\n",
       "    <tr>\n",
       "      <th>585098</th>\n",
       "      <td>-0.398132</td>\n",
       "      <td>6349</td>\n",
       "    </tr>\n",
       "    <tr>\n",
       "      <th>585099</th>\n",
       "      <td>-0.010711</td>\n",
       "      <td>6349</td>\n",
       "    </tr>\n",
       "  </tbody>\n",
       "</table>\n",
       "<p>585100 rows × 2 columns</p>\n",
       "</div>"
      ],
      "text/plain": [
       "        Interpolate_egt_slope  id_int\n",
       "0                   -0.024441     499\n",
       "1                   -0.024441     499\n",
       "2                   -0.024441     499\n",
       "3                   -0.024441     499\n",
       "4                   -0.024441     499\n",
       "...                       ...     ...\n",
       "585095               0.002829    6349\n",
       "585096               0.002829    6349\n",
       "585097              -0.029193    6349\n",
       "585098              -0.398132    6349\n",
       "585099              -0.010711    6349\n",
       "\n",
       "[585100 rows x 2 columns]"
      ]
     },
     "execution_count": 59,
     "metadata": {},
     "output_type": "execute_result"
    }
   ],
   "source": [
    "Y"
   ]
  },
  {
   "cell_type": "code",
   "execution_count": 60,
   "metadata": {},
   "outputs": [
    {
     "name": "stdout",
     "output_type": "stream",
     "text": [
      "(438825, 15) (146275, 15) (438825, 2) (146275, 2)\n"
     ]
    }
   ],
   "source": [
    "### On garde 75% des données pour le train et 25% pour le test\n",
    "\n",
    "from sklearn.model_selection import train_test_split\n",
    "\n",
    "X_train, X_test, Y_train, Y_test = train_test_split(X, Y, test_size=0.25)\n",
    "print(X_train.shape, X_test.shape, Y_train.shape, Y_test.shape)"
   ]
  },
  {
   "cell_type": "markdown",
   "metadata": {},
   "source": [
    "### Multiple Input Series"
   ]
  },
  {
   "cell_type": "code",
   "execution_count": 61,
   "metadata": {},
   "outputs": [],
   "source": [
    "# multivariate cnn example\n",
    "from numpy import array\n",
    "from numpy import hstack\n",
    "from keras.models import Sequential\n",
    "from keras.layers import Dense\n",
    "from keras.layers import Flatten\n",
    "from keras.layers.convolutional import Conv1D\n",
    "from keras.layers.convolutional import MaxPooling1D"
   ]
  },
  {
   "cell_type": "code",
   "execution_count": 62,
   "metadata": {},
   "outputs": [
    {
     "data": {
      "text/plain": [
       "Index(['engine_serial_number', 'engine_series', 'cycles_counter', 'config_A',\n",
       "       'config_B', 'Interpolate_flight_leg_hours', 'event_rank',\n",
       "       'Interpolate_SV_rank', 'Interpolate_Config_B_rank',\n",
       "       'Interpolate_var_env_1', 'Interpolate_var_env_2',\n",
       "       'Interpolate_var_env_3', 'Interpolate_var_env_4',\n",
       "       'Interpolate_var_env_5', 'id_int'],\n",
       "      dtype='object')"
      ]
     },
     "execution_count": 62,
     "metadata": {},
     "output_type": "execute_result"
    }
   ],
   "source": [
    "X.columns"
   ]
  },
  {
   "cell_type": "markdown",
   "metadata": {},
   "source": [
    "Les deux cellules ci-dessous, je vais le refaire au propre après"
   ]
  },
  {
   "cell_type": "code",
   "execution_count": 63,
   "metadata": {},
   "outputs": [],
   "source": [
    "# On réalise l'input train\n",
    "X_train_engine_serial_number = X_train['engine_serial_number']\n",
    "X_train_engine_series = X_train['engine_series']\n",
    "X_train_cycles_counter = X_train['cycles_counter']\n",
    "X_train_config_A = X_train['config_A']\n",
    "X_train_config_B = X_train['config_B']\n",
    "X_train_Interpolate_flight_leg_hours = X_train['Interpolate_flight_leg_hours']\n",
    "X_train_event_rank = X_train['event_rank']\n",
    "X_train_Interpolate_SV_rank = X_train['Interpolate_SV_rank']\n",
    "X_train_Interpolate_Config_B_rank  = X_train['Interpolate_Config_B_rank']\n",
    "X_train_Interpolate_var_env_1 = X_train['Interpolate_var_env_1']\n",
    "X_train_Interpolate_var_env_2 = X_train['Interpolate_var_env_2']\n",
    "X_train_Interpolate_var_env_3 = X_train['Interpolate_var_env_3']\n",
    "X_train_Interpolate_var_env_4 = X_train['Interpolate_var_env_4']\n",
    "X_train_Interpolate_var_env_5 = X_train['Interpolate_var_env_5'] \n",
    "\n",
    "#Et l'output train\n",
    "Y_train_Interpolate_egt_slope = Y_train['Interpolate_egt_slope'] \n",
    "\n",
    "# On définit l'input test\n",
    "in_seq1_train = array(X_train_engine_serial_number)\n",
    "in_seq2_train = array(X_train_engine_series)\n",
    "in_seq3_train = array(X_train_cycles_counter)\n",
    "in_seq4_train = array(X_train_config_A)\n",
    "in_seq5_train = array(X_train_config_B)\n",
    "in_seq6_train = array(X_train_Interpolate_flight_leg_hours)\n",
    "in_seq7_train = array(X_train_event_rank)\n",
    "in_seq8_train = array(X_train_Interpolate_SV_rank)\n",
    "in_seq9_train = array(X_train_Interpolate_Config_B_rank)\n",
    "in_seq10_train = array(X_train_Interpolate_var_env_1)\n",
    "in_seq11_train = array(X_train_Interpolate_var_env_2)\n",
    "in_seq12_train = array(X_train_Interpolate_var_env_3)\n",
    "in_seq13_train = array(X_train_Interpolate_var_env_4)\n",
    "in_seq14_train = array(X_train_Interpolate_var_env_5)\n",
    "\n",
    "# On définit l'output test\n",
    "out_seq_train = np.array(Y_train_Interpolate_egt_slope)\n",
    "\n",
    "#On convertit en une structure [ligne, colonne]\n",
    "in_seq1_train = in_seq1_train.reshape((len(in_seq1_train), 1))\n",
    "in_seq2_train = in_seq2_train.reshape((len(in_seq2_train), 1))\n",
    "in_seq3_train = in_seq3_train.reshape((len(in_seq3_train), 1))\n",
    "in_seq4_train = in_seq4_train.reshape((len(in_seq4_train), 1))\n",
    "in_seq5_train = in_seq5_train.reshape((len(in_seq5_train), 1))\n",
    "in_seq6_train = in_seq6_train.reshape((len(in_seq6_train), 1))\n",
    "in_seq7_train = in_seq7_train.reshape((len(in_seq7_train), 1))\n",
    "in_seq8_train = in_seq8_train.reshape((len(in_seq8_train), 1))\n",
    "in_seq9_train = in_seq9_train.reshape((len(in_seq9_train), 1))\n",
    "in_seq10_train = in_seq10_train.reshape((len(in_seq10_train), 1))\n",
    "in_seq11_train = in_seq11_train.reshape((len(in_seq11_train), 1))\n",
    "in_seq12_train = in_seq12_train.reshape((len(in_seq12_train), 1))\n",
    "in_seq13_train = in_seq13_train.reshape((len(in_seq13_train), 1))\n",
    "in_seq14_train = in_seq14_train.reshape((len(in_seq14_train), 1))\n",
    "\n",
    "out_seq_train = out_seq_train.reshape((len(out_seq_train), 1))"
   ]
  },
  {
   "cell_type": "code",
   "execution_count": 64,
   "metadata": {},
   "outputs": [
    {
     "name": "stdout",
     "output_type": "stream",
     "text": [
      "[[ 3.11000000e+02  1.00000000e+00  3.57700000e+03 ...  0.00000000e+00\n",
      "   4.88805700e-02 -3.82366600e-02]\n",
      " [ 3.74000000e+02  1.00000000e+00  3.63700000e+03 ...  0.00000000e+00\n",
      "   1.17218317e+00 -5.08319000e-02]\n",
      " [ 6.58000000e+02  3.00000000e+00  8.43000000e+02 ...  0.00000000e+00\n",
      "  -1.52182200e-01 -6.54409600e-02]\n",
      " ...\n",
      " [ 2.94000000e+02  1.00000000e+00  9.65000000e+02 ...  0.00000000e+00\n",
      "   5.01271900e-01 -3.53901300e-02]\n",
      " [ 4.81000000e+02  3.00000000e+00  2.37600000e+03 ...  0.00000000e+00\n",
      "  -5.54307800e-01 -9.49736800e-03]\n",
      " [ 2.11000000e+02  1.00000000e+00  1.01400000e+03 ...  1.00000000e+00\n",
      "   1.20499200e+00 -4.81398800e-02]]\n"
     ]
    }
   ],
   "source": [
    "dataset_train = hstack((in_seq1_train, in_seq2_train, in_seq3_train, \n",
    "                        in_seq4_train, in_seq5_train, in_seq6_train,\n",
    "                        in_seq7_train, in_seq8_train, in_seq9_train, \n",
    "                        in_seq10_train, in_seq11_train, in_seq12_train,\n",
    "                        in_seq13_train, in_seq14_train, out_seq_train))\n",
    "print(dataset_train)"
   ]
  },
  {
   "cell_type": "code",
   "execution_count": 65,
   "metadata": {},
   "outputs": [],
   "source": [
    "#On réalise l'input test\n",
    "X_test_engine_serial_number = X_test['engine_serial_number']\n",
    "X_test_engine_series = X_test['engine_series']\n",
    "X_test_cycles_counter = X_test['cycles_counter']\n",
    "X_test_config_A = X_test['config_A']\n",
    "X_test_config_B = X_test['config_B']\n",
    "X_test_Interpolate_flight_leg_hours = X_test['Interpolate_flight_leg_hours']\n",
    "X_test_event_rank = X_test['event_rank']\n",
    "X_test_Interpolate_SV_rank = X_test['Interpolate_SV_rank']\n",
    "X_test_Interpolate_Config_B_rank  = X_test['Interpolate_Config_B_rank']\n",
    "X_test_Interpolate_var_env_1 = X_test['Interpolate_var_env_1']\n",
    "X_test_Interpolate_var_env_2 = X_test['Interpolate_var_env_2']\n",
    "X_test_Interpolate_var_env_3 = X_test['Interpolate_var_env_3']\n",
    "X_test_Interpolate_var_env_4 = X_test['Interpolate_var_env_4']\n",
    "X_test_Interpolate_var_env_5 = X_test['Interpolate_var_env_5'] \n",
    "\n",
    "#Et l'output train\n",
    "Y_test_Interpolate_egt_slope = Y_test['Interpolate_egt_slope']\n",
    "\n",
    "# On définit l'input test\n",
    "in_seq1_test = array(X_test_engine_serial_number)\n",
    "in_seq2_test = array(X_test_engine_series)\n",
    "in_seq3_test = array(X_test_cycles_counter)\n",
    "in_seq4_test = array(X_test_config_A)\n",
    "in_seq5_test = array(X_test_config_B)\n",
    "in_seq6_test = array(X_test_Interpolate_flight_leg_hours)\n",
    "in_seq7_test = array(X_test_event_rank)\n",
    "in_seq8_test = array(X_test_Interpolate_SV_rank)\n",
    "in_seq9_test = array(X_test_Interpolate_Config_B_rank)\n",
    "in_seq10_test = array(X_test_Interpolate_var_env_1)\n",
    "in_seq11_test = array(X_test_Interpolate_var_env_2)\n",
    "in_seq12_test = array(X_test_Interpolate_var_env_3)\n",
    "in_seq13_test = array(X_test_Interpolate_var_env_4)\n",
    "in_seq14_test = array(X_test_Interpolate_var_env_5)\n",
    "\n",
    "# On définit l'output test\n",
    "out_seq_test = np.array(Y_test_Interpolate_egt_slope)\n",
    "\n",
    "#On convertit en une structure [ligne, colonne]\n",
    "in_seq1_test = in_seq1_test.reshape((len(in_seq1_test), 1))\n",
    "in_seq2_test = in_seq2_test.reshape((len(in_seq2_test), 1))\n",
    "in_seq3_test = in_seq3_test.reshape((len(in_seq3_test), 1))\n",
    "in_seq4_test = in_seq4_test.reshape((len(in_seq4_test), 1))\n",
    "in_seq5_test = in_seq5_test.reshape((len(in_seq5_test), 1))\n",
    "in_seq6_test = in_seq6_test.reshape((len(in_seq6_test), 1))\n",
    "in_seq7_test = in_seq7_test.reshape((len(in_seq7_test), 1))\n",
    "in_seq8_test = in_seq8_test.reshape((len(in_seq8_test), 1))\n",
    "in_seq9_test = in_seq9_test.reshape((len(in_seq9_test), 1))\n",
    "in_seq10_test = in_seq10_test.reshape((len(in_seq10_test), 1))\n",
    "in_seq11_test = in_seq11_test.reshape((len(in_seq11_test), 1))\n",
    "in_seq12_test = in_seq12_test.reshape((len(in_seq12_test), 1))\n",
    "in_seq13_test = in_seq13_test.reshape((len(in_seq13_test), 1))\n",
    "in_seq14_test = in_seq14_test.reshape((len(in_seq14_test), 1))\n",
    "\n",
    "out_seq_test = out_seq_test.reshape((len(out_seq_test), 1))"
   ]
  },
  {
   "cell_type": "code",
   "execution_count": 66,
   "metadata": {},
   "outputs": [
    {
     "name": "stdout",
     "output_type": "stream",
     "text": [
      "[[ 1.120000e+02  1.000000e+00  1.593000e+03 ...  0.000000e+00\n",
      "  -2.363873e+00 -7.463315e-03]\n",
      " [ 4.710000e+02  1.000000e+00  1.728000e+03 ...  0.000000e+00\n",
      "   6.018033e-01 -1.816048e-02]\n",
      " [ 8.900000e+02  1.000000e+00  8.770000e+02 ...  0.000000e+00\n",
      "   4.007405e-01 -3.095684e-02]\n",
      " ...\n",
      " [ 6.700000e+02  1.000000e+00  4.190000e+02 ...  0.000000e+00\n",
      "  -1.207762e+00 -1.495423e-02]\n",
      " [ 4.190000e+02  1.000000e+00  2.335000e+03 ...  0.000000e+00\n",
      "  -1.006699e+00  8.755395e-03]\n",
      " [ 3.510000e+02  1.000000e+00  2.595000e+03 ...  0.000000e+00\n",
      "   1.204992e+00 -3.502007e-01]]\n"
     ]
    }
   ],
   "source": [
    "dataset_test = hstack((in_seq1_test, in_seq2_test, in_seq3_test, \n",
    "                       in_seq4_test, in_seq5_test, in_seq6_test,\n",
    "                       in_seq7_test, in_seq8_test, in_seq9_test,\n",
    "                       in_seq10_test, in_seq11_test, in_seq12_test,\n",
    "                       in_seq13_test, in_seq14_test, out_seq_test))\n",
    "print(dataset_test)"
   ]
  },
  {
   "cell_type": "code",
   "execution_count": 67,
   "metadata": {},
   "outputs": [],
   "source": [
    "# split a multivariate sequence into samples\n",
    "def split_sequences(sequences, n_steps):\n",
    "    X, y = list(), list()\n",
    "    for i in range(len(sequences)):\n",
    "        # find the end of this pattern\n",
    "        end_ix = i + n_steps\n",
    "        # check if we are beyond the dataset\n",
    "        if end_ix > len(sequences):\n",
    "            break\n",
    "        # gather input and output parts of the pattern\n",
    "        seq_x, seq_y = sequences[i:end_ix, :-1], sequences[end_ix-1, -1]\n",
    "        X.append(seq_x)\n",
    "        y.append(seq_y)\n",
    "    return array(X), array(y)"
   ]
  },
  {
   "cell_type": "code",
   "execution_count": 68,
   "metadata": {},
   "outputs": [],
   "source": [
    "n_steps = 100\n",
    "# convert into input/output\n",
    "#ATTENTION cette cellule peut prendre plusieurs minutes à s'éxécuter\n",
    "X_train, y_train = split_sequences(dataset_train, n_steps)\n"
   ]
  },
  {
   "cell_type": "code",
   "execution_count": 69,
   "metadata": {},
   "outputs": [],
   "source": [
    "X_test, y_test = split_sequences(dataset_test, n_steps)"
   ]
  },
  {
   "cell_type": "code",
   "execution_count": 70,
   "metadata": {},
   "outputs": [],
   "source": [
    "# the dataset knows the number of features, e.g. 2\n",
    "n_features = X_train.shape[2] # On a 14 colonnes d'input"
   ]
  },
  {
   "cell_type": "code",
   "execution_count": 71,
   "metadata": {},
   "outputs": [],
   "source": [
    "# define model\n",
    "model = Sequential()\n",
    "model.add(Conv1D(filters=64, kernel_size=2, activation='relu', input_shape=(n_steps, n_features)))\n",
    "model.add(MaxPooling1D(pool_size=2))\n",
    "model.add(Flatten())\n",
    "model.add(Dense(50, activation='relu'))\n",
    "model.add(Dense(1))\n",
    "model.compile(optimizer='adam', loss='mse')"
   ]
  },
  {
   "cell_type": "code",
   "execution_count": 72,
   "metadata": {},
   "outputs": [
    {
     "name": "stdout",
     "output_type": "stream",
     "text": [
      "(None, 100, 14) <dtype: 'float32'>\n",
      "(None, 1) <dtype: 'float32'>\n",
      "conv1d_2 (None, 100, 14) float32\n",
      "max_pooling1d_2 (None, 99, 64) float32\n",
      "flatten_2 (None, 49, 64) float32\n",
      "dense_4 (None, 3136) float32\n",
      "dense_5 (None, 50) float32\n"
     ]
    },
    {
     "data": {
      "text/plain": [
       "[None, None, None, None, None]"
      ]
     },
     "execution_count": 72,
     "metadata": {},
     "output_type": "execute_result"
    }
   ],
   "source": [
    "[print(i.shape, i.dtype) for i in model.inputs]\n",
    "[print(o.shape, o.dtype) for o in model.outputs]\n",
    "[print(l.name, l.input_shape, l.dtype) for l in model.layers]"
   ]
  },
  {
   "cell_type": "code",
   "execution_count": 73,
   "metadata": {},
   "outputs": [
    {
     "data": {
      "text/plain": [
       "<tensorflow.python.keras.callbacks.History at 0x1c45a589d48>"
      ]
     },
     "execution_count": 73,
     "metadata": {},
     "output_type": "execute_result"
    }
   ],
   "source": [
    "# On fit le modèle, et ça prend vachement longtemps! ENVIRON 1H\n",
    "model.fit(X_train, y_train, epochs=10, verbose=0)"
   ]
  },
  {
   "cell_type": "code",
   "execution_count": 74,
   "metadata": {},
   "outputs": [
    {
     "name": "stdout",
     "output_type": "stream",
     "text": [
      "[[-0.03669192]\n",
      " [-0.03669192]\n",
      " [-0.03669192]\n",
      " ...\n",
      " [-0.03669192]\n",
      " [-0.03669192]\n",
      " [-0.03669192]]\n"
     ]
    }
   ],
   "source": [
    "#on prédit des valeurs pour y\n",
    "yhat = model.predict(X_test, verbose=0)\n",
    "print(yhat)"
   ]
  },
  {
   "cell_type": "code",
   "execution_count": 75,
   "metadata": {},
   "outputs": [
    {
     "data": {
      "text/plain": [
       "array([[-0.03669192],\n",
       "       [-0.03669192],\n",
       "       [-0.03669192],\n",
       "       ...,\n",
       "       [-0.03669192],\n",
       "       [-0.03669192],\n",
       "       [-0.03669192]], dtype=float32)"
      ]
     },
     "execution_count": 75,
     "metadata": {},
     "output_type": "execute_result"
    }
   ],
   "source": [
    "yhat"
   ]
  },
  {
   "cell_type": "markdown",
   "metadata": {},
   "source": [
    "Maintenant, il faudrait compter le nombre de bonnes prédictions qu'on a eu, pour \"noter notre modèle\""
   ]
  }
 ],
 "metadata": {
  "kernelspec": {
   "display_name": "Python 3",
   "language": "python",
   "name": "python3"
  },
  "language_info": {
   "codemirror_mode": {
    "name": "ipython",
    "version": 3
   },
   "file_extension": ".py",
   "mimetype": "text/x-python",
   "name": "python",
   "nbconvert_exporter": "python",
   "pygments_lexer": "ipython3",
   "version": "3.7.4"
  }
 },
 "nbformat": 4,
 "nbformat_minor": 2
}
