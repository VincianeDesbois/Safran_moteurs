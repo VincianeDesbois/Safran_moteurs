{
 "cells": [
  {
   "cell_type": "markdown",
   "id": "japanese-recognition",
   "metadata": {},
   "source": [
    "# Modele de CNN multihead  "
   ]
  },
  {
   "cell_type": "code",
   "execution_count": 1,
   "id": "outside-dollar",
   "metadata": {},
   "outputs": [],
   "source": [
    "# Package \n",
    "import pandas as pd\n",
    "import numpy as np\n",
    "from numpy import array\n",
    "from numpy import hstack\n",
    "import matplotlib.pyplot as plt\n",
    "from statsmodels.tsa.seasonal import seasonal_decompose\n",
    "from sklearn.preprocessing import MinMaxScaler\n",
    "import seaborn as sns"
   ]
  },
  {
   "cell_type": "code",
   "execution_count": 2,
   "id": "freelance-plaintiff",
   "metadata": {},
   "outputs": [],
   "source": [
    "pretraitement = pd.read_csv(r'C:\\Users\\louis\\OneDrive\\Documents\\ENSAE\\2A\\Safran\\pretraitement.csv')\n",
    "pretraitement= pretraitement.drop('Unnamed: 0', axis= 1)\n",
    "pretraitement.index = pretraitement['date']\n",
    "del pretraitement['date']"
   ]
  },
  {
   "cell_type": "code",
   "execution_count": 3,
   "id": "oriented-caution",
   "metadata": {},
   "outputs": [
    {
     "data": {
      "text/html": [
       "<div>\n",
       "<style scoped>\n",
       "    .dataframe tbody tr th:only-of-type {\n",
       "        vertical-align: middle;\n",
       "    }\n",
       "\n",
       "    .dataframe tbody tr th {\n",
       "        vertical-align: top;\n",
       "    }\n",
       "\n",
       "    .dataframe thead th {\n",
       "        text-align: right;\n",
       "    }\n",
       "</style>\n",
       "<table border=\"1\" class=\"dataframe\">\n",
       "  <thead>\n",
       "    <tr style=\"text-align: right;\">\n",
       "      <th></th>\n",
       "      <th>engine_series_Engine_series_1</th>\n",
       "      <th>engine_series_Engine_series_2</th>\n",
       "      <th>engine_series_Engine_series_3</th>\n",
       "      <th>engine_series_Engine_series_4</th>\n",
       "      <th>engine_series_Engine_series_5</th>\n",
       "      <th>engine_series_Engine_series_6</th>\n",
       "      <th>engine_series_Engine_series_7</th>\n",
       "      <th>config_A_Config_A_1</th>\n",
       "      <th>config_A_Config_A_2</th>\n",
       "      <th>config_A_Config_A_3</th>\n",
       "      <th>...</th>\n",
       "      <th>Interpolate_var_env_4_3.0</th>\n",
       "      <th>cycles_counter</th>\n",
       "      <th>Interpolate_var_mot_1</th>\n",
       "      <th>Interpolate_flight_leg_hours</th>\n",
       "      <th>Interpolate_var_env_1</th>\n",
       "      <th>Interpolate_var_env_2</th>\n",
       "      <th>Interpolate_var_env_3</th>\n",
       "      <th>Interpolate_var_env_5</th>\n",
       "      <th>id_int</th>\n",
       "      <th>Interpolate_egt_slope</th>\n",
       "    </tr>\n",
       "  </thead>\n",
       "  <tbody>\n",
       "    <tr>\n",
       "      <th>0</th>\n",
       "      <td>1</td>\n",
       "      <td>0</td>\n",
       "      <td>0</td>\n",
       "      <td>0</td>\n",
       "      <td>0</td>\n",
       "      <td>0</td>\n",
       "      <td>0</td>\n",
       "      <td>0</td>\n",
       "      <td>1</td>\n",
       "      <td>0</td>\n",
       "      <td>...</td>\n",
       "      <td>0</td>\n",
       "      <td>8.230577</td>\n",
       "      <td>-0.426772</td>\n",
       "      <td>1.634167</td>\n",
       "      <td>-0.549037</td>\n",
       "      <td>-0.190762</td>\n",
       "      <td>-0.498373</td>\n",
       "      <td>-0.453776</td>\n",
       "      <td>1823</td>\n",
       "      <td>-0.027761</td>\n",
       "    </tr>\n",
       "    <tr>\n",
       "      <th>1</th>\n",
       "      <td>1</td>\n",
       "      <td>0</td>\n",
       "      <td>0</td>\n",
       "      <td>0</td>\n",
       "      <td>0</td>\n",
       "      <td>0</td>\n",
       "      <td>0</td>\n",
       "      <td>0</td>\n",
       "      <td>1</td>\n",
       "      <td>0</td>\n",
       "      <td>...</td>\n",
       "      <td>0</td>\n",
       "      <td>8.236156</td>\n",
       "      <td>-0.215641</td>\n",
       "      <td>1.234722</td>\n",
       "      <td>-0.601578</td>\n",
       "      <td>-0.215862</td>\n",
       "      <td>-0.638738</td>\n",
       "      <td>-0.408876</td>\n",
       "      <td>1823</td>\n",
       "      <td>-0.027761</td>\n",
       "    </tr>\n",
       "    <tr>\n",
       "      <th>2</th>\n",
       "      <td>1</td>\n",
       "      <td>0</td>\n",
       "      <td>0</td>\n",
       "      <td>0</td>\n",
       "      <td>0</td>\n",
       "      <td>0</td>\n",
       "      <td>0</td>\n",
       "      <td>0</td>\n",
       "      <td>1</td>\n",
       "      <td>0</td>\n",
       "      <td>...</td>\n",
       "      <td>0</td>\n",
       "      <td>8.220134</td>\n",
       "      <td>-0.754736</td>\n",
       "      <td>1.853611</td>\n",
       "      <td>-0.564630</td>\n",
       "      <td>-0.190762</td>\n",
       "      <td>-0.814039</td>\n",
       "      <td>1.154726</td>\n",
       "      <td>1823</td>\n",
       "      <td>-0.027761</td>\n",
       "    </tr>\n",
       "    <tr>\n",
       "      <th>3</th>\n",
       "      <td>1</td>\n",
       "      <td>0</td>\n",
       "      <td>0</td>\n",
       "      <td>0</td>\n",
       "      <td>0</td>\n",
       "      <td>0</td>\n",
       "      <td>0</td>\n",
       "      <td>0</td>\n",
       "      <td>1</td>\n",
       "      <td>0</td>\n",
       "      <td>...</td>\n",
       "      <td>0</td>\n",
       "      <td>8.223627</td>\n",
       "      <td>-0.656084</td>\n",
       "      <td>2.323333</td>\n",
       "      <td>-0.451994</td>\n",
       "      <td>-0.215862</td>\n",
       "      <td>-0.461992</td>\n",
       "      <td>0.345676</td>\n",
       "      <td>1823</td>\n",
       "      <td>-0.027761</td>\n",
       "    </tr>\n",
       "    <tr>\n",
       "      <th>4</th>\n",
       "      <td>1</td>\n",
       "      <td>0</td>\n",
       "      <td>0</td>\n",
       "      <td>0</td>\n",
       "      <td>0</td>\n",
       "      <td>0</td>\n",
       "      <td>0</td>\n",
       "      <td>0</td>\n",
       "      <td>1</td>\n",
       "      <td>0</td>\n",
       "      <td>...</td>\n",
       "      <td>0</td>\n",
       "      <td>8.234565</td>\n",
       "      <td>-0.272599</td>\n",
       "      <td>1.966389</td>\n",
       "      <td>-0.583961</td>\n",
       "      <td>-0.349390</td>\n",
       "      <td>0.869515</td>\n",
       "      <td>-0.855902</td>\n",
       "      <td>1823</td>\n",
       "      <td>-0.027761</td>\n",
       "    </tr>\n",
       "    <tr>\n",
       "      <th>...</th>\n",
       "      <td>...</td>\n",
       "      <td>...</td>\n",
       "      <td>...</td>\n",
       "      <td>...</td>\n",
       "      <td>...</td>\n",
       "      <td>...</td>\n",
       "      <td>...</td>\n",
       "      <td>...</td>\n",
       "      <td>...</td>\n",
       "      <td>...</td>\n",
       "      <td>...</td>\n",
       "      <td>...</td>\n",
       "      <td>...</td>\n",
       "      <td>...</td>\n",
       "      <td>...</td>\n",
       "      <td>...</td>\n",
       "      <td>...</td>\n",
       "      <td>...</td>\n",
       "      <td>...</td>\n",
       "      <td>...</td>\n",
       "      <td>...</td>\n",
       "    </tr>\n",
       "    <tr>\n",
       "      <th>661595</th>\n",
       "      <td>1</td>\n",
       "      <td>0</td>\n",
       "      <td>0</td>\n",
       "      <td>0</td>\n",
       "      <td>0</td>\n",
       "      <td>0</td>\n",
       "      <td>0</td>\n",
       "      <td>1</td>\n",
       "      <td>0</td>\n",
       "      <td>0</td>\n",
       "      <td>...</td>\n",
       "      <td>0</td>\n",
       "      <td>4.304065</td>\n",
       "      <td>0.704721</td>\n",
       "      <td>0.759722</td>\n",
       "      <td>-0.483550</td>\n",
       "      <td>0.193871</td>\n",
       "      <td>0.238183</td>\n",
       "      <td>1.154726</td>\n",
       "      <td>8438</td>\n",
       "      <td>-0.029193</td>\n",
       "    </tr>\n",
       "    <tr>\n",
       "      <th>661596</th>\n",
       "      <td>1</td>\n",
       "      <td>0</td>\n",
       "      <td>0</td>\n",
       "      <td>0</td>\n",
       "      <td>0</td>\n",
       "      <td>0</td>\n",
       "      <td>0</td>\n",
       "      <td>1</td>\n",
       "      <td>0</td>\n",
       "      <td>0</td>\n",
       "      <td>...</td>\n",
       "      <td>0</td>\n",
       "      <td>6.432940</td>\n",
       "      <td>0.806313</td>\n",
       "      <td>0.763611</td>\n",
       "      <td>-0.203205</td>\n",
       "      <td>0.197381</td>\n",
       "      <td>-0.182706</td>\n",
       "      <td>0.099146</td>\n",
       "      <td>8438</td>\n",
       "      <td>-0.029193</td>\n",
       "    </tr>\n",
       "    <tr>\n",
       "      <th>661597</th>\n",
       "      <td>1</td>\n",
       "      <td>0</td>\n",
       "      <td>0</td>\n",
       "      <td>0</td>\n",
       "      <td>0</td>\n",
       "      <td>0</td>\n",
       "      <td>0</td>\n",
       "      <td>1</td>\n",
       "      <td>0</td>\n",
       "      <td>0</td>\n",
       "      <td>...</td>\n",
       "      <td>0</td>\n",
       "      <td>7.040536</td>\n",
       "      <td>-0.174969</td>\n",
       "      <td>0.928056</td>\n",
       "      <td>4.248051</td>\n",
       "      <td>-0.229253</td>\n",
       "      <td>-1.971483</td>\n",
       "      <td>0.802866</td>\n",
       "      <td>8438</td>\n",
       "      <td>-0.029193</td>\n",
       "    </tr>\n",
       "    <tr>\n",
       "      <th>661598</th>\n",
       "      <td>1</td>\n",
       "      <td>0</td>\n",
       "      <td>0</td>\n",
       "      <td>0</td>\n",
       "      <td>0</td>\n",
       "      <td>0</td>\n",
       "      <td>0</td>\n",
       "      <td>1</td>\n",
       "      <td>0</td>\n",
       "      <td>0</td>\n",
       "      <td>...</td>\n",
       "      <td>0</td>\n",
       "      <td>5.874931</td>\n",
       "      <td>0.630343</td>\n",
       "      <td>1.248333</td>\n",
       "      <td>-0.389441</td>\n",
       "      <td>-0.109125</td>\n",
       "      <td>0.764293</td>\n",
       "      <td>-1.308293</td>\n",
       "      <td>8438</td>\n",
       "      <td>-0.029193</td>\n",
       "    </tr>\n",
       "    <tr>\n",
       "      <th>661599</th>\n",
       "      <td>1</td>\n",
       "      <td>0</td>\n",
       "      <td>0</td>\n",
       "      <td>0</td>\n",
       "      <td>0</td>\n",
       "      <td>0</td>\n",
       "      <td>0</td>\n",
       "      <td>1</td>\n",
       "      <td>0</td>\n",
       "      <td>0</td>\n",
       "      <td>...</td>\n",
       "      <td>0</td>\n",
       "      <td>6.363028</td>\n",
       "      <td>0.567767</td>\n",
       "      <td>0.691667</td>\n",
       "      <td>-0.561346</td>\n",
       "      <td>0.197381</td>\n",
       "      <td>-0.603595</td>\n",
       "      <td>1.154726</td>\n",
       "      <td>8438</td>\n",
       "      <td>-0.029193</td>\n",
       "    </tr>\n",
       "  </tbody>\n",
       "</table>\n",
       "<p>661200 rows × 29 columns</p>\n",
       "</div>"
      ],
      "text/plain": [
       "        engine_series_Engine_series_1  engine_series_Engine_series_2  \\\n",
       "0                                   1                              0   \n",
       "1                                   1                              0   \n",
       "2                                   1                              0   \n",
       "3                                   1                              0   \n",
       "4                                   1                              0   \n",
       "...                               ...                            ...   \n",
       "661595                              1                              0   \n",
       "661596                              1                              0   \n",
       "661597                              1                              0   \n",
       "661598                              1                              0   \n",
       "661599                              1                              0   \n",
       "\n",
       "        engine_series_Engine_series_3  engine_series_Engine_series_4  \\\n",
       "0                                   0                              0   \n",
       "1                                   0                              0   \n",
       "2                                   0                              0   \n",
       "3                                   0                              0   \n",
       "4                                   0                              0   \n",
       "...                               ...                            ...   \n",
       "661595                              0                              0   \n",
       "661596                              0                              0   \n",
       "661597                              0                              0   \n",
       "661598                              0                              0   \n",
       "661599                              0                              0   \n",
       "\n",
       "        engine_series_Engine_series_5  engine_series_Engine_series_6  \\\n",
       "0                                   0                              0   \n",
       "1                                   0                              0   \n",
       "2                                   0                              0   \n",
       "3                                   0                              0   \n",
       "4                                   0                              0   \n",
       "...                               ...                            ...   \n",
       "661595                              0                              0   \n",
       "661596                              0                              0   \n",
       "661597                              0                              0   \n",
       "661598                              0                              0   \n",
       "661599                              0                              0   \n",
       "\n",
       "        engine_series_Engine_series_7  config_A_Config_A_1  \\\n",
       "0                                   0                    0   \n",
       "1                                   0                    0   \n",
       "2                                   0                    0   \n",
       "3                                   0                    0   \n",
       "4                                   0                    0   \n",
       "...                               ...                  ...   \n",
       "661595                              0                    1   \n",
       "661596                              0                    1   \n",
       "661597                              0                    1   \n",
       "661598                              0                    1   \n",
       "661599                              0                    1   \n",
       "\n",
       "        config_A_Config_A_2  config_A_Config_A_3  ...  \\\n",
       "0                         1                    0  ...   \n",
       "1                         1                    0  ...   \n",
       "2                         1                    0  ...   \n",
       "3                         1                    0  ...   \n",
       "4                         1                    0  ...   \n",
       "...                     ...                  ...  ...   \n",
       "661595                    0                    0  ...   \n",
       "661596                    0                    0  ...   \n",
       "661597                    0                    0  ...   \n",
       "661598                    0                    0  ...   \n",
       "661599                    0                    0  ...   \n",
       "\n",
       "        Interpolate_var_env_4_3.0  cycles_counter  Interpolate_var_mot_1  \\\n",
       "0                               0        8.230577              -0.426772   \n",
       "1                               0        8.236156              -0.215641   \n",
       "2                               0        8.220134              -0.754736   \n",
       "3                               0        8.223627              -0.656084   \n",
       "4                               0        8.234565              -0.272599   \n",
       "...                           ...             ...                    ...   \n",
       "661595                          0        4.304065               0.704721   \n",
       "661596                          0        6.432940               0.806313   \n",
       "661597                          0        7.040536              -0.174969   \n",
       "661598                          0        5.874931               0.630343   \n",
       "661599                          0        6.363028               0.567767   \n",
       "\n",
       "        Interpolate_flight_leg_hours  Interpolate_var_env_1  \\\n",
       "0                           1.634167              -0.549037   \n",
       "1                           1.234722              -0.601578   \n",
       "2                           1.853611              -0.564630   \n",
       "3                           2.323333              -0.451994   \n",
       "4                           1.966389              -0.583961   \n",
       "...                              ...                    ...   \n",
       "661595                      0.759722              -0.483550   \n",
       "661596                      0.763611              -0.203205   \n",
       "661597                      0.928056               4.248051   \n",
       "661598                      1.248333              -0.389441   \n",
       "661599                      0.691667              -0.561346   \n",
       "\n",
       "        Interpolate_var_env_2  Interpolate_var_env_3  Interpolate_var_env_5  \\\n",
       "0                   -0.190762              -0.498373              -0.453776   \n",
       "1                   -0.215862              -0.638738              -0.408876   \n",
       "2                   -0.190762              -0.814039               1.154726   \n",
       "3                   -0.215862              -0.461992               0.345676   \n",
       "4                   -0.349390               0.869515              -0.855902   \n",
       "...                       ...                    ...                    ...   \n",
       "661595               0.193871               0.238183               1.154726   \n",
       "661596               0.197381              -0.182706               0.099146   \n",
       "661597              -0.229253              -1.971483               0.802866   \n",
       "661598              -0.109125               0.764293              -1.308293   \n",
       "661599               0.197381              -0.603595               1.154726   \n",
       "\n",
       "        id_int  Interpolate_egt_slope  \n",
       "0         1823              -0.027761  \n",
       "1         1823              -0.027761  \n",
       "2         1823              -0.027761  \n",
       "3         1823              -0.027761  \n",
       "4         1823              -0.027761  \n",
       "...        ...                    ...  \n",
       "661595    8438              -0.029193  \n",
       "661596    8438              -0.029193  \n",
       "661597    8438              -0.029193  \n",
       "661598    8438              -0.029193  \n",
       "661599    8438              -0.029193  \n",
       "\n",
       "[661200 rows x 29 columns]"
      ]
     },
     "execution_count": 3,
     "metadata": {},
     "output_type": "execute_result"
    }
   ],
   "source": [
    "X_Y_treat = pd.read_csv(r'C:\\Users\\louis\\OneDrive\\Documents\\ENSAE\\2A\\Safran\\X_Y_treat.csv')\n",
    "X_Y_treat=X_Y_treat.drop('Unnamed: 0', axis = 1)\n",
    "# On retire les valeurs extrémes de la pente de la norme EGT : \n",
    "X_Y_treat = X_Y_treat.drop(X_Y_treat[X_Y_treat.Interpolate_egt_slope<-4].index)\n",
    "X_Y_treat = X_Y_treat.drop(X_Y_treat[X_Y_treat.Interpolate_egt_slope> 8].index)\n",
    "X_Y_treat"
   ]
  },
  {
   "cell_type": "markdown",
   "id": "saving-agreement",
   "metadata": {},
   "source": [
    "## Etude "
   ]
  },
  {
   "cell_type": "code",
   "execution_count": 4,
   "id": "coupled-shift",
   "metadata": {},
   "outputs": [
    {
     "data": {
      "text/html": [
       "<div>\n",
       "<style scoped>\n",
       "    .dataframe tbody tr th:only-of-type {\n",
       "        vertical-align: middle;\n",
       "    }\n",
       "\n",
       "    .dataframe tbody tr th {\n",
       "        vertical-align: top;\n",
       "    }\n",
       "\n",
       "    .dataframe thead th {\n",
       "        text-align: right;\n",
       "    }\n",
       "</style>\n",
       "<table border=\"1\" class=\"dataframe\">\n",
       "  <thead>\n",
       "    <tr style=\"text-align: right;\">\n",
       "      <th></th>\n",
       "      <th>engine_series_Engine_series_1</th>\n",
       "      <th>engine_series_Engine_series_2</th>\n",
       "      <th>engine_series_Engine_series_3</th>\n",
       "      <th>engine_series_Engine_series_4</th>\n",
       "      <th>engine_series_Engine_series_5</th>\n",
       "      <th>engine_series_Engine_series_6</th>\n",
       "      <th>engine_series_Engine_series_7</th>\n",
       "      <th>config_A_Config_A_1</th>\n",
       "      <th>config_A_Config_A_2</th>\n",
       "      <th>config_A_Config_A_3</th>\n",
       "      <th>...</th>\n",
       "      <th>Interpolate_var_env_4_3.0</th>\n",
       "      <th>cycles_counter</th>\n",
       "      <th>Interpolate_var_mot_1</th>\n",
       "      <th>Interpolate_flight_leg_hours</th>\n",
       "      <th>Interpolate_var_env_1</th>\n",
       "      <th>Interpolate_var_env_2</th>\n",
       "      <th>Interpolate_var_env_3</th>\n",
       "      <th>Interpolate_var_env_5</th>\n",
       "      <th>id_int</th>\n",
       "      <th>Interpolate_egt_slope</th>\n",
       "    </tr>\n",
       "  </thead>\n",
       "  <tbody>\n",
       "    <tr>\n",
       "      <th>count</th>\n",
       "      <td>661200.000000</td>\n",
       "      <td>661200.000000</td>\n",
       "      <td>661200.000000</td>\n",
       "      <td>661200.000000</td>\n",
       "      <td>661200.000000</td>\n",
       "      <td>661200.000000</td>\n",
       "      <td>661200.000000</td>\n",
       "      <td>661200.000000</td>\n",
       "      <td>661200.000000</td>\n",
       "      <td>661200.000000</td>\n",
       "      <td>...</td>\n",
       "      <td>661200.000000</td>\n",
       "      <td>661200.000000</td>\n",
       "      <td>661200.000000</td>\n",
       "      <td>661200.000000</td>\n",
       "      <td>661200.000000</td>\n",
       "      <td>661200.000000</td>\n",
       "      <td>661200.000000</td>\n",
       "      <td>661200.000000</td>\n",
       "      <td>661200.000000</td>\n",
       "      <td>661200.000000</td>\n",
       "    </tr>\n",
       "    <tr>\n",
       "      <th>mean</th>\n",
       "      <td>0.891010</td>\n",
       "      <td>0.001378</td>\n",
       "      <td>0.071766</td>\n",
       "      <td>0.031459</td>\n",
       "      <td>0.002874</td>\n",
       "      <td>0.000907</td>\n",
       "      <td>0.000605</td>\n",
       "      <td>0.577288</td>\n",
       "      <td>0.391995</td>\n",
       "      <td>0.030563</td>\n",
       "      <td>...</td>\n",
       "      <td>0.002332</td>\n",
       "      <td>7.002443</td>\n",
       "      <td>0.003168</td>\n",
       "      <td>2.127982</td>\n",
       "      <td>0.021996</td>\n",
       "      <td>-0.012016</td>\n",
       "      <td>-0.015122</td>\n",
       "      <td>0.036765</td>\n",
       "      <td>5131.381125</td>\n",
       "      <td>-0.032698</td>\n",
       "    </tr>\n",
       "    <tr>\n",
       "      <th>std</th>\n",
       "      <td>0.311627</td>\n",
       "      <td>0.037093</td>\n",
       "      <td>0.258101</td>\n",
       "      <td>0.174556</td>\n",
       "      <td>0.053529</td>\n",
       "      <td>0.030110</td>\n",
       "      <td>0.024589</td>\n",
       "      <td>0.493991</td>\n",
       "      <td>0.488196</td>\n",
       "      <td>0.172130</td>\n",
       "      <td>...</td>\n",
       "      <td>0.048236</td>\n",
       "      <td>1.061555</td>\n",
       "      <td>0.937771</td>\n",
       "      <td>1.184700</td>\n",
       "      <td>0.992821</td>\n",
       "      <td>0.970250</td>\n",
       "      <td>1.022693</td>\n",
       "      <td>0.972436</td>\n",
       "      <td>1909.104479</td>\n",
       "      <td>0.097910</td>\n",
       "    </tr>\n",
       "    <tr>\n",
       "      <th>min</th>\n",
       "      <td>0.000000</td>\n",
       "      <td>0.000000</td>\n",
       "      <td>0.000000</td>\n",
       "      <td>0.000000</td>\n",
       "      <td>0.000000</td>\n",
       "      <td>0.000000</td>\n",
       "      <td>0.000000</td>\n",
       "      <td>0.000000</td>\n",
       "      <td>0.000000</td>\n",
       "      <td>0.000000</td>\n",
       "      <td>...</td>\n",
       "      <td>0.000000</td>\n",
       "      <td>0.000000</td>\n",
       "      <td>-3.178409</td>\n",
       "      <td>-0.506389</td>\n",
       "      <td>-0.609974</td>\n",
       "      <td>-0.371714</td>\n",
       "      <td>-5.233369</td>\n",
       "      <td>-3.570250</td>\n",
       "      <td>1823.000000</td>\n",
       "      <td>-3.743205</td>\n",
       "    </tr>\n",
       "    <tr>\n",
       "      <th>25%</th>\n",
       "      <td>1.000000</td>\n",
       "      <td>0.000000</td>\n",
       "      <td>0.000000</td>\n",
       "      <td>0.000000</td>\n",
       "      <td>0.000000</td>\n",
       "      <td>0.000000</td>\n",
       "      <td>0.000000</td>\n",
       "      <td>0.000000</td>\n",
       "      <td>0.000000</td>\n",
       "      <td>0.000000</td>\n",
       "      <td>...</td>\n",
       "      <td>0.000000</td>\n",
       "      <td>6.453625</td>\n",
       "      <td>-0.501034</td>\n",
       "      <td>1.200556</td>\n",
       "      <td>-0.530054</td>\n",
       "      <td>-0.357955</td>\n",
       "      <td>-0.708817</td>\n",
       "      <td>-0.504042</td>\n",
       "      <td>3478.750000</td>\n",
       "      <td>-0.042352</td>\n",
       "    </tr>\n",
       "    <tr>\n",
       "      <th>50%</th>\n",
       "      <td>1.000000</td>\n",
       "      <td>0.000000</td>\n",
       "      <td>0.000000</td>\n",
       "      <td>0.000000</td>\n",
       "      <td>0.000000</td>\n",
       "      <td>0.000000</td>\n",
       "      <td>0.000000</td>\n",
       "      <td>1.000000</td>\n",
       "      <td>0.000000</td>\n",
       "      <td>0.000000</td>\n",
       "      <td>...</td>\n",
       "      <td>0.000000</td>\n",
       "      <td>7.229114</td>\n",
       "      <td>0.211951</td>\n",
       "      <td>1.890833</td>\n",
       "      <td>-0.329785</td>\n",
       "      <td>-0.316066</td>\n",
       "      <td>0.238182</td>\n",
       "      <td>0.199678</td>\n",
       "      <td>5131.500000</td>\n",
       "      <td>-0.025691</td>\n",
       "    </tr>\n",
       "    <tr>\n",
       "      <th>75%</th>\n",
       "      <td>1.000000</td>\n",
       "      <td>0.000000</td>\n",
       "      <td>0.000000</td>\n",
       "      <td>0.000000</td>\n",
       "      <td>0.000000</td>\n",
       "      <td>0.000000</td>\n",
       "      <td>0.000000</td>\n",
       "      <td>1.000000</td>\n",
       "      <td>1.000000</td>\n",
       "      <td>0.000000</td>\n",
       "      <td>...</td>\n",
       "      <td>0.000000</td>\n",
       "      <td>7.780303</td>\n",
       "      <td>0.692263</td>\n",
       "      <td>2.755000</td>\n",
       "      <td>0.155352</td>\n",
       "      <td>-0.135369</td>\n",
       "      <td>0.764293</td>\n",
       "      <td>0.752600</td>\n",
       "      <td>6784.250000</td>\n",
       "      <td>-0.014029</td>\n",
       "    </tr>\n",
       "    <tr>\n",
       "      <th>max</th>\n",
       "      <td>1.000000</td>\n",
       "      <td>1.000000</td>\n",
       "      <td>1.000000</td>\n",
       "      <td>1.000000</td>\n",
       "      <td>1.000000</td>\n",
       "      <td>1.000000</td>\n",
       "      <td>1.000000</td>\n",
       "      <td>1.000000</td>\n",
       "      <td>1.000000</td>\n",
       "      <td>1.000000</td>\n",
       "      <td>...</td>\n",
       "      <td>1.000000</td>\n",
       "      <td>8.945202</td>\n",
       "      <td>2.953344</td>\n",
       "      <td>14.239720</td>\n",
       "      <td>54.145700</td>\n",
       "      <td>21.163010</td>\n",
       "      <td>3.710513</td>\n",
       "      <td>21.763660</td>\n",
       "      <td>8438.000000</td>\n",
       "      <td>3.313791</td>\n",
       "    </tr>\n",
       "  </tbody>\n",
       "</table>\n",
       "<p>8 rows × 29 columns</p>\n",
       "</div>"
      ],
      "text/plain": [
       "       engine_series_Engine_series_1  engine_series_Engine_series_2  \\\n",
       "count                  661200.000000                  661200.000000   \n",
       "mean                        0.891010                       0.001378   \n",
       "std                         0.311627                       0.037093   \n",
       "min                         0.000000                       0.000000   \n",
       "25%                         1.000000                       0.000000   \n",
       "50%                         1.000000                       0.000000   \n",
       "75%                         1.000000                       0.000000   \n",
       "max                         1.000000                       1.000000   \n",
       "\n",
       "       engine_series_Engine_series_3  engine_series_Engine_series_4  \\\n",
       "count                  661200.000000                  661200.000000   \n",
       "mean                        0.071766                       0.031459   \n",
       "std                         0.258101                       0.174556   \n",
       "min                         0.000000                       0.000000   \n",
       "25%                         0.000000                       0.000000   \n",
       "50%                         0.000000                       0.000000   \n",
       "75%                         0.000000                       0.000000   \n",
       "max                         1.000000                       1.000000   \n",
       "\n",
       "       engine_series_Engine_series_5  engine_series_Engine_series_6  \\\n",
       "count                  661200.000000                  661200.000000   \n",
       "mean                        0.002874                       0.000907   \n",
       "std                         0.053529                       0.030110   \n",
       "min                         0.000000                       0.000000   \n",
       "25%                         0.000000                       0.000000   \n",
       "50%                         0.000000                       0.000000   \n",
       "75%                         0.000000                       0.000000   \n",
       "max                         1.000000                       1.000000   \n",
       "\n",
       "       engine_series_Engine_series_7  config_A_Config_A_1  \\\n",
       "count                  661200.000000        661200.000000   \n",
       "mean                        0.000605             0.577288   \n",
       "std                         0.024589             0.493991   \n",
       "min                         0.000000             0.000000   \n",
       "25%                         0.000000             0.000000   \n",
       "50%                         0.000000             1.000000   \n",
       "75%                         0.000000             1.000000   \n",
       "max                         1.000000             1.000000   \n",
       "\n",
       "       config_A_Config_A_2  config_A_Config_A_3  ...  \\\n",
       "count        661200.000000        661200.000000  ...   \n",
       "mean              0.391995             0.030563  ...   \n",
       "std               0.488196             0.172130  ...   \n",
       "min               0.000000             0.000000  ...   \n",
       "25%               0.000000             0.000000  ...   \n",
       "50%               0.000000             0.000000  ...   \n",
       "75%               1.000000             0.000000  ...   \n",
       "max               1.000000             1.000000  ...   \n",
       "\n",
       "       Interpolate_var_env_4_3.0  cycles_counter  Interpolate_var_mot_1  \\\n",
       "count              661200.000000   661200.000000          661200.000000   \n",
       "mean                    0.002332        7.002443               0.003168   \n",
       "std                     0.048236        1.061555               0.937771   \n",
       "min                     0.000000        0.000000              -3.178409   \n",
       "25%                     0.000000        6.453625              -0.501034   \n",
       "50%                     0.000000        7.229114               0.211951   \n",
       "75%                     0.000000        7.780303               0.692263   \n",
       "max                     1.000000        8.945202               2.953344   \n",
       "\n",
       "       Interpolate_flight_leg_hours  Interpolate_var_env_1  \\\n",
       "count                 661200.000000          661200.000000   \n",
       "mean                       2.127982               0.021996   \n",
       "std                        1.184700               0.992821   \n",
       "min                       -0.506389              -0.609974   \n",
       "25%                        1.200556              -0.530054   \n",
       "50%                        1.890833              -0.329785   \n",
       "75%                        2.755000               0.155352   \n",
       "max                       14.239720              54.145700   \n",
       "\n",
       "       Interpolate_var_env_2  Interpolate_var_env_3  Interpolate_var_env_5  \\\n",
       "count          661200.000000          661200.000000          661200.000000   \n",
       "mean               -0.012016              -0.015122               0.036765   \n",
       "std                 0.970250               1.022693               0.972436   \n",
       "min                -0.371714              -5.233369              -3.570250   \n",
       "25%                -0.357955              -0.708817              -0.504042   \n",
       "50%                -0.316066               0.238182               0.199678   \n",
       "75%                -0.135369               0.764293               0.752600   \n",
       "max                21.163010               3.710513              21.763660   \n",
       "\n",
       "              id_int  Interpolate_egt_slope  \n",
       "count  661200.000000          661200.000000  \n",
       "mean     5131.381125              -0.032698  \n",
       "std      1909.104479               0.097910  \n",
       "min      1823.000000              -3.743205  \n",
       "25%      3478.750000              -0.042352  \n",
       "50%      5131.500000              -0.025691  \n",
       "75%      6784.250000              -0.014029  \n",
       "max      8438.000000               3.313791  \n",
       "\n",
       "[8 rows x 29 columns]"
      ]
     },
     "execution_count": 4,
     "metadata": {},
     "output_type": "execute_result"
    }
   ],
   "source": [
    "X_Y_treat.describe()"
   ]
  },
  {
   "cell_type": "code",
   "execution_count": 5,
   "id": "assisted-source",
   "metadata": {},
   "outputs": [
    {
     "data": {
      "text/plain": [
       "count    661200.000000\n",
       "mean         -0.032698\n",
       "std           0.097910\n",
       "min          -3.743205\n",
       "25%          -0.042352\n",
       "50%          -0.025691\n",
       "75%          -0.014029\n",
       "max           3.313791\n",
       "Name: Interpolate_egt_slope, dtype: float64"
      ]
     },
     "execution_count": 5,
     "metadata": {},
     "output_type": "execute_result"
    }
   ],
   "source": [
    "X_Y_treat.Interpolate_egt_slope.describe()"
   ]
  },
  {
   "cell_type": "code",
   "execution_count": 6,
   "id": "educational-spirituality",
   "metadata": {},
   "outputs": [
    {
     "data": {
      "text/plain": [
       "<AxesSubplot:title={'center':'Représentation de la marge EGT pour un échantillon ( 100 vols)'}, xlabel='date'>"
      ]
     },
     "execution_count": 6,
     "metadata": {},
     "output_type": "execute_result"
    },
    {
     "data": {
      "image/png": "[encoded data removed]",
      "text/plain": [
       "<Figure size 1440x720 with 1 Axes>"
      ]
     },
     "metadata": {
      "needs_background": "light"
     },
     "output_type": "display_data"
    }
   ],
   "source": [
    "pretraitement[pretraitement.engine_serial_number == 'ESN_7'].head(100).plot( y=['Interpolate_egt_margin'], figsize=(20,10), grid=True, title = 'Représentation de la marge EGT pour un échantillon ( 100 vols)')"
   ]
  },
  {
   "cell_type": "code",
   "execution_count": 7,
   "id": "cooked-thanksgiving",
   "metadata": {},
   "outputs": [
    {
     "data": {
      "text/html": [
       "<div>\n",
       "<style scoped>\n",
       "    .dataframe tbody tr th:only-of-type {\n",
       "        vertical-align: middle;\n",
       "    }\n",
       "\n",
       "    .dataframe tbody tr th {\n",
       "        vertical-align: top;\n",
       "    }\n",
       "\n",
       "    .dataframe thead th {\n",
       "        text-align: right;\n",
       "    }\n",
       "</style>\n",
       "<table border=\"1\" class=\"dataframe\">\n",
       "  <thead>\n",
       "    <tr style=\"text-align: right;\">\n",
       "      <th></th>\n",
       "      <th>engine_serial_number</th>\n",
       "      <th>engine_family</th>\n",
       "      <th>engine_series</th>\n",
       "      <th>cycles</th>\n",
       "      <th>cycles_counter</th>\n",
       "      <th>egt_margin</th>\n",
       "      <th>var_mot_1</th>\n",
       "      <th>flight_leg_hours</th>\n",
       "      <th>event_rank</th>\n",
       "      <th>egt_slope</th>\n",
       "      <th>...</th>\n",
       "      <th>Interpolate_flight_leg_hours</th>\n",
       "      <th>Interpolate_SV_rank</th>\n",
       "      <th>Interpolate_Config_B_rank</th>\n",
       "      <th>Interpolate_WW_rank</th>\n",
       "      <th>Interpolate_var_env_1</th>\n",
       "      <th>Interpolate_var_env_2</th>\n",
       "      <th>Interpolate_var_env_3</th>\n",
       "      <th>Interpolate_var_env_4</th>\n",
       "      <th>Interpolate_var_env_5</th>\n",
       "      <th>Interpolate_egt_slope</th>\n",
       "    </tr>\n",
       "    <tr>\n",
       "      <th>date</th>\n",
       "      <th></th>\n",
       "      <th></th>\n",
       "      <th></th>\n",
       "      <th></th>\n",
       "      <th></th>\n",
       "      <th></th>\n",
       "      <th></th>\n",
       "      <th></th>\n",
       "      <th></th>\n",
       "      <th></th>\n",
       "      <th></th>\n",
       "      <th></th>\n",
       "      <th></th>\n",
       "      <th></th>\n",
       "      <th></th>\n",
       "      <th></th>\n",
       "      <th></th>\n",
       "      <th></th>\n",
       "      <th></th>\n",
       "      <th></th>\n",
       "      <th></th>\n",
       "    </tr>\n",
       "  </thead>\n",
       "  <tbody>\n",
       "    <tr>\n",
       "      <th>2021-08-29 04:26:58</th>\n",
       "      <td>ESN_3</td>\n",
       "      <td>Engine_family_1</td>\n",
       "      <td>Engine_series_1</td>\n",
       "      <td>2939.819863</td>\n",
       "      <td>3173</td>\n",
       "      <td>-3.012850</td>\n",
       "      <td>-0.214769</td>\n",
       "      <td>1.545833</td>\n",
       "      <td>18</td>\n",
       "      <td>6.714120</td>\n",
       "      <td>...</td>\n",
       "      <td>1.545833</td>\n",
       "      <td>1.0</td>\n",
       "      <td>9.0</td>\n",
       "      <td>4.0</td>\n",
       "      <td>-0.543789</td>\n",
       "      <td>-0.348429</td>\n",
       "      <td>-2.602815</td>\n",
       "      <td>0.0</td>\n",
       "      <td>0.752600</td>\n",
       "      <td>6.714120</td>\n",
       "    </tr>\n",
       "    <tr>\n",
       "      <th>2021-08-29 12:37:18</th>\n",
       "      <td>ESN_3</td>\n",
       "      <td>Engine_family_1</td>\n",
       "      <td>Engine_series_1</td>\n",
       "      <td>2940.259229</td>\n",
       "      <td>3174</td>\n",
       "      <td>-2.807086</td>\n",
       "      <td>-1.114584</td>\n",
       "      <td>1.512778</td>\n",
       "      <td>18</td>\n",
       "      <td>6.714120</td>\n",
       "      <td>...</td>\n",
       "      <td>1.512778</td>\n",
       "      <td>1.0</td>\n",
       "      <td>10.0</td>\n",
       "      <td>4.0</td>\n",
       "      <td>-0.596666</td>\n",
       "      <td>-0.361244</td>\n",
       "      <td>-2.497593</td>\n",
       "      <td>0.0</td>\n",
       "      <td>0.300209</td>\n",
       "      <td>6.714120</td>\n",
       "    </tr>\n",
       "    <tr>\n",
       "      <th>2021-08-29 15:18:49</th>\n",
       "      <td>ESN_3</td>\n",
       "      <td>Engine_family_1</td>\n",
       "      <td>Engine_series_1</td>\n",
       "      <td>2940.403958</td>\n",
       "      <td>3175</td>\n",
       "      <td>-2.963642</td>\n",
       "      <td>0.637014</td>\n",
       "      <td>1.065833</td>\n",
       "      <td>18</td>\n",
       "      <td>6.714120</td>\n",
       "      <td>...</td>\n",
       "      <td>1.065833</td>\n",
       "      <td>1.0</td>\n",
       "      <td>10.0</td>\n",
       "      <td>4.0</td>\n",
       "      <td>-0.562807</td>\n",
       "      <td>-0.348429</td>\n",
       "      <td>-2.813260</td>\n",
       "      <td>0.0</td>\n",
       "      <td>1.104460</td>\n",
       "      <td>6.714120</td>\n",
       "    </tr>\n",
       "    <tr>\n",
       "      <th>2021-08-29 17:29:50</th>\n",
       "      <td>ESN_3</td>\n",
       "      <td>Engine_family_1</td>\n",
       "      <td>Engine_series_1</td>\n",
       "      <td>2940.521356</td>\n",
       "      <td>3176</td>\n",
       "      <td>-3.156967</td>\n",
       "      <td>0.580022</td>\n",
       "      <td>1.048333</td>\n",
       "      <td>18</td>\n",
       "      <td>6.714120</td>\n",
       "      <td>...</td>\n",
       "      <td>1.048333</td>\n",
       "      <td>1.0</td>\n",
       "      <td>10.0</td>\n",
       "      <td>4.0</td>\n",
       "      <td>-0.581427</td>\n",
       "      <td>-0.369373</td>\n",
       "      <td>-2.392371</td>\n",
       "      <td>0.0</td>\n",
       "      <td>0.300209</td>\n",
       "      <td>6.714120</td>\n",
       "    </tr>\n",
       "    <tr>\n",
       "      <th>2021-08-29 20:42:57</th>\n",
       "      <td>ESN_3</td>\n",
       "      <td>Engine_family_1</td>\n",
       "      <td>Engine_series_1</td>\n",
       "      <td>2940.697140</td>\n",
       "      <td>3177</td>\n",
       "      <td>NaN</td>\n",
       "      <td>NaN</td>\n",
       "      <td>2.160556</td>\n",
       "      <td>18</td>\n",
       "      <td>6.714120</td>\n",
       "      <td>...</td>\n",
       "      <td>2.160556</td>\n",
       "      <td>1.0</td>\n",
       "      <td>10.0</td>\n",
       "      <td>4.0</td>\n",
       "      <td>-0.599747</td>\n",
       "      <td>-0.348429</td>\n",
       "      <td>-2.076705</td>\n",
       "      <td>0.0</td>\n",
       "      <td>-0.705105</td>\n",
       "      <td>6.714120</td>\n",
       "    </tr>\n",
       "    <tr>\n",
       "      <th>...</th>\n",
       "      <td>...</td>\n",
       "      <td>...</td>\n",
       "      <td>...</td>\n",
       "      <td>...</td>\n",
       "      <td>...</td>\n",
       "      <td>...</td>\n",
       "      <td>...</td>\n",
       "      <td>...</td>\n",
       "      <td>...</td>\n",
       "      <td>...</td>\n",
       "      <td>...</td>\n",
       "      <td>...</td>\n",
       "      <td>...</td>\n",
       "      <td>...</td>\n",
       "      <td>...</td>\n",
       "      <td>...</td>\n",
       "      <td>...</td>\n",
       "      <td>...</td>\n",
       "      <td>...</td>\n",
       "      <td>...</td>\n",
       "      <td>...</td>\n",
       "    </tr>\n",
       "    <tr>\n",
       "      <th>2022-04-04 06:13:10</th>\n",
       "      <td>ESN_975</td>\n",
       "      <td>Engine_family_1</td>\n",
       "      <td>Engine_series_3</td>\n",
       "      <td>31.046980</td>\n",
       "      <td>37</td>\n",
       "      <td>0.183009</td>\n",
       "      <td>1.583424</td>\n",
       "      <td>2.436389</td>\n",
       "      <td>0</td>\n",
       "      <td>2.162239</td>\n",
       "      <td>...</td>\n",
       "      <td>2.436389</td>\n",
       "      <td>0.0</td>\n",
       "      <td>0.0</td>\n",
       "      <td>0.0</td>\n",
       "      <td>0.132120</td>\n",
       "      <td>-0.301878</td>\n",
       "      <td>-0.284809</td>\n",
       "      <td>0.0</td>\n",
       "      <td>0.899920</td>\n",
       "      <td>2.162239</td>\n",
       "    </tr>\n",
       "    <tr>\n",
       "      <th>2022-04-04 10:11:47</th>\n",
       "      <td>ESN_975</td>\n",
       "      <td>Engine_family_1</td>\n",
       "      <td>Engine_series_3</td>\n",
       "      <td>31.556920</td>\n",
       "      <td>39</td>\n",
       "      <td>-0.008645</td>\n",
       "      <td>-0.206725</td>\n",
       "      <td>3.032222</td>\n",
       "      <td>0</td>\n",
       "      <td>2.162239</td>\n",
       "      <td>...</td>\n",
       "      <td>3.032222</td>\n",
       "      <td>0.0</td>\n",
       "      <td>0.0</td>\n",
       "      <td>0.0</td>\n",
       "      <td>-0.424388</td>\n",
       "      <td>-0.245512</td>\n",
       "      <td>0.433318</td>\n",
       "      <td>0.0</td>\n",
       "      <td>-0.376347</td>\n",
       "      <td>2.162239</td>\n",
       "    </tr>\n",
       "    <tr>\n",
       "      <th>2022-04-04 18:03:21</th>\n",
       "      <td>ESN_975</td>\n",
       "      <td>Engine_family_1</td>\n",
       "      <td>Engine_series_3</td>\n",
       "      <td>32.539310</td>\n",
       "      <td>42</td>\n",
       "      <td>0.075203</td>\n",
       "      <td>1.072096</td>\n",
       "      <td>2.361111</td>\n",
       "      <td>0</td>\n",
       "      <td>2.162239</td>\n",
       "      <td>...</td>\n",
       "      <td>2.361111</td>\n",
       "      <td>0.0</td>\n",
       "      <td>0.0</td>\n",
       "      <td>0.0</td>\n",
       "      <td>-0.503168</td>\n",
       "      <td>-0.352742</td>\n",
       "      <td>-0.287928</td>\n",
       "      <td>0.0</td>\n",
       "      <td>-0.453776</td>\n",
       "      <td>2.162239</td>\n",
       "    </tr>\n",
       "    <tr>\n",
       "      <th>2022-04-05 05:37:15</th>\n",
       "      <td>ESN_975</td>\n",
       "      <td>Engine_family_1</td>\n",
       "      <td>Engine_series_3</td>\n",
       "      <td>34.000480</td>\n",
       "      <td>43</td>\n",
       "      <td>0.110440</td>\n",
       "      <td>1.633591</td>\n",
       "      <td>1.990278</td>\n",
       "      <td>0</td>\n",
       "      <td>2.162239</td>\n",
       "      <td>...</td>\n",
       "      <td>1.990278</td>\n",
       "      <td>0.0</td>\n",
       "      <td>0.0</td>\n",
       "      <td>0.0</td>\n",
       "      <td>-0.549692</td>\n",
       "      <td>-0.301878</td>\n",
       "      <td>-0.182706</td>\n",
       "      <td>0.0</td>\n",
       "      <td>0.903397</td>\n",
       "      <td>2.162239</td>\n",
       "    </tr>\n",
       "    <tr>\n",
       "      <th>2022-04-05 09:18:06</th>\n",
       "      <td>ESN_975</td>\n",
       "      <td>Engine_family_1</td>\n",
       "      <td>Engine_series_3</td>\n",
       "      <td>34.465530</td>\n",
       "      <td>44</td>\n",
       "      <td>0.075736</td>\n",
       "      <td>0.424380</td>\n",
       "      <td>2.182222</td>\n",
       "      <td>0</td>\n",
       "      <td>2.162239</td>\n",
       "      <td>...</td>\n",
       "      <td>2.182222</td>\n",
       "      <td>0.0</td>\n",
       "      <td>0.0</td>\n",
       "      <td>0.0</td>\n",
       "      <td>-0.553421</td>\n",
       "      <td>-0.311527</td>\n",
       "      <td>0.238182</td>\n",
       "      <td>0.0</td>\n",
       "      <td>-1.509356</td>\n",
       "      <td>2.162239</td>\n",
       "    </tr>\n",
       "  </tbody>\n",
       "</table>\n",
       "<p>3409 rows × 35 columns</p>\n",
       "</div>"
      ],
      "text/plain": [
       "                    engine_serial_number    engine_family    engine_series  \\\n",
       "date                                                                         \n",
       "2021-08-29 04:26:58                ESN_3  Engine_family_1  Engine_series_1   \n",
       "2021-08-29 12:37:18                ESN_3  Engine_family_1  Engine_series_1   \n",
       "2021-08-29 15:18:49                ESN_3  Engine_family_1  Engine_series_1   \n",
       "2021-08-29 17:29:50                ESN_3  Engine_family_1  Engine_series_1   \n",
       "2021-08-29 20:42:57                ESN_3  Engine_family_1  Engine_series_1   \n",
       "...                                  ...              ...              ...   \n",
       "2022-04-04 06:13:10              ESN_975  Engine_family_1  Engine_series_3   \n",
       "2022-04-04 10:11:47              ESN_975  Engine_family_1  Engine_series_3   \n",
       "2022-04-04 18:03:21              ESN_975  Engine_family_1  Engine_series_3   \n",
       "2022-04-05 05:37:15              ESN_975  Engine_family_1  Engine_series_3   \n",
       "2022-04-05 09:18:06              ESN_975  Engine_family_1  Engine_series_3   \n",
       "\n",
       "                          cycles  cycles_counter  egt_margin  var_mot_1  \\\n",
       "date                                                                      \n",
       "2021-08-29 04:26:58  2939.819863            3173   -3.012850  -0.214769   \n",
       "2021-08-29 12:37:18  2940.259229            3174   -2.807086  -1.114584   \n",
       "2021-08-29 15:18:49  2940.403958            3175   -2.963642   0.637014   \n",
       "2021-08-29 17:29:50  2940.521356            3176   -3.156967   0.580022   \n",
       "2021-08-29 20:42:57  2940.697140            3177         NaN        NaN   \n",
       "...                          ...             ...         ...        ...   \n",
       "2022-04-04 06:13:10    31.046980              37    0.183009   1.583424   \n",
       "2022-04-04 10:11:47    31.556920              39   -0.008645  -0.206725   \n",
       "2022-04-04 18:03:21    32.539310              42    0.075203   1.072096   \n",
       "2022-04-05 05:37:15    34.000480              43    0.110440   1.633591   \n",
       "2022-04-05 09:18:06    34.465530              44    0.075736   0.424380   \n",
       "\n",
       "                     flight_leg_hours  event_rank  egt_slope  ...  \\\n",
       "date                                                          ...   \n",
       "2021-08-29 04:26:58          1.545833          18   6.714120  ...   \n",
       "2021-08-29 12:37:18          1.512778          18   6.714120  ...   \n",
       "2021-08-29 15:18:49          1.065833          18   6.714120  ...   \n",
       "2021-08-29 17:29:50          1.048333          18   6.714120  ...   \n",
       "2021-08-29 20:42:57          2.160556          18   6.714120  ...   \n",
       "...                               ...         ...        ...  ...   \n",
       "2022-04-04 06:13:10          2.436389           0   2.162239  ...   \n",
       "2022-04-04 10:11:47          3.032222           0   2.162239  ...   \n",
       "2022-04-04 18:03:21          2.361111           0   2.162239  ...   \n",
       "2022-04-05 05:37:15          1.990278           0   2.162239  ...   \n",
       "2022-04-05 09:18:06          2.182222           0   2.162239  ...   \n",
       "\n",
       "                     Interpolate_flight_leg_hours  Interpolate_SV_rank  \\\n",
       "date                                                                     \n",
       "2021-08-29 04:26:58                      1.545833                  1.0   \n",
       "2021-08-29 12:37:18                      1.512778                  1.0   \n",
       "2021-08-29 15:18:49                      1.065833                  1.0   \n",
       "2021-08-29 17:29:50                      1.048333                  1.0   \n",
       "2021-08-29 20:42:57                      2.160556                  1.0   \n",
       "...                                           ...                  ...   \n",
       "2022-04-04 06:13:10                      2.436389                  0.0   \n",
       "2022-04-04 10:11:47                      3.032222                  0.0   \n",
       "2022-04-04 18:03:21                      2.361111                  0.0   \n",
       "2022-04-05 05:37:15                      1.990278                  0.0   \n",
       "2022-04-05 09:18:06                      2.182222                  0.0   \n",
       "\n",
       "                     Interpolate_Config_B_rank  Interpolate_WW_rank  \\\n",
       "date                                                                  \n",
       "2021-08-29 04:26:58                        9.0                  4.0   \n",
       "2021-08-29 12:37:18                       10.0                  4.0   \n",
       "2021-08-29 15:18:49                       10.0                  4.0   \n",
       "2021-08-29 17:29:50                       10.0                  4.0   \n",
       "2021-08-29 20:42:57                       10.0                  4.0   \n",
       "...                                        ...                  ...   \n",
       "2022-04-04 06:13:10                        0.0                  0.0   \n",
       "2022-04-04 10:11:47                        0.0                  0.0   \n",
       "2022-04-04 18:03:21                        0.0                  0.0   \n",
       "2022-04-05 05:37:15                        0.0                  0.0   \n",
       "2022-04-05 09:18:06                        0.0                  0.0   \n",
       "\n",
       "                     Interpolate_var_env_1  Interpolate_var_env_2  \\\n",
       "date                                                                \n",
       "2021-08-29 04:26:58              -0.543789              -0.348429   \n",
       "2021-08-29 12:37:18              -0.596666              -0.361244   \n",
       "2021-08-29 15:18:49              -0.562807              -0.348429   \n",
       "2021-08-29 17:29:50              -0.581427              -0.369373   \n",
       "2021-08-29 20:42:57              -0.599747              -0.348429   \n",
       "...                                    ...                    ...   \n",
       "2022-04-04 06:13:10               0.132120              -0.301878   \n",
       "2022-04-04 10:11:47              -0.424388              -0.245512   \n",
       "2022-04-04 18:03:21              -0.503168              -0.352742   \n",
       "2022-04-05 05:37:15              -0.549692              -0.301878   \n",
       "2022-04-05 09:18:06              -0.553421              -0.311527   \n",
       "\n",
       "                    Interpolate_var_env_3 Interpolate_var_env_4  \\\n",
       "date                                                              \n",
       "2021-08-29 04:26:58             -2.602815                   0.0   \n",
       "2021-08-29 12:37:18             -2.497593                   0.0   \n",
       "2021-08-29 15:18:49             -2.813260                   0.0   \n",
       "2021-08-29 17:29:50             -2.392371                   0.0   \n",
       "2021-08-29 20:42:57             -2.076705                   0.0   \n",
       "...                                   ...                   ...   \n",
       "2022-04-04 06:13:10             -0.284809                   0.0   \n",
       "2022-04-04 10:11:47              0.433318                   0.0   \n",
       "2022-04-04 18:03:21             -0.287928                   0.0   \n",
       "2022-04-05 05:37:15             -0.182706                   0.0   \n",
       "2022-04-05 09:18:06              0.238182                   0.0   \n",
       "\n",
       "                     Interpolate_var_env_5  Interpolate_egt_slope  \n",
       "date                                                               \n",
       "2021-08-29 04:26:58               0.752600               6.714120  \n",
       "2021-08-29 12:37:18               0.300209               6.714120  \n",
       "2021-08-29 15:18:49               1.104460               6.714120  \n",
       "2021-08-29 17:29:50               0.300209               6.714120  \n",
       "2021-08-29 20:42:57              -0.705105               6.714120  \n",
       "...                                    ...                    ...  \n",
       "2022-04-04 06:13:10               0.899920               2.162239  \n",
       "2022-04-04 10:11:47              -0.376347               2.162239  \n",
       "2022-04-04 18:03:21              -0.453776               2.162239  \n",
       "2022-04-05 05:37:15               0.903397               2.162239  \n",
       "2022-04-05 09:18:06              -1.509356               2.162239  \n",
       "\n",
       "[3409 rows x 35 columns]"
      ]
     },
     "execution_count": 7,
     "metadata": {},
     "output_type": "execute_result"
    }
   ],
   "source": [
    "pretraitement[pretraitement.Interpolate_egt_slope >1 ]"
   ]
  },
  {
   "cell_type": "markdown",
   "id": "matched-circuit",
   "metadata": {},
   "source": [
    "## Prétraitement des variables environnementales"
   ]
  },
  {
   "cell_type": "markdown",
   "id": "imposed-reflection",
   "metadata": {},
   "source": [
    "A partir de ce dataframe, on souhaite décomposer les séries des variables environnementales en 3 séries :\n",
    "- tendance \n",
    "- saisonnalité \n",
    "- bruit \n",
    "\n",
    "afin de les intégrer dans différentes branches du réseau de neurones. On retire la variable environnementale qui est catégorielle. \n",
    "\n",
    "Pour cela il faut trouver une période de temps ou une fréquence, sur laquelle les événements se répétent. \n",
    "\n",
    "Pour exemple, on affiche le graphique représentant la série var_env_1 pour deux moteurs (ESN_3 et ESN_45) sur leurs 200 premiers vols  : "
   ]
  },
  {
   "cell_type": "code",
   "execution_count": 8,
   "id": "twenty-jacket",
   "metadata": {},
   "outputs": [
    {
     "data": {
      "text/plain": [
       "<AxesSubplot:xlabel='date'>"
      ]
     },
     "execution_count": 8,
     "metadata": {},
     "output_type": "execute_result"
    },
    {
     "data": {
      "image/png": "[encoded data removed]",
      "text/plain": [
       "<Figure size 432x288 with 1 Axes>"
      ]
     },
     "metadata": {
      "needs_background": "light"
     },
     "output_type": "display_data"
    }
   ],
   "source": [
    "pretraitement[pretraitement.engine_serial_number==\"ESN_3\"].head(200)['Interpolate_var_env_1'].plot()"
   ]
  },
  {
   "cell_type": "code",
   "execution_count": 9,
   "id": "improving-longer",
   "metadata": {},
   "outputs": [
    {
     "data": {
      "text/plain": [
       "<AxesSubplot:xlabel='date'>"
      ]
     },
     "execution_count": 9,
     "metadata": {},
     "output_type": "execute_result"
    },
    {
     "data": {
      "image/png": "[encoded data removed]",
      "text/plain": [
       "<Figure size 432x288 with 1 Axes>"
      ]
     },
     "metadata": {
      "needs_background": "light"
     },
     "output_type": "display_data"
    }
   ],
   "source": [
    "pretraitement[pretraitement.engine_serial_number==\"ESN_45\"].head(200)['Interpolate_var_env_1'].plot()"
   ]
  },
  {
   "cell_type": "markdown",
   "id": "composite-posting",
   "metadata": {},
   "source": [
    "On remarque tout d'abord que les séries sont très différentes d'un moteur à l'autre. \n",
    "\n",
    "Analysons ces séries sur les intervalles de 100 vols choisis précedemment. "
   ]
  },
  {
   "cell_type": "code",
   "execution_count": 10,
   "id": "impaired-piano",
   "metadata": {},
   "outputs": [
    {
     "data": {
      "text/html": [
       "<div>\n",
       "<style scoped>\n",
       "    .dataframe tbody tr th:only-of-type {\n",
       "        vertical-align: middle;\n",
       "    }\n",
       "\n",
       "    .dataframe tbody tr th {\n",
       "        vertical-align: top;\n",
       "    }\n",
       "\n",
       "    .dataframe thead th {\n",
       "        text-align: right;\n",
       "    }\n",
       "</style>\n",
       "<table border=\"1\" class=\"dataframe\">\n",
       "  <thead>\n",
       "    <tr style=\"text-align: right;\">\n",
       "      <th></th>\n",
       "      <th>Interpolate_var_env_1</th>\n",
       "      <th>Interpolate_var_env_2</th>\n",
       "      <th>Interpolate_var_env_3</th>\n",
       "      <th>Interpolate_var_env_5</th>\n",
       "      <th>id_int</th>\n",
       "    </tr>\n",
       "  </thead>\n",
       "  <tbody>\n",
       "    <tr>\n",
       "      <th>5000</th>\n",
       "      <td>-0.549798</td>\n",
       "      <td>0.778065</td>\n",
       "      <td>1.395626</td>\n",
       "      <td>-1.207762</td>\n",
       "      <td>1873</td>\n",
       "    </tr>\n",
       "    <tr>\n",
       "      <th>5001</th>\n",
       "      <td>-0.521245</td>\n",
       "      <td>0.420856</td>\n",
       "      <td>0.974738</td>\n",
       "      <td>-0.353245</td>\n",
       "      <td>1873</td>\n",
       "    </tr>\n",
       "    <tr>\n",
       "      <th>5002</th>\n",
       "      <td>-0.560346</td>\n",
       "      <td>0.468015</td>\n",
       "      <td>1.344747</td>\n",
       "      <td>-1.601044</td>\n",
       "      <td>1873</td>\n",
       "    </tr>\n",
       "    <tr>\n",
       "      <th>5003</th>\n",
       "      <td>-0.609285</td>\n",
       "      <td>1.363350</td>\n",
       "      <td>1.185182</td>\n",
       "      <td>-2.062279</td>\n",
       "      <td>1873</td>\n",
       "    </tr>\n",
       "    <tr>\n",
       "      <th>5004</th>\n",
       "      <td>-0.592848</td>\n",
       "      <td>0.137042</td>\n",
       "      <td>0.737177</td>\n",
       "      <td>-1.045560</td>\n",
       "      <td>1873</td>\n",
       "    </tr>\n",
       "    <tr>\n",
       "      <th>...</th>\n",
       "      <td>...</td>\n",
       "      <td>...</td>\n",
       "      <td>...</td>\n",
       "      <td>...</td>\n",
       "      <td>...</td>\n",
       "    </tr>\n",
       "    <tr>\n",
       "      <th>5095</th>\n",
       "      <td>-0.376777</td>\n",
       "      <td>1.371828</td>\n",
       "      <td>1.290404</td>\n",
       "      <td>-1.358559</td>\n",
       "      <td>1873</td>\n",
       "    </tr>\n",
       "    <tr>\n",
       "      <th>5096</th>\n",
       "      <td>-0.544323</td>\n",
       "      <td>1.363350</td>\n",
       "      <td>-0.287928</td>\n",
       "      <td>0.400740</td>\n",
       "      <td>1873</td>\n",
       "    </tr>\n",
       "    <tr>\n",
       "      <th>5097</th>\n",
       "      <td>0.113395</td>\n",
       "      <td>0.280274</td>\n",
       "      <td>0.659071</td>\n",
       "      <td>0.249943</td>\n",
       "      <td>1873</td>\n",
       "    </tr>\n",
       "    <tr>\n",
       "      <th>5098</th>\n",
       "      <td>-0.604612</td>\n",
       "      <td>0.011144</td>\n",
       "      <td>0.553849</td>\n",
       "      <td>0.702335</td>\n",
       "      <td>1873</td>\n",
       "    </tr>\n",
       "    <tr>\n",
       "      <th>5099</th>\n",
       "      <td>-0.554012</td>\n",
       "      <td>1.363350</td>\n",
       "      <td>0.869515</td>\n",
       "      <td>-1.760685</td>\n",
       "      <td>1873</td>\n",
       "    </tr>\n",
       "  </tbody>\n",
       "</table>\n",
       "<p>100 rows × 5 columns</p>\n",
       "</div>"
      ],
      "text/plain": [
       "      Interpolate_var_env_1  Interpolate_var_env_2  Interpolate_var_env_3  \\\n",
       "5000              -0.549798               0.778065               1.395626   \n",
       "5001              -0.521245               0.420856               0.974738   \n",
       "5002              -0.560346               0.468015               1.344747   \n",
       "5003              -0.609285               1.363350               1.185182   \n",
       "5004              -0.592848               0.137042               0.737177   \n",
       "...                     ...                    ...                    ...   \n",
       "5095              -0.376777               1.371828               1.290404   \n",
       "5096              -0.544323               1.363350              -0.287928   \n",
       "5097               0.113395               0.280274               0.659071   \n",
       "5098              -0.604612               0.011144               0.553849   \n",
       "5099              -0.554012               1.363350               0.869515   \n",
       "\n",
       "      Interpolate_var_env_5  id_int  \n",
       "5000              -1.207762    1873  \n",
       "5001              -0.353245    1873  \n",
       "5002              -1.601044    1873  \n",
       "5003              -2.062279    1873  \n",
       "5004              -1.045560    1873  \n",
       "...                     ...     ...  \n",
       "5095              -1.358559    1873  \n",
       "5096               0.400740    1873  \n",
       "5097               0.249943    1873  \n",
       "5098               0.702335    1873  \n",
       "5099              -1.760685    1873  \n",
       "\n",
       "[100 rows x 5 columns]"
      ]
     },
     "execution_count": 10,
     "metadata": {},
     "output_type": "execute_result"
    }
   ],
   "source": [
    "# On décompose le dataframe complet en 6 616 échantillons de 100 vols :\n",
    "dfs = np.array_split(X_Y_treat[['Interpolate_var_env_1','Interpolate_var_env_2', 'Interpolate_var_env_3', 'Interpolate_var_env_5', 'id_int']], 6616)\n",
    "\n",
    "# Affichage d'un échantillon : \n",
    "dfs[50]"
   ]
  },
  {
   "cell_type": "markdown",
   "id": "hollow-contact",
   "metadata": {},
   "source": [
    "Comme précedemment, on compare les graphiques de différents échantillons : "
   ]
  },
  {
   "cell_type": "code",
   "execution_count": 11,
   "id": "substantial-governor",
   "metadata": {},
   "outputs": [
    {
     "data": {
      "text/plain": [
       "<AxesSubplot:>"
      ]
     },
     "execution_count": 11,
     "metadata": {},
     "output_type": "execute_result"
    },
    {
     "data": {
      "image/png": "[encoded data removed]",
      "text/plain": [
       "<Figure size 432x288 with 1 Axes>"
      ]
     },
     "metadata": {
      "needs_background": "light"
     },
     "output_type": "display_data"
    }
   ],
   "source": [
    "dfs[50].Interpolate_var_env_2.plot()"
   ]
  },
  {
   "cell_type": "code",
   "execution_count": 12,
   "id": "eastern-mystery",
   "metadata": {},
   "outputs": [
    {
     "data": {
      "text/plain": [
       "<AxesSubplot:>"
      ]
     },
     "execution_count": 12,
     "metadata": {},
     "output_type": "execute_result"
    },
    {
     "data": {
      "image/png": "[encoded data removed]",
      "text/plain": [
       "<Figure size 432x288 with 1 Axes>"
      ]
     },
     "metadata": {
      "needs_background": "light"
     },
     "output_type": "display_data"
    }
   ],
   "source": [
    "dfs[6536].Interpolate_var_env_2.plot()"
   ]
  },
  {
   "cell_type": "markdown",
   "id": "passive-egyptian",
   "metadata": {},
   "source": [
    "Les graphiques sont très différents entre deux échantillons, pour une même variable environnementale. Il sera donc difficile de trouver une tendance et une saisonalité commune à tous les échantillons\n",
    "\n",
    "Analysons les corrélations entre les différentes variables environnementales :"
   ]
  },
  {
   "cell_type": "code",
   "execution_count": 13,
   "id": "acting-snapshot",
   "metadata": {},
   "outputs": [
    {
     "data": {
      "text/plain": [
       "<AxesSubplot:>"
      ]
     },
     "execution_count": 13,
     "metadata": {},
     "output_type": "execute_result"
    },
    {
     "data": {
      "image/png": "[encoded data removed]",
      "text/plain": [
       "<Figure size 1440x720 with 1 Axes>"
      ]
     },
     "metadata": {
      "needs_background": "light"
     },
     "output_type": "display_data"
    }
   ],
   "source": [
    "# Exemple pour l'échantillon 553 : \n",
    "dfs[53].plot( y=['Interpolate_var_env_1', 'Interpolate_var_env_2','Interpolate_var_env_3', 'Interpolate_var_env_5'], figsize=(20,10), grid=True)"
   ]
  },
  {
   "cell_type": "markdown",
   "id": "studied-petite",
   "metadata": {},
   "source": [
    "Ce n'est pas impossible qu'il y ait une corrélation entre ces variables."
   ]
  },
  {
   "cell_type": "code",
   "execution_count": 14,
   "id": "integrated-shareware",
   "metadata": {},
   "outputs": [
    {
     "data": {
      "text/html": [
       "<div>\n",
       "<style scoped>\n",
       "    .dataframe tbody tr th:only-of-type {\n",
       "        vertical-align: middle;\n",
       "    }\n",
       "\n",
       "    .dataframe tbody tr th {\n",
       "        vertical-align: top;\n",
       "    }\n",
       "\n",
       "    .dataframe thead th {\n",
       "        text-align: right;\n",
       "    }\n",
       "</style>\n",
       "<table border=\"1\" class=\"dataframe\">\n",
       "  <thead>\n",
       "    <tr style=\"text-align: right;\">\n",
       "      <th></th>\n",
       "      <th>Interpolate_var_env_1</th>\n",
       "      <th>Interpolate_var_env_2</th>\n",
       "      <th>Interpolate_var_env_3</th>\n",
       "      <th>Interpolate_var_env_5</th>\n",
       "      <th>id_int</th>\n",
       "    </tr>\n",
       "  </thead>\n",
       "  <tbody>\n",
       "    <tr>\n",
       "      <th>Interpolate_var_env_1</th>\n",
       "      <td>1.000000</td>\n",
       "      <td>-0.151957</td>\n",
       "      <td>-0.023318</td>\n",
       "      <td>0.045225</td>\n",
       "      <td>NaN</td>\n",
       "    </tr>\n",
       "    <tr>\n",
       "      <th>Interpolate_var_env_2</th>\n",
       "      <td>-0.151957</td>\n",
       "      <td>1.000000</td>\n",
       "      <td>-0.309666</td>\n",
       "      <td>-0.416438</td>\n",
       "      <td>NaN</td>\n",
       "    </tr>\n",
       "    <tr>\n",
       "      <th>Interpolate_var_env_3</th>\n",
       "      <td>-0.023318</td>\n",
       "      <td>-0.309666</td>\n",
       "      <td>1.000000</td>\n",
       "      <td>-0.161656</td>\n",
       "      <td>NaN</td>\n",
       "    </tr>\n",
       "    <tr>\n",
       "      <th>Interpolate_var_env_5</th>\n",
       "      <td>0.045225</td>\n",
       "      <td>-0.416438</td>\n",
       "      <td>-0.161656</td>\n",
       "      <td>1.000000</td>\n",
       "      <td>NaN</td>\n",
       "    </tr>\n",
       "    <tr>\n",
       "      <th>id_int</th>\n",
       "      <td>NaN</td>\n",
       "      <td>NaN</td>\n",
       "      <td>NaN</td>\n",
       "      <td>NaN</td>\n",
       "      <td>NaN</td>\n",
       "    </tr>\n",
       "  </tbody>\n",
       "</table>\n",
       "</div>"
      ],
      "text/plain": [
       "                       Interpolate_var_env_1  Interpolate_var_env_2  \\\n",
       "Interpolate_var_env_1               1.000000              -0.151957   \n",
       "Interpolate_var_env_2              -0.151957               1.000000   \n",
       "Interpolate_var_env_3              -0.023318              -0.309666   \n",
       "Interpolate_var_env_5               0.045225              -0.416438   \n",
       "id_int                                   NaN                    NaN   \n",
       "\n",
       "                       Interpolate_var_env_3  Interpolate_var_env_5  id_int  \n",
       "Interpolate_var_env_1              -0.023318               0.045225     NaN  \n",
       "Interpolate_var_env_2              -0.309666              -0.416438     NaN  \n",
       "Interpolate_var_env_3               1.000000              -0.161656     NaN  \n",
       "Interpolate_var_env_5              -0.161656               1.000000     NaN  \n",
       "id_int                                   NaN                    NaN     NaN  "
      ]
     },
     "execution_count": 14,
     "metadata": {},
     "output_type": "execute_result"
    }
   ],
   "source": [
    "dfs[553].corr()"
   ]
  },
  {
   "cell_type": "markdown",
   "id": "hungry-lunch",
   "metadata": {},
   "source": [
    "Pour cet échantillon, il semblerait que les variables environnementales 3 et 5 soient négativement corrélées.\n",
    "\n",
    "Analysons les corrélations de ces variables dans la base initiale "
   ]
  },
  {
   "cell_type": "code",
   "execution_count": 15,
   "id": "union-decade",
   "metadata": {},
   "outputs": [
    {
     "data": {
      "text/html": [
       "<div>\n",
       "<style scoped>\n",
       "    .dataframe tbody tr th:only-of-type {\n",
       "        vertical-align: middle;\n",
       "    }\n",
       "\n",
       "    .dataframe tbody tr th {\n",
       "        vertical-align: top;\n",
       "    }\n",
       "\n",
       "    .dataframe thead th {\n",
       "        text-align: right;\n",
       "    }\n",
       "</style>\n",
       "<table border=\"1\" class=\"dataframe\">\n",
       "  <thead>\n",
       "    <tr style=\"text-align: right;\">\n",
       "      <th></th>\n",
       "      <th>Interpolate_var_env_1</th>\n",
       "      <th>Interpolate_var_env_2</th>\n",
       "      <th>Interpolate_var_env_3</th>\n",
       "      <th>Interpolate_var_env_5</th>\n",
       "    </tr>\n",
       "  </thead>\n",
       "  <tbody>\n",
       "    <tr>\n",
       "      <th>Interpolate_var_env_1</th>\n",
       "      <td>1.000000</td>\n",
       "      <td>0.021848</td>\n",
       "      <td>0.019692</td>\n",
       "      <td>0.110219</td>\n",
       "    </tr>\n",
       "    <tr>\n",
       "      <th>Interpolate_var_env_2</th>\n",
       "      <td>0.021848</td>\n",
       "      <td>1.000000</td>\n",
       "      <td>0.182493</td>\n",
       "      <td>-0.169041</td>\n",
       "    </tr>\n",
       "    <tr>\n",
       "      <th>Interpolate_var_env_3</th>\n",
       "      <td>0.019692</td>\n",
       "      <td>0.182493</td>\n",
       "      <td>1.000000</td>\n",
       "      <td>-0.311830</td>\n",
       "    </tr>\n",
       "    <tr>\n",
       "      <th>Interpolate_var_env_5</th>\n",
       "      <td>0.110219</td>\n",
       "      <td>-0.169041</td>\n",
       "      <td>-0.311830</td>\n",
       "      <td>1.000000</td>\n",
       "    </tr>\n",
       "  </tbody>\n",
       "</table>\n",
       "</div>"
      ],
      "text/plain": [
       "                       Interpolate_var_env_1  Interpolate_var_env_2  \\\n",
       "Interpolate_var_env_1               1.000000               0.021848   \n",
       "Interpolate_var_env_2               0.021848               1.000000   \n",
       "Interpolate_var_env_3               0.019692               0.182493   \n",
       "Interpolate_var_env_5               0.110219              -0.169041   \n",
       "\n",
       "                       Interpolate_var_env_3  Interpolate_var_env_5  \n",
       "Interpolate_var_env_1               0.019692               0.110219  \n",
       "Interpolate_var_env_2               0.182493              -0.169041  \n",
       "Interpolate_var_env_3               1.000000              -0.311830  \n",
       "Interpolate_var_env_5              -0.311830               1.000000  "
      ]
     },
     "execution_count": 15,
     "metadata": {},
     "output_type": "execute_result"
    }
   ],
   "source": [
    "pretraitement[['Interpolate_var_env_1', 'Interpolate_var_env_2','Interpolate_var_env_3', 'Interpolate_var_env_5']].corr()"
   ]
  },
  {
   "cell_type": "markdown",
   "id": "universal-crisis",
   "metadata": {},
   "source": [
    "Les variables sont corrélées, pour certaines très faiblement.\n",
    "\n",
    "Il est donc incertain que les séries des variables environnementales aient les mêmes propriétés de saisonnalité ou de tendance. Cependant, par soucis de temps et pour simplifier nos calculs nous ne chercherons pas à différencier les propriétés des différentes variables environnementales.\n",
    "\n",
    "Nous cherchons à trouver la fréquence (unique pour toutes les variables environnementales) qui optimise les résultats du modèle "
   ]
  },
  {
   "cell_type": "code",
   "execution_count": 16,
   "id": "eastern-america",
   "metadata": {},
   "outputs": [],
   "source": [
    "def decompose_serie (serie, frequence ):\n",
    "    '''\n",
    "    Cette fonction permet de décomposer une série (composée de plusieurs échantillons) en fonction de la fréquence\n",
    "    passée en paramètre. Elle renvoie la série décomposée en tendance, saisonnalité et bruit \n",
    "    \n",
    "    Exemple :\n",
    "    decompose_serie (dfs, 6 ) : décompose la série dfs, composée de 6 616, en 3 dataframes : la tendance, la saisonnalité,\n",
    "    le bruit. \n",
    "    \n",
    "    '''\n",
    "    df_trend = pd.DataFrame(columns=['Var_1_trend','Var_2_trend','Var_3_trend' , 'Var_5_trend', 'id_int'])\n",
    "    df_season = pd.DataFrame(columns=['Var_1_season','Var_2_season','Var_3_season', 'Var_5_season', 'id_int'])\n",
    "    df_resid = pd.DataFrame(columns=['Var_1_resid','Var_2_resid','Var_3_resid' , 'Var_5_resid', 'id_int'])\n",
    "\n",
    "    for i in range(len(serie)) :\n",
    "        result_1 = seasonal_decompose(serie[i]['Interpolate_var_env_1'], model='additive', freq=frequence)\n",
    "        result_2 = seasonal_decompose(serie[i]['Interpolate_var_env_2'], model='additive', freq=frequence)\n",
    "        result_3 = seasonal_decompose(serie[i]['Interpolate_var_env_3'], model='additive', freq=frequence)\n",
    "        result_5 = seasonal_decompose(serie[i]['Interpolate_var_env_5'], model='additive', freq=frequence)\n",
    "\n",
    "        df_trend_i= pd.DataFrame({'Var_1_trend': result_1.trend ,'Var_2_trend' : result_2.trend,'Var_3_trend':result_3.trend, 'Var_5_trend':result_5.trend, 'id_int': dfs[i].id_int})\n",
    "        df_trend_i= df_trend_i.fillna(df_trend_i.ffill())\n",
    "        df_trend_i= df_trend_i.fillna(df_trend_i.bfill())\n",
    "        df_trend = pd.concat([df_trend,df_trend_i])\n",
    "\n",
    "        df_season_i= pd.DataFrame({'Var_1_season': result_1.seasonal ,'Var_2_season' : result_2.seasonal,'Var_3_season':result_3.seasonal, 'Var_5_season':result_5.seasonal, 'id_int': dfs[i].id_int})\n",
    "        df_season = pd.concat([df_season,df_season_i])\n",
    "\n",
    "        df_resid_i= pd.DataFrame({'Var_1_resid': result_1.resid,'Var_2_resid' : result_2.resid,'Var_3_resid':result_3.resid, 'Var_5_resid':result_5.resid, 'id_int': dfs[i].id_int})\n",
    "        df_resid_i= df_resid_i.fillna(df_resid_i.ffill())\n",
    "        df_resid_i= df_resid_i.fillna(df_resid_i.bfill())\n",
    "        df_resid = pd.concat([df_resid,df_resid_i])\n",
    "\n",
    "        if i == int(len(serie)/4):\n",
    "            print(\"25% du traitement effectué\")\n",
    "        if i == int(len(serie)/2):\n",
    "            print(\"50% du traitement effectué\")\n",
    "        if i == int(len(serie) *(3/4)):\n",
    "            print(\"75% du traitement effectué\")\n",
    "        if i == int(len(serie)-1):\n",
    "            print(\"Terminé ! \")\n",
    "    return df_trend, df_season, df_resid"
   ]
  },
  {
   "cell_type": "code",
   "execution_count": 17,
   "id": "mechanical-billy",
   "metadata": {},
   "outputs": [
    {
     "name": "stderr",
     "output_type": "stream",
     "text": [
      "C:\\Users\\louis\\anaconda3\\envs\\tensorflow\\lib\\site-packages\\ipykernel_launcher.py:16: FutureWarning: the 'freq'' keyword is deprecated, use 'period' instead\n",
      "  app.launch_new_instance()\n",
      "C:\\Users\\louis\\anaconda3\\envs\\tensorflow\\lib\\site-packages\\ipykernel_launcher.py:17: FutureWarning: the 'freq'' keyword is deprecated, use 'period' instead\n",
      "C:\\Users\\louis\\anaconda3\\envs\\tensorflow\\lib\\site-packages\\ipykernel_launcher.py:18: FutureWarning: the 'freq'' keyword is deprecated, use 'period' instead\n",
      "C:\\Users\\louis\\anaconda3\\envs\\tensorflow\\lib\\site-packages\\ipykernel_launcher.py:19: FutureWarning: the 'freq'' keyword is deprecated, use 'period' instead\n"
     ]
    },
    {
     "name": "stdout",
     "output_type": "stream",
     "text": [
      "25% du traitement effectué\n",
      "50% du traitement effectué\n",
      "75% du traitement effectué\n",
      "Terminé ! \n"
     ]
    }
   ],
   "source": [
    "# Temps de traitement autour de 5 minutes\n",
    "df_trend, df_season, df_resid = decompose_serie (dfs, 15 )"
   ]
  },
  {
   "cell_type": "code",
   "execution_count": 18,
   "id": "special-weekend",
   "metadata": {},
   "outputs": [],
   "source": [
    "# On introduit le dataframe correspondant aux autres variables à prendre en compte\n",
    "df_complement = X_Y_treat.drop(['Interpolate_var_env_1', 'Interpolate_var_env_2',\n",
    "       'Interpolate_var_env_3', 'Interpolate_var_env_5','id_int'], axis=1)"
   ]
  },
  {
   "cell_type": "markdown",
   "id": "derived-journalist",
   "metadata": {},
   "source": [
    "On traite nos dataframes pour qu'ils puissent entrer dans le modèle. \n",
    "\n",
    "On souhaite couper ce dataframe en échantillons de taille 100, où à chaque échantillon correspond une valeur de pente pour la marge EGT. "
   ]
  },
  {
   "cell_type": "code",
   "execution_count": 19,
   "id": "junior-economy",
   "metadata": {},
   "outputs": [],
   "source": [
    "def split_sequences_X_Y(sequences, n_steps) : \n",
    "    '''\n",
    "    Découpage d'un dataframe correspondant aux variables X et Y, en échantillons de taille n_steps\n",
    "    '''\n",
    "    X, y = list(), list()\n",
    "    n_iteration = int(len(sequences)/n_steps)\n",
    "    if len(sequences)%n_steps != 0 : \n",
    "        print(\"Attention, modulo différent de zero\")\n",
    "    for i in range(n_iteration): \n",
    "        seq_x, seq_y = sequences [i*n_steps :(i+1)*n_steps, :-1 ], sequences[i*n_steps ,-1]\n",
    "        X.append(seq_x)\n",
    "        y.append(seq_y)\n",
    "    return array(X), array(y)    "
   ]
  },
  {
   "cell_type": "code",
   "execution_count": 20,
   "id": "sacred-handling",
   "metadata": {},
   "outputs": [],
   "source": [
    "X_complement, y = split_sequences_X_Y(df_complement.values, 100)"
   ]
  },
  {
   "cell_type": "code",
   "execution_count": 21,
   "id": "powered-destruction",
   "metadata": {},
   "outputs": [],
   "source": [
    "def split_sequences_X(sequences, n_steps) : \n",
    "    '''\n",
    "    Découpage d'un dataframe correspondant aux variables X en échantillon de taille n_steps\n",
    "    '''\n",
    "    X= list()\n",
    "    n_iteration = int(len(sequences)/n_steps)\n",
    "    if len(sequences)%n_steps != 0 : \n",
    "        print(\"Attention, modulo différent de zero\")\n",
    "    for i in range(n_iteration): \n",
    "        seq_x = sequences [i*n_steps :(i+1)*n_steps,:-1]\n",
    "        X.append(seq_x)\n",
    "    return array(X)"
   ]
  },
  {
   "cell_type": "code",
   "execution_count": 22,
   "id": "large-water",
   "metadata": {},
   "outputs": [],
   "source": [
    "X_trend, X_season, X_resid =  split_sequences_X(df_trend.values, 100), split_sequences_X(df_season.values, 100), split_sequences_X(df_resid.values, 100)"
   ]
  },
  {
   "cell_type": "code",
   "execution_count": 23,
   "id": "genuine-chair",
   "metadata": {},
   "outputs": [
    {
     "data": {
      "text/plain": [
       "(6612, 100, 4)"
      ]
     },
     "execution_count": 23,
     "metadata": {},
     "output_type": "execute_result"
    }
   ],
   "source": [
    "X_trend.shape"
   ]
  },
  {
   "cell_type": "code",
   "execution_count": 24,
   "id": "opposed-intensity",
   "metadata": {},
   "outputs": [],
   "source": [
    "from sklearn.model_selection import train_test_split"
   ]
  },
  {
   "cell_type": "code",
   "execution_count": 141,
   "id": "local-graphics",
   "metadata": {},
   "outputs": [],
   "source": [
    "X_complement_train, X_complement_test, X_trend_train , X_trend_test, X_season_train, X_season_test, X_resid_train, X_resid_test, Y_train, Y_test = train_test_split(X_complement,X_trend,X_season,X_resid, y, test_size = 0.2, random_state = 42)"
   ]
  },
  {
   "cell_type": "code",
   "execution_count": 142,
   "id": "considered-diploma",
   "metadata": {},
   "outputs": [
    {
     "data": {
      "text/plain": [
       "(-3.743205, 3.313791)"
      ]
     },
     "execution_count": 142,
     "metadata": {},
     "output_type": "execute_result"
    }
   ],
   "source": [
    "(Y_train.min(),Y_train.max() )"
   ]
  },
  {
   "cell_type": "code",
   "execution_count": 143,
   "id": "ongoing-question",
   "metadata": {},
   "outputs": [
    {
     "data": {
      "text/plain": [
       "(-1.080096, 0.781562)"
      ]
     },
     "execution_count": 143,
     "metadata": {},
     "output_type": "execute_result"
    }
   ],
   "source": [
    "(Y_test.min(), Y_test.max() )"
   ]
  },
  {
   "cell_type": "code",
   "execution_count": 144,
   "id": "ready-antenna",
   "metadata": {},
   "outputs": [
    {
     "data": {
      "text/plain": [
       "array([-0.02790776, -0.03308498, -0.02025453, ..., -0.05779171,\n",
       "       -0.02211792, -0.00459374])"
      ]
     },
     "execution_count": 144,
     "metadata": {},
     "output_type": "execute_result"
    }
   ],
   "source": [
    "Y_test"
   ]
  },
  {
   "cell_type": "markdown",
   "id": "discrete-mississippi",
   "metadata": {},
   "source": [
    "## Le modèle "
   ]
  },
  {
   "cell_type": "code",
   "execution_count": 146,
   "id": "healthy-london",
   "metadata": {},
   "outputs": [],
   "source": [
    "# Importation des packages de deep learning \n",
    "from tensorflow import keras\n",
    "from tensorflow.keras import layers\n",
    "from keras.models import Sequential \n",
    "from keras.layers.core import (Dense,Dropout, Flatten)\n",
    "from keras.layers.convolutional import Conv1D,Conv2D, MaxPooling1D, SeparableConv2D\n",
    "from keras.layers import  concatenate\n",
    "from keras.layers import LeakyReLU\n",
    "from keras.layers import PReLU\n",
    "from keras.initializers import Constant\n",
    "\n",
    "from tensorflow.keras import optimizers\n",
    "from tensorflow.keras import models\n",
    "from tensorflow.keras import Input\n",
    "from keras.models import Model\n",
    "from tensorflow.keras.callbacks import EarlyStopping"
   ]
  },
  {
   "cell_type": "code",
   "execution_count": 147,
   "id": "unique-marketing",
   "metadata": {},
   "outputs": [],
   "source": [
    "# Branche 1 : Variables caractéristiques \n",
    "visible1 = Input(shape=(100, 23))\n",
    "cnn1 = Conv1D(filters=32, kernel_size=2, activation = 'relu')(visible1)\n",
    "cnn1 = Conv1D(filters=64, kernel_size=2, activation = 'relu')(cnn1)\n",
    "cnn1 = MaxPooling1D(pool_size=2)(cnn1)\n",
    "cnn1 = Conv1D(filters=128, kernel_size=2, activation = 'relu')(cnn1)\n",
    "cnn1 = MaxPooling1D(pool_size=2)(cnn1)\n",
    "cnn1 = Dropout(0.25)(cnn1)\n",
    "cnn1 = Flatten()(cnn1)"
   ]
  },
  {
   "cell_type": "code",
   "execution_count": 148,
   "id": "suburban-decade",
   "metadata": {},
   "outputs": [],
   "source": [
    "# Branche 2 : Tendance Variables environnementales \n",
    "visible2 = Input(shape=(100, 4)) \n",
    "cnn2 = Conv1D(filters=32, kernel_size=2, activation = 'relu')(visible2)\n",
    "cnn2 = Conv1D(filters=64, kernel_size=2, activation = 'relu')(cnn2)\n",
    "cnn2 = MaxPooling1D(pool_size=2)(cnn2)\n",
    "cnn2 = Dropout(0.25)(cnn2)\n",
    "cnn2 = Flatten()(cnn2)"
   ]
  },
  {
   "cell_type": "code",
   "execution_count": 149,
   "id": "swedish-booth",
   "metadata": {},
   "outputs": [],
   "source": [
    "# Branche 3 : Saisonnalité Variables environnementales \n",
    "visible3 = Input(shape=(100, 4))\n",
    "cnn3 = Conv1D(filters=32, kernel_size=2, activation = 'relu')(visible3)\n",
    "cnn3 = Conv1D(filters=64, kernel_size=2, activation = 'relu')(cnn3)\n",
    "cnn3 = MaxPooling1D(pool_size=2)(cnn3)\n",
    "cnn3 = Dropout(0.25)(cnn3)\n",
    "cnn3 = Conv1D(filters=128, kernel_size=2, activation = 'relu')(cnn3)\n",
    "cnn3 = MaxPooling1D(pool_size=2)(cnn3)\n",
    "cnn3 = Dropout(0.25)(cnn3)\n",
    "cnn3 = Flatten()(cnn3)"
   ]
  },
  {
   "cell_type": "code",
   "execution_count": 150,
   "id": "everyday-variation",
   "metadata": {},
   "outputs": [],
   "source": [
    "# Branche 4 : Bruit Variables environnementales \n",
    "visible4 = Input(shape=(100, 4))\n",
    "cnn4 = Conv1D(filters=32, kernel_size=2, activation = 'relu')(visible4)\n",
    "cnn4 = Conv1D(filters=64, kernel_size=2, activation = 'relu')(cnn4)\n",
    "cnn4 = MaxPooling1D(pool_size=2)(cnn4)\n",
    "cnn4 = Dropout(0.25)(cnn4)\n",
    "cnn4 = Flatten()(cnn4)"
   ]
  },
  {
   "cell_type": "code",
   "execution_count": 151,
   "id": "diverse-brick",
   "metadata": {},
   "outputs": [],
   "source": [
    "# merge input models\n",
    "merge = concatenate([cnn1, cnn2, cnn3, cnn4])\n",
    "dense = Dense(400)(merge)\n",
    "\n",
    "output = Dense(1, activation=\"linear\")(dense)"
   ]
  },
  {
   "cell_type": "code",
   "execution_count": 152,
   "id": "rapid-digit",
   "metadata": {},
   "outputs": [],
   "source": [
    "model = Model(inputs=[visible1, visible2,visible3,visible4 ], outputs=output)"
   ]
  },
  {
   "cell_type": "code",
   "execution_count": 153,
   "id": "accepted-fetish",
   "metadata": {},
   "outputs": [],
   "source": [
    "model.compile(optimizer='adam', loss='mse', metrics=[ 'mae'])"
   ]
  },
  {
   "cell_type": "code",
   "execution_count": 154,
   "id": "christian-broad",
   "metadata": {},
   "outputs": [],
   "source": [
    "# La condition suivante permet d'arrêter l'entrainement si le modéle n'apprend pas pendant 5 périodes : \n",
    "earlystop = EarlyStopping(patience=5) \n",
    "callbacks = [earlystop]"
   ]
  },
  {
   "cell_type": "code",
   "execution_count": 155,
   "id": "compact-causing",
   "metadata": {},
   "outputs": [],
   "source": [
    "X_trend_train=np.asarray(X_trend_train).astype(np.float32)\n",
    "X_season_train =np.asarray(X_season_train).astype(np.float32)\n",
    "X_resid_train =np.asarray(X_resid_train).astype(np.float32)\n",
    "X_trend_test=np.asarray(X_trend_test).astype(np.float32)\n",
    "X_season_test =np.asarray(X_season_test).astype(np.float32)\n",
    "X_resid_test=np.asarray(X_resid_test).astype(np.float32)"
   ]
  },
  {
   "cell_type": "code",
   "execution_count": 156,
   "id": "eleven-catering",
   "metadata": {},
   "outputs": [
    {
     "name": "stdout",
     "output_type": "stream",
     "text": [
      "Epoch 1/40\n",
      "133/133 [==============================] - 9s 66ms/step - loss: 23.3580 - mae: 1.9240 - val_loss: 0.1374 - val_mae: 0.2553\n",
      "Epoch 2/40\n",
      "133/133 [==============================] - 8s 63ms/step - loss: 0.1578 - mae: 0.2608 - val_loss: 0.0691 - val_mae: 0.1659\n",
      "Epoch 3/40\n",
      "133/133 [==============================] - 8s 63ms/step - loss: 0.0853 - mae: 0.2032 - val_loss: 0.0493 - val_mae: 0.1231\n",
      "Epoch 4/40\n",
      "133/133 [==============================] - 8s 63ms/step - loss: 0.0582 - mae: 0.1753 - val_loss: 0.0524 - val_mae: 0.1378\n",
      "Epoch 5/40\n",
      "133/133 [==============================] - 8s 64ms/step - loss: 0.0427 - mae: 0.1501 - val_loss: 0.0405 - val_mae: 0.1044\n",
      "Epoch 6/40\n",
      "133/133 [==============================] - 8s 63ms/step - loss: 0.0389 - mae: 0.1394 - val_loss: 0.0385 - val_mae: 0.0924\n",
      "Epoch 7/40\n",
      "133/133 [==============================] - 8s 63ms/step - loss: 0.0355 - mae: 0.1312 - val_loss: 0.0351 - val_mae: 0.0855\n",
      "Epoch 8/40\n",
      "133/133 [==============================] - 8s 63ms/step - loss: 0.0260 - mae: 0.1137 - val_loss: 0.0450 - val_mae: 0.1187\n",
      "Epoch 9/40\n",
      "133/133 [==============================] - 8s 64ms/step - loss: 0.0345 - mae: 0.1300 - val_loss: 0.0431 - val_mae: 0.1117\n",
      "Epoch 10/40\n",
      "133/133 [==============================] - 8s 63ms/step - loss: 0.0291 - mae: 0.1197 - val_loss: 0.0363 - val_mae: 0.0879\n",
      "Epoch 11/40\n",
      "133/133 [==============================] - 8s 64ms/step - loss: 0.0241 - mae: 0.1072 - val_loss: 0.0364 - val_mae: 0.0877\n",
      "Epoch 12/40\n",
      "133/133 [==============================] - 8s 64ms/step - loss: 0.0189 - mae: 0.0974 - val_loss: 0.0335 - val_mae: 0.0803\n",
      "Epoch 13/40\n",
      "133/133 [==============================] - 8s 63ms/step - loss: 0.0151 - mae: 0.0853 - val_loss: 0.0378 - val_mae: 0.0947\n",
      "Epoch 14/40\n",
      "133/133 [==============================] - 8s 63ms/step - loss: 0.0196 - mae: 0.0950 - val_loss: 0.0325 - val_mae: 0.0682\n",
      "Epoch 15/40\n",
      "133/133 [==============================] - 8s 63ms/step - loss: 0.0187 - mae: 0.0928 - val_loss: 0.0344 - val_mae: 0.0776\n",
      "Epoch 16/40\n",
      "133/133 [==============================] - 8s 63ms/step - loss: 0.0146 - mae: 0.0852 - val_loss: 0.0332 - val_mae: 0.0737\n",
      "Epoch 17/40\n",
      "133/133 [==============================] - 8s 64ms/step - loss: 0.0152 - mae: 0.0831 - val_loss: 0.0326 - val_mae: 0.0714\n",
      "Epoch 18/40\n",
      "133/133 [==============================] - 8s 63ms/step - loss: 0.0140 - mae: 0.0826 - val_loss: 0.0330 - val_mae: 0.0749\n",
      "Epoch 19/40\n",
      "133/133 [==============================] - 9s 64ms/step - loss: 0.0185 - mae: 0.0958 - val_loss: 0.0328 - val_mae: 0.0686\n"
     ]
    }
   ],
   "source": [
    "history= model.fit([X_complement_train, X_trend_train, X_season_train, X_resid_train], Y_train, epochs=40, validation_split = 0.2, callbacks =callbacks)"
   ]
  },
  {
   "cell_type": "code",
   "execution_count": 157,
   "id": "rental-population",
   "metadata": {},
   "outputs": [
    {
     "name": "stdout",
     "output_type": "stream",
     "text": [
      "42/42 [==============================] - 0s 9ms/step - loss: 0.0100 - mae: 0.0656\n"
     ]
    }
   ],
   "source": [
    "test_loss = model.evaluate([X_complement_test, X_trend_test, X_season_test, X_resid_test], Y_test)"
   ]
  },
  {
   "cell_type": "code",
   "execution_count": 41,
   "id": "future-crisis",
   "metadata": {},
   "outputs": [
    {
     "name": "stdout",
     "output_type": "stream",
     "text": [
      "42/42 [==============================] - 0s 8ms/step - loss: 0.0077 - mae: 0.0638\n"
     ]
    }
   ],
   "source": [
    "test_loss = model.evaluate([X_complement_test, X_trend_test, X_season_test, X_resid_test], Y_test)"
   ]
  },
  {
   "cell_type": "code",
   "execution_count": 42,
   "id": "confirmed-explorer",
   "metadata": {},
   "outputs": [
    {
     "name": "stdout",
     "output_type": "stream",
     "text": [
      "42/42 [==============================] - 0s 8ms/step - loss: 0.0077 - mae: 0.0638\n"
     ]
    }
   ],
   "source": [
    "test_loss = model.evaluate([X_complement_test, X_trend_test, X_season_test, X_resid_test], Y_test)"
   ]
  },
  {
   "cell_type": "code",
   "execution_count": 43,
   "id": "rising-chinese",
   "metadata": {},
   "outputs": [
    {
     "data": {
      "text/plain": [
       "array([-0.03335741, -0.03370077, -0.03844139, ..., -0.00795508,\n",
       "       -0.04581955, -0.02107106])"
      ]
     },
     "execution_count": 43,
     "metadata": {},
     "output_type": "execute_result"
    }
   ],
   "source": [
    "Y_test"
   ]
  },
  {
   "cell_type": "code",
   "execution_count": 121,
   "id": "corresponding-ceramic",
   "metadata": {},
   "outputs": [
    {
     "data": {
      "image/png": "[encoded data removed]",
      "text/plain": [
       "<Figure size 432x288 with 1 Axes>"
      ]
     },
     "metadata": {
      "needs_background": "light"
     },
     "output_type": "display_data"
    }
   ],
   "source": [
    "plt.plot(history.history['loss'], color='b', label=\"Training loss\")\n",
    "plt.plot(history.history['val_loss'], color='r', label=\"validation loss\")\n",
    "plt.title('Training and validation loss')\n",
    "legend = plt.legend()\n",
    "\n",
    "plt.ylim(0,0.3)\n",
    "plt.show()"
   ]
  },
  {
   "cell_type": "code",
   "execution_count": 122,
   "id": "widespread-responsibility",
   "metadata": {},
   "outputs": [],
   "source": [
    "preds = model.predict([X_complement_test, X_trend_test, X_season_test, X_resid_test])"
   ]
  },
  {
   "cell_type": "code",
   "execution_count": 123,
   "id": "floral-special",
   "metadata": {},
   "outputs": [
    {
     "data": {
      "text/plain": [
       "array([[-0.15662871],\n",
       "       [-0.04052958],\n",
       "       [ 0.02082177],\n",
       "       ...,\n",
       "       [-0.04578574],\n",
       "       [ 0.01571316],\n",
       "       [-0.01262181]], dtype=float32)"
      ]
     },
     "execution_count": 123,
     "metadata": {},
     "output_type": "execute_result"
    }
   ],
   "source": [
    "preds"
   ]
  },
  {
   "cell_type": "code",
   "execution_count": 124,
   "id": "promising-corporation",
   "metadata": {},
   "outputs": [
    {
     "data": {
      "image/png": "[encoded data removed]",
      "text/plain": [
       "<Figure size 720x360 with 1 Axes>"
      ]
     },
     "metadata": {
      "needs_background": "light"
     },
     "output_type": "display_data"
    }
   ],
   "source": [
    "from matplotlib import pyplot\n",
    "pyplot.figure(figsize=(10,5))\n",
    "pyplot.plot(Y_test)\n",
    "pyplot.plot(preds, 'r')\n",
    "pyplot.ylim(-1,1)\n",
    "pyplot.show()"
   ]
  },
  {
   "cell_type": "code",
   "execution_count": 125,
   "id": "heated-animal",
   "metadata": {},
   "outputs": [
    {
     "name": "stderr",
     "output_type": "stream",
     "text": [
      "C:\\Users\\louis\\anaconda3\\envs\\tensorflow\\lib\\site-packages\\seaborn\\distributions.py:2557: FutureWarning: `distplot` is a deprecated function and will be removed in a future version. Please adapt your code to use either `displot` (a figure-level function with similar flexibility) or `kdeplot` (an axes-level function for kernel density plots).\n",
      "  warnings.warn(msg, FutureWarning)\n",
      "C:\\Users\\louis\\anaconda3\\envs\\tensorflow\\lib\\site-packages\\seaborn\\distributions.py:2557: FutureWarning: `distplot` is a deprecated function and will be removed in a future version. Please adapt your code to use either `displot` (a figure-level function with similar flexibility) or `kdeplot` (an axes-level function for kernel density plots).\n",
      "  warnings.warn(msg, FutureWarning)\n"
     ]
    },
    {
     "data": {
      "image/png": "[encoded data removed]",
      "text/plain": [
       "<Figure size 1080x576 with 1 Axes>"
      ]
     },
     "metadata": {
      "needs_background": "light"
     },
     "output_type": "display_data"
    }
   ],
   "source": [
    "plt.figure(figsize=(15,8))\n",
    "ax = sns.distplot(preds, hist = False, kde = True,\n",
    "                 kde_kws = {'shade': True, 'linewidth': 1}, color=\"darkturquoise\")\n",
    "sns.distplot(Y_test, hist = False, kde = True,\n",
    "                 kde_kws = {'shade': True, 'linewidth': 1}, color=\"lightcoral\")\n",
    "plt.xlim(-2,2)\n",
    "plt.show()"
   ]
  },
  {
   "cell_type": "code",
   "execution_count": 57,
   "id": "united-satisfaction",
   "metadata": {},
   "outputs": [
    {
     "name": "stdout",
     "output_type": "stream",
     "text": [
      "Model: \"functional_1\"\n",
      "__________________________________________________________________________________________________\n",
      "Layer (type)                    Output Shape         Param #     Connected to                     \n",
      "==================================================================================================\n",
      "input_3 (InputLayer)            [(None, 100, 4)]     0                                            \n",
      "__________________________________________________________________________________________________\n",
      "input_1 (InputLayer)            [(None, 100, 23)]    0                                            \n",
      "__________________________________________________________________________________________________\n",
      "conv1d_5 (Conv1D)               (None, 99, 32)       288         input_3[0][0]                    \n",
      "__________________________________________________________________________________________________\n",
      "conv1d (Conv1D)                 (None, 99, 32)       1504        input_1[0][0]                    \n",
      "__________________________________________________________________________________________________\n",
      "conv1d_6 (Conv1D)               (None, 98, 64)       4160        conv1d_5[0][0]                   \n",
      "__________________________________________________________________________________________________\n",
      "conv1d_1 (Conv1D)               (None, 98, 64)       4160        conv1d[0][0]                     \n",
      "__________________________________________________________________________________________________\n",
      "input_2 (InputLayer)            [(None, 100, 4)]     0                                            \n",
      "__________________________________________________________________________________________________\n",
      "max_pooling1d_3 (MaxPooling1D)  (None, 49, 64)       0           conv1d_6[0][0]                   \n",
      "__________________________________________________________________________________________________\n",
      "input_4 (InputLayer)            [(None, 100, 4)]     0                                            \n",
      "__________________________________________________________________________________________________\n",
      "max_pooling1d (MaxPooling1D)    (None, 49, 64)       0           conv1d_1[0][0]                   \n",
      "__________________________________________________________________________________________________\n",
      "conv1d_3 (Conv1D)               (None, 99, 32)       288         input_2[0][0]                    \n",
      "__________________________________________________________________________________________________\n",
      "dropout_2 (Dropout)             (None, 49, 64)       0           max_pooling1d_3[0][0]            \n",
      "__________________________________________________________________________________________________\n",
      "conv1d_8 (Conv1D)               (None, 99, 32)       288         input_4[0][0]                    \n",
      "__________________________________________________________________________________________________\n",
      "conv1d_2 (Conv1D)               (None, 48, 128)      16512       max_pooling1d[0][0]              \n",
      "__________________________________________________________________________________________________\n",
      "conv1d_4 (Conv1D)               (None, 98, 64)       4160        conv1d_3[0][0]                   \n",
      "__________________________________________________________________________________________________\n",
      "conv1d_7 (Conv1D)               (None, 48, 128)      16512       dropout_2[0][0]                  \n",
      "__________________________________________________________________________________________________\n",
      "conv1d_9 (Conv1D)               (None, 98, 64)       4160        conv1d_8[0][0]                   \n",
      "__________________________________________________________________________________________________\n",
      "max_pooling1d_1 (MaxPooling1D)  (None, 24, 128)      0           conv1d_2[0][0]                   \n",
      "__________________________________________________________________________________________________\n",
      "max_pooling1d_2 (MaxPooling1D)  (None, 49, 64)       0           conv1d_4[0][0]                   \n",
      "__________________________________________________________________________________________________\n",
      "max_pooling1d_4 (MaxPooling1D)  (None, 24, 128)      0           conv1d_7[0][0]                   \n",
      "__________________________________________________________________________________________________\n",
      "max_pooling1d_5 (MaxPooling1D)  (None, 49, 64)       0           conv1d_9[0][0]                   \n",
      "__________________________________________________________________________________________________\n",
      "dropout (Dropout)               (None, 24, 128)      0           max_pooling1d_1[0][0]            \n",
      "__________________________________________________________________________________________________\n",
      "dropout_1 (Dropout)             (None, 49, 64)       0           max_pooling1d_2[0][0]            \n",
      "__________________________________________________________________________________________________\n",
      "dropout_3 (Dropout)             (None, 24, 128)      0           max_pooling1d_4[0][0]            \n",
      "__________________________________________________________________________________________________\n",
      "dropout_4 (Dropout)             (None, 49, 64)       0           max_pooling1d_5[0][0]            \n",
      "__________________________________________________________________________________________________\n",
      "flatten (Flatten)               (None, 3072)         0           dropout[0][0]                    \n",
      "__________________________________________________________________________________________________\n",
      "flatten_1 (Flatten)             (None, 3136)         0           dropout_1[0][0]                  \n",
      "__________________________________________________________________________________________________\n",
      "flatten_2 (Flatten)             (None, 3072)         0           dropout_3[0][0]                  \n",
      "__________________________________________________________________________________________________\n",
      "flatten_3 (Flatten)             (None, 3136)         0           dropout_4[0][0]                  \n",
      "__________________________________________________________________________________________________\n",
      "concatenate (Concatenate)       (None, 12416)        0           flatten[0][0]                    \n",
      "                                                                 flatten_1[0][0]                  \n",
      "                                                                 flatten_2[0][0]                  \n",
      "                                                                 flatten_3[0][0]                  \n",
      "__________________________________________________________________________________________________\n",
      "dense (Dense)                   (None, 900)          11175300    concatenate[0][0]                \n",
      "__________________________________________________________________________________________________\n",
      "dense_1 (Dense)                 (None, 1)            901         dense[0][0]                      \n",
      "==================================================================================================\n",
      "Total params: 11,228,233\n",
      "Trainable params: 11,228,233\n",
      "Non-trainable params: 0\n",
      "__________________________________________________________________________________________________\n"
     ]
    }
   ],
   "source": [
    "model.summary()\n"
   ]
  },
  {
   "cell_type": "markdown",
   "id": "marked-mediterranean",
   "metadata": {},
   "source": [
    "## Choix des hyperparametres du modele : "
   ]
  },
  {
   "cell_type": "code",
   "execution_count": 59,
   "id": "opposed-custody",
   "metadata": {},
   "outputs": [],
   "source": [
    "# Importation des packages\n",
    "from hyperopt import hp # pour une première utilisation : pip install hyperopt\n",
    "import kerastuner as kt # pour une première utilisation :  pip install keras-tuner\n",
    "hp = kt.HyperParameters()\n",
    "\n",
    "from kerastuner import HyperModel\n",
    "from kerastuner.tuners import RandomSearch\n",
    "from kerastuner.tuners import Hyperband\n",
    "from keras.models import load_model\n",
    "from tensorflow.keras import metrics"
   ]
  },
  {
   "cell_type": "code",
   "execution_count": 60,
   "id": "blond-locator",
   "metadata": {},
   "outputs": [],
   "source": [
    "keras.backend.clear_session()"
   ]
  },
  {
   "cell_type": "code",
   "execution_count": 126,
   "id": "fallen-latino",
   "metadata": {},
   "outputs": [],
   "source": [
    "# Création de la classe CNNHyperModel permettant de modifier les parametres souhaités\n",
    "\n",
    "class HyperModel_CNN_multi_head (HyperModel):\n",
    "    def __init__(self):\n",
    "        self.input_shape_vars = (100, 23)\n",
    "        self.input_shape_env = (100,4)\n",
    "\n",
    "    def build(self, hp):\n",
    "\n",
    "        visible1 = Input(shape=self.input_shape_vars)\n",
    "        cnn1 = Conv1D(filters=hp.Choice(\"B1_num_filters_1\", values=[16,32], default=32,), kernel_size=2, activation = 'relu')(visible1)\n",
    "        cnn1 = Conv1D(filters=hp.Choice(\"B1_num_filters_2\", values=[32,64], default=64,), kernel_size=2, activation = 'relu')(cnn1)\n",
    "        cnn1 = MaxPooling1D(pool_size=2)(cnn1)\n",
    "        cnn1 = Conv1D(filters=128, kernel_size=2, activation = 'relu')(cnn1)\n",
    "        cnn1 = MaxPooling1D(pool_size=2)(cnn1)\n",
    "        cnn1 = Dropout(rate=hp.Float(\"B1_dropout_1\", min_value=0.0, max_value=0.5, default=0.25, step=0.05 ))(cnn1)\n",
    "        cnn1 = Flatten()(cnn1)\n",
    "        \n",
    "        \n",
    "        visible2 = Input(shape=self.input_shape_env ) \n",
    "        cnn2 = Conv1D(filters=hp.Choice(\"B2_num_filters_1\", values=[16,32], default=32,), kernel_size=2, activation = 'relu')(visible2)\n",
    "        cnn2 = Conv1D(filters=hp.Choice(\"B2_num_filters_2\", values=[32,64], default=64,), kernel_size=2, activation = 'relu')(cnn2)\n",
    "        cnn2 = MaxPooling1D(pool_size=2)(cnn2)\n",
    "        cnn2 = Dropout(rate=hp.Float(\"B2_dropout_1\", min_value=0.0, max_value=0.5, default=0.25, step=0.05,))(cnn2)\n",
    "        cnn2 = Flatten()(cnn2)\n",
    "        \n",
    "        \n",
    "        visible3 = Input(shape=self.input_shape_env )\n",
    "        cnn3 = Conv1D(filters=hp.Choice(\"B3_num_filters_1\", values=[16,32], default=32,), kernel_size=2, activation = 'relu')(visible3)\n",
    "        cnn3 = Conv1D(filters=hp.Choice(\"B3_num_filters_2\", values=[32,64], default=64,), kernel_size=2, activation = 'relu')(cnn3)\n",
    "        cnn3 = MaxPooling1D(pool_size=2)(cnn3)\n",
    "        cnn3 = Dropout(0.25)(cnn3)\n",
    "        cnn3 = Conv1D(filters=hp.Choice(\"B3_num_filters_3\", values=[64,128], default=128,), kernel_size=2, activation = 'relu')(cnn3)\n",
    "        cnn3 = MaxPooling1D(pool_size=2)(cnn3)\n",
    "        cnn3 = Dropout(rate=hp.Float(\"B3_dropout_1\", min_value=0.0, max_value=0.5, default=0.25, step=0.05,))(cnn3)\n",
    "        cnn3 = Flatten()(cnn3)\n",
    "        \n",
    "        \n",
    "        visible4 = Input(shape=self.input_shape_env )\n",
    "        cnn4 = Conv1D(filters=hp.Choice(\"B4_num_filters_1\", values=[16,32], default=32,), kernel_size=2, activation = 'relu')(visible4)\n",
    "        cnn4 = Conv1D(filters=hp.Choice(\"B4_num_filters_2\", values=[32,64], default=64,), kernel_size=2, activation = 'relu')(cnn4)\n",
    "        cnn4 = MaxPooling1D(pool_size=2)(cnn4)\n",
    "        cnn4 = Dropout(rate=hp.Float(\"B4_dropout_1\", min_value=0.0, max_value=0.5, default=0.25, step=0.05,))(cnn4)\n",
    "        cnn4 = Flatten()(cnn4)\n",
    "                         \n",
    "                         \n",
    "        merge = concatenate([cnn1, cnn2, cnn3, cnn4])\n",
    "        dense = Dense(units=hp.Int(\"M_units_1\", min_value=300, max_value=1000, step=32, default=128))(merge)\n",
    "        dense = Dropout(rate=hp.Float(\"M_dropout_1\", min_value=0.0, max_value=0.5, default=0.25, step=0.05,))(dense)\n",
    "        dense = Dense(units=hp.Int(\"M_units_2\", min_value=50, max_value=500, step=32, default=128))(merge)\n",
    "        dense = Dense(50)(merge)\n",
    "        output = Dense(1, activation=\"linear\")(dense)\n",
    "                         \n",
    "                         \n",
    "        model = Model(inputs=[visible1, visible2,visible3,visible4 ], outputs=output)\n",
    "                         \n",
    "        model.compile(optimizer=keras.optimizers.Adam(hp.Float(\"learning_rate\",min_value=1e-4,max_value=1e-2,sampling=\"LOG\",default=1e-3,)), loss='mse')\n",
    "\n",
    "        return model\n",
    "    \n",
    "    \n",
    "hypermodel = HyperModel_CNN_multi_head()"
   ]
  },
  {
   "cell_type": "code",
   "execution_count": 127,
   "id": "ongoing-certification",
   "metadata": {},
   "outputs": [],
   "source": [
    "tuner= Hyperband(hypermodel, max_epochs= 40, objective = 'loss' , executions_per_trial=2, directory='hyperband', project_name='Usure_avions',overwrite = True)"
   ]
  },
  {
   "cell_type": "code",
   "execution_count": 69,
   "id": "fatal-laser",
   "metadata": {},
   "outputs": [
    {
     "name": "stdout",
     "output_type": "stream",
     "text": [
      "Search space summary\n",
      "Default search space size: 17\n",
      "B1_num_filters_1 (Choice)\n",
      "{'default': 32, 'conditions': [], 'values': [16, 32], 'ordered': True}\n",
      "B1_num_filters_2 (Choice)\n",
      "{'default': 64, 'conditions': [], 'values': [32, 64], 'ordered': True}\n",
      "B1_dropout_1 (Float)\n",
      "{'default': 0.25, 'conditions': [], 'min_value': 0.0, 'max_value': 0.5, 'step': 0.05, 'sampling': None}\n",
      "B2_num_filters_1 (Choice)\n",
      "{'default': 32, 'conditions': [], 'values': [16, 32], 'ordered': True}\n",
      "B2_num_filters_2 (Choice)\n",
      "{'default': 64, 'conditions': [], 'values': [32, 64], 'ordered': True}\n",
      "B2_dropout_1 (Float)\n",
      "{'default': 0.25, 'conditions': [], 'min_value': 0.0, 'max_value': 0.5, 'step': 0.05, 'sampling': None}\n",
      "B3_num_filters_1 (Choice)\n",
      "{'default': 32, 'conditions': [], 'values': [16, 32], 'ordered': True}\n",
      "B3_num_filters_2 (Choice)\n",
      "{'default': 64, 'conditions': [], 'values': [32, 64], 'ordered': True}\n",
      "B3_num_filters_3 (Choice)\n",
      "{'default': 128, 'conditions': [], 'values': [64, 128], 'ordered': True}\n",
      "B3_dropout_1 (Float)\n",
      "{'default': 0.25, 'conditions': [], 'min_value': 0.0, 'max_value': 0.5, 'step': 0.05, 'sampling': None}\n",
      "B4_num_filters_1 (Choice)\n",
      "{'default': 32, 'conditions': [], 'values': [16, 32], 'ordered': True}\n",
      "B4_num_filters_2 (Choice)\n",
      "{'default': 64, 'conditions': [], 'values': [32, 64], 'ordered': True}\n",
      "B4_dropout_1 (Float)\n",
      "{'default': 0.25, 'conditions': [], 'min_value': 0.0, 'max_value': 0.5, 'step': 0.05, 'sampling': None}\n",
      "M_units_1 (Int)\n",
      "{'default': 128, 'conditions': [], 'min_value': 300, 'max_value': 1000, 'step': 32, 'sampling': None}\n",
      "M_dropout_1 (Float)\n",
      "{'default': 0.25, 'conditions': [], 'min_value': 0.0, 'max_value': 0.5, 'step': 0.05, 'sampling': None}\n",
      "M_units_2 (Int)\n",
      "{'default': 128, 'conditions': [], 'min_value': 50, 'max_value': 500, 'step': 32, 'sampling': None}\n",
      "learning_rate (Float)\n",
      "{'default': 0.001, 'conditions': [], 'min_value': 0.0001, 'max_value': 0.01, 'step': None, 'sampling': 'log'}\n"
     ]
    }
   ],
   "source": [
    "# Récapitulatif des parametres à tester :\n",
    "tuner.search_space_summary()"
   ]
  },
  {
   "cell_type": "code",
   "execution_count": 128,
   "id": "joined-maria",
   "metadata": {},
   "outputs": [
    {
     "name": "stdout",
     "output_type": "stream",
     "text": [
      "Trial 90 Complete [00h 02m 50s]\n",
      "loss: 0.0018557709408923984\n",
      "\n",
      "Best loss So Far: 0.0018557709408923984\n",
      "Total elapsed time: 00h 58m 52s\n",
      "INFO:tensorflow:Oracle triggered exit\n"
     ]
    }
   ],
   "source": [
    "tuner.search([X_complement_train, X_trend_train, X_season_train, X_resid_train], Y_train, epochs = 20, validation_split=0.2)"
   ]
  },
  {
   "cell_type": "code",
   "execution_count": 129,
   "id": "commercial-leadership",
   "metadata": {},
   "outputs": [
    {
     "name": "stdout",
     "output_type": "stream",
     "text": [
      "\n",
      "Search: Running Trial #91\n",
      "\n",
      "Hyperparameter    |Value             |Best Value So Far \n",
      "B1_num_filters_1  |16                |32                \n",
      "B1_num_filters_2  |64                |32                \n",
      "B1_dropout_1      |0.05              |0.3               \n",
      "B2_num_filters_1  |16                |16                \n",
      "B2_num_filters_2  |32                |32                \n",
      "B2_dropout_1      |0.2               |0.1               \n",
      "B3_num_filters_1  |16                |32                \n",
      "B3_num_filters_2  |32                |64                \n",
      "B3_num_filters_3  |128               |128               \n",
      "B3_dropout_1      |0.1               |0.15              \n",
      "B4_num_filters_1  |32                |16                \n",
      "B4_num_filters_2  |32                |32                \n",
      "B4_dropout_1      |0.2               |0.05              \n",
      "M_units_1         |780               |556               \n",
      "M_dropout_1       |0                 |0.4               \n",
      "M_units_2         |178               |402               \n",
      "learning_rate     |0.00031379        |0.00061839        \n",
      "tuner/epochs      |5                 |40                \n",
      "tuner/initial_e...|0                 |0                 \n",
      "tuner/bracket     |2                 |0                 \n",
      "tuner/round       |0                 |0                 \n",
      "\n",
      "Epoch 1/5\n",
      "133/133 [==============================] - 2s 17ms/step - loss: 0.1719 - val_loss: 0.0170\n",
      "Epoch 2/5\n",
      "133/133 [==============================] - 2s 13ms/step - loss: 0.0277 - val_loss: 0.0153\n",
      "Epoch 3/5\n",
      "133/133 [==============================] - 2s 13ms/step - loss: 0.0225 - val_loss: 0.0089\n",
      "Epoch 4/5\n",
      "133/133 [==============================] - 2s 14ms/step - loss: 0.0194 - val_loss: 0.0117\n",
      "Epoch 5/5\n",
      " 84/133 [=================>............] - ETA: 0s - loss: 0.0174"
     ]
    },
    {
     "ename": "KeyboardInterrupt",
     "evalue": "",
     "output_type": "error",
     "traceback": [
      "\u001b[1;31m---------------------------------------------------------------------------\u001b[0m",
      "\u001b[1;31mKeyboardInterrupt\u001b[0m                         Traceback (most recent call last)",
      "\u001b[1;32m<ipython-input-129-276951f8d958>\u001b[0m in \u001b[0;36m<module>\u001b[1;34m\u001b[0m\n\u001b[1;32m----> 1\u001b[1;33m \u001b[0mtuner\u001b[0m\u001b[1;33m.\u001b[0m\u001b[0msearch\u001b[0m\u001b[1;33m(\u001b[0m\u001b[1;33m[\u001b[0m\u001b[0mX_complement_train\u001b[0m\u001b[1;33m,\u001b[0m \u001b[0mX_trend_train\u001b[0m\u001b[1;33m,\u001b[0m \u001b[0mX_season_train\u001b[0m\u001b[1;33m,\u001b[0m \u001b[0mX_resid_train\u001b[0m\u001b[1;33m]\u001b[0m\u001b[1;33m,\u001b[0m \u001b[0mY_train\u001b[0m\u001b[1;33m,\u001b[0m \u001b[0mepochs\u001b[0m \u001b[1;33m=\u001b[0m \u001b[1;36m20\u001b[0m\u001b[1;33m,\u001b[0m \u001b[0mvalidation_split\u001b[0m\u001b[1;33m=\u001b[0m\u001b[1;36m0.2\u001b[0m\u001b[1;33m)\u001b[0m\u001b[1;33m\u001b[0m\u001b[1;33m\u001b[0m\u001b[0m\n\u001b[0m",
      "\u001b[1;32m~\\anaconda3\\envs\\tensorflow\\lib\\site-packages\\kerastuner\\engine\\base_tuner.py\u001b[0m in \u001b[0;36msearch\u001b[1;34m(self, *fit_args, **fit_kwargs)\u001b[0m\n\u001b[0;32m    129\u001b[0m \u001b[1;33m\u001b[0m\u001b[0m\n\u001b[0;32m    130\u001b[0m             \u001b[0mself\u001b[0m\u001b[1;33m.\u001b[0m\u001b[0mon_trial_begin\u001b[0m\u001b[1;33m(\u001b[0m\u001b[0mtrial\u001b[0m\u001b[1;33m)\u001b[0m\u001b[1;33m\u001b[0m\u001b[1;33m\u001b[0m\u001b[0m\n\u001b[1;32m--> 131\u001b[1;33m             \u001b[0mself\u001b[0m\u001b[1;33m.\u001b[0m\u001b[0mrun_trial\u001b[0m\u001b[1;33m(\u001b[0m\u001b[0mtrial\u001b[0m\u001b[1;33m,\u001b[0m \u001b[1;33m*\u001b[0m\u001b[0mfit_args\u001b[0m\u001b[1;33m,\u001b[0m \u001b[1;33m**\u001b[0m\u001b[0mfit_kwargs\u001b[0m\u001b[1;33m)\u001b[0m\u001b[1;33m\u001b[0m\u001b[1;33m\u001b[0m\u001b[0m\n\u001b[0m\u001b[0;32m    132\u001b[0m             \u001b[0mself\u001b[0m\u001b[1;33m.\u001b[0m\u001b[0mon_trial_end\u001b[0m\u001b[1;33m(\u001b[0m\u001b[0mtrial\u001b[0m\u001b[1;33m)\u001b[0m\u001b[1;33m\u001b[0m\u001b[1;33m\u001b[0m\u001b[0m\n\u001b[0;32m    133\u001b[0m         \u001b[0mself\u001b[0m\u001b[1;33m.\u001b[0m\u001b[0mon_search_end\u001b[0m\u001b[1;33m(\u001b[0m\u001b[1;33m)\u001b[0m\u001b[1;33m\u001b[0m\u001b[1;33m\u001b[0m\u001b[0m\n",
      "\u001b[1;32m~\\anaconda3\\envs\\tensorflow\\lib\\site-packages\\kerastuner\\tuners\\hyperband.py\u001b[0m in \u001b[0;36mrun_trial\u001b[1;34m(self, trial, *fit_args, **fit_kwargs)\u001b[0m\n\u001b[0;32m    352\u001b[0m             \u001b[0mfit_kwargs\u001b[0m\u001b[1;33m[\u001b[0m\u001b[1;34m'epochs'\u001b[0m\u001b[1;33m]\u001b[0m \u001b[1;33m=\u001b[0m \u001b[0mhp\u001b[0m\u001b[1;33m.\u001b[0m\u001b[0mvalues\u001b[0m\u001b[1;33m[\u001b[0m\u001b[1;34m'tuner/epochs'\u001b[0m\u001b[1;33m]\u001b[0m\u001b[1;33m\u001b[0m\u001b[1;33m\u001b[0m\u001b[0m\n\u001b[0;32m    353\u001b[0m             \u001b[0mfit_kwargs\u001b[0m\u001b[1;33m[\u001b[0m\u001b[1;34m'initial_epoch'\u001b[0m\u001b[1;33m]\u001b[0m \u001b[1;33m=\u001b[0m \u001b[0mhp\u001b[0m\u001b[1;33m.\u001b[0m\u001b[0mvalues\u001b[0m\u001b[1;33m[\u001b[0m\u001b[1;34m'tuner/initial_epoch'\u001b[0m\u001b[1;33m]\u001b[0m\u001b[1;33m\u001b[0m\u001b[1;33m\u001b[0m\u001b[0m\n\u001b[1;32m--> 354\u001b[1;33m         \u001b[0msuper\u001b[0m\u001b[1;33m(\u001b[0m\u001b[0mHyperband\u001b[0m\u001b[1;33m,\u001b[0m \u001b[0mself\u001b[0m\u001b[1;33m)\u001b[0m\u001b[1;33m.\u001b[0m\u001b[0mrun_trial\u001b[0m\u001b[1;33m(\u001b[0m\u001b[0mtrial\u001b[0m\u001b[1;33m,\u001b[0m \u001b[1;33m*\u001b[0m\u001b[0mfit_args\u001b[0m\u001b[1;33m,\u001b[0m \u001b[1;33m**\u001b[0m\u001b[0mfit_kwargs\u001b[0m\u001b[1;33m)\u001b[0m\u001b[1;33m\u001b[0m\u001b[1;33m\u001b[0m\u001b[0m\n\u001b[0m\u001b[0;32m    355\u001b[0m \u001b[1;33m\u001b[0m\u001b[0m\n\u001b[0;32m    356\u001b[0m     \u001b[1;32mdef\u001b[0m \u001b[0m_build_model\u001b[0m\u001b[1;33m(\u001b[0m\u001b[0mself\u001b[0m\u001b[1;33m,\u001b[0m \u001b[0mhp\u001b[0m\u001b[1;33m)\u001b[0m\u001b[1;33m:\u001b[0m\u001b[1;33m\u001b[0m\u001b[1;33m\u001b[0m\u001b[0m\n",
      "\u001b[1;32m~\\anaconda3\\envs\\tensorflow\\lib\\site-packages\\kerastuner\\engine\\multi_execution_tuner.py\u001b[0m in \u001b[0;36mrun_trial\u001b[1;34m(self, trial, *fit_args, **fit_kwargs)\u001b[0m\n\u001b[0;32m     94\u001b[0m             \u001b[0mcopied_fit_kwargs\u001b[0m\u001b[1;33m[\u001b[0m\u001b[1;34m'callbacks'\u001b[0m\u001b[1;33m]\u001b[0m \u001b[1;33m=\u001b[0m \u001b[0mcallbacks\u001b[0m\u001b[1;33m\u001b[0m\u001b[1;33m\u001b[0m\u001b[0m\n\u001b[0;32m     95\u001b[0m \u001b[1;33m\u001b[0m\u001b[0m\n\u001b[1;32m---> 96\u001b[1;33m             \u001b[0mhistory\u001b[0m \u001b[1;33m=\u001b[0m \u001b[0mself\u001b[0m\u001b[1;33m.\u001b[0m\u001b[0m_build_and_fit_model\u001b[0m\u001b[1;33m(\u001b[0m\u001b[0mtrial\u001b[0m\u001b[1;33m,\u001b[0m \u001b[0mfit_args\u001b[0m\u001b[1;33m,\u001b[0m \u001b[0mcopied_fit_kwargs\u001b[0m\u001b[1;33m)\u001b[0m\u001b[1;33m\u001b[0m\u001b[1;33m\u001b[0m\u001b[0m\n\u001b[0m\u001b[0;32m     97\u001b[0m             \u001b[1;32mfor\u001b[0m \u001b[0mmetric\u001b[0m\u001b[1;33m,\u001b[0m \u001b[0mepoch_values\u001b[0m \u001b[1;32min\u001b[0m \u001b[0mhistory\u001b[0m\u001b[1;33m.\u001b[0m\u001b[0mhistory\u001b[0m\u001b[1;33m.\u001b[0m\u001b[0mitems\u001b[0m\u001b[1;33m(\u001b[0m\u001b[1;33m)\u001b[0m\u001b[1;33m:\u001b[0m\u001b[1;33m\u001b[0m\u001b[1;33m\u001b[0m\u001b[0m\n\u001b[0;32m     98\u001b[0m                 \u001b[1;32mif\u001b[0m \u001b[0mself\u001b[0m\u001b[1;33m.\u001b[0m\u001b[0moracle\u001b[0m\u001b[1;33m.\u001b[0m\u001b[0mobjective\u001b[0m\u001b[1;33m.\u001b[0m\u001b[0mdirection\u001b[0m \u001b[1;33m==\u001b[0m \u001b[1;34m'min'\u001b[0m\u001b[1;33m:\u001b[0m\u001b[1;33m\u001b[0m\u001b[1;33m\u001b[0m\u001b[0m\n",
      "\u001b[1;32m~\\anaconda3\\envs\\tensorflow\\lib\\site-packages\\kerastuner\\engine\\tuner.py\u001b[0m in \u001b[0;36m_build_and_fit_model\u001b[1;34m(self, trial, fit_args, fit_kwargs)\u001b[0m\n\u001b[0;32m    139\u001b[0m         \"\"\"\n\u001b[0;32m    140\u001b[0m         \u001b[0mmodel\u001b[0m \u001b[1;33m=\u001b[0m \u001b[0mself\u001b[0m\u001b[1;33m.\u001b[0m\u001b[0mhypermodel\u001b[0m\u001b[1;33m.\u001b[0m\u001b[0mbuild\u001b[0m\u001b[1;33m(\u001b[0m\u001b[0mtrial\u001b[0m\u001b[1;33m.\u001b[0m\u001b[0mhyperparameters\u001b[0m\u001b[1;33m)\u001b[0m\u001b[1;33m\u001b[0m\u001b[1;33m\u001b[0m\u001b[0m\n\u001b[1;32m--> 141\u001b[1;33m         \u001b[1;32mreturn\u001b[0m \u001b[0mmodel\u001b[0m\u001b[1;33m.\u001b[0m\u001b[0mfit\u001b[0m\u001b[1;33m(\u001b[0m\u001b[1;33m*\u001b[0m\u001b[0mfit_args\u001b[0m\u001b[1;33m,\u001b[0m \u001b[1;33m**\u001b[0m\u001b[0mfit_kwargs\u001b[0m\u001b[1;33m)\u001b[0m\u001b[1;33m\u001b[0m\u001b[1;33m\u001b[0m\u001b[0m\n\u001b[0m\u001b[0;32m    142\u001b[0m \u001b[1;33m\u001b[0m\u001b[0m\n\u001b[0;32m    143\u001b[0m     \u001b[1;32mdef\u001b[0m \u001b[0mrun_trial\u001b[0m\u001b[1;33m(\u001b[0m\u001b[0mself\u001b[0m\u001b[1;33m,\u001b[0m \u001b[0mtrial\u001b[0m\u001b[1;33m,\u001b[0m \u001b[1;33m*\u001b[0m\u001b[0mfit_args\u001b[0m\u001b[1;33m,\u001b[0m \u001b[1;33m**\u001b[0m\u001b[0mfit_kwargs\u001b[0m\u001b[1;33m)\u001b[0m\u001b[1;33m:\u001b[0m\u001b[1;33m\u001b[0m\u001b[1;33m\u001b[0m\u001b[0m\n",
      "\u001b[1;32m~\\anaconda3\\envs\\tensorflow\\lib\\site-packages\\tensorflow\\python\\keras\\engine\\training.py\u001b[0m in \u001b[0;36m_method_wrapper\u001b[1;34m(self, *args, **kwargs)\u001b[0m\n\u001b[0;32m    106\u001b[0m   \u001b[1;32mdef\u001b[0m \u001b[0m_method_wrapper\u001b[0m\u001b[1;33m(\u001b[0m\u001b[0mself\u001b[0m\u001b[1;33m,\u001b[0m \u001b[1;33m*\u001b[0m\u001b[0margs\u001b[0m\u001b[1;33m,\u001b[0m \u001b[1;33m**\u001b[0m\u001b[0mkwargs\u001b[0m\u001b[1;33m)\u001b[0m\u001b[1;33m:\u001b[0m\u001b[1;33m\u001b[0m\u001b[1;33m\u001b[0m\u001b[0m\n\u001b[0;32m    107\u001b[0m     \u001b[1;32mif\u001b[0m \u001b[1;32mnot\u001b[0m \u001b[0mself\u001b[0m\u001b[1;33m.\u001b[0m\u001b[0m_in_multi_worker_mode\u001b[0m\u001b[1;33m(\u001b[0m\u001b[1;33m)\u001b[0m\u001b[1;33m:\u001b[0m  \u001b[1;31m# pylint: disable=protected-access\u001b[0m\u001b[1;33m\u001b[0m\u001b[1;33m\u001b[0m\u001b[0m\n\u001b[1;32m--> 108\u001b[1;33m       \u001b[1;32mreturn\u001b[0m \u001b[0mmethod\u001b[0m\u001b[1;33m(\u001b[0m\u001b[0mself\u001b[0m\u001b[1;33m,\u001b[0m \u001b[1;33m*\u001b[0m\u001b[0margs\u001b[0m\u001b[1;33m,\u001b[0m \u001b[1;33m**\u001b[0m\u001b[0mkwargs\u001b[0m\u001b[1;33m)\u001b[0m\u001b[1;33m\u001b[0m\u001b[1;33m\u001b[0m\u001b[0m\n\u001b[0m\u001b[0;32m    109\u001b[0m \u001b[1;33m\u001b[0m\u001b[0m\n\u001b[0;32m    110\u001b[0m     \u001b[1;31m# Running inside `run_distribute_coordinator` already.\u001b[0m\u001b[1;33m\u001b[0m\u001b[1;33m\u001b[0m\u001b[1;33m\u001b[0m\u001b[0m\n",
      "\u001b[1;32m~\\anaconda3\\envs\\tensorflow\\lib\\site-packages\\tensorflow\\python\\keras\\engine\\training.py\u001b[0m in \u001b[0;36mfit\u001b[1;34m(self, x, y, batch_size, epochs, verbose, callbacks, validation_split, validation_data, shuffle, class_weight, sample_weight, initial_epoch, steps_per_epoch, validation_steps, validation_batch_size, validation_freq, max_queue_size, workers, use_multiprocessing)\u001b[0m\n\u001b[0;32m   1096\u001b[0m                 batch_size=batch_size):\n\u001b[0;32m   1097\u001b[0m               \u001b[0mcallbacks\u001b[0m\u001b[1;33m.\u001b[0m\u001b[0mon_train_batch_begin\u001b[0m\u001b[1;33m(\u001b[0m\u001b[0mstep\u001b[0m\u001b[1;33m)\u001b[0m\u001b[1;33m\u001b[0m\u001b[1;33m\u001b[0m\u001b[0m\n\u001b[1;32m-> 1098\u001b[1;33m               \u001b[0mtmp_logs\u001b[0m \u001b[1;33m=\u001b[0m \u001b[0mtrain_function\u001b[0m\u001b[1;33m(\u001b[0m\u001b[0miterator\u001b[0m\u001b[1;33m)\u001b[0m\u001b[1;33m\u001b[0m\u001b[1;33m\u001b[0m\u001b[0m\n\u001b[0m\u001b[0;32m   1099\u001b[0m               \u001b[1;32mif\u001b[0m \u001b[0mdata_handler\u001b[0m\u001b[1;33m.\u001b[0m\u001b[0mshould_sync\u001b[0m\u001b[1;33m:\u001b[0m\u001b[1;33m\u001b[0m\u001b[1;33m\u001b[0m\u001b[0m\n\u001b[0;32m   1100\u001b[0m                 \u001b[0mcontext\u001b[0m\u001b[1;33m.\u001b[0m\u001b[0masync_wait\u001b[0m\u001b[1;33m(\u001b[0m\u001b[1;33m)\u001b[0m\u001b[1;33m\u001b[0m\u001b[1;33m\u001b[0m\u001b[0m\n",
      "\u001b[1;32m~\\anaconda3\\envs\\tensorflow\\lib\\site-packages\\tensorflow\\python\\eager\\def_function.py\u001b[0m in \u001b[0;36m__call__\u001b[1;34m(self, *args, **kwds)\u001b[0m\n\u001b[0;32m    778\u001b[0m       \u001b[1;32melse\u001b[0m\u001b[1;33m:\u001b[0m\u001b[1;33m\u001b[0m\u001b[1;33m\u001b[0m\u001b[0m\n\u001b[0;32m    779\u001b[0m         \u001b[0mcompiler\u001b[0m \u001b[1;33m=\u001b[0m \u001b[1;34m\"nonXla\"\u001b[0m\u001b[1;33m\u001b[0m\u001b[1;33m\u001b[0m\u001b[0m\n\u001b[1;32m--> 780\u001b[1;33m         \u001b[0mresult\u001b[0m \u001b[1;33m=\u001b[0m \u001b[0mself\u001b[0m\u001b[1;33m.\u001b[0m\u001b[0m_call\u001b[0m\u001b[1;33m(\u001b[0m\u001b[1;33m*\u001b[0m\u001b[0margs\u001b[0m\u001b[1;33m,\u001b[0m \u001b[1;33m**\u001b[0m\u001b[0mkwds\u001b[0m\u001b[1;33m)\u001b[0m\u001b[1;33m\u001b[0m\u001b[1;33m\u001b[0m\u001b[0m\n\u001b[0m\u001b[0;32m    781\u001b[0m \u001b[1;33m\u001b[0m\u001b[0m\n\u001b[0;32m    782\u001b[0m       \u001b[0mnew_tracing_count\u001b[0m \u001b[1;33m=\u001b[0m \u001b[0mself\u001b[0m\u001b[1;33m.\u001b[0m\u001b[0m_get_tracing_count\u001b[0m\u001b[1;33m(\u001b[0m\u001b[1;33m)\u001b[0m\u001b[1;33m\u001b[0m\u001b[1;33m\u001b[0m\u001b[0m\n",
      "\u001b[1;32m~\\anaconda3\\envs\\tensorflow\\lib\\site-packages\\tensorflow\\python\\eager\\def_function.py\u001b[0m in \u001b[0;36m_call\u001b[1;34m(self, *args, **kwds)\u001b[0m\n\u001b[0;32m    805\u001b[0m       \u001b[1;31m# In this case we have created variables on the first call, so we run the\u001b[0m\u001b[1;33m\u001b[0m\u001b[1;33m\u001b[0m\u001b[1;33m\u001b[0m\u001b[0m\n\u001b[0;32m    806\u001b[0m       \u001b[1;31m# defunned version which is guaranteed to never create variables.\u001b[0m\u001b[1;33m\u001b[0m\u001b[1;33m\u001b[0m\u001b[1;33m\u001b[0m\u001b[0m\n\u001b[1;32m--> 807\u001b[1;33m       \u001b[1;32mreturn\u001b[0m \u001b[0mself\u001b[0m\u001b[1;33m.\u001b[0m\u001b[0m_stateless_fn\u001b[0m\u001b[1;33m(\u001b[0m\u001b[1;33m*\u001b[0m\u001b[0margs\u001b[0m\u001b[1;33m,\u001b[0m \u001b[1;33m**\u001b[0m\u001b[0mkwds\u001b[0m\u001b[1;33m)\u001b[0m  \u001b[1;31m# pylint: disable=not-callable\u001b[0m\u001b[1;33m\u001b[0m\u001b[1;33m\u001b[0m\u001b[0m\n\u001b[0m\u001b[0;32m    808\u001b[0m     \u001b[1;32melif\u001b[0m \u001b[0mself\u001b[0m\u001b[1;33m.\u001b[0m\u001b[0m_stateful_fn\u001b[0m \u001b[1;32mis\u001b[0m \u001b[1;32mnot\u001b[0m \u001b[1;32mNone\u001b[0m\u001b[1;33m:\u001b[0m\u001b[1;33m\u001b[0m\u001b[1;33m\u001b[0m\u001b[0m\n\u001b[0;32m    809\u001b[0m       \u001b[1;31m# Release the lock early so that multiple threads can perform the call\u001b[0m\u001b[1;33m\u001b[0m\u001b[1;33m\u001b[0m\u001b[1;33m\u001b[0m\u001b[0m\n",
      "\u001b[1;32m~\\anaconda3\\envs\\tensorflow\\lib\\site-packages\\tensorflow\\python\\eager\\function.py\u001b[0m in \u001b[0;36m__call__\u001b[1;34m(self, *args, **kwargs)\u001b[0m\n\u001b[0;32m   2827\u001b[0m     \u001b[1;32mwith\u001b[0m \u001b[0mself\u001b[0m\u001b[1;33m.\u001b[0m\u001b[0m_lock\u001b[0m\u001b[1;33m:\u001b[0m\u001b[1;33m\u001b[0m\u001b[1;33m\u001b[0m\u001b[0m\n\u001b[0;32m   2828\u001b[0m       \u001b[0mgraph_function\u001b[0m\u001b[1;33m,\u001b[0m \u001b[0margs\u001b[0m\u001b[1;33m,\u001b[0m \u001b[0mkwargs\u001b[0m \u001b[1;33m=\u001b[0m \u001b[0mself\u001b[0m\u001b[1;33m.\u001b[0m\u001b[0m_maybe_define_function\u001b[0m\u001b[1;33m(\u001b[0m\u001b[0margs\u001b[0m\u001b[1;33m,\u001b[0m \u001b[0mkwargs\u001b[0m\u001b[1;33m)\u001b[0m\u001b[1;33m\u001b[0m\u001b[1;33m\u001b[0m\u001b[0m\n\u001b[1;32m-> 2829\u001b[1;33m     \u001b[1;32mreturn\u001b[0m \u001b[0mgraph_function\u001b[0m\u001b[1;33m.\u001b[0m\u001b[0m_filtered_call\u001b[0m\u001b[1;33m(\u001b[0m\u001b[0margs\u001b[0m\u001b[1;33m,\u001b[0m \u001b[0mkwargs\u001b[0m\u001b[1;33m)\u001b[0m  \u001b[1;31m# pylint: disable=protected-access\u001b[0m\u001b[1;33m\u001b[0m\u001b[1;33m\u001b[0m\u001b[0m\n\u001b[0m\u001b[0;32m   2830\u001b[0m \u001b[1;33m\u001b[0m\u001b[0m\n\u001b[0;32m   2831\u001b[0m   \u001b[1;33m@\u001b[0m\u001b[0mproperty\u001b[0m\u001b[1;33m\u001b[0m\u001b[1;33m\u001b[0m\u001b[0m\n",
      "\u001b[1;32m~\\anaconda3\\envs\\tensorflow\\lib\\site-packages\\tensorflow\\python\\eager\\function.py\u001b[0m in \u001b[0;36m_filtered_call\u001b[1;34m(self, args, kwargs, cancellation_manager)\u001b[0m\n\u001b[0;32m   1846\u001b[0m                            resource_variable_ops.BaseResourceVariable))],\n\u001b[0;32m   1847\u001b[0m         \u001b[0mcaptured_inputs\u001b[0m\u001b[1;33m=\u001b[0m\u001b[0mself\u001b[0m\u001b[1;33m.\u001b[0m\u001b[0mcaptured_inputs\u001b[0m\u001b[1;33m,\u001b[0m\u001b[1;33m\u001b[0m\u001b[1;33m\u001b[0m\u001b[0m\n\u001b[1;32m-> 1848\u001b[1;33m         cancellation_manager=cancellation_manager)\n\u001b[0m\u001b[0;32m   1849\u001b[0m \u001b[1;33m\u001b[0m\u001b[0m\n\u001b[0;32m   1850\u001b[0m   \u001b[1;32mdef\u001b[0m \u001b[0m_call_flat\u001b[0m\u001b[1;33m(\u001b[0m\u001b[0mself\u001b[0m\u001b[1;33m,\u001b[0m \u001b[0margs\u001b[0m\u001b[1;33m,\u001b[0m \u001b[0mcaptured_inputs\u001b[0m\u001b[1;33m,\u001b[0m \u001b[0mcancellation_manager\u001b[0m\u001b[1;33m=\u001b[0m\u001b[1;32mNone\u001b[0m\u001b[1;33m)\u001b[0m\u001b[1;33m:\u001b[0m\u001b[1;33m\u001b[0m\u001b[1;33m\u001b[0m\u001b[0m\n",
      "\u001b[1;32m~\\anaconda3\\envs\\tensorflow\\lib\\site-packages\\tensorflow\\python\\eager\\function.py\u001b[0m in \u001b[0;36m_call_flat\u001b[1;34m(self, args, captured_inputs, cancellation_manager)\u001b[0m\n\u001b[0;32m   1922\u001b[0m       \u001b[1;31m# No tape is watching; skip to running the function.\u001b[0m\u001b[1;33m\u001b[0m\u001b[1;33m\u001b[0m\u001b[1;33m\u001b[0m\u001b[0m\n\u001b[0;32m   1923\u001b[0m       return self._build_call_outputs(self._inference_function.call(\n\u001b[1;32m-> 1924\u001b[1;33m           ctx, args, cancellation_manager=cancellation_manager))\n\u001b[0m\u001b[0;32m   1925\u001b[0m     forward_backward = self._select_forward_and_backward_functions(\n\u001b[0;32m   1926\u001b[0m         \u001b[0margs\u001b[0m\u001b[1;33m,\u001b[0m\u001b[1;33m\u001b[0m\u001b[1;33m\u001b[0m\u001b[0m\n",
      "\u001b[1;32m~\\anaconda3\\envs\\tensorflow\\lib\\site-packages\\tensorflow\\python\\eager\\function.py\u001b[0m in \u001b[0;36mcall\u001b[1;34m(self, ctx, args, cancellation_manager)\u001b[0m\n\u001b[0;32m    548\u001b[0m               \u001b[0minputs\u001b[0m\u001b[1;33m=\u001b[0m\u001b[0margs\u001b[0m\u001b[1;33m,\u001b[0m\u001b[1;33m\u001b[0m\u001b[1;33m\u001b[0m\u001b[0m\n\u001b[0;32m    549\u001b[0m               \u001b[0mattrs\u001b[0m\u001b[1;33m=\u001b[0m\u001b[0mattrs\u001b[0m\u001b[1;33m,\u001b[0m\u001b[1;33m\u001b[0m\u001b[1;33m\u001b[0m\u001b[0m\n\u001b[1;32m--> 550\u001b[1;33m               ctx=ctx)\n\u001b[0m\u001b[0;32m    551\u001b[0m         \u001b[1;32melse\u001b[0m\u001b[1;33m:\u001b[0m\u001b[1;33m\u001b[0m\u001b[1;33m\u001b[0m\u001b[0m\n\u001b[0;32m    552\u001b[0m           outputs = execute.execute_with_cancellation(\n",
      "\u001b[1;32m~\\anaconda3\\envs\\tensorflow\\lib\\site-packages\\tensorflow\\python\\eager\\execute.py\u001b[0m in \u001b[0;36mquick_execute\u001b[1;34m(op_name, num_outputs, inputs, attrs, ctx, name)\u001b[0m\n\u001b[0;32m     58\u001b[0m     \u001b[0mctx\u001b[0m\u001b[1;33m.\u001b[0m\u001b[0mensure_initialized\u001b[0m\u001b[1;33m(\u001b[0m\u001b[1;33m)\u001b[0m\u001b[1;33m\u001b[0m\u001b[1;33m\u001b[0m\u001b[0m\n\u001b[0;32m     59\u001b[0m     tensors = pywrap_tfe.TFE_Py_Execute(ctx._handle, device_name, op_name,\n\u001b[1;32m---> 60\u001b[1;33m                                         inputs, attrs, num_outputs)\n\u001b[0m\u001b[0;32m     61\u001b[0m   \u001b[1;32mexcept\u001b[0m \u001b[0mcore\u001b[0m\u001b[1;33m.\u001b[0m\u001b[0m_NotOkStatusException\u001b[0m \u001b[1;32mas\u001b[0m \u001b[0me\u001b[0m\u001b[1;33m:\u001b[0m\u001b[1;33m\u001b[0m\u001b[1;33m\u001b[0m\u001b[0m\n\u001b[0;32m     62\u001b[0m     \u001b[1;32mif\u001b[0m \u001b[0mname\u001b[0m \u001b[1;32mis\u001b[0m \u001b[1;32mnot\u001b[0m \u001b[1;32mNone\u001b[0m\u001b[1;33m:\u001b[0m\u001b[1;33m\u001b[0m\u001b[1;33m\u001b[0m\u001b[0m\n",
      "\u001b[1;31mKeyboardInterrupt\u001b[0m: "
     ]
    }
   ],
   "source": [
    "tuner.search([X_complement_train, X_trend_train, X_season_train, X_resid_train], Y_train, epochs = 20, validation_split=0.2)"
   ]
  },
  {
   "cell_type": "code",
   "execution_count": 131,
   "id": "laden-tuition",
   "metadata": {},
   "outputs": [
    {
     "name": "stdout",
     "output_type": "stream",
     "text": [
      "Results summary\n",
      "Results in hyperband\\Usure_avions\n",
      "Showing 10 best trials\n",
      "Objective(name='loss', direction='min')\n",
      "Trial summary\n",
      "Hyperparameters:\n",
      "B1_num_filters_1: 32\n",
      "B1_num_filters_2: 32\n",
      "B1_dropout_1: 0.30000000000000004\n",
      "B2_num_filters_1: 16\n",
      "B2_num_filters_2: 32\n",
      "B2_dropout_1: 0.1\n",
      "B3_num_filters_1: 32\n",
      "B3_num_filters_2: 64\n",
      "B3_num_filters_3: 128\n",
      "B3_dropout_1: 0.15000000000000002\n",
      "B4_num_filters_1: 16\n",
      "B4_num_filters_2: 32\n",
      "B4_dropout_1: 0.05\n",
      "M_units_1: 556\n",
      "M_dropout_1: 0.4\n",
      "M_units_2: 402\n",
      "learning_rate: 0.0006183930099784303\n",
      "tuner/epochs: 40\n",
      "tuner/initial_epoch: 0\n",
      "tuner/bracket: 0\n",
      "tuner/round: 0\n",
      "Score: 0.0018557709408923984\n",
      "Trial summary\n",
      "Hyperparameters:\n",
      "B1_num_filters_1: 32\n",
      "B1_num_filters_2: 64\n",
      "B1_dropout_1: 0.45\n",
      "B2_num_filters_1: 16\n",
      "B2_num_filters_2: 64\n",
      "B2_dropout_1: 0.30000000000000004\n",
      "B3_num_filters_1: 32\n",
      "B3_num_filters_2: 64\n",
      "B3_num_filters_3: 128\n",
      "B3_dropout_1: 0.1\n",
      "B4_num_filters_1: 32\n",
      "B4_num_filters_2: 64\n",
      "B4_dropout_1: 0.1\n",
      "M_units_1: 428\n",
      "M_dropout_1: 0.45\n",
      "M_units_2: 466\n",
      "learning_rate: 0.00020200820998132453\n",
      "tuner/epochs: 40\n",
      "tuner/initial_epoch: 0\n",
      "tuner/bracket: 0\n",
      "tuner/round: 0\n",
      "Score: 0.002235547872260213\n",
      "Trial summary\n",
      "Hyperparameters:\n",
      "B1_num_filters_1: 16\n",
      "B1_num_filters_2: 32\n",
      "B1_dropout_1: 0.45\n",
      "B2_num_filters_1: 32\n",
      "B2_num_filters_2: 64\n",
      "B2_dropout_1: 0.05\n",
      "B3_num_filters_1: 32\n",
      "B3_num_filters_2: 64\n",
      "B3_num_filters_3: 128\n",
      "B3_dropout_1: 0.45\n",
      "B4_num_filters_1: 32\n",
      "B4_num_filters_2: 64\n",
      "B4_dropout_1: 0.2\n",
      "M_units_1: 620\n",
      "M_dropout_1: 0.0\n",
      "M_units_2: 466\n",
      "learning_rate: 0.0009119176441955334\n",
      "tuner/epochs: 40\n",
      "tuner/initial_epoch: 14\n",
      "tuner/bracket: 2\n",
      "tuner/round: 2\n",
      "tuner/trial_id: 2682aec575698d9d5ab3720b3d84dd9a\n",
      "Score: 0.002403241698630154\n",
      "Trial summary\n",
      "Hyperparameters:\n",
      "B1_num_filters_1: 16\n",
      "B1_num_filters_2: 32\n",
      "B1_dropout_1: 0.05\n",
      "B2_num_filters_1: 32\n",
      "B2_num_filters_2: 64\n",
      "B2_dropout_1: 0.15000000000000002\n",
      "B3_num_filters_1: 16\n",
      "B3_num_filters_2: 32\n",
      "B3_num_filters_3: 128\n",
      "B3_dropout_1: 0.05\n",
      "B4_num_filters_1: 32\n",
      "B4_num_filters_2: 32\n",
      "B4_dropout_1: 0.15000000000000002\n",
      "M_units_1: 364\n",
      "M_dropout_1: 0.5\n",
      "M_units_2: 210\n",
      "learning_rate: 0.0001216608160922454\n",
      "tuner/epochs: 40\n",
      "tuner/initial_epoch: 0\n",
      "tuner/bracket: 0\n",
      "tuner/round: 0\n",
      "Score: 0.002522287773899734\n",
      "Trial summary\n",
      "Hyperparameters:\n",
      "B1_num_filters_1: 32\n",
      "B1_num_filters_2: 64\n",
      "B1_dropout_1: 0.05\n",
      "B2_num_filters_1: 32\n",
      "B2_num_filters_2: 64\n",
      "B2_dropout_1: 0.05\n",
      "B3_num_filters_1: 16\n",
      "B3_num_filters_2: 32\n",
      "B3_num_filters_3: 128\n",
      "B3_dropout_1: 0.15000000000000002\n",
      "B4_num_filters_1: 32\n",
      "B4_num_filters_2: 64\n",
      "B4_dropout_1: 0.05\n",
      "M_units_1: 556\n",
      "M_dropout_1: 0.30000000000000004\n",
      "M_units_2: 274\n",
      "learning_rate: 0.0014262609046090788\n",
      "tuner/epochs: 40\n",
      "tuner/initial_epoch: 14\n",
      "tuner/bracket: 1\n",
      "tuner/round: 1\n",
      "tuner/trial_id: 0a49a054b6e7d4ff61ee425141192b7c\n",
      "Score: 0.0028224167181178927\n",
      "Trial summary\n",
      "Hyperparameters:\n",
      "B1_num_filters_1: 16\n",
      "B1_num_filters_2: 32\n",
      "B1_dropout_1: 0.4\n",
      "B2_num_filters_1: 32\n",
      "B2_num_filters_2: 64\n",
      "B2_dropout_1: 0.15000000000000002\n",
      "B3_num_filters_1: 32\n",
      "B3_num_filters_2: 64\n",
      "B3_num_filters_3: 64\n",
      "B3_dropout_1: 0.35000000000000003\n",
      "B4_num_filters_1: 32\n",
      "B4_num_filters_2: 32\n",
      "B4_dropout_1: 0.15000000000000002\n",
      "M_units_1: 492\n",
      "M_dropout_1: 0.2\n",
      "M_units_2: 466\n",
      "learning_rate: 0.0009181671251157912\n",
      "tuner/epochs: 40\n",
      "tuner/initial_epoch: 14\n",
      "tuner/bracket: 2\n",
      "tuner/round: 2\n",
      "tuner/trial_id: 312f45e25224a203e8b24d582a909447\n",
      "Score: 0.0033260443015024066\n",
      "Trial summary\n",
      "Hyperparameters:\n",
      "B1_num_filters_1: 16\n",
      "B1_num_filters_2: 64\n",
      "B1_dropout_1: 0.05\n",
      "B2_num_filters_1: 16\n",
      "B2_num_filters_2: 32\n",
      "B2_dropout_1: 0.2\n",
      "B3_num_filters_1: 32\n",
      "B3_num_filters_2: 32\n",
      "B3_num_filters_3: 128\n",
      "B3_dropout_1: 0.1\n",
      "B4_num_filters_1: 16\n",
      "B4_num_filters_2: 32\n",
      "B4_dropout_1: 0.30000000000000004\n",
      "M_units_1: 876\n",
      "M_dropout_1: 0.25\n",
      "M_units_2: 210\n",
      "learning_rate: 0.00087132753175437\n",
      "tuner/epochs: 40\n",
      "tuner/initial_epoch: 14\n",
      "tuner/bracket: 1\n",
      "tuner/round: 1\n",
      "tuner/trial_id: faf5ebf06890a6fd0d9877512d1af4e3\n",
      "Score: 0.0037897616857662797\n",
      "Trial summary\n",
      "Hyperparameters:\n",
      "B1_num_filters_1: 32\n",
      "B1_num_filters_2: 32\n",
      "B1_dropout_1: 0.05\n",
      "B2_num_filters_1: 16\n",
      "B2_num_filters_2: 32\n",
      "B2_dropout_1: 0.2\n",
      "B3_num_filters_1: 16\n",
      "B3_num_filters_2: 32\n",
      "B3_num_filters_3: 128\n",
      "B3_dropout_1: 0.15000000000000002\n",
      "B4_num_filters_1: 32\n",
      "B4_num_filters_2: 32\n",
      "B4_dropout_1: 0.30000000000000004\n",
      "M_units_1: 332\n",
      "M_dropout_1: 0.45\n",
      "M_units_2: 146\n",
      "learning_rate: 0.0012179247857147329\n",
      "tuner/epochs: 40\n",
      "tuner/initial_epoch: 14\n",
      "tuner/bracket: 3\n",
      "tuner/round: 3\n",
      "tuner/trial_id: 6173757a38521fcf5474eeb08737ef10\n",
      "Score: 0.004545902367681265\n",
      "Trial summary\n",
      "Hyperparameters:\n",
      "B1_num_filters_1: 32\n",
      "B1_num_filters_2: 32\n",
      "B1_dropout_1: 0.35000000000000003\n",
      "B2_num_filters_1: 32\n",
      "B2_num_filters_2: 32\n",
      "B2_dropout_1: 0.4\n",
      "B3_num_filters_1: 16\n",
      "B3_num_filters_2: 32\n",
      "B3_num_filters_3: 128\n",
      "B3_dropout_1: 0.45\n",
      "B4_num_filters_1: 32\n",
      "B4_num_filters_2: 32\n",
      "B4_dropout_1: 0.2\n",
      "M_units_1: 396\n",
      "M_dropout_1: 0.1\n",
      "M_units_2: 338\n",
      "learning_rate: 0.00022386931737298818\n",
      "tuner/epochs: 40\n",
      "tuner/initial_epoch: 14\n",
      "tuner/bracket: 1\n",
      "tuner/round: 1\n",
      "tuner/trial_id: 6ea1394c5a5f53a85acd142d44226725\n",
      "Score: 0.005408148048445582\n",
      "Trial summary\n",
      "Hyperparameters:\n",
      "B1_num_filters_1: 32\n",
      "B1_num_filters_2: 64\n",
      "B1_dropout_1: 0.5\n",
      "B2_num_filters_1: 32\n",
      "B2_num_filters_2: 32\n",
      "B2_dropout_1: 0.5\n",
      "B3_num_filters_1: 16\n",
      "B3_num_filters_2: 32\n",
      "B3_num_filters_3: 64\n",
      "B3_dropout_1: 0.30000000000000004\n",
      "B4_num_filters_1: 16\n",
      "B4_num_filters_2: 32\n",
      "B4_dropout_1: 0.05\n",
      "M_units_1: 492\n",
      "M_dropout_1: 0.2\n",
      "M_units_2: 242\n",
      "learning_rate: 0.0020992230665248007\n",
      "tuner/epochs: 40\n",
      "tuner/initial_epoch: 14\n",
      "tuner/bracket: 3\n",
      "tuner/round: 3\n",
      "tuner/trial_id: 0969c17f8bcf4bc06fe3b1ca9414f522\n",
      "Score: 0.005511216586455703\n"
     ]
    }
   ],
   "source": [
    "tuner.results_summary()"
   ]
  },
  {
   "cell_type": "code",
   "execution_count": 135,
   "id": "horizontal-coverage",
   "metadata": {},
   "outputs": [
    {
     "name": "stdout",
     "output_type": "stream",
     "text": [
      "WARNING:tensorflow:Unresolved object in checkpoint: (root).optimizer.iter\n",
      "WARNING:tensorflow:Unresolved object in checkpoint: (root).optimizer.beta_1\n",
      "WARNING:tensorflow:Unresolved object in checkpoint: (root).optimizer.beta_2\n",
      "WARNING:tensorflow:Unresolved object in checkpoint: (root).optimizer.decay\n",
      "WARNING:tensorflow:Unresolved object in checkpoint: (root).optimizer.learning_rate\n",
      "WARNING:tensorflow:A checkpoint was restored (e.g. tf.train.Checkpoint.restore or tf.keras.Model.load_weights) but not all checkpointed values were used. See above for specific issues. Use expect_partial() on the load status object, e.g. tf.train.Checkpoint.restore(...).expect_partial(), to silence these warnings, or use assert_consumed() to make the check explicit. See https://www.tensorflow.org/guide/checkpoint#loading_mechanics for details.\n",
      "42/42 [==============================] - 0s 4ms/step - loss: 0.0074\n"
     ]
    },
    {
     "data": {
      "text/plain": [
       "0.007410929072648287"
      ]
     },
     "execution_count": 135,
     "metadata": {},
     "output_type": "execute_result"
    }
   ],
   "source": [
    "best_model = tuner.get_best_models(num_models=1)[0]\n",
    "best_model.evaluate([X_complement_test, X_trend_test, X_season_test, X_resid_test], Y_test)"
   ]
  },
  {
   "cell_type": "code",
   "execution_count": 72,
   "id": "traditional-serum",
   "metadata": {},
   "outputs": [
    {
     "name": "stdout",
     "output_type": "stream",
     "text": [
      "42/42 [==============================] - 0s 3ms/step - loss: 0.0046\n"
     ]
    },
    {
     "data": {
      "text/plain": [
       "0.004585875663906336"
      ]
     },
     "execution_count": 72,
     "metadata": {},
     "output_type": "execute_result"
    }
   ],
   "source": [
    "best_model = tuner.get_best_models(num_models=1)[0]\n",
    "best_model.evaluate([X_complement_test, X_trend_test, X_season_test, X_resid_test], Y_test)"
   ]
  },
  {
   "cell_type": "code",
   "execution_count": 128,
   "id": "living-subcommittee",
   "metadata": {},
   "outputs": [
    {
     "name": "stdout",
     "output_type": "stream",
     "text": [
      "42/42 [==============================] - 0s 3ms/step - loss: 0.0039\n"
     ]
    },
    {
     "data": {
      "text/plain": [
       "0.0038854735903441906"
      ]
     },
     "execution_count": 128,
     "metadata": {},
     "output_type": "execute_result"
    }
   ],
   "source": [
    "best_model = tuner.get_best_models(num_models=1)[0]\n",
    "best_model.evaluate([X_complement_test, X_trend_test, X_season_test, X_resid_test], Y_test)"
   ]
  },
  {
   "cell_type": "code",
   "execution_count": 136,
   "id": "reduced-present",
   "metadata": {},
   "outputs": [],
   "source": [
    "preds = best_model.predict([X_complement_test, X_trend_test, X_season_test, X_resid_test])"
   ]
  },
  {
   "cell_type": "code",
   "execution_count": 137,
   "id": "first-request",
   "metadata": {},
   "outputs": [
    {
     "name": "stderr",
     "output_type": "stream",
     "text": [
      "C:\\Users\\louis\\anaconda3\\envs\\tensorflow\\lib\\site-packages\\seaborn\\distributions.py:2557: FutureWarning: `distplot` is a deprecated function and will be removed in a future version. Please adapt your code to use either `displot` (a figure-level function with similar flexibility) or `kdeplot` (an axes-level function for kernel density plots).\n",
      "  warnings.warn(msg, FutureWarning)\n",
      "C:\\Users\\louis\\anaconda3\\envs\\tensorflow\\lib\\site-packages\\seaborn\\distributions.py:2557: FutureWarning: `distplot` is a deprecated function and will be removed in a future version. Please adapt your code to use either `displot` (a figure-level function with similar flexibility) or `kdeplot` (an axes-level function for kernel density plots).\n",
      "  warnings.warn(msg, FutureWarning)\n"
     ]
    },
    {
     "data": {
      "image/png": "[encoded data removed]",
      "text/plain": [
       "<Figure size 1080x576 with 1 Axes>"
      ]
     },
     "metadata": {
      "needs_background": "light"
     },
     "output_type": "display_data"
    }
   ],
   "source": [
    "plt.figure(figsize=(15,8))\n",
    "ax = sns.distplot(preds, hist = False, kde = True,\n",
    "                 kde_kws = {'shade': True, 'linewidth': 1}, color=\"darkturquoise\")\n",
    "sns.distplot(Y_test, hist = False, kde = True,\n",
    "                 kde_kws = {'shade': True, 'linewidth': 1}, color=\"lightcoral\")\n",
    "plt.xlim(-2,2)\n",
    "plt.show()"
   ]
  },
  {
   "cell_type": "code",
   "execution_count": 138,
   "id": "white-crack",
   "metadata": {},
   "outputs": [
    {
     "name": "stdout",
     "output_type": "stream",
     "text": [
      "Epoch 1/20\n",
      "133/133 [==============================] - 2s 14ms/step - loss: 0.0019 - val_loss: 0.0051\n",
      "Epoch 2/20\n",
      "133/133 [==============================] - 2s 13ms/step - loss: 0.0033 - val_loss: 0.0055\n",
      "Epoch 3/20\n",
      "133/133 [==============================] - 2s 13ms/step - loss: 0.0018 - val_loss: 0.0053\n",
      "Epoch 4/20\n",
      "133/133 [==============================] - 2s 13ms/step - loss: 0.0017 - val_loss: 0.0055\n",
      "Epoch 5/20\n",
      "133/133 [==============================] - 2s 13ms/step - loss: 0.0022 - val_loss: 0.0053\n",
      "Epoch 6/20\n",
      "133/133 [==============================] - 2s 13ms/step - loss: 0.0032 - val_loss: 0.0052\n"
     ]
    }
   ],
   "source": [
    "history= best_model.fit([X_complement_train, X_trend_train, X_season_train, X_resid_train], Y_train, epochs=20, validation_split = 0.2, callbacks=callbacks)"
   ]
  },
  {
   "cell_type": "code",
   "execution_count": 139,
   "id": "threaded-modification",
   "metadata": {},
   "outputs": [
    {
     "name": "stdout",
     "output_type": "stream",
     "text": [
      "42/42 [==============================] - 0s 3ms/step - loss: 0.0075\n"
     ]
    }
   ],
   "source": [
    "test_loss = best_model.evaluate([X_complement_test, X_trend_test, X_season_test, X_resid_test], Y_test)\n"
   ]
  },
  {
   "cell_type": "code",
   "execution_count": null,
   "id": "satisfied-phrase",
   "metadata": {},
   "outputs": [],
   "source": []
  },
  {
   "cell_type": "code",
   "execution_count": null,
   "id": "molecular-sherman",
   "metadata": {},
   "outputs": [],
   "source": []
  },
  {
   "cell_type": "code",
   "execution_count": null,
   "id": "missing-scottish",
   "metadata": {},
   "outputs": [],
   "source": []
  },
  {
   "cell_type": "code",
   "execution_count": null,
   "id": "color-complaint",
   "metadata": {},
   "outputs": [],
   "source": []
  },
  {
   "cell_type": "code",
   "execution_count": 147,
   "id": "martial-columbus",
   "metadata": {},
   "outputs": [],
   "source": [
    "def choix_frequence (serie, frequences) : \n",
    "    '''\n",
    "    Fonction qui teste le modèle pour différentes fréquences passées en paramètre. \n",
    "    Attention, cette fonction met un certain temps à s'effectuer : proportionnel à la taille de la série et au nombre de \n",
    "    fréquences à tester.\n",
    "    Elle renvoie un dataframe comprenant les différentes fréquences associées à la loss sur la base de test. \n",
    "    '''\n",
    "    df_result_freq = pd.DataFrame(columns=['Frequence','Loss'])\n",
    "    for frequence in frequences : \n",
    "        print(\"En cours de traitement de la fréquence : \", frequence)\n",
    "        df_trend, df_season, df_resid = decompose_serie (serie, frequence)\n",
    "        X_trend, X_season, X_resid =  split_sequences_X(df_trend.values, 100), split_sequences_X(df_season.values, 100), split_sequences_X(df_resid.values, 100)\n",
    "        (X_complement_train, X_complement_test, X_trend_train , X_trend_test, X_season_train, X_season_test, X_resid_train, X_resid_test, Y_train, Y_test) = train_test_split(X_complement,X_trend,X_season,X_resid, y, test_size = 0.2, random_state=42)\n",
    "        X_trend_train=np.asarray(X_trend_train).astype(np.float32)\n",
    "        X_season_train =np.asarray(X_season_train).astype(np.float32)\n",
    "        X_resid_train =np.asarray(X_resid_train).astype(np.float32)\n",
    "        X_trend_test=np.asarray(X_trend_test).astype(np.float32)\n",
    "        X_season_test =np.asarray(X_season_test).astype(np.float32)\n",
    "        X_resid_test=np.asarray(X_resid_test).astype(np.float32)\n",
    "        \n",
    "        history= best_model.fit([X_complement_train, X_trend_train, X_season_train, X_resid_train], Y_train, epochs=20, validation_split = 0.2, callbacks=callbacks)\n",
    "        test_loss = best_model.evaluate([X_complement_test, X_trend_test, X_season_test, X_resid_test], Y_test)\n",
    "        df_result_freq_i = pd.DataFrame({'Frequence': [frequence] ,'Loss' : [test_loss]})\n",
    "        df_result_freq = pd.concat([df_result_freq,df_result_freq_i])\n",
    "    return df_result_freq"
   ]
  },
  {
   "cell_type": "code",
   "execution_count": 146,
   "id": "accessory-differential",
   "metadata": {},
   "outputs": [
    {
     "name": "stdout",
     "output_type": "stream",
     "text": [
      "En cours de traitement de la fréquence :  1\n"
     ]
    },
    {
     "name": "stderr",
     "output_type": "stream",
     "text": [
      "C:\\Users\\louis\\anaconda3\\envs\\tensorflow\\lib\\site-packages\\ipykernel_launcher.py:16: FutureWarning: the 'freq'' keyword is deprecated, use 'period' instead\n",
      "  app.launch_new_instance()\n",
      "C:\\Users\\louis\\anaconda3\\envs\\tensorflow\\lib\\site-packages\\ipykernel_launcher.py:17: FutureWarning: the 'freq'' keyword is deprecated, use 'period' instead\n",
      "C:\\Users\\louis\\anaconda3\\envs\\tensorflow\\lib\\site-packages\\ipykernel_launcher.py:18: FutureWarning: the 'freq'' keyword is deprecated, use 'period' instead\n",
      "C:\\Users\\louis\\anaconda3\\envs\\tensorflow\\lib\\site-packages\\ipykernel_launcher.py:19: FutureWarning: the 'freq'' keyword is deprecated, use 'period' instead\n"
     ]
    },
    {
     "ename": "KeyboardInterrupt",
     "evalue": "",
     "output_type": "error",
     "traceback": [
      "\u001b[1;31m---------------------------------------------------------------------------\u001b[0m",
      "\u001b[1;31mKeyboardInterrupt\u001b[0m                         Traceback (most recent call last)",
      "\u001b[1;32m<ipython-input-146-bc54b6329839>\u001b[0m in \u001b[0;36m<module>\u001b[1;34m\u001b[0m\n\u001b[1;32m----> 1\u001b[1;33m \u001b[0mdf_result_freq\u001b[0m \u001b[1;33m=\u001b[0m \u001b[0mchoix_frequence\u001b[0m \u001b[1;33m(\u001b[0m\u001b[0mdfs\u001b[0m\u001b[1;33m,\u001b[0m \u001b[1;33m[\u001b[0m\u001b[1;36m1\u001b[0m\u001b[1;33m,\u001b[0m\u001b[1;36m5\u001b[0m\u001b[1;33m,\u001b[0m\u001b[1;36m10\u001b[0m\u001b[1;33m,\u001b[0m\u001b[1;36m15\u001b[0m\u001b[1;33m,\u001b[0m\u001b[1;36m20\u001b[0m\u001b[1;33m,\u001b[0m\u001b[1;36m25\u001b[0m\u001b[1;33m,\u001b[0m\u001b[1;36m30\u001b[0m\u001b[1;33m,\u001b[0m\u001b[1;36m35\u001b[0m\u001b[1;33m,\u001b[0m\u001b[1;36m40\u001b[0m\u001b[1;33m,\u001b[0m\u001b[1;36m45\u001b[0m\u001b[1;33m]\u001b[0m\u001b[1;33m)\u001b[0m\u001b[1;33m\u001b[0m\u001b[1;33m\u001b[0m\u001b[0m\n\u001b[0m",
      "\u001b[1;32m<ipython-input-145-5737698840ad>\u001b[0m in \u001b[0;36mchoix_frequence\u001b[1;34m(serie, frequences)\u001b[0m\n\u001b[0;32m      9\u001b[0m     \u001b[1;32mfor\u001b[0m \u001b[0mfrequence\u001b[0m \u001b[1;32min\u001b[0m \u001b[0mfrequences\u001b[0m \u001b[1;33m:\u001b[0m\u001b[1;33m\u001b[0m\u001b[1;33m\u001b[0m\u001b[0m\n\u001b[0;32m     10\u001b[0m         \u001b[0mprint\u001b[0m\u001b[1;33m(\u001b[0m\u001b[1;34m\"En cours de traitement de la fréquence : \"\u001b[0m\u001b[1;33m,\u001b[0m \u001b[0mfrequence\u001b[0m\u001b[1;33m)\u001b[0m\u001b[1;33m\u001b[0m\u001b[1;33m\u001b[0m\u001b[0m\n\u001b[1;32m---> 11\u001b[1;33m         \u001b[0mdf_trend\u001b[0m\u001b[1;33m,\u001b[0m \u001b[0mdf_season\u001b[0m\u001b[1;33m,\u001b[0m \u001b[0mdf_resid\u001b[0m \u001b[1;33m=\u001b[0m \u001b[0mdecompose_serie\u001b[0m \u001b[1;33m(\u001b[0m\u001b[0mserie\u001b[0m\u001b[1;33m,\u001b[0m \u001b[0mfrequence\u001b[0m\u001b[1;33m)\u001b[0m\u001b[1;33m\u001b[0m\u001b[1;33m\u001b[0m\u001b[0m\n\u001b[0m\u001b[0;32m     12\u001b[0m         \u001b[0mX_trend\u001b[0m\u001b[1;33m,\u001b[0m \u001b[0mX_season\u001b[0m\u001b[1;33m,\u001b[0m \u001b[0mX_resid\u001b[0m \u001b[1;33m=\u001b[0m  \u001b[0msplit_sequences_X\u001b[0m\u001b[1;33m(\u001b[0m\u001b[0mdf_trend\u001b[0m\u001b[1;33m.\u001b[0m\u001b[0mvalues\u001b[0m\u001b[1;33m,\u001b[0m \u001b[1;36m100\u001b[0m\u001b[1;33m)\u001b[0m\u001b[1;33m,\u001b[0m \u001b[0msplit_sequences_X\u001b[0m\u001b[1;33m(\u001b[0m\u001b[0mdf_season\u001b[0m\u001b[1;33m.\u001b[0m\u001b[0mvalues\u001b[0m\u001b[1;33m,\u001b[0m \u001b[1;36m100\u001b[0m\u001b[1;33m)\u001b[0m\u001b[1;33m,\u001b[0m \u001b[0msplit_sequences_X\u001b[0m\u001b[1;33m(\u001b[0m\u001b[0mdf_resid\u001b[0m\u001b[1;33m.\u001b[0m\u001b[0mvalues\u001b[0m\u001b[1;33m,\u001b[0m \u001b[1;36m100\u001b[0m\u001b[1;33m)\u001b[0m\u001b[1;33m\u001b[0m\u001b[1;33m\u001b[0m\u001b[0m\n\u001b[0;32m     13\u001b[0m         \u001b[1;33m(\u001b[0m\u001b[0mX_complement_train\u001b[0m\u001b[1;33m,\u001b[0m \u001b[0mX_complement_test\u001b[0m\u001b[1;33m,\u001b[0m \u001b[0mX_trend_train\u001b[0m \u001b[1;33m,\u001b[0m \u001b[0mX_trend_test\u001b[0m\u001b[1;33m,\u001b[0m \u001b[0mX_season_train\u001b[0m\u001b[1;33m,\u001b[0m \u001b[0mX_season_test\u001b[0m\u001b[1;33m,\u001b[0m \u001b[0mX_resid_train\u001b[0m\u001b[1;33m,\u001b[0m \u001b[0mX_resid_test\u001b[0m\u001b[1;33m,\u001b[0m \u001b[0mY_train\u001b[0m\u001b[1;33m,\u001b[0m \u001b[0mY_test\u001b[0m\u001b[1;33m)\u001b[0m \u001b[1;33m=\u001b[0m \u001b[0mtrain_test_split\u001b[0m\u001b[1;33m(\u001b[0m\u001b[0mX_complement\u001b[0m\u001b[1;33m,\u001b[0m\u001b[0mX_trend\u001b[0m\u001b[1;33m,\u001b[0m\u001b[0mX_season\u001b[0m\u001b[1;33m,\u001b[0m\u001b[0mX_resid\u001b[0m\u001b[1;33m,\u001b[0m \u001b[0my\u001b[0m\u001b[1;33m,\u001b[0m \u001b[0mtest_size\u001b[0m \u001b[1;33m=\u001b[0m \u001b[1;36m0.2\u001b[0m\u001b[1;33m,\u001b[0m \u001b[0mrandom_state\u001b[0m\u001b[1;33m=\u001b[0m\u001b[1;36m42\u001b[0m\u001b[1;33m)\u001b[0m\u001b[1;33m\u001b[0m\u001b[1;33m\u001b[0m\u001b[0m\n",
      "\u001b[1;32m<ipython-input-39-7908fbc13bb7>\u001b[0m in \u001b[0;36mdecompose_serie\u001b[1;34m(serie, frequence)\u001b[0m\n\u001b[0;32m     22\u001b[0m         \u001b[0mdf_trend_i\u001b[0m\u001b[1;33m=\u001b[0m \u001b[0mdf_trend_i\u001b[0m\u001b[1;33m.\u001b[0m\u001b[0mfillna\u001b[0m\u001b[1;33m(\u001b[0m\u001b[0mdf_trend_i\u001b[0m\u001b[1;33m.\u001b[0m\u001b[0mffill\u001b[0m\u001b[1;33m(\u001b[0m\u001b[1;33m)\u001b[0m\u001b[1;33m)\u001b[0m\u001b[1;33m\u001b[0m\u001b[1;33m\u001b[0m\u001b[0m\n\u001b[0;32m     23\u001b[0m         \u001b[0mdf_trend_i\u001b[0m\u001b[1;33m=\u001b[0m \u001b[0mdf_trend_i\u001b[0m\u001b[1;33m.\u001b[0m\u001b[0mfillna\u001b[0m\u001b[1;33m(\u001b[0m\u001b[0mdf_trend_i\u001b[0m\u001b[1;33m.\u001b[0m\u001b[0mbfill\u001b[0m\u001b[1;33m(\u001b[0m\u001b[1;33m)\u001b[0m\u001b[1;33m)\u001b[0m\u001b[1;33m\u001b[0m\u001b[1;33m\u001b[0m\u001b[0m\n\u001b[1;32m---> 24\u001b[1;33m         \u001b[0mdf_trend\u001b[0m \u001b[1;33m=\u001b[0m \u001b[0mpd\u001b[0m\u001b[1;33m.\u001b[0m\u001b[0mconcat\u001b[0m\u001b[1;33m(\u001b[0m\u001b[1;33m[\u001b[0m\u001b[0mdf_trend\u001b[0m\u001b[1;33m,\u001b[0m\u001b[0mdf_trend_i\u001b[0m\u001b[1;33m]\u001b[0m\u001b[1;33m)\u001b[0m\u001b[1;33m\u001b[0m\u001b[1;33m\u001b[0m\u001b[0m\n\u001b[0m\u001b[0;32m     25\u001b[0m \u001b[1;33m\u001b[0m\u001b[0m\n\u001b[0;32m     26\u001b[0m         \u001b[0mdf_season_i\u001b[0m\u001b[1;33m=\u001b[0m \u001b[0mpd\u001b[0m\u001b[1;33m.\u001b[0m\u001b[0mDataFrame\u001b[0m\u001b[1;33m(\u001b[0m\u001b[1;33m{\u001b[0m\u001b[1;34m'Var_1_season'\u001b[0m\u001b[1;33m:\u001b[0m \u001b[0mresult_1\u001b[0m\u001b[1;33m.\u001b[0m\u001b[0mseasonal\u001b[0m \u001b[1;33m,\u001b[0m\u001b[1;34m'Var_2_season'\u001b[0m \u001b[1;33m:\u001b[0m \u001b[0mresult_2\u001b[0m\u001b[1;33m.\u001b[0m\u001b[0mseasonal\u001b[0m\u001b[1;33m,\u001b[0m\u001b[1;34m'Var_3_season'\u001b[0m\u001b[1;33m:\u001b[0m\u001b[0mresult_3\u001b[0m\u001b[1;33m.\u001b[0m\u001b[0mseasonal\u001b[0m\u001b[1;33m,\u001b[0m \u001b[1;34m'Var_5_season'\u001b[0m\u001b[1;33m:\u001b[0m\u001b[0mresult_5\u001b[0m\u001b[1;33m.\u001b[0m\u001b[0mseasonal\u001b[0m\u001b[1;33m,\u001b[0m \u001b[1;34m'id_int'\u001b[0m\u001b[1;33m:\u001b[0m \u001b[0mdfs\u001b[0m\u001b[1;33m[\u001b[0m\u001b[0mi\u001b[0m\u001b[1;33m]\u001b[0m\u001b[1;33m.\u001b[0m\u001b[0mid_int\u001b[0m\u001b[1;33m}\u001b[0m\u001b[1;33m)\u001b[0m\u001b[1;33m\u001b[0m\u001b[1;33m\u001b[0m\u001b[0m\n",
      "\u001b[1;32m~\\anaconda3\\envs\\tensorflow\\lib\\site-packages\\pandas\\core\\reshape\\concat.py\u001b[0m in \u001b[0;36mconcat\u001b[1;34m(objs, axis, join, ignore_index, keys, levels, names, verify_integrity, sort, copy)\u001b[0m\n\u001b[0;32m    293\u001b[0m         \u001b[0mverify_integrity\u001b[0m\u001b[1;33m=\u001b[0m\u001b[0mverify_integrity\u001b[0m\u001b[1;33m,\u001b[0m\u001b[1;33m\u001b[0m\u001b[1;33m\u001b[0m\u001b[0m\n\u001b[0;32m    294\u001b[0m         \u001b[0mcopy\u001b[0m\u001b[1;33m=\u001b[0m\u001b[0mcopy\u001b[0m\u001b[1;33m,\u001b[0m\u001b[1;33m\u001b[0m\u001b[1;33m\u001b[0m\u001b[0m\n\u001b[1;32m--> 295\u001b[1;33m         \u001b[0msort\u001b[0m\u001b[1;33m=\u001b[0m\u001b[0msort\u001b[0m\u001b[1;33m,\u001b[0m\u001b[1;33m\u001b[0m\u001b[1;33m\u001b[0m\u001b[0m\n\u001b[0m\u001b[0;32m    296\u001b[0m     )\n\u001b[0;32m    297\u001b[0m \u001b[1;33m\u001b[0m\u001b[0m\n",
      "\u001b[1;32m~\\anaconda3\\envs\\tensorflow\\lib\\site-packages\\pandas\\core\\reshape\\concat.py\u001b[0m in \u001b[0;36m__init__\u001b[1;34m(self, objs, axis, join, keys, levels, names, ignore_index, verify_integrity, copy, sort)\u001b[0m\n\u001b[0;32m    465\u001b[0m         \u001b[0mself\u001b[0m\u001b[1;33m.\u001b[0m\u001b[0mcopy\u001b[0m \u001b[1;33m=\u001b[0m \u001b[0mcopy\u001b[0m\u001b[1;33m\u001b[0m\u001b[1;33m\u001b[0m\u001b[0m\n\u001b[0;32m    466\u001b[0m \u001b[1;33m\u001b[0m\u001b[0m\n\u001b[1;32m--> 467\u001b[1;33m         \u001b[0mself\u001b[0m\u001b[1;33m.\u001b[0m\u001b[0mnew_axes\u001b[0m \u001b[1;33m=\u001b[0m \u001b[0mself\u001b[0m\u001b[1;33m.\u001b[0m\u001b[0m_get_new_axes\u001b[0m\u001b[1;33m(\u001b[0m\u001b[1;33m)\u001b[0m\u001b[1;33m\u001b[0m\u001b[1;33m\u001b[0m\u001b[0m\n\u001b[0m\u001b[0;32m    468\u001b[0m \u001b[1;33m\u001b[0m\u001b[0m\n\u001b[0;32m    469\u001b[0m     \u001b[1;32mdef\u001b[0m \u001b[0mget_result\u001b[0m\u001b[1;33m(\u001b[0m\u001b[0mself\u001b[0m\u001b[1;33m)\u001b[0m\u001b[1;33m:\u001b[0m\u001b[1;33m\u001b[0m\u001b[1;33m\u001b[0m\u001b[0m\n",
      "\u001b[1;32m~\\anaconda3\\envs\\tensorflow\\lib\\site-packages\\pandas\\core\\reshape\\concat.py\u001b[0m in \u001b[0;36m_get_new_axes\u001b[1;34m(self)\u001b[0m\n\u001b[0;32m    537\u001b[0m         return [\n\u001b[0;32m    538\u001b[0m             \u001b[0mself\u001b[0m\u001b[1;33m.\u001b[0m\u001b[0m_get_concat_axis\u001b[0m\u001b[1;33m(\u001b[0m\u001b[1;33m)\u001b[0m \u001b[1;32mif\u001b[0m \u001b[0mi\u001b[0m \u001b[1;33m==\u001b[0m \u001b[0mself\u001b[0m\u001b[1;33m.\u001b[0m\u001b[0mbm_axis\u001b[0m \u001b[1;32melse\u001b[0m \u001b[0mself\u001b[0m\u001b[1;33m.\u001b[0m\u001b[0m_get_comb_axis\u001b[0m\u001b[1;33m(\u001b[0m\u001b[0mi\u001b[0m\u001b[1;33m)\u001b[0m\u001b[1;33m\u001b[0m\u001b[1;33m\u001b[0m\u001b[0m\n\u001b[1;32m--> 539\u001b[1;33m             \u001b[1;32mfor\u001b[0m \u001b[0mi\u001b[0m \u001b[1;32min\u001b[0m \u001b[0mrange\u001b[0m\u001b[1;33m(\u001b[0m\u001b[0mndim\u001b[0m\u001b[1;33m)\u001b[0m\u001b[1;33m\u001b[0m\u001b[1;33m\u001b[0m\u001b[0m\n\u001b[0m\u001b[0;32m    540\u001b[0m         ]\n\u001b[0;32m    541\u001b[0m \u001b[1;33m\u001b[0m\u001b[0m\n",
      "\u001b[1;32m~\\anaconda3\\envs\\tensorflow\\lib\\site-packages\\pandas\\core\\reshape\\concat.py\u001b[0m in \u001b[0;36m<listcomp>\u001b[1;34m(.0)\u001b[0m\n\u001b[0;32m    537\u001b[0m         return [\n\u001b[0;32m    538\u001b[0m             \u001b[0mself\u001b[0m\u001b[1;33m.\u001b[0m\u001b[0m_get_concat_axis\u001b[0m\u001b[1;33m(\u001b[0m\u001b[1;33m)\u001b[0m \u001b[1;32mif\u001b[0m \u001b[0mi\u001b[0m \u001b[1;33m==\u001b[0m \u001b[0mself\u001b[0m\u001b[1;33m.\u001b[0m\u001b[0mbm_axis\u001b[0m \u001b[1;32melse\u001b[0m \u001b[0mself\u001b[0m\u001b[1;33m.\u001b[0m\u001b[0m_get_comb_axis\u001b[0m\u001b[1;33m(\u001b[0m\u001b[0mi\u001b[0m\u001b[1;33m)\u001b[0m\u001b[1;33m\u001b[0m\u001b[1;33m\u001b[0m\u001b[0m\n\u001b[1;32m--> 539\u001b[1;33m             \u001b[1;32mfor\u001b[0m \u001b[0mi\u001b[0m \u001b[1;32min\u001b[0m \u001b[0mrange\u001b[0m\u001b[1;33m(\u001b[0m\u001b[0mndim\u001b[0m\u001b[1;33m)\u001b[0m\u001b[1;33m\u001b[0m\u001b[1;33m\u001b[0m\u001b[0m\n\u001b[0m\u001b[0;32m    540\u001b[0m         ]\n\u001b[0;32m    541\u001b[0m \u001b[1;33m\u001b[0m\u001b[0m\n",
      "\u001b[1;32m~\\anaconda3\\envs\\tensorflow\\lib\\site-packages\\pandas\\core\\reshape\\concat.py\u001b[0m in \u001b[0;36m_get_concat_axis\u001b[1;34m(self)\u001b[0m\n\u001b[0;32m    590\u001b[0m \u001b[1;33m\u001b[0m\u001b[0m\n\u001b[0;32m    591\u001b[0m         \u001b[1;32mif\u001b[0m \u001b[0mself\u001b[0m\u001b[1;33m.\u001b[0m\u001b[0mkeys\u001b[0m \u001b[1;32mis\u001b[0m \u001b[1;32mNone\u001b[0m\u001b[1;33m:\u001b[0m\u001b[1;33m\u001b[0m\u001b[1;33m\u001b[0m\u001b[0m\n\u001b[1;32m--> 592\u001b[1;33m             \u001b[0mconcat_axis\u001b[0m \u001b[1;33m=\u001b[0m \u001b[0m_concat_indexes\u001b[0m\u001b[1;33m(\u001b[0m\u001b[0mindexes\u001b[0m\u001b[1;33m)\u001b[0m\u001b[1;33m\u001b[0m\u001b[1;33m\u001b[0m\u001b[0m\n\u001b[0m\u001b[0;32m    593\u001b[0m         \u001b[1;32melse\u001b[0m\u001b[1;33m:\u001b[0m\u001b[1;33m\u001b[0m\u001b[1;33m\u001b[0m\u001b[0m\n\u001b[0;32m    594\u001b[0m             concat_axis = _make_concat_multiindex(\n",
      "\u001b[1;32m~\\anaconda3\\envs\\tensorflow\\lib\\site-packages\\pandas\\core\\reshape\\concat.py\u001b[0m in \u001b[0;36m_concat_indexes\u001b[1;34m(indexes)\u001b[0m\n\u001b[0;32m    608\u001b[0m \u001b[1;33m\u001b[0m\u001b[0m\n\u001b[0;32m    609\u001b[0m \u001b[1;32mdef\u001b[0m \u001b[0m_concat_indexes\u001b[0m\u001b[1;33m(\u001b[0m\u001b[0mindexes\u001b[0m\u001b[1;33m)\u001b[0m \u001b[1;33m->\u001b[0m \u001b[0mIndex\u001b[0m\u001b[1;33m:\u001b[0m\u001b[1;33m\u001b[0m\u001b[1;33m\u001b[0m\u001b[0m\n\u001b[1;32m--> 610\u001b[1;33m     \u001b[1;32mreturn\u001b[0m \u001b[0mindexes\u001b[0m\u001b[1;33m[\u001b[0m\u001b[1;36m0\u001b[0m\u001b[1;33m]\u001b[0m\u001b[1;33m.\u001b[0m\u001b[0mappend\u001b[0m\u001b[1;33m(\u001b[0m\u001b[0mindexes\u001b[0m\u001b[1;33m[\u001b[0m\u001b[1;36m1\u001b[0m\u001b[1;33m:\u001b[0m\u001b[1;33m]\u001b[0m\u001b[1;33m)\u001b[0m\u001b[1;33m\u001b[0m\u001b[1;33m\u001b[0m\u001b[0m\n\u001b[0m\u001b[0;32m    611\u001b[0m \u001b[1;33m\u001b[0m\u001b[0m\n\u001b[0;32m    612\u001b[0m \u001b[1;33m\u001b[0m\u001b[0m\n",
      "\u001b[1;32m~\\anaconda3\\envs\\tensorflow\\lib\\site-packages\\pandas\\core\\indexes\\base.py\u001b[0m in \u001b[0;36mappend\u001b[1;34m(self, other)\u001b[0m\n\u001b[0;32m   4354\u001b[0m         \u001b[0mname\u001b[0m \u001b[1;33m=\u001b[0m \u001b[1;32mNone\u001b[0m \u001b[1;32mif\u001b[0m \u001b[0mlen\u001b[0m\u001b[1;33m(\u001b[0m\u001b[0mnames\u001b[0m\u001b[1;33m)\u001b[0m \u001b[1;33m>\u001b[0m \u001b[1;36m1\u001b[0m \u001b[1;32melse\u001b[0m \u001b[0mself\u001b[0m\u001b[1;33m.\u001b[0m\u001b[0mname\u001b[0m\u001b[1;33m\u001b[0m\u001b[1;33m\u001b[0m\u001b[0m\n\u001b[0;32m   4355\u001b[0m \u001b[1;33m\u001b[0m\u001b[0m\n\u001b[1;32m-> 4356\u001b[1;33m         \u001b[1;32mreturn\u001b[0m \u001b[0mself\u001b[0m\u001b[1;33m.\u001b[0m\u001b[0m_concat\u001b[0m\u001b[1;33m(\u001b[0m\u001b[0mto_concat\u001b[0m\u001b[1;33m,\u001b[0m \u001b[0mname\u001b[0m\u001b[1;33m)\u001b[0m\u001b[1;33m\u001b[0m\u001b[1;33m\u001b[0m\u001b[0m\n\u001b[0m\u001b[0;32m   4357\u001b[0m \u001b[1;33m\u001b[0m\u001b[0m\n\u001b[0;32m   4358\u001b[0m     \u001b[1;32mdef\u001b[0m \u001b[0m_concat\u001b[0m\u001b[1;33m(\u001b[0m\u001b[0mself\u001b[0m\u001b[1;33m,\u001b[0m \u001b[0mto_concat\u001b[0m\u001b[1;33m:\u001b[0m \u001b[0mList\u001b[0m\u001b[1;33m[\u001b[0m\u001b[1;34m\"Index\"\u001b[0m\u001b[1;33m]\u001b[0m\u001b[1;33m,\u001b[0m \u001b[0mname\u001b[0m\u001b[1;33m:\u001b[0m \u001b[0mLabel\u001b[0m\u001b[1;33m)\u001b[0m \u001b[1;33m->\u001b[0m \u001b[1;34m\"Index\"\u001b[0m\u001b[1;33m:\u001b[0m\u001b[1;33m\u001b[0m\u001b[1;33m\u001b[0m\u001b[0m\n",
      "\u001b[1;32m~\\anaconda3\\envs\\tensorflow\\lib\\site-packages\\pandas\\core\\indexes\\base.py\u001b[0m in \u001b[0;36m_concat\u001b[1;34m(self, to_concat, name)\u001b[0m\n\u001b[0;32m   4362\u001b[0m         \u001b[0mto_concat_vals\u001b[0m \u001b[1;33m=\u001b[0m \u001b[1;33m[\u001b[0m\u001b[0mx\u001b[0m\u001b[1;33m.\u001b[0m\u001b[0m_values\u001b[0m \u001b[1;32mfor\u001b[0m \u001b[0mx\u001b[0m \u001b[1;32min\u001b[0m \u001b[0mto_concat\u001b[0m\u001b[1;33m]\u001b[0m\u001b[1;33m\u001b[0m\u001b[1;33m\u001b[0m\u001b[0m\n\u001b[0;32m   4363\u001b[0m \u001b[1;33m\u001b[0m\u001b[0m\n\u001b[1;32m-> 4364\u001b[1;33m         \u001b[0mresult\u001b[0m \u001b[1;33m=\u001b[0m \u001b[0mconcat_compat\u001b[0m\u001b[1;33m(\u001b[0m\u001b[0mto_concat_vals\u001b[0m\u001b[1;33m)\u001b[0m\u001b[1;33m\u001b[0m\u001b[1;33m\u001b[0m\u001b[0m\n\u001b[0m\u001b[0;32m   4365\u001b[0m         \u001b[1;32mreturn\u001b[0m \u001b[0mIndex\u001b[0m\u001b[1;33m(\u001b[0m\u001b[0mresult\u001b[0m\u001b[1;33m,\u001b[0m \u001b[0mname\u001b[0m\u001b[1;33m=\u001b[0m\u001b[0mname\u001b[0m\u001b[1;33m)\u001b[0m\u001b[1;33m\u001b[0m\u001b[1;33m\u001b[0m\u001b[0m\n\u001b[0;32m   4366\u001b[0m \u001b[1;33m\u001b[0m\u001b[0m\n",
      "\u001b[1;32m~\\anaconda3\\envs\\tensorflow\\lib\\site-packages\\pandas\\core\\dtypes\\concat.py\u001b[0m in \u001b[0;36mconcat_compat\u001b[1;34m(to_concat, axis)\u001b[0m\n\u001b[0;32m    169\u001b[0m                 \u001b[0mto_concat\u001b[0m \u001b[1;33m=\u001b[0m \u001b[1;33m[\u001b[0m\u001b[0mx\u001b[0m\u001b[1;33m.\u001b[0m\u001b[0mastype\u001b[0m\u001b[1;33m(\u001b[0m\u001b[1;34m\"object\"\u001b[0m\u001b[1;33m)\u001b[0m \u001b[1;32mfor\u001b[0m \u001b[0mx\u001b[0m \u001b[1;32min\u001b[0m \u001b[0mto_concat\u001b[0m\u001b[1;33m]\u001b[0m\u001b[1;33m\u001b[0m\u001b[1;33m\u001b[0m\u001b[0m\n\u001b[0;32m    170\u001b[0m \u001b[1;33m\u001b[0m\u001b[0m\n\u001b[1;32m--> 171\u001b[1;33m     \u001b[1;32mreturn\u001b[0m \u001b[0mnp\u001b[0m\u001b[1;33m.\u001b[0m\u001b[0mconcatenate\u001b[0m\u001b[1;33m(\u001b[0m\u001b[0mto_concat\u001b[0m\u001b[1;33m,\u001b[0m \u001b[0maxis\u001b[0m\u001b[1;33m=\u001b[0m\u001b[0maxis\u001b[0m\u001b[1;33m)\u001b[0m\u001b[1;33m\u001b[0m\u001b[1;33m\u001b[0m\u001b[0m\n\u001b[0m\u001b[0;32m    172\u001b[0m \u001b[1;33m\u001b[0m\u001b[0m\n\u001b[0;32m    173\u001b[0m \u001b[1;33m\u001b[0m\u001b[0m\n",
      "\u001b[1;32m<__array_function__ internals>\u001b[0m in \u001b[0;36mconcatenate\u001b[1;34m(*args, **kwargs)\u001b[0m\n",
      "\u001b[1;31mKeyboardInterrupt\u001b[0m: "
     ]
    }
   ],
   "source": [
    "df_result_freq = choix_frequence (dfs, [1,2,3,4,5,10,12,15,20,25,30,35,40,45])"
   ]
  },
  {
   "cell_type": "code",
   "execution_count": 158,
   "id": "employed-police",
   "metadata": {},
   "outputs": [
    {
     "name": "stderr",
     "output_type": "stream",
     "text": [
      "C:\\Users\\louis\\anaconda3\\envs\\tensorflow\\lib\\site-packages\\ipykernel_launcher.py:16: FutureWarning: the 'freq'' keyword is deprecated, use 'period' instead\n",
      "  app.launch_new_instance()\n",
      "C:\\Users\\louis\\anaconda3\\envs\\tensorflow\\lib\\site-packages\\ipykernel_launcher.py:17: FutureWarning: the 'freq'' keyword is deprecated, use 'period' instead\n",
      "C:\\Users\\louis\\anaconda3\\envs\\tensorflow\\lib\\site-packages\\ipykernel_launcher.py:18: FutureWarning: the 'freq'' keyword is deprecated, use 'period' instead\n",
      "C:\\Users\\louis\\anaconda3\\envs\\tensorflow\\lib\\site-packages\\ipykernel_launcher.py:19: FutureWarning: the 'freq'' keyword is deprecated, use 'period' instead\n"
     ]
    },
    {
     "name": "stdout",
     "output_type": "stream",
     "text": [
      "25% du traitement effectué\n",
      "50% du traitement effectué\n",
      "75% du traitement effectué\n",
      "Terminé ! \n"
     ]
    },
    {
     "data": {
      "text/plain": [
       "(        Var_1_trend  Var_2_trend  Var_3_trend  Var_5_trend id_int\n",
       " 0         -0.511628    -0.274130    -0.348868     0.183746   1823\n",
       " 1         -0.511628    -0.274130    -0.348868     0.183746   1823\n",
       " 2         -0.511628    -0.274130    -0.348868     0.183746   1823\n",
       " 3         -0.511628    -0.274130    -0.348868     0.183746   1823\n",
       " 4         -0.511628    -0.274130    -0.348868     0.183746   1823\n",
       " ...             ...          ...          ...          ...    ...\n",
       " 661595    -0.109935     0.167342    -0.228079    -0.319362   8438\n",
       " 661596    -0.109935     0.167342    -0.228079    -0.319362   8438\n",
       " 661597    -0.109935     0.167342    -0.228079    -0.319362   8438\n",
       " 661598    -0.109935     0.167342    -0.228079    -0.319362   8438\n",
       " 661599    -0.109935     0.167342    -0.228079    -0.319362   8438\n",
       " \n",
       " [661200 rows x 5 columns],\n",
       "         Var_1_season  Var_2_season  Var_3_season  Var_5_season id_int\n",
       " 0           0.045935     -0.055076      0.119615      0.247277   1823\n",
       " 1           0.004860     -0.076582     -0.083375     -1.386463   1823\n",
       " 2          -0.040855      0.084014     -0.936902      1.303882   1823\n",
       " 3           0.115265     -0.058893      1.085941     -1.050399   1823\n",
       " 4          -0.093144      0.077766     -0.190136     -0.997365   1823\n",
       " ...              ...           ...           ...           ...    ...\n",
       " 661595     -0.288496      0.455170     -0.574986      0.617497   8438\n",
       " 661596     -0.393801     -0.083390     -0.952927      1.375586   8438\n",
       " 661597      0.012224     -0.529300     -1.558491     -0.226762   8438\n",
       " 661598     -0.256450      0.062558      0.261487     -0.257178   8438\n",
       " 661599     -0.427859      0.072181      0.620101     -1.063480   8438\n",
       " \n",
       " [661200 rows x 5 columns],\n",
       "         Var_1_resid  Var_2_resid  Var_3_resid  Var_5_resid id_int\n",
       " 0         -0.026414     0.007899    -0.173042    -0.444967   1823\n",
       " 1         -0.026414     0.007899    -0.173042    -0.444967   1823\n",
       " 2         -0.026414     0.007899    -0.173042    -0.444967   1823\n",
       " 3         -0.026414     0.007899    -0.173042    -0.444967   1823\n",
       " 4         -0.026414     0.007899    -0.173042    -0.444967   1823\n",
       " ...             ...          ...          ...          ...    ...\n",
       " 661595     0.180726     0.443903     0.514067     0.708193   8438\n",
       " 661596     0.180726     0.443903     0.514067     0.708193   8438\n",
       " 661597     0.180726     0.443903     0.514067     0.708193   8438\n",
       " 661598     0.180726     0.443903     0.514067     0.708193   8438\n",
       " 661599     0.180726     0.443903     0.514067     0.708193   8438\n",
       " \n",
       " [661200 rows x 5 columns])"
      ]
     },
     "execution_count": 158,
     "metadata": {},
     "output_type": "execute_result"
    }
   ],
   "source": [
    "decompose_serie (dfs, 49)"
   ]
  },
  {
   "cell_type": "code",
   "execution_count": 157,
   "id": "meaning-leadership",
   "metadata": {},
   "outputs": [
    {
     "data": {
      "text/html": [
       "<div>\n",
       "<style scoped>\n",
       "    .dataframe tbody tr th:only-of-type {\n",
       "        vertical-align: middle;\n",
       "    }\n",
       "\n",
       "    .dataframe tbody tr th {\n",
       "        vertical-align: top;\n",
       "    }\n",
       "\n",
       "    .dataframe thead th {\n",
       "        text-align: right;\n",
       "    }\n",
       "</style>\n",
       "<table border=\"1\" class=\"dataframe\">\n",
       "  <thead>\n",
       "    <tr style=\"text-align: right;\">\n",
       "      <th></th>\n",
       "      <th>Frequence</th>\n",
       "      <th>Loss</th>\n",
       "    </tr>\n",
       "  </thead>\n",
       "  <tbody>\n",
       "    <tr>\n",
       "      <th>0</th>\n",
       "      <td>1</td>\n",
       "      <td>0.011692</td>\n",
       "    </tr>\n",
       "    <tr>\n",
       "      <th>0</th>\n",
       "      <td>5</td>\n",
       "      <td>0.003085</td>\n",
       "    </tr>\n",
       "    <tr>\n",
       "      <th>0</th>\n",
       "      <td>10</td>\n",
       "      <td>0.015555</td>\n",
       "    </tr>\n",
       "    <tr>\n",
       "      <th>0</th>\n",
       "      <td>15</td>\n",
       "      <td>0.011198</td>\n",
       "    </tr>\n",
       "    <tr>\n",
       "      <th>0</th>\n",
       "      <td>20</td>\n",
       "      <td>0.020276</td>\n",
       "    </tr>\n",
       "    <tr>\n",
       "      <th>0</th>\n",
       "      <td>25</td>\n",
       "      <td>0.017868</td>\n",
       "    </tr>\n",
       "    <tr>\n",
       "      <th>0</th>\n",
       "      <td>30</td>\n",
       "      <td>0.016033</td>\n",
       "    </tr>\n",
       "    <tr>\n",
       "      <th>0</th>\n",
       "      <td>35</td>\n",
       "      <td>0.003710</td>\n",
       "    </tr>\n",
       "    <tr>\n",
       "      <th>0</th>\n",
       "      <td>40</td>\n",
       "      <td>0.001802</td>\n",
       "    </tr>\n",
       "    <tr>\n",
       "      <th>0</th>\n",
       "      <td>45</td>\n",
       "      <td>0.021620</td>\n",
       "    </tr>\n",
       "  </tbody>\n",
       "</table>\n",
       "</div>"
      ],
      "text/plain": [
       "  Frequence      Loss\n",
       "0         1  0.011692\n",
       "0         5  0.003085\n",
       "0        10  0.015555\n",
       "0        15  0.011198\n",
       "0        20  0.020276\n",
       "0        25  0.017868\n",
       "0        30  0.016033\n",
       "0        35  0.003710\n",
       "0        40  0.001802\n",
       "0        45  0.021620"
      ]
     },
     "execution_count": 157,
     "metadata": {},
     "output_type": "execute_result"
    }
   ],
   "source": [
    "df_result_freq"
   ]
  },
  {
   "cell_type": "code",
   "execution_count": null,
   "id": "coated-bicycle",
   "metadata": {},
   "outputs": [],
   "source": [
    "X_complement.shape[2]\n",
    "X_complement=np.asarray(X_complement).astype(np.float32)"
   ]
  },
  {
   "cell_type": "code",
   "execution_count": 266,
   "id": "alone-patrick",
   "metadata": {},
   "outputs": [],
   "source": [
    "model = Sequential()\n",
    "model.add(Conv1D(filters=64, kernel_size=2, activation='tanh', input_shape=(100, 28)))\n",
    "model.add(MaxPooling1D(pool_size=2))\n",
    "model.add(Conv1D(filters=64, kernel_size=2, activation='tanh', input_shape=(100, 28)))\n",
    "model.add(MaxPooling1D(pool_size=2))\n",
    "model.add(Flatten())\n",
    "model.add(Dense(50, activation=\"linear\"))\n",
    "model.add(Dense(1))\n",
    "model.compile(optimizer='adam', loss='mse')"
   ]
  },
  {
   "cell_type": "code",
   "execution_count": 267,
   "id": "infectious-humanity",
   "metadata": {},
   "outputs": [
    {
     "name": "stdout",
     "output_type": "stream",
     "text": [
      "Epoch 1/10\n",
      "166/166 [==============================] - ETA: 0s - loss: 1.2455"
     ]
    },
    {
     "ename": "ValueError",
     "evalue": "Data cardinality is ambiguous:\n  x sizes: 1324\n  y sizes: 0\nPlease provide data which shares the same first dimension.",
     "output_type": "error",
     "traceback": [
      "\u001b[1;31m---------------------------------------------------------------------------\u001b[0m",
      "\u001b[1;31mValueError\u001b[0m                                Traceback (most recent call last)",
      "\u001b[1;32m<ipython-input-267-c22b9a4e8f15>\u001b[0m in \u001b[0;36m<module>\u001b[1;34m\u001b[0m\n\u001b[1;32m----> 1\u001b[1;33m \u001b[0mhistory\u001b[0m \u001b[1;33m=\u001b[0m \u001b[0mmodel\u001b[0m\u001b[1;33m.\u001b[0m\u001b[0mfit\u001b[0m\u001b[1;33m(\u001b[0m\u001b[0mX_complement\u001b[0m\u001b[1;33m,\u001b[0m \u001b[0mY_train\u001b[0m\u001b[1;33m,\u001b[0m \u001b[0mepochs\u001b[0m\u001b[1;33m=\u001b[0m\u001b[1;36m10\u001b[0m\u001b[1;33m,\u001b[0m \u001b[0mvalidation_split\u001b[0m \u001b[1;33m=\u001b[0m \u001b[1;36m0.2\u001b[0m\u001b[1;33m)\u001b[0m\u001b[1;33m\u001b[0m\u001b[1;33m\u001b[0m\u001b[0m\n\u001b[0m",
      "\u001b[1;32m~\\anaconda3\\envs\\tensorflow\\lib\\site-packages\\tensorflow\\python\\keras\\engine\\training.py\u001b[0m in \u001b[0;36m_method_wrapper\u001b[1;34m(self, *args, **kwargs)\u001b[0m\n\u001b[0;32m    106\u001b[0m   \u001b[1;32mdef\u001b[0m \u001b[0m_method_wrapper\u001b[0m\u001b[1;33m(\u001b[0m\u001b[0mself\u001b[0m\u001b[1;33m,\u001b[0m \u001b[1;33m*\u001b[0m\u001b[0margs\u001b[0m\u001b[1;33m,\u001b[0m \u001b[1;33m**\u001b[0m\u001b[0mkwargs\u001b[0m\u001b[1;33m)\u001b[0m\u001b[1;33m:\u001b[0m\u001b[1;33m\u001b[0m\u001b[1;33m\u001b[0m\u001b[0m\n\u001b[0;32m    107\u001b[0m     \u001b[1;32mif\u001b[0m \u001b[1;32mnot\u001b[0m \u001b[0mself\u001b[0m\u001b[1;33m.\u001b[0m\u001b[0m_in_multi_worker_mode\u001b[0m\u001b[1;33m(\u001b[0m\u001b[1;33m)\u001b[0m\u001b[1;33m:\u001b[0m  \u001b[1;31m# pylint: disable=protected-access\u001b[0m\u001b[1;33m\u001b[0m\u001b[1;33m\u001b[0m\u001b[0m\n\u001b[1;32m--> 108\u001b[1;33m       \u001b[1;32mreturn\u001b[0m \u001b[0mmethod\u001b[0m\u001b[1;33m(\u001b[0m\u001b[0mself\u001b[0m\u001b[1;33m,\u001b[0m \u001b[1;33m*\u001b[0m\u001b[0margs\u001b[0m\u001b[1;33m,\u001b[0m \u001b[1;33m**\u001b[0m\u001b[0mkwargs\u001b[0m\u001b[1;33m)\u001b[0m\u001b[1;33m\u001b[0m\u001b[1;33m\u001b[0m\u001b[0m\n\u001b[0m\u001b[0;32m    109\u001b[0m \u001b[1;33m\u001b[0m\u001b[0m\n\u001b[0;32m    110\u001b[0m     \u001b[1;31m# Running inside `run_distribute_coordinator` already.\u001b[0m\u001b[1;33m\u001b[0m\u001b[1;33m\u001b[0m\u001b[1;33m\u001b[0m\u001b[0m\n",
      "\u001b[1;32m~\\anaconda3\\envs\\tensorflow\\lib\\site-packages\\tensorflow\\python\\keras\\engine\\training.py\u001b[0m in \u001b[0;36mfit\u001b[1;34m(self, x, y, batch_size, epochs, verbose, callbacks, validation_split, validation_data, shuffle, class_weight, sample_weight, initial_epoch, steps_per_epoch, validation_steps, validation_batch_size, validation_freq, max_queue_size, workers, use_multiprocessing)\u001b[0m\n\u001b[0;32m   1120\u001b[0m                 \u001b[0muse_multiprocessing\u001b[0m\u001b[1;33m=\u001b[0m\u001b[0muse_multiprocessing\u001b[0m\u001b[1;33m,\u001b[0m\u001b[1;33m\u001b[0m\u001b[1;33m\u001b[0m\u001b[0m\n\u001b[0;32m   1121\u001b[0m                 \u001b[0mmodel\u001b[0m\u001b[1;33m=\u001b[0m\u001b[0mself\u001b[0m\u001b[1;33m,\u001b[0m\u001b[1;33m\u001b[0m\u001b[1;33m\u001b[0m\u001b[0m\n\u001b[1;32m-> 1122\u001b[1;33m                 steps_per_execution=self._steps_per_execution)\n\u001b[0m\u001b[0;32m   1123\u001b[0m           val_logs = self.evaluate(\n\u001b[0;32m   1124\u001b[0m               \u001b[0mx\u001b[0m\u001b[1;33m=\u001b[0m\u001b[0mval_x\u001b[0m\u001b[1;33m,\u001b[0m\u001b[1;33m\u001b[0m\u001b[1;33m\u001b[0m\u001b[0m\n",
      "\u001b[1;32m~\\anaconda3\\envs\\tensorflow\\lib\\site-packages\\tensorflow\\python\\keras\\engine\\data_adapter.py\u001b[0m in \u001b[0;36m__init__\u001b[1;34m(self, x, y, sample_weight, batch_size, steps_per_epoch, initial_epoch, epochs, shuffle, class_weight, max_queue_size, workers, use_multiprocessing, model, steps_per_execution)\u001b[0m\n\u001b[0;32m   1115\u001b[0m         \u001b[0muse_multiprocessing\u001b[0m\u001b[1;33m=\u001b[0m\u001b[0muse_multiprocessing\u001b[0m\u001b[1;33m,\u001b[0m\u001b[1;33m\u001b[0m\u001b[1;33m\u001b[0m\u001b[0m\n\u001b[0;32m   1116\u001b[0m         \u001b[0mdistribution_strategy\u001b[0m\u001b[1;33m=\u001b[0m\u001b[0mds_context\u001b[0m\u001b[1;33m.\u001b[0m\u001b[0mget_strategy\u001b[0m\u001b[1;33m(\u001b[0m\u001b[1;33m)\u001b[0m\u001b[1;33m,\u001b[0m\u001b[1;33m\u001b[0m\u001b[1;33m\u001b[0m\u001b[0m\n\u001b[1;32m-> 1117\u001b[1;33m         model=model)\n\u001b[0m\u001b[0;32m   1118\u001b[0m \u001b[1;33m\u001b[0m\u001b[0m\n\u001b[0;32m   1119\u001b[0m     \u001b[0mstrategy\u001b[0m \u001b[1;33m=\u001b[0m \u001b[0mds_context\u001b[0m\u001b[1;33m.\u001b[0m\u001b[0mget_strategy\u001b[0m\u001b[1;33m(\u001b[0m\u001b[1;33m)\u001b[0m\u001b[1;33m\u001b[0m\u001b[1;33m\u001b[0m\u001b[0m\n",
      "\u001b[1;32m~\\anaconda3\\envs\\tensorflow\\lib\\site-packages\\tensorflow\\python\\keras\\engine\\data_adapter.py\u001b[0m in \u001b[0;36m__init__\u001b[1;34m(self, x, y, sample_weights, sample_weight_modes, batch_size, epochs, steps, shuffle, **kwargs)\u001b[0m\n\u001b[0;32m    280\u001b[0m             label, \", \".join(str(i.shape[0]) for i in nest.flatten(data)))\n\u001b[0;32m    281\u001b[0m       \u001b[0mmsg\u001b[0m \u001b[1;33m+=\u001b[0m \u001b[1;34m\"Please provide data which shares the same first dimension.\"\u001b[0m\u001b[1;33m\u001b[0m\u001b[1;33m\u001b[0m\u001b[0m\n\u001b[1;32m--> 282\u001b[1;33m       \u001b[1;32mraise\u001b[0m \u001b[0mValueError\u001b[0m\u001b[1;33m(\u001b[0m\u001b[0mmsg\u001b[0m\u001b[1;33m)\u001b[0m\u001b[1;33m\u001b[0m\u001b[1;33m\u001b[0m\u001b[0m\n\u001b[0m\u001b[0;32m    283\u001b[0m     \u001b[0mnum_samples\u001b[0m \u001b[1;33m=\u001b[0m \u001b[0mnum_samples\u001b[0m\u001b[1;33m.\u001b[0m\u001b[0mpop\u001b[0m\u001b[1;33m(\u001b[0m\u001b[1;33m)\u001b[0m\u001b[1;33m\u001b[0m\u001b[1;33m\u001b[0m\u001b[0m\n\u001b[0;32m    284\u001b[0m \u001b[1;33m\u001b[0m\u001b[0m\n",
      "\u001b[1;31mValueError\u001b[0m: Data cardinality is ambiguous:\n  x sizes: 1324\n  y sizes: 0\nPlease provide data which shares the same first dimension."
     ]
    }
   ],
   "source": [
    "history = model.fit(X_complement, Y_train, epochs=10, validation_split = 0.2)"
   ]
  },
  {
   "cell_type": "code",
   "execution_count": null,
   "id": "collectible-empty",
   "metadata": {},
   "outputs": [],
   "source": []
  },
  {
   "cell_type": "code",
   "execution_count": null,
   "id": "fewer-techno",
   "metadata": {},
   "outputs": [],
   "source": []
  },
  {
   "cell_type": "code",
   "execution_count": null,
   "id": "lasting-prediction",
   "metadata": {},
   "outputs": [],
   "source": []
  },
  {
   "cell_type": "code",
   "execution_count": null,
   "id": "affected-romantic",
   "metadata": {},
   "outputs": [],
   "source": []
  },
  {
   "cell_type": "code",
   "execution_count": null,
   "id": "voluntary-business",
   "metadata": {},
   "outputs": [],
   "source": []
  },
  {
   "cell_type": "code",
   "execution_count": null,
   "id": "later-airline",
   "metadata": {},
   "outputs": [],
   "source": []
  },
  {
   "cell_type": "code",
   "execution_count": null,
   "id": "worth-corporation",
   "metadata": {},
   "outputs": [],
   "source": []
  },
  {
   "cell_type": "code",
   "execution_count": null,
   "id": "hispanic-indonesian",
   "metadata": {},
   "outputs": [],
   "source": []
  },
  {
   "cell_type": "code",
   "execution_count": null,
   "id": "removed-three",
   "metadata": {},
   "outputs": [],
   "source": []
  },
  {
   "cell_type": "code",
   "execution_count": null,
   "id": "invisible-chemical",
   "metadata": {},
   "outputs": [],
   "source": []
  },
  {
   "cell_type": "code",
   "execution_count": null,
   "id": "latest-harvey",
   "metadata": {},
   "outputs": [],
   "source": []
  },
  {
   "cell_type": "code",
   "execution_count": 268,
   "id": "greater-london",
   "metadata": {},
   "outputs": [],
   "source": [
    "X_complement_train, X_complement_test, X_trend_train , X_trend_test, X_season_train, X_season_test, X_resid_train, X_resid_test, Y_train, Y_test = train_test_split(X_complement,X_trend,X_season,X_resid, y, test_size = 0.2)"
   ]
  },
  {
   "cell_type": "code",
   "execution_count": null,
   "id": "strange-oxford",
   "metadata": {},
   "outputs": [],
   "source": []
  },
  {
   "cell_type": "code",
   "execution_count": 269,
   "id": "damaged-counter",
   "metadata": {},
   "outputs": [],
   "source": [
    "# define model\n",
    "model = Sequential()\n",
    "model.add(Conv1D(filters=64, kernel_size=2, activation='relu', input_shape=(100,4)))\n",
    "model.add(MaxPooling1D(pool_size=2))\n",
    "model.add(Flatten())\n",
    "model.add(Dense(50, activation='linear'))\n",
    "model.add(Dense(1))\n",
    "model.compile(optimizer='adam', loss='mse')"
   ]
  },
  {
   "cell_type": "code",
   "execution_count": 270,
   "id": "directed-meeting",
   "metadata": {},
   "outputs": [],
   "source": [
    "X_trend_train=np.asarray(X_trend_train).astype(np.float32)"
   ]
  },
  {
   "cell_type": "code",
   "execution_count": 271,
   "id": "personal-boundary",
   "metadata": {},
   "outputs": [
    {
     "name": "stdout",
     "output_type": "stream",
     "text": [
      "Epoch 1/10\n",
      "133/133 [==============================] - 1s 7ms/step - loss: 0.1584 - val_loss: 0.0130\n",
      "Epoch 2/10\n",
      "133/133 [==============================] - 0s 4ms/step - loss: 0.0642 - val_loss: 0.0103\n",
      "Epoch 3/10\n",
      "133/133 [==============================] - 0s 3ms/step - loss: 0.0581 - val_loss: 0.0140\n",
      "Epoch 4/10\n",
      "133/133 [==============================] - 0s 3ms/step - loss: 0.0602 - val_loss: 0.0559\n",
      "Epoch 5/10\n",
      "133/133 [==============================] - 0s 3ms/step - loss: 0.0644 - val_loss: 0.0058\n",
      "Epoch 6/10\n",
      "133/133 [==============================] - 0s 3ms/step - loss: 0.0524 - val_loss: 0.0061\n",
      "Epoch 7/10\n",
      "133/133 [==============================] - 0s 3ms/step - loss: 0.0521 - val_loss: 0.0076\n",
      "Epoch 8/10\n",
      "133/133 [==============================] - 0s 3ms/step - loss: 0.0507 - val_loss: 0.0048\n",
      "Epoch 9/10\n",
      "133/133 [==============================] - 0s 3ms/step - loss: 0.0512 - val_loss: 0.0046\n",
      "Epoch 10/10\n",
      "133/133 [==============================] - 0s 3ms/step - loss: 0.0497 - val_loss: 0.0057\n"
     ]
    }
   ],
   "source": [
    "history = model.fit(X_trend_train, Y_train, epochs=10, validation_split = 0.2)"
   ]
  },
  {
   "cell_type": "code",
   "execution_count": 272,
   "id": "genuine-provincial",
   "metadata": {},
   "outputs": [],
   "source": [
    "x_input = X_complement_train[1]\n",
    "x_input = x_input.reshape((1, 100, 28))"
   ]
  },
  {
   "cell_type": "code",
   "execution_count": 273,
   "id": "gentle-turtle",
   "metadata": {},
   "outputs": [
    {
     "data": {
      "text/plain": [
       "array([[[-1.0000000e+00, -1.0000000e+00,  1.0000000e+00, ...,\n",
       "          5.5555556e-02,  0.0000000e+00,  3.7070000e+03],\n",
       "        [-1.0000000e+00, -1.0000000e+00,  1.0000000e+00, ...,\n",
       "          5.5555556e-02,  0.0000000e+00,  3.7070000e+03],\n",
       "        [-1.0000000e+00, -1.0000000e+00,  1.0000000e+00, ...,\n",
       "          5.5555556e-02,  0.0000000e+00,  3.7070000e+03],\n",
       "        ...,\n",
       "        [-1.0000000e+00, -1.0000000e+00,  1.0000000e+00, ...,\n",
       "          5.5555556e-02,  0.0000000e+00,  3.7070000e+03],\n",
       "        [-1.0000000e+00, -1.0000000e+00,  1.0000000e+00, ...,\n",
       "          5.5555556e-02,  0.0000000e+00,  3.7070000e+03],\n",
       "        [-1.0000000e+00, -1.0000000e+00,  1.0000000e+00, ...,\n",
       "          5.5555556e-02,  0.0000000e+00,  3.7070000e+03]]], dtype=float32)"
      ]
     },
     "execution_count": 273,
     "metadata": {},
     "output_type": "execute_result"
    }
   ],
   "source": [
    "x_input"
   ]
  },
  {
   "cell_type": "code",
   "execution_count": 274,
   "id": "collaborative-respect",
   "metadata": {},
   "outputs": [
    {
     "ename": "ValueError",
     "evalue": "in user code:\n\n    C:\\Users\\louis\\anaconda3\\envs\\tensorflow\\lib\\site-packages\\tensorflow\\python\\keras\\engine\\training.py:1462 predict_function  *\n        return step_function(self, iterator)\n    C:\\Users\\louis\\anaconda3\\envs\\tensorflow\\lib\\site-packages\\tensorflow\\python\\keras\\engine\\training.py:1452 step_function  **\n        outputs = model.distribute_strategy.run(run_step, args=(data,))\n    C:\\Users\\louis\\anaconda3\\envs\\tensorflow\\lib\\site-packages\\tensorflow\\python\\distribute\\distribute_lib.py:1211 run\n        return self._extended.call_for_each_replica(fn, args=args, kwargs=kwargs)\n    C:\\Users\\louis\\anaconda3\\envs\\tensorflow\\lib\\site-packages\\tensorflow\\python\\distribute\\distribute_lib.py:2585 call_for_each_replica\n        return self._call_for_each_replica(fn, args, kwargs)\n    C:\\Users\\louis\\anaconda3\\envs\\tensorflow\\lib\\site-packages\\tensorflow\\python\\distribute\\distribute_lib.py:2945 _call_for_each_replica\n        return fn(*args, **kwargs)\n    C:\\Users\\louis\\anaconda3\\envs\\tensorflow\\lib\\site-packages\\tensorflow\\python\\keras\\engine\\training.py:1445 run_step  **\n        outputs = model.predict_step(data)\n    C:\\Users\\louis\\anaconda3\\envs\\tensorflow\\lib\\site-packages\\tensorflow\\python\\keras\\engine\\training.py:1418 predict_step\n        return self(x, training=False)\n    C:\\Users\\louis\\anaconda3\\envs\\tensorflow\\lib\\site-packages\\tensorflow\\python\\keras\\engine\\base_layer.py:976 __call__\n        self.name)\n    C:\\Users\\louis\\anaconda3\\envs\\tensorflow\\lib\\site-packages\\tensorflow\\python\\keras\\engine\\input_spec.py:216 assert_input_compatibility\n        ' but received input with shape ' + str(shape))\n\n    ValueError: Input 0 of layer sequential_5 is incompatible with the layer: expected axis -1 of input shape to have value 4 but received input with shape [None, 100, 28]\n",
     "output_type": "error",
     "traceback": [
      "\u001b[1;31m---------------------------------------------------------------------------\u001b[0m",
      "\u001b[1;31mValueError\u001b[0m                                Traceback (most recent call last)",
      "\u001b[1;32m<ipython-input-274-09ed04032e07>\u001b[0m in \u001b[0;36m<module>\u001b[1;34m\u001b[0m\n\u001b[1;32m----> 1\u001b[1;33m \u001b[0mmodel\u001b[0m\u001b[1;33m.\u001b[0m\u001b[0mpredict\u001b[0m\u001b[1;33m(\u001b[0m\u001b[0mx_input\u001b[0m\u001b[1;33m)\u001b[0m\u001b[1;33m\u001b[0m\u001b[1;33m\u001b[0m\u001b[0m\n\u001b[0m",
      "\u001b[1;32m~\\anaconda3\\envs\\tensorflow\\lib\\site-packages\\tensorflow\\python\\keras\\engine\\training.py\u001b[0m in \u001b[0;36m_method_wrapper\u001b[1;34m(self, *args, **kwargs)\u001b[0m\n\u001b[0;32m    128\u001b[0m       raise ValueError('{} is not supported in multi-worker mode.'.format(\n\u001b[0;32m    129\u001b[0m           method.__name__))\n\u001b[1;32m--> 130\u001b[1;33m     \u001b[1;32mreturn\u001b[0m \u001b[0mmethod\u001b[0m\u001b[1;33m(\u001b[0m\u001b[0mself\u001b[0m\u001b[1;33m,\u001b[0m \u001b[1;33m*\u001b[0m\u001b[0margs\u001b[0m\u001b[1;33m,\u001b[0m \u001b[1;33m**\u001b[0m\u001b[0mkwargs\u001b[0m\u001b[1;33m)\u001b[0m\u001b[1;33m\u001b[0m\u001b[1;33m\u001b[0m\u001b[0m\n\u001b[0m\u001b[0;32m    131\u001b[0m \u001b[1;33m\u001b[0m\u001b[0m\n\u001b[0;32m    132\u001b[0m   return tf_decorator.make_decorator(\n",
      "\u001b[1;32m~\\anaconda3\\envs\\tensorflow\\lib\\site-packages\\tensorflow\\python\\keras\\engine\\training.py\u001b[0m in \u001b[0;36mpredict\u001b[1;34m(self, x, batch_size, verbose, steps, callbacks, max_queue_size, workers, use_multiprocessing)\u001b[0m\n\u001b[0;32m   1597\u001b[0m           \u001b[1;32mfor\u001b[0m \u001b[0mstep\u001b[0m \u001b[1;32min\u001b[0m \u001b[0mdata_handler\u001b[0m\u001b[1;33m.\u001b[0m\u001b[0msteps\u001b[0m\u001b[1;33m(\u001b[0m\u001b[1;33m)\u001b[0m\u001b[1;33m:\u001b[0m\u001b[1;33m\u001b[0m\u001b[1;33m\u001b[0m\u001b[0m\n\u001b[0;32m   1598\u001b[0m             \u001b[0mcallbacks\u001b[0m\u001b[1;33m.\u001b[0m\u001b[0mon_predict_batch_begin\u001b[0m\u001b[1;33m(\u001b[0m\u001b[0mstep\u001b[0m\u001b[1;33m)\u001b[0m\u001b[1;33m\u001b[0m\u001b[1;33m\u001b[0m\u001b[0m\n\u001b[1;32m-> 1599\u001b[1;33m             \u001b[0mtmp_batch_outputs\u001b[0m \u001b[1;33m=\u001b[0m \u001b[0mpredict_function\u001b[0m\u001b[1;33m(\u001b[0m\u001b[0miterator\u001b[0m\u001b[1;33m)\u001b[0m\u001b[1;33m\u001b[0m\u001b[1;33m\u001b[0m\u001b[0m\n\u001b[0m\u001b[0;32m   1600\u001b[0m             \u001b[1;32mif\u001b[0m \u001b[0mdata_handler\u001b[0m\u001b[1;33m.\u001b[0m\u001b[0mshould_sync\u001b[0m\u001b[1;33m:\u001b[0m\u001b[1;33m\u001b[0m\u001b[1;33m\u001b[0m\u001b[0m\n\u001b[0;32m   1601\u001b[0m               \u001b[0mcontext\u001b[0m\u001b[1;33m.\u001b[0m\u001b[0masync_wait\u001b[0m\u001b[1;33m(\u001b[0m\u001b[1;33m)\u001b[0m\u001b[1;33m\u001b[0m\u001b[1;33m\u001b[0m\u001b[0m\n",
      "\u001b[1;32m~\\anaconda3\\envs\\tensorflow\\lib\\site-packages\\tensorflow\\python\\eager\\def_function.py\u001b[0m in \u001b[0;36m__call__\u001b[1;34m(self, *args, **kwds)\u001b[0m\n\u001b[0;32m    778\u001b[0m       \u001b[1;32melse\u001b[0m\u001b[1;33m:\u001b[0m\u001b[1;33m\u001b[0m\u001b[1;33m\u001b[0m\u001b[0m\n\u001b[0;32m    779\u001b[0m         \u001b[0mcompiler\u001b[0m \u001b[1;33m=\u001b[0m \u001b[1;34m\"nonXla\"\u001b[0m\u001b[1;33m\u001b[0m\u001b[1;33m\u001b[0m\u001b[0m\n\u001b[1;32m--> 780\u001b[1;33m         \u001b[0mresult\u001b[0m \u001b[1;33m=\u001b[0m \u001b[0mself\u001b[0m\u001b[1;33m.\u001b[0m\u001b[0m_call\u001b[0m\u001b[1;33m(\u001b[0m\u001b[1;33m*\u001b[0m\u001b[0margs\u001b[0m\u001b[1;33m,\u001b[0m \u001b[1;33m**\u001b[0m\u001b[0mkwds\u001b[0m\u001b[1;33m)\u001b[0m\u001b[1;33m\u001b[0m\u001b[1;33m\u001b[0m\u001b[0m\n\u001b[0m\u001b[0;32m    781\u001b[0m \u001b[1;33m\u001b[0m\u001b[0m\n\u001b[0;32m    782\u001b[0m       \u001b[0mnew_tracing_count\u001b[0m \u001b[1;33m=\u001b[0m \u001b[0mself\u001b[0m\u001b[1;33m.\u001b[0m\u001b[0m_get_tracing_count\u001b[0m\u001b[1;33m(\u001b[0m\u001b[1;33m)\u001b[0m\u001b[1;33m\u001b[0m\u001b[1;33m\u001b[0m\u001b[0m\n",
      "\u001b[1;32m~\\anaconda3\\envs\\tensorflow\\lib\\site-packages\\tensorflow\\python\\eager\\def_function.py\u001b[0m in \u001b[0;36m_call\u001b[1;34m(self, *args, **kwds)\u001b[0m\n\u001b[0;32m    821\u001b[0m       \u001b[1;31m# This is the first call of __call__, so we have to initialize.\u001b[0m\u001b[1;33m\u001b[0m\u001b[1;33m\u001b[0m\u001b[1;33m\u001b[0m\u001b[0m\n\u001b[0;32m    822\u001b[0m       \u001b[0minitializers\u001b[0m \u001b[1;33m=\u001b[0m \u001b[1;33m[\u001b[0m\u001b[1;33m]\u001b[0m\u001b[1;33m\u001b[0m\u001b[1;33m\u001b[0m\u001b[0m\n\u001b[1;32m--> 823\u001b[1;33m       \u001b[0mself\u001b[0m\u001b[1;33m.\u001b[0m\u001b[0m_initialize\u001b[0m\u001b[1;33m(\u001b[0m\u001b[0margs\u001b[0m\u001b[1;33m,\u001b[0m \u001b[0mkwds\u001b[0m\u001b[1;33m,\u001b[0m \u001b[0madd_initializers_to\u001b[0m\u001b[1;33m=\u001b[0m\u001b[0minitializers\u001b[0m\u001b[1;33m)\u001b[0m\u001b[1;33m\u001b[0m\u001b[1;33m\u001b[0m\u001b[0m\n\u001b[0m\u001b[0;32m    824\u001b[0m     \u001b[1;32mfinally\u001b[0m\u001b[1;33m:\u001b[0m\u001b[1;33m\u001b[0m\u001b[1;33m\u001b[0m\u001b[0m\n\u001b[0;32m    825\u001b[0m       \u001b[1;31m# At this point we know that the initialization is complete (or less\u001b[0m\u001b[1;33m\u001b[0m\u001b[1;33m\u001b[0m\u001b[1;33m\u001b[0m\u001b[0m\n",
      "\u001b[1;32m~\\anaconda3\\envs\\tensorflow\\lib\\site-packages\\tensorflow\\python\\eager\\def_function.py\u001b[0m in \u001b[0;36m_initialize\u001b[1;34m(self, args, kwds, add_initializers_to)\u001b[0m\n\u001b[0;32m    695\u001b[0m     self._concrete_stateful_fn = (\n\u001b[0;32m    696\u001b[0m         self._stateful_fn._get_concrete_function_internal_garbage_collected(  # pylint: disable=protected-access\n\u001b[1;32m--> 697\u001b[1;33m             *args, **kwds))\n\u001b[0m\u001b[0;32m    698\u001b[0m \u001b[1;33m\u001b[0m\u001b[0m\n\u001b[0;32m    699\u001b[0m     \u001b[1;32mdef\u001b[0m \u001b[0minvalid_creator_scope\u001b[0m\u001b[1;33m(\u001b[0m\u001b[1;33m*\u001b[0m\u001b[0munused_args\u001b[0m\u001b[1;33m,\u001b[0m \u001b[1;33m**\u001b[0m\u001b[0munused_kwds\u001b[0m\u001b[1;33m)\u001b[0m\u001b[1;33m:\u001b[0m\u001b[1;33m\u001b[0m\u001b[1;33m\u001b[0m\u001b[0m\n",
      "\u001b[1;32m~\\anaconda3\\envs\\tensorflow\\lib\\site-packages\\tensorflow\\python\\eager\\function.py\u001b[0m in \u001b[0;36m_get_concrete_function_internal_garbage_collected\u001b[1;34m(self, *args, **kwargs)\u001b[0m\n\u001b[0;32m   2853\u001b[0m       \u001b[0margs\u001b[0m\u001b[1;33m,\u001b[0m \u001b[0mkwargs\u001b[0m \u001b[1;33m=\u001b[0m \u001b[1;32mNone\u001b[0m\u001b[1;33m,\u001b[0m \u001b[1;32mNone\u001b[0m\u001b[1;33m\u001b[0m\u001b[1;33m\u001b[0m\u001b[0m\n\u001b[0;32m   2854\u001b[0m     \u001b[1;32mwith\u001b[0m \u001b[0mself\u001b[0m\u001b[1;33m.\u001b[0m\u001b[0m_lock\u001b[0m\u001b[1;33m:\u001b[0m\u001b[1;33m\u001b[0m\u001b[1;33m\u001b[0m\u001b[0m\n\u001b[1;32m-> 2855\u001b[1;33m       \u001b[0mgraph_function\u001b[0m\u001b[1;33m,\u001b[0m \u001b[0m_\u001b[0m\u001b[1;33m,\u001b[0m \u001b[0m_\u001b[0m \u001b[1;33m=\u001b[0m \u001b[0mself\u001b[0m\u001b[1;33m.\u001b[0m\u001b[0m_maybe_define_function\u001b[0m\u001b[1;33m(\u001b[0m\u001b[0margs\u001b[0m\u001b[1;33m,\u001b[0m \u001b[0mkwargs\u001b[0m\u001b[1;33m)\u001b[0m\u001b[1;33m\u001b[0m\u001b[1;33m\u001b[0m\u001b[0m\n\u001b[0m\u001b[0;32m   2856\u001b[0m     \u001b[1;32mreturn\u001b[0m \u001b[0mgraph_function\u001b[0m\u001b[1;33m\u001b[0m\u001b[1;33m\u001b[0m\u001b[0m\n\u001b[0;32m   2857\u001b[0m \u001b[1;33m\u001b[0m\u001b[0m\n",
      "\u001b[1;32m~\\anaconda3\\envs\\tensorflow\\lib\\site-packages\\tensorflow\\python\\eager\\function.py\u001b[0m in \u001b[0;36m_maybe_define_function\u001b[1;34m(self, args, kwargs)\u001b[0m\n\u001b[0;32m   3211\u001b[0m \u001b[1;33m\u001b[0m\u001b[0m\n\u001b[0;32m   3212\u001b[0m       \u001b[0mself\u001b[0m\u001b[1;33m.\u001b[0m\u001b[0m_function_cache\u001b[0m\u001b[1;33m.\u001b[0m\u001b[0mmissed\u001b[0m\u001b[1;33m.\u001b[0m\u001b[0madd\u001b[0m\u001b[1;33m(\u001b[0m\u001b[0mcall_context_key\u001b[0m\u001b[1;33m)\u001b[0m\u001b[1;33m\u001b[0m\u001b[1;33m\u001b[0m\u001b[0m\n\u001b[1;32m-> 3213\u001b[1;33m       \u001b[0mgraph_function\u001b[0m \u001b[1;33m=\u001b[0m \u001b[0mself\u001b[0m\u001b[1;33m.\u001b[0m\u001b[0m_create_graph_function\u001b[0m\u001b[1;33m(\u001b[0m\u001b[0margs\u001b[0m\u001b[1;33m,\u001b[0m \u001b[0mkwargs\u001b[0m\u001b[1;33m)\u001b[0m\u001b[1;33m\u001b[0m\u001b[1;33m\u001b[0m\u001b[0m\n\u001b[0m\u001b[0;32m   3214\u001b[0m       \u001b[0mself\u001b[0m\u001b[1;33m.\u001b[0m\u001b[0m_function_cache\u001b[0m\u001b[1;33m.\u001b[0m\u001b[0mprimary\u001b[0m\u001b[1;33m[\u001b[0m\u001b[0mcache_key\u001b[0m\u001b[1;33m]\u001b[0m \u001b[1;33m=\u001b[0m \u001b[0mgraph_function\u001b[0m\u001b[1;33m\u001b[0m\u001b[1;33m\u001b[0m\u001b[0m\n\u001b[0;32m   3215\u001b[0m       \u001b[1;32mreturn\u001b[0m \u001b[0mgraph_function\u001b[0m\u001b[1;33m,\u001b[0m \u001b[0margs\u001b[0m\u001b[1;33m,\u001b[0m \u001b[0mkwargs\u001b[0m\u001b[1;33m\u001b[0m\u001b[1;33m\u001b[0m\u001b[0m\n",
      "\u001b[1;32m~\\anaconda3\\envs\\tensorflow\\lib\\site-packages\\tensorflow\\python\\eager\\function.py\u001b[0m in \u001b[0;36m_create_graph_function\u001b[1;34m(self, args, kwargs, override_flat_arg_shapes)\u001b[0m\n\u001b[0;32m   3073\u001b[0m             \u001b[0marg_names\u001b[0m\u001b[1;33m=\u001b[0m\u001b[0marg_names\u001b[0m\u001b[1;33m,\u001b[0m\u001b[1;33m\u001b[0m\u001b[1;33m\u001b[0m\u001b[0m\n\u001b[0;32m   3074\u001b[0m             \u001b[0moverride_flat_arg_shapes\u001b[0m\u001b[1;33m=\u001b[0m\u001b[0moverride_flat_arg_shapes\u001b[0m\u001b[1;33m,\u001b[0m\u001b[1;33m\u001b[0m\u001b[1;33m\u001b[0m\u001b[0m\n\u001b[1;32m-> 3075\u001b[1;33m             capture_by_value=self._capture_by_value),\n\u001b[0m\u001b[0;32m   3076\u001b[0m         \u001b[0mself\u001b[0m\u001b[1;33m.\u001b[0m\u001b[0m_function_attributes\u001b[0m\u001b[1;33m,\u001b[0m\u001b[1;33m\u001b[0m\u001b[1;33m\u001b[0m\u001b[0m\n\u001b[0;32m   3077\u001b[0m         \u001b[0mfunction_spec\u001b[0m\u001b[1;33m=\u001b[0m\u001b[0mself\u001b[0m\u001b[1;33m.\u001b[0m\u001b[0mfunction_spec\u001b[0m\u001b[1;33m,\u001b[0m\u001b[1;33m\u001b[0m\u001b[1;33m\u001b[0m\u001b[0m\n",
      "\u001b[1;32m~\\anaconda3\\envs\\tensorflow\\lib\\site-packages\\tensorflow\\python\\framework\\func_graph.py\u001b[0m in \u001b[0;36mfunc_graph_from_py_func\u001b[1;34m(name, python_func, args, kwargs, signature, func_graph, autograph, autograph_options, add_control_dependencies, arg_names, op_return_value, collections, capture_by_value, override_flat_arg_shapes)\u001b[0m\n\u001b[0;32m    984\u001b[0m         \u001b[0m_\u001b[0m\u001b[1;33m,\u001b[0m \u001b[0moriginal_func\u001b[0m \u001b[1;33m=\u001b[0m \u001b[0mtf_decorator\u001b[0m\u001b[1;33m.\u001b[0m\u001b[0munwrap\u001b[0m\u001b[1;33m(\u001b[0m\u001b[0mpython_func\u001b[0m\u001b[1;33m)\u001b[0m\u001b[1;33m\u001b[0m\u001b[1;33m\u001b[0m\u001b[0m\n\u001b[0;32m    985\u001b[0m \u001b[1;33m\u001b[0m\u001b[0m\n\u001b[1;32m--> 986\u001b[1;33m       \u001b[0mfunc_outputs\u001b[0m \u001b[1;33m=\u001b[0m \u001b[0mpython_func\u001b[0m\u001b[1;33m(\u001b[0m\u001b[1;33m*\u001b[0m\u001b[0mfunc_args\u001b[0m\u001b[1;33m,\u001b[0m \u001b[1;33m**\u001b[0m\u001b[0mfunc_kwargs\u001b[0m\u001b[1;33m)\u001b[0m\u001b[1;33m\u001b[0m\u001b[1;33m\u001b[0m\u001b[0m\n\u001b[0m\u001b[0;32m    987\u001b[0m \u001b[1;33m\u001b[0m\u001b[0m\n\u001b[0;32m    988\u001b[0m       \u001b[1;31m# invariant: `func_outputs` contains only Tensors, CompositeTensors,\u001b[0m\u001b[1;33m\u001b[0m\u001b[1;33m\u001b[0m\u001b[1;33m\u001b[0m\u001b[0m\n",
      "\u001b[1;32m~\\anaconda3\\envs\\tensorflow\\lib\\site-packages\\tensorflow\\python\\eager\\def_function.py\u001b[0m in \u001b[0;36mwrapped_fn\u001b[1;34m(*args, **kwds)\u001b[0m\n\u001b[0;32m    598\u001b[0m         \u001b[1;31m# __wrapped__ allows AutoGraph to swap in a converted function. We give\u001b[0m\u001b[1;33m\u001b[0m\u001b[1;33m\u001b[0m\u001b[1;33m\u001b[0m\u001b[0m\n\u001b[0;32m    599\u001b[0m         \u001b[1;31m# the function a weak reference to itself to avoid a reference cycle.\u001b[0m\u001b[1;33m\u001b[0m\u001b[1;33m\u001b[0m\u001b[1;33m\u001b[0m\u001b[0m\n\u001b[1;32m--> 600\u001b[1;33m         \u001b[1;32mreturn\u001b[0m \u001b[0mweak_wrapped_fn\u001b[0m\u001b[1;33m(\u001b[0m\u001b[1;33m)\u001b[0m\u001b[1;33m.\u001b[0m\u001b[0m__wrapped__\u001b[0m\u001b[1;33m(\u001b[0m\u001b[1;33m*\u001b[0m\u001b[0margs\u001b[0m\u001b[1;33m,\u001b[0m \u001b[1;33m**\u001b[0m\u001b[0mkwds\u001b[0m\u001b[1;33m)\u001b[0m\u001b[1;33m\u001b[0m\u001b[1;33m\u001b[0m\u001b[0m\n\u001b[0m\u001b[0;32m    601\u001b[0m     \u001b[0mweak_wrapped_fn\u001b[0m \u001b[1;33m=\u001b[0m \u001b[0mweakref\u001b[0m\u001b[1;33m.\u001b[0m\u001b[0mref\u001b[0m\u001b[1;33m(\u001b[0m\u001b[0mwrapped_fn\u001b[0m\u001b[1;33m)\u001b[0m\u001b[1;33m\u001b[0m\u001b[1;33m\u001b[0m\u001b[0m\n\u001b[0;32m    602\u001b[0m \u001b[1;33m\u001b[0m\u001b[0m\n",
      "\u001b[1;32m~\\anaconda3\\envs\\tensorflow\\lib\\site-packages\\tensorflow\\python\\framework\\func_graph.py\u001b[0m in \u001b[0;36mwrapper\u001b[1;34m(*args, **kwargs)\u001b[0m\n\u001b[0;32m    971\u001b[0m           \u001b[1;32mexcept\u001b[0m \u001b[0mException\u001b[0m \u001b[1;32mas\u001b[0m \u001b[0me\u001b[0m\u001b[1;33m:\u001b[0m  \u001b[1;31m# pylint:disable=broad-except\u001b[0m\u001b[1;33m\u001b[0m\u001b[1;33m\u001b[0m\u001b[0m\n\u001b[0;32m    972\u001b[0m             \u001b[1;32mif\u001b[0m \u001b[0mhasattr\u001b[0m\u001b[1;33m(\u001b[0m\u001b[0me\u001b[0m\u001b[1;33m,\u001b[0m \u001b[1;34m\"ag_error_metadata\"\u001b[0m\u001b[1;33m)\u001b[0m\u001b[1;33m:\u001b[0m\u001b[1;33m\u001b[0m\u001b[1;33m\u001b[0m\u001b[0m\n\u001b[1;32m--> 973\u001b[1;33m               \u001b[1;32mraise\u001b[0m \u001b[0me\u001b[0m\u001b[1;33m.\u001b[0m\u001b[0mag_error_metadata\u001b[0m\u001b[1;33m.\u001b[0m\u001b[0mto_exception\u001b[0m\u001b[1;33m(\u001b[0m\u001b[0me\u001b[0m\u001b[1;33m)\u001b[0m\u001b[1;33m\u001b[0m\u001b[1;33m\u001b[0m\u001b[0m\n\u001b[0m\u001b[0;32m    974\u001b[0m             \u001b[1;32melse\u001b[0m\u001b[1;33m:\u001b[0m\u001b[1;33m\u001b[0m\u001b[1;33m\u001b[0m\u001b[0m\n\u001b[0;32m    975\u001b[0m               \u001b[1;32mraise\u001b[0m\u001b[1;33m\u001b[0m\u001b[1;33m\u001b[0m\u001b[0m\n",
      "\u001b[1;31mValueError\u001b[0m: in user code:\n\n    C:\\Users\\louis\\anaconda3\\envs\\tensorflow\\lib\\site-packages\\tensorflow\\python\\keras\\engine\\training.py:1462 predict_function  *\n        return step_function(self, iterator)\n    C:\\Users\\louis\\anaconda3\\envs\\tensorflow\\lib\\site-packages\\tensorflow\\python\\keras\\engine\\training.py:1452 step_function  **\n        outputs = model.distribute_strategy.run(run_step, args=(data,))\n    C:\\Users\\louis\\anaconda3\\envs\\tensorflow\\lib\\site-packages\\tensorflow\\python\\distribute\\distribute_lib.py:1211 run\n        return self._extended.call_for_each_replica(fn, args=args, kwargs=kwargs)\n    C:\\Users\\louis\\anaconda3\\envs\\tensorflow\\lib\\site-packages\\tensorflow\\python\\distribute\\distribute_lib.py:2585 call_for_each_replica\n        return self._call_for_each_replica(fn, args, kwargs)\n    C:\\Users\\louis\\anaconda3\\envs\\tensorflow\\lib\\site-packages\\tensorflow\\python\\distribute\\distribute_lib.py:2945 _call_for_each_replica\n        return fn(*args, **kwargs)\n    C:\\Users\\louis\\anaconda3\\envs\\tensorflow\\lib\\site-packages\\tensorflow\\python\\keras\\engine\\training.py:1445 run_step  **\n        outputs = model.predict_step(data)\n    C:\\Users\\louis\\anaconda3\\envs\\tensorflow\\lib\\site-packages\\tensorflow\\python\\keras\\engine\\training.py:1418 predict_step\n        return self(x, training=False)\n    C:\\Users\\louis\\anaconda3\\envs\\tensorflow\\lib\\site-packages\\tensorflow\\python\\keras\\engine\\base_layer.py:976 __call__\n        self.name)\n    C:\\Users\\louis\\anaconda3\\envs\\tensorflow\\lib\\site-packages\\tensorflow\\python\\keras\\engine\\input_spec.py:216 assert_input_compatibility\n        ' but received input with shape ' + str(shape))\n\n    ValueError: Input 0 of layer sequential_5 is incompatible with the layer: expected axis -1 of input shape to have value 4 but received input with shape [None, 100, 28]\n"
     ]
    }
   ],
   "source": [
    "model.predict(x_input)"
   ]
  },
  {
   "cell_type": "code",
   "execution_count": 275,
   "id": "lonely-coupon",
   "metadata": {},
   "outputs": [
    {
     "data": {
      "text/plain": [
       "-0.02995394"
      ]
     },
     "execution_count": 275,
     "metadata": {},
     "output_type": "execute_result"
    }
   ],
   "source": [
    "Y_train[0]"
   ]
  },
  {
   "cell_type": "code",
   "execution_count": 94,
   "id": "earned-conspiracy",
   "metadata": {},
   "outputs": [],
   "source": [
    "x_input = X_train[0:3]"
   ]
  },
  {
   "cell_type": "code",
   "execution_count": 95,
   "id": "matched-editor",
   "metadata": {},
   "outputs": [],
   "source": [
    "x_input\n",
    "x_input = x_input.reshape((3, 100, 15))"
   ]
  },
  {
   "cell_type": "code",
   "execution_count": 96,
   "id": "seventh-consideration",
   "metadata": {},
   "outputs": [
    {
     "data": {
      "text/plain": [
       "array([[ 0.30618152],\n",
       "       [-0.5657972 ],\n",
       "       [ 0.09630451]], dtype=float32)"
      ]
     },
     "execution_count": 96,
     "metadata": {},
     "output_type": "execute_result"
    }
   ],
   "source": [
    "model.predict(x_input)"
   ]
  },
  {
   "cell_type": "code",
   "execution_count": 97,
   "id": "cultural-share",
   "metadata": {},
   "outputs": [
    {
     "data": {
      "text/plain": [
       "array([[ 0.30618152],\n",
       "       [-0.5657972 ],\n",
       "       [ 0.09630451]], dtype=float32)"
      ]
     },
     "execution_count": 97,
     "metadata": {},
     "output_type": "execute_result"
    }
   ],
   "source": [
    "model.predict(X_train[0:3])"
   ]
  },
  {
   "cell_type": "code",
   "execution_count": null,
   "id": "narrow-naples",
   "metadata": {},
   "outputs": [],
   "source": []
  },
  {
   "cell_type": "code",
   "execution_count": null,
   "id": "driving-montgomery",
   "metadata": {},
   "outputs": [],
   "source": []
  }
 ],
 "metadata": {
  "kernelspec": {
   "display_name": "Python 3",
   "language": "python",
   "name": "python3"
  },
  "language_info": {
   "codemirror_mode": {
    "name": "ipython",
    "version": 3
   },
   "file_extension": ".py",
   "mimetype": "text/x-python",
   "name": "python",
   "nbconvert_exporter": "python",
   "pygments_lexer": "ipython3",
   "version": "3.7.10"
  }
 },
 "nbformat": 4,
 "nbformat_minor": 5
}
