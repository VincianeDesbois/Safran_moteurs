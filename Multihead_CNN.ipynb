{
 "cells": [
  {
   "cell_type": "markdown",
   "id": "express-headquarters",
   "metadata": {},
   "source": [
    "# Modele de CNN multihead  "
   ]
  },
  {
   "cell_type": "code",
   "execution_count": 1,
   "id": "talented-commodity",
   "metadata": {},
   "outputs": [],
   "source": [
    "# Package \n",
    "import pandas as pd\n",
    "import numpy as np\n",
    "from numpy import array\n",
    "from numpy import hstack"
   ]
  },
  {
   "cell_type": "code",
   "execution_count": 296,
   "id": "major-struggle",
   "metadata": {},
   "outputs": [],
   "source": [
    "X_Y = pd.read_csv(r'C:\\Users\\louis\\OneDrive\\Documents\\ENSAE\\2A\\Safran\\X_Y.csv')"
   ]
  },
  {
   "cell_type": "code",
   "execution_count": 297,
   "id": "shared-jacket",
   "metadata": {},
   "outputs": [],
   "source": [
    "X_Y =X_Y.drop('Unnamed: 0', axis= 1)"
   ]
  },
  {
   "cell_type": "code",
   "execution_count": 298,
   "id": "moved-boston",
   "metadata": {
    "scrolled": true
   },
   "outputs": [
    {
     "data": {
      "text/html": [
       "<div>\n",
       "<style scoped>\n",
       "    .dataframe tbody tr th:only-of-type {\n",
       "        vertical-align: middle;\n",
       "    }\n",
       "\n",
       "    .dataframe tbody tr th {\n",
       "        vertical-align: top;\n",
       "    }\n",
       "\n",
       "    .dataframe thead th {\n",
       "        text-align: right;\n",
       "    }\n",
       "</style>\n",
       "<table border=\"1\" class=\"dataframe\">\n",
       "  <thead>\n",
       "    <tr style=\"text-align: right;\">\n",
       "      <th></th>\n",
       "      <th>engine_serial_number</th>\n",
       "      <th>engine_series</th>\n",
       "      <th>cycles_counter</th>\n",
       "      <th>config_A</th>\n",
       "      <th>config_B</th>\n",
       "      <th>Interpolate_var_mot_1</th>\n",
       "      <th>Interpolate_flight_leg_hours</th>\n",
       "      <th>Interpolate_SV_rank</th>\n",
       "      <th>Interpolate_WW_rank</th>\n",
       "      <th>Interpolate_Config_B_rank</th>\n",
       "      <th>Interpolate_var_env_1</th>\n",
       "      <th>Interpolate_var_env_2</th>\n",
       "      <th>Interpolate_var_env_3</th>\n",
       "      <th>Interpolate_var_env_4</th>\n",
       "      <th>Interpolate_var_env_5</th>\n",
       "      <th>id_int</th>\n",
       "      <th>Interpolate_egt_slope</th>\n",
       "    </tr>\n",
       "  </thead>\n",
       "  <tbody>\n",
       "    <tr>\n",
       "      <th>0</th>\n",
       "      <td>0.101545</td>\n",
       "      <td>0.0</td>\n",
       "      <td>0.479729</td>\n",
       "      <td>0.333333</td>\n",
       "      <td>1.0</td>\n",
       "      <td>0.323262</td>\n",
       "      <td>0.123242</td>\n",
       "      <td>0.333333</td>\n",
       "      <td>8.0</td>\n",
       "      <td>0.6</td>\n",
       "      <td>0.001248</td>\n",
       "      <td>0.000382</td>\n",
       "      <td>0.469181</td>\n",
       "      <td>0.0</td>\n",
       "      <td>0.184318</td>\n",
       "      <td>1823.0</td>\n",
       "      <td>-0.027761</td>\n",
       "    </tr>\n",
       "    <tr>\n",
       "      <th>1</th>\n",
       "      <td>0.101545</td>\n",
       "      <td>0.0</td>\n",
       "      <td>0.481815</td>\n",
       "      <td>0.333333</td>\n",
       "      <td>1.0</td>\n",
       "      <td>0.361258</td>\n",
       "      <td>0.101395</td>\n",
       "      <td>0.333333</td>\n",
       "      <td>8.0</td>\n",
       "      <td>0.6</td>\n",
       "      <td>0.003273</td>\n",
       "      <td>0.002476</td>\n",
       "      <td>0.635294</td>\n",
       "      <td>0.0</td>\n",
       "      <td>0.111111</td>\n",
       "      <td>1823.0</td>\n",
       "      <td>-0.027761</td>\n",
       "    </tr>\n",
       "    <tr>\n",
       "      <th>2</th>\n",
       "      <td>0.101545</td>\n",
       "      <td>0.0</td>\n",
       "      <td>0.486899</td>\n",
       "      <td>0.333333</td>\n",
       "      <td>1.0</td>\n",
       "      <td>0.414033</td>\n",
       "      <td>0.169298</td>\n",
       "      <td>0.333333</td>\n",
       "      <td>8.0</td>\n",
       "      <td>0.6</td>\n",
       "      <td>0.002293</td>\n",
       "      <td>0.001096</td>\n",
       "      <td>0.538408</td>\n",
       "      <td>0.0</td>\n",
       "      <td>0.094444</td>\n",
       "      <td>1823.0</td>\n",
       "      <td>-0.027761</td>\n",
       "    </tr>\n",
       "    <tr>\n",
       "      <th>3</th>\n",
       "      <td>0.101545</td>\n",
       "      <td>0.0</td>\n",
       "      <td>0.488593</td>\n",
       "      <td>0.333333</td>\n",
       "      <td>1.0</td>\n",
       "      <td>0.432734</td>\n",
       "      <td>0.157616</td>\n",
       "      <td>0.333333</td>\n",
       "      <td>8.0</td>\n",
       "      <td>0.6</td>\n",
       "      <td>0.002097</td>\n",
       "      <td>0.008403</td>\n",
       "      <td>0.505882</td>\n",
       "      <td>0.0</td>\n",
       "      <td>0.136905</td>\n",
       "      <td>1823.0</td>\n",
       "      <td>-0.027761</td>\n",
       "    </tr>\n",
       "    <tr>\n",
       "      <th>4</th>\n",
       "      <td>0.101545</td>\n",
       "      <td>0.0</td>\n",
       "      <td>0.482858</td>\n",
       "      <td>0.333333</td>\n",
       "      <td>1.0</td>\n",
       "      <td>0.374153</td>\n",
       "      <td>0.147661</td>\n",
       "      <td>0.333333</td>\n",
       "      <td>8.0</td>\n",
       "      <td>0.6</td>\n",
       "      <td>0.000319</td>\n",
       "      <td>0.008403</td>\n",
       "      <td>0.435294</td>\n",
       "      <td>0.0</td>\n",
       "      <td>0.198413</td>\n",
       "      <td>1823.0</td>\n",
       "      <td>-0.027761</td>\n",
       "    </tr>\n",
       "    <tr>\n",
       "      <th>...</th>\n",
       "      <td>...</td>\n",
       "      <td>...</td>\n",
       "      <td>...</td>\n",
       "      <td>...</td>\n",
       "      <td>...</td>\n",
       "      <td>...</td>\n",
       "      <td>...</td>\n",
       "      <td>...</td>\n",
       "      <td>...</td>\n",
       "      <td>...</td>\n",
       "      <td>...</td>\n",
       "      <td>...</td>\n",
       "      <td>...</td>\n",
       "      <td>...</td>\n",
       "      <td>...</td>\n",
       "      <td>...</td>\n",
       "      <td>...</td>\n",
       "    </tr>\n",
       "    <tr>\n",
       "      <th>661595</th>\n",
       "      <td>0.000000</td>\n",
       "      <td>0.0</td>\n",
       "      <td>0.033372</td>\n",
       "      <td>0.000000</td>\n",
       "      <td>0.0</td>\n",
       "      <td>0.608278</td>\n",
       "      <td>0.097098</td>\n",
       "      <td>0.000000</td>\n",
       "      <td>0.0</td>\n",
       "      <td>0.0</td>\n",
       "      <td>0.004110</td>\n",
       "      <td>0.029978</td>\n",
       "      <td>0.647059</td>\n",
       "      <td>0.0</td>\n",
       "      <td>0.146825</td>\n",
       "      <td>8438.0</td>\n",
       "      <td>-0.029193</td>\n",
       "    </tr>\n",
       "    <tr>\n",
       "      <th>661596</th>\n",
       "      <td>0.000000</td>\n",
       "      <td>0.0</td>\n",
       "      <td>0.070786</td>\n",
       "      <td>0.000000</td>\n",
       "      <td>0.0</td>\n",
       "      <td>0.619473</td>\n",
       "      <td>0.139931</td>\n",
       "      <td>0.000000</td>\n",
       "      <td>0.0</td>\n",
       "      <td>0.0</td>\n",
       "      <td>0.001175</td>\n",
       "      <td>0.046879</td>\n",
       "      <td>0.623529</td>\n",
       "      <td>0.0</td>\n",
       "      <td>0.099206</td>\n",
       "      <td>8438.0</td>\n",
       "      <td>-0.029193</td>\n",
       "    </tr>\n",
       "    <tr>\n",
       "      <th>661597</th>\n",
       "      <td>0.000000</td>\n",
       "      <td>0.0</td>\n",
       "      <td>0.106114</td>\n",
       "      <td>0.000000</td>\n",
       "      <td>0.0</td>\n",
       "      <td>0.569125</td>\n",
       "      <td>0.087680</td>\n",
       "      <td>0.000000</td>\n",
       "      <td>0.0</td>\n",
       "      <td>0.0</td>\n",
       "      <td>0.001327</td>\n",
       "      <td>0.019891</td>\n",
       "      <td>0.470588</td>\n",
       "      <td>0.0</td>\n",
       "      <td>0.107143</td>\n",
       "      <td>8438.0</td>\n",
       "      <td>-0.029193</td>\n",
       "    </tr>\n",
       "    <tr>\n",
       "      <th>661598</th>\n",
       "      <td>0.000000</td>\n",
       "      <td>0.0</td>\n",
       "      <td>0.150828</td>\n",
       "      <td>0.000000</td>\n",
       "      <td>0.0</td>\n",
       "      <td>0.463550</td>\n",
       "      <td>0.090001</td>\n",
       "      <td>0.000000</td>\n",
       "      <td>0.0</td>\n",
       "      <td>0.0</td>\n",
       "      <td>0.007807</td>\n",
       "      <td>0.024678</td>\n",
       "      <td>0.400000</td>\n",
       "      <td>0.0</td>\n",
       "      <td>0.172619</td>\n",
       "      <td>8438.0</td>\n",
       "      <td>-0.029193</td>\n",
       "    </tr>\n",
       "    <tr>\n",
       "      <th>661599</th>\n",
       "      <td>0.000000</td>\n",
       "      <td>0.0</td>\n",
       "      <td>0.030765</td>\n",
       "      <td>0.000000</td>\n",
       "      <td>0.0</td>\n",
       "      <td>0.607698</td>\n",
       "      <td>0.129419</td>\n",
       "      <td>0.000000</td>\n",
       "      <td>0.0</td>\n",
       "      <td>0.0</td>\n",
       "      <td>0.006232</td>\n",
       "      <td>0.040660</td>\n",
       "      <td>0.647059</td>\n",
       "      <td>0.0</td>\n",
       "      <td>0.146825</td>\n",
       "      <td>8438.0</td>\n",
       "      <td>-0.029193</td>\n",
       "    </tr>\n",
       "  </tbody>\n",
       "</table>\n",
       "<p>661600 rows × 17 columns</p>\n",
       "</div>"
      ],
      "text/plain": [
       "        engine_serial_number  engine_series  cycles_counter  config_A  \\\n",
       "0                   0.101545            0.0        0.479729  0.333333   \n",
       "1                   0.101545            0.0        0.481815  0.333333   \n",
       "2                   0.101545            0.0        0.486899  0.333333   \n",
       "3                   0.101545            0.0        0.488593  0.333333   \n",
       "4                   0.101545            0.0        0.482858  0.333333   \n",
       "...                      ...            ...             ...       ...   \n",
       "661595              0.000000            0.0        0.033372  0.000000   \n",
       "661596              0.000000            0.0        0.070786  0.000000   \n",
       "661597              0.000000            0.0        0.106114  0.000000   \n",
       "661598              0.000000            0.0        0.150828  0.000000   \n",
       "661599              0.000000            0.0        0.030765  0.000000   \n",
       "\n",
       "        config_B  Interpolate_var_mot_1  Interpolate_flight_leg_hours  \\\n",
       "0            1.0               0.323262                      0.123242   \n",
       "1            1.0               0.361258                      0.101395   \n",
       "2            1.0               0.414033                      0.169298   \n",
       "3            1.0               0.432734                      0.157616   \n",
       "4            1.0               0.374153                      0.147661   \n",
       "...          ...                    ...                           ...   \n",
       "661595       0.0               0.608278                      0.097098   \n",
       "661596       0.0               0.619473                      0.139931   \n",
       "661597       0.0               0.569125                      0.087680   \n",
       "661598       0.0               0.463550                      0.090001   \n",
       "661599       0.0               0.607698                      0.129419   \n",
       "\n",
       "        Interpolate_SV_rank  Interpolate_WW_rank  Interpolate_Config_B_rank  \\\n",
       "0                  0.333333                  8.0                        0.6   \n",
       "1                  0.333333                  8.0                        0.6   \n",
       "2                  0.333333                  8.0                        0.6   \n",
       "3                  0.333333                  8.0                        0.6   \n",
       "4                  0.333333                  8.0                        0.6   \n",
       "...                     ...                  ...                        ...   \n",
       "661595             0.000000                  0.0                        0.0   \n",
       "661596             0.000000                  0.0                        0.0   \n",
       "661597             0.000000                  0.0                        0.0   \n",
       "661598             0.000000                  0.0                        0.0   \n",
       "661599             0.000000                  0.0                        0.0   \n",
       "\n",
       "        Interpolate_var_env_1  Interpolate_var_env_2  Interpolate_var_env_3  \\\n",
       "0                    0.001248               0.000382               0.469181   \n",
       "1                    0.003273               0.002476               0.635294   \n",
       "2                    0.002293               0.001096               0.538408   \n",
       "3                    0.002097               0.008403               0.505882   \n",
       "4                    0.000319               0.008403               0.435294   \n",
       "...                       ...                    ...                    ...   \n",
       "661595               0.004110               0.029978               0.647059   \n",
       "661596               0.001175               0.046879               0.623529   \n",
       "661597               0.001327               0.019891               0.470588   \n",
       "661598               0.007807               0.024678               0.400000   \n",
       "661599               0.006232               0.040660               0.647059   \n",
       "\n",
       "        Interpolate_var_env_4  Interpolate_var_env_5  id_int  \\\n",
       "0                         0.0               0.184318  1823.0   \n",
       "1                         0.0               0.111111  1823.0   \n",
       "2                         0.0               0.094444  1823.0   \n",
       "3                         0.0               0.136905  1823.0   \n",
       "4                         0.0               0.198413  1823.0   \n",
       "...                       ...                    ...     ...   \n",
       "661595                    0.0               0.146825  8438.0   \n",
       "661596                    0.0               0.099206  8438.0   \n",
       "661597                    0.0               0.107143  8438.0   \n",
       "661598                    0.0               0.172619  8438.0   \n",
       "661599                    0.0               0.146825  8438.0   \n",
       "\n",
       "        Interpolate_egt_slope  \n",
       "0                   -0.027761  \n",
       "1                   -0.027761  \n",
       "2                   -0.027761  \n",
       "3                   -0.027761  \n",
       "4                   -0.027761  \n",
       "...                       ...  \n",
       "661595              -0.029193  \n",
       "661596              -0.029193  \n",
       "661597              -0.029193  \n",
       "661598              -0.029193  \n",
       "661599              -0.029193  \n",
       "\n",
       "[661600 rows x 17 columns]"
      ]
     },
     "execution_count": 298,
     "metadata": {},
     "output_type": "execute_result"
    }
   ],
   "source": [
    "X_Y"
   ]
  },
  {
   "cell_type": "markdown",
   "id": "attached-hudson",
   "metadata": {},
   "source": [
    "## Prétraitement des variables environnementales"
   ]
  },
  {
   "cell_type": "markdown",
   "id": "transparent-wilson",
   "metadata": {},
   "source": [
    "A partir de ce dataframe, on souhaite décomposer les séries des variables environnementales en 3 séries :\n",
    "- tendance \n",
    "- saisonnalité \n",
    "- bruit \n",
    "\n",
    "afin de les intégrer dans différentes branches du réseau de neurones"
   ]
  },
  {
   "cell_type": "code",
   "execution_count": 299,
   "id": "utility-prairie",
   "metadata": {},
   "outputs": [],
   "source": [
    "from statsmodels.tsa.seasonal import seasonal_decompose"
   ]
  },
  {
   "cell_type": "code",
   "execution_count": 300,
   "id": "fatal-survivor",
   "metadata": {},
   "outputs": [],
   "source": [
    "dfs = np.array_split(X_Y[['Interpolate_var_env_1','Interpolate_var_env_2', 'Interpolate_var_env_3', 'Interpolate_var_env_4', 'Interpolate_var_env_5', 'id_int']], 6616)"
   ]
  },
  {
   "cell_type": "code",
   "execution_count": 301,
   "id": "educational-penetration",
   "metadata": {},
   "outputs": [
    {
     "data": {
      "text/html": [
       "<div>\n",
       "<style scoped>\n",
       "    .dataframe tbody tr th:only-of-type {\n",
       "        vertical-align: middle;\n",
       "    }\n",
       "\n",
       "    .dataframe tbody tr th {\n",
       "        vertical-align: top;\n",
       "    }\n",
       "\n",
       "    .dataframe thead th {\n",
       "        text-align: right;\n",
       "    }\n",
       "</style>\n",
       "<table border=\"1\" class=\"dataframe\">\n",
       "  <thead>\n",
       "    <tr style=\"text-align: right;\">\n",
       "      <th></th>\n",
       "      <th>Interpolate_var_env_1</th>\n",
       "      <th>Interpolate_var_env_2</th>\n",
       "      <th>Interpolate_var_env_3</th>\n",
       "      <th>Interpolate_var_env_4</th>\n",
       "      <th>Interpolate_var_env_5</th>\n",
       "      <th>id_int</th>\n",
       "    </tr>\n",
       "  </thead>\n",
       "  <tbody>\n",
       "    <tr>\n",
       "      <th>0</th>\n",
       "      <td>0.001248</td>\n",
       "      <td>0.000382</td>\n",
       "      <td>0.469181</td>\n",
       "      <td>0.0</td>\n",
       "      <td>0.184318</td>\n",
       "      <td>1823.0</td>\n",
       "    </tr>\n",
       "    <tr>\n",
       "      <th>1</th>\n",
       "      <td>0.003273</td>\n",
       "      <td>0.002476</td>\n",
       "      <td>0.635294</td>\n",
       "      <td>0.0</td>\n",
       "      <td>0.111111</td>\n",
       "      <td>1823.0</td>\n",
       "    </tr>\n",
       "    <tr>\n",
       "      <th>2</th>\n",
       "      <td>0.002293</td>\n",
       "      <td>0.001096</td>\n",
       "      <td>0.538408</td>\n",
       "      <td>0.0</td>\n",
       "      <td>0.094444</td>\n",
       "      <td>1823.0</td>\n",
       "    </tr>\n",
       "    <tr>\n",
       "      <th>3</th>\n",
       "      <td>0.002097</td>\n",
       "      <td>0.008403</td>\n",
       "      <td>0.505882</td>\n",
       "      <td>0.0</td>\n",
       "      <td>0.136905</td>\n",
       "      <td>1823.0</td>\n",
       "    </tr>\n",
       "    <tr>\n",
       "      <th>4</th>\n",
       "      <td>0.000319</td>\n",
       "      <td>0.008403</td>\n",
       "      <td>0.435294</td>\n",
       "      <td>0.0</td>\n",
       "      <td>0.198413</td>\n",
       "      <td>1823.0</td>\n",
       "    </tr>\n",
       "    <tr>\n",
       "      <th>...</th>\n",
       "      <td>...</td>\n",
       "      <td>...</td>\n",
       "      <td>...</td>\n",
       "      <td>...</td>\n",
       "      <td>...</td>\n",
       "      <td>...</td>\n",
       "    </tr>\n",
       "    <tr>\n",
       "      <th>95</th>\n",
       "      <td>0.001151</td>\n",
       "      <td>0.008403</td>\n",
       "      <td>0.423529</td>\n",
       "      <td>0.0</td>\n",
       "      <td>0.186508</td>\n",
       "      <td>1823.0</td>\n",
       "    </tr>\n",
       "    <tr>\n",
       "      <th>96</th>\n",
       "      <td>0.003734</td>\n",
       "      <td>0.008403</td>\n",
       "      <td>0.517647</td>\n",
       "      <td>0.0</td>\n",
       "      <td>0.186508</td>\n",
       "      <td>1823.0</td>\n",
       "    </tr>\n",
       "    <tr>\n",
       "      <th>97</th>\n",
       "      <td>0.003251</td>\n",
       "      <td>0.001930</td>\n",
       "      <td>0.564706</td>\n",
       "      <td>0.0</td>\n",
       "      <td>0.156746</td>\n",
       "      <td>1823.0</td>\n",
       "    </tr>\n",
       "    <tr>\n",
       "      <th>98</th>\n",
       "      <td>0.000106</td>\n",
       "      <td>0.007237</td>\n",
       "      <td>0.590643</td>\n",
       "      <td>0.0</td>\n",
       "      <td>0.126563</td>\n",
       "      <td>1823.0</td>\n",
       "    </tr>\n",
       "    <tr>\n",
       "      <th>99</th>\n",
       "      <td>0.001294</td>\n",
       "      <td>0.008403</td>\n",
       "      <td>0.505882</td>\n",
       "      <td>0.0</td>\n",
       "      <td>0.136905</td>\n",
       "      <td>1823.0</td>\n",
       "    </tr>\n",
       "  </tbody>\n",
       "</table>\n",
       "<p>100 rows × 6 columns</p>\n",
       "</div>"
      ],
      "text/plain": [
       "    Interpolate_var_env_1  Interpolate_var_env_2  Interpolate_var_env_3  \\\n",
       "0                0.001248               0.000382               0.469181   \n",
       "1                0.003273               0.002476               0.635294   \n",
       "2                0.002293               0.001096               0.538408   \n",
       "3                0.002097               0.008403               0.505882   \n",
       "4                0.000319               0.008403               0.435294   \n",
       "..                    ...                    ...                    ...   \n",
       "95               0.001151               0.008403               0.423529   \n",
       "96               0.003734               0.008403               0.517647   \n",
       "97               0.003251               0.001930               0.564706   \n",
       "98               0.000106               0.007237               0.590643   \n",
       "99               0.001294               0.008403               0.505882   \n",
       "\n",
       "    Interpolate_var_env_4  Interpolate_var_env_5  id_int  \n",
       "0                     0.0               0.184318  1823.0  \n",
       "1                     0.0               0.111111  1823.0  \n",
       "2                     0.0               0.094444  1823.0  \n",
       "3                     0.0               0.136905  1823.0  \n",
       "4                     0.0               0.198413  1823.0  \n",
       "..                    ...                    ...     ...  \n",
       "95                    0.0               0.186508  1823.0  \n",
       "96                    0.0               0.186508  1823.0  \n",
       "97                    0.0               0.156746  1823.0  \n",
       "98                    0.0               0.126563  1823.0  \n",
       "99                    0.0               0.136905  1823.0  \n",
       "\n",
       "[100 rows x 6 columns]"
      ]
     },
     "execution_count": 301,
     "metadata": {},
     "output_type": "execute_result"
    }
   ],
   "source": [
    "dfs[0]"
   ]
  },
  {
   "cell_type": "code",
   "execution_count": 256,
   "id": "round-medline",
   "metadata": {},
   "outputs": [],
   "source": [
    "frequence = 6"
   ]
  },
  {
   "cell_type": "code",
   "execution_count": 785,
   "id": "chemical-riverside",
   "metadata": {},
   "outputs": [],
   "source": [
    "def decompose_serie (serie, frequence ):\n",
    "    df_trend = pd.DataFrame(columns=['Var_1_trend','Var_2_trend','Var_3_trend','Var_4_trend' , 'Var_5_trend', 'id_int'])\n",
    "    df_season = pd.DataFrame(columns=['Var_1_season','Var_2_season','Var_3_season','Var_4_season' , 'Var_5_season', 'id_int'])\n",
    "    df_resid = pd.DataFrame(columns=['Var_1_resid','Var_2_resid','Var_3_resid','Var_4_resid' , 'Var_5_resid', 'id_int'])\n",
    "\n",
    "    for i in range(len(serie)) :\n",
    "        result_1 = seasonal_decompose(serie[i]['Interpolate_var_env_1'], model='additive', freq=frequence)\n",
    "        result_2 = seasonal_decompose(serie[i]['Interpolate_var_env_2'], model='additive', freq=frequence)\n",
    "        result_3 = seasonal_decompose(serie[i]['Interpolate_var_env_3'], model='additive', freq=frequence)\n",
    "        result_4 = seasonal_decompose(serie[i]['Interpolate_var_env_4'], model='additive', freq=frequence)\n",
    "        result_5 = seasonal_decompose(serie[i]['Interpolate_var_env_5'], model='additive', freq=frequence)\n",
    "\n",
    "        df_trend_i= pd.DataFrame({'Var_1_trend': result_1.trend ,'Var_2_trend' : result_2.trend,'Var_3_trend':result_3.trend,'Var_4_trend': result_4.trend, 'Var_5_trend':result_5.trend, 'id_int': dfs[i].id_int})\n",
    "        df_trend_i= df_trend_i.fillna(df_trend_i.ffill())\n",
    "        df_trend_i= df_trend_i.fillna(df_trend_i.bfill())\n",
    "        df_trend = pd.concat([df_trend,df_trend_i])\n",
    "\n",
    "        df_season_i= pd.DataFrame({'Var_1_season': result_1.seasonal ,'Var_2_season' : result_2.seasonal,'Var_3_season':result_3.seasonal,'Var_4_season': result_4.seasonal, 'Var_5_season':result_5.seasonal, 'id_int': dfs[i].id_int})\n",
    "        df_season = pd.concat([df_season,df_season_i])\n",
    "\n",
    "        df_resid_i= pd.DataFrame({'Var_1_resid': result_1.resid,'Var_2_resid' : result_2.resid,'Var_3_resid':result_3.resid,'Var_4_resid': result_4.resid, 'Var_5_resid':result_5.resid, 'id_int': dfs[i].id_int})\n",
    "        df_resid_i= df_resid_i.fillna(df_resid_i.ffill())\n",
    "        df_resid_i= df_resid_i.fillna(df_resid_i.bfill())\n",
    "        df_resid = pd.concat([df_resid,df_resid_i])\n",
    "\n",
    "        if i == int(len(serie)/4):\n",
    "            print(\"25% du traitement effectué\")\n",
    "        if i == int(len(serie)/2):\n",
    "            print(\"50% du traitement effectué\")\n",
    "        if i == int(len(serie) *(3/4)):\n",
    "            print(\"75% du traitement effectué\")\n",
    "        if i == int(len(serie)-1):\n",
    "            print(\"Terminé ! \")\n",
    "    return df_trend, df_season, df_resid"
   ]
  },
  {
   "cell_type": "code",
   "execution_count": 786,
   "id": "significant-numbers",
   "metadata": {},
   "outputs": [
    {
     "name": "stderr",
     "output_type": "stream",
     "text": [
      "C:\\Users\\louis\\anaconda3\\envs\\tensorflow\\lib\\site-packages\\ipykernel_launcher.py:7: FutureWarning: the 'freq'' keyword is deprecated, use 'period' instead\n",
      "  import sys\n",
      "C:\\Users\\louis\\anaconda3\\envs\\tensorflow\\lib\\site-packages\\ipykernel_launcher.py:8: FutureWarning: the 'freq'' keyword is deprecated, use 'period' instead\n",
      "  \n",
      "C:\\Users\\louis\\anaconda3\\envs\\tensorflow\\lib\\site-packages\\ipykernel_launcher.py:9: FutureWarning: the 'freq'' keyword is deprecated, use 'period' instead\n",
      "  if __name__ == '__main__':\n",
      "C:\\Users\\louis\\anaconda3\\envs\\tensorflow\\lib\\site-packages\\ipykernel_launcher.py:10: FutureWarning: the 'freq'' keyword is deprecated, use 'period' instead\n",
      "  # Remove the CWD from sys.path while we load stuff.\n",
      "C:\\Users\\louis\\anaconda3\\envs\\tensorflow\\lib\\site-packages\\ipykernel_launcher.py:11: FutureWarning: the 'freq'' keyword is deprecated, use 'period' instead\n",
      "  # This is added back by InteractiveShellApp.init_path()\n"
     ]
    },
    {
     "name": "stdout",
     "output_type": "stream",
     "text": [
      "25% du traitement effectué\n",
      "50% du traitement effectué\n",
      "75% du traitement effectué\n",
      "Terminé ! \n"
     ]
    }
   ],
   "source": [
    "df_trend, df_season, df_resid = decompose_serie (dfs, 6 )"
   ]
  },
  {
   "cell_type": "code",
   "execution_count": 372,
   "id": "focused-advocate",
   "metadata": {},
   "outputs": [],
   "source": [
    "df_complement = X_Y[['engine_serial_number', 'engine_series', 'cycles_counter', 'config_A',\n",
    "       'config_B', 'Interpolate_var_mot_1', 'Interpolate_flight_leg_hours',\n",
    "       'Interpolate_SV_rank', 'Interpolate_WW_rank','Interpolate_Config_B_rank','Interpolate_egt_slope']]"
   ]
  },
  {
   "cell_type": "markdown",
   "id": "narrow-dutch",
   "metadata": {},
   "source": [
    "On souhaite couper ce dataframe en échantillon de taille 100, où à chaque échantillon correspond une valeur de pente pour la marge EGT. "
   ]
  },
  {
   "cell_type": "code",
   "execution_count": 373,
   "id": "integrated-president",
   "metadata": {},
   "outputs": [],
   "source": [
    "def split_sequences_X_Y(sequences, n_steps) : \n",
    "    X, y = list(), list()\n",
    "    n_iteration = int(len(sequences)/n_steps)\n",
    "    if len(sequences)%n_steps != 0 : \n",
    "        print(\"Attention, modulo différent de zero\")\n",
    "    for i in range(n_iteration): \n",
    "        seq_x, seq_y = sequences [i*n_steps :(i+1)*n_steps, :-1 ], sequences[i*n_steps ,-1]\n",
    "        X.append(seq_x)\n",
    "        y.append(seq_y)\n",
    "    return array(X), array(y)    "
   ]
  },
  {
   "cell_type": "code",
   "execution_count": 871,
   "id": "worthy-spokesman",
   "metadata": {},
   "outputs": [],
   "source": [
    "X_complement, y = split_sequences_X_Y(df_complement.values, 100)"
   ]
  },
  {
   "cell_type": "code",
   "execution_count": 375,
   "id": "combined-hardwood",
   "metadata": {},
   "outputs": [],
   "source": [
    "def split_sequences_X(sequences, n_steps) : \n",
    "    X= list()\n",
    "    n_iteration = int(len(sequences)/n_steps)\n",
    "    if len(sequences)%n_steps != 0 : \n",
    "        print(\"Attention, modulo différent de zero\")\n",
    "    for i in range(n_iteration): \n",
    "        seq_x = sequences [i*n_steps :(i+1)*n_steps,:-1]\n",
    "        X.append(seq_x)\n",
    "    return array(X)"
   ]
  },
  {
   "cell_type": "code",
   "execution_count": 376,
   "id": "tamil-guidance",
   "metadata": {},
   "outputs": [],
   "source": [
    "X_trend, X_season, X_resid =  split_sequences_X(df_trend.values, 100), split_sequences_X(df_season.values, 100), split_sequences_X(df_resid.values, 100)"
   ]
  },
  {
   "cell_type": "code",
   "execution_count": 377,
   "id": "prepared-environment",
   "metadata": {},
   "outputs": [],
   "source": [
    "from sklearn.model_selection import train_test_split"
   ]
  },
  {
   "cell_type": "code",
   "execution_count": 378,
   "id": "presidential-hamilton",
   "metadata": {},
   "outputs": [],
   "source": [
    "X_complement_train, X_complement_test, X_trend_train , X_trend_test, X_season_train, X_season_test, X_resid_train, X_resid_test, Y_train, Y_test = train_test_split(X_complement,X_trend,X_season,X_resid, y, test_size = 0.2, random_state=42)"
   ]
  },
  {
   "cell_type": "markdown",
   "id": "rocky-aircraft",
   "metadata": {},
   "source": [
    "## Le modèle "
   ]
  },
  {
   "cell_type": "code",
   "execution_count": 687,
   "id": "comparative-affect",
   "metadata": {},
   "outputs": [],
   "source": [
    "# Importation des packages de deep learning \n",
    "from tensorflow import keras\n",
    "from tensorflow.keras import layers\n",
    "from keras.models import Sequential \n",
    "from tensorflow.keras.layers import (Conv1D, Dense,Dropout, Flatten,MaxPooling1D, concatenate)\n",
    "from tensorflow.keras import optimizers\n",
    "from tensorflow.keras import models\n",
    "from tensorflow.keras import Input\n",
    "from keras.models import Model\n",
    "from tensorflow.keras.callbacks import EarlyStopping"
   ]
  },
  {
   "cell_type": "code",
   "execution_count": 773,
   "id": "supreme-representative",
   "metadata": {},
   "outputs": [],
   "source": [
    "# first input model\n",
    "visible1 = Input(shape=(100, 10))\n",
    "cnn1 = Conv1D(filters=64, kernel_size=2, activation='relu')(visible1)\n",
    "cnn1 = MaxPooling1D(pool_size=2)(cnn1)\n",
    "cnn1 = Flatten()(cnn1)"
   ]
  },
  {
   "cell_type": "code",
   "execution_count": 774,
   "id": "delayed-steal",
   "metadata": {},
   "outputs": [],
   "source": [
    "visible2 = Input(shape=(100, 5))\n",
    "cnn2 = Conv1D(filters=64, kernel_size=2, activation='relu')(visible2)\n",
    "cnn2 = MaxPooling1D(pool_size=2)(cnn2)\n",
    "cnn2 = Flatten()(cnn2)"
   ]
  },
  {
   "cell_type": "code",
   "execution_count": 775,
   "id": "whole-vietnam",
   "metadata": {},
   "outputs": [],
   "source": [
    "visible3 = Input(shape=(100, 5))\n",
    "cnn3 = Conv1D(filters=64, kernel_size=2, activation='relu')(visible3)\n",
    "cnn3 = MaxPooling1D(pool_size=2)(cnn3)\n",
    "cnn3 = Flatten()(cnn3)"
   ]
  },
  {
   "cell_type": "code",
   "execution_count": 776,
   "id": "golden-fence",
   "metadata": {},
   "outputs": [],
   "source": [
    "visible4 = Input(shape=(100, 5))\n",
    "cnn4 = Conv1D(filters=64, kernel_size=2, activation='relu')(visible4)\n",
    "cnn4 = MaxPooling1D(pool_size=2)(cnn4)\n",
    "cnn4 = Flatten()(cnn4)"
   ]
  },
  {
   "cell_type": "code",
   "execution_count": 777,
   "id": "nuclear-blame",
   "metadata": {},
   "outputs": [],
   "source": [
    "# merge input models\n",
    "merge = concatenate([cnn1, cnn2, cnn3, cnn4])\n",
    "dense = Dense(20, activation='relu')(merge)\n",
    "output = Dense(1)(dense)"
   ]
  },
  {
   "cell_type": "code",
   "execution_count": 778,
   "id": "closed-accountability",
   "metadata": {},
   "outputs": [],
   "source": [
    "model = Model(inputs=[visible1, visible2,visible3,visible4 ], outputs=output)"
   ]
  },
  {
   "cell_type": "code",
   "execution_count": 779,
   "id": "absent-humanity",
   "metadata": {},
   "outputs": [],
   "source": [
    "model.compile(optimizer='adam', loss='mse')"
   ]
  },
  {
   "cell_type": "code",
   "execution_count": 780,
   "id": "mineral-amplifier",
   "metadata": {},
   "outputs": [],
   "source": [
    "# La condition suivante permet d'arrêter l'entrainement si le modéle n'apprend pas pendant 5 périodes : \n",
    "earlystop = EarlyStopping(patience=5) \n",
    "callbacks = [earlystop]"
   ]
  },
  {
   "cell_type": "code",
   "execution_count": 781,
   "id": "linear-agent",
   "metadata": {},
   "outputs": [
    {
     "name": "stdout",
     "output_type": "stream",
     "text": [
      "Epoch 1/20\n",
      "133/133 [==============================] - 1s 7ms/step - loss: 0.0636 - val_loss: 0.0040\n",
      "Epoch 2/20\n",
      "133/133 [==============================] - 1s 6ms/step - loss: 0.0458 - val_loss: 0.0037\n",
      "Epoch 3/20\n",
      "133/133 [==============================] - 1s 6ms/step - loss: 0.0457 - val_loss: 0.0037\n",
      "Epoch 4/20\n",
      "133/133 [==============================] - 1s 6ms/step - loss: 0.0457 - val_loss: 0.0037\n",
      "Epoch 5/20\n",
      "133/133 [==============================] - 1s 6ms/step - loss: 0.0457 - val_loss: 0.0037\n",
      "Epoch 6/20\n",
      "133/133 [==============================] - 1s 6ms/step - loss: 0.0457 - val_loss: 0.0037\n",
      "Epoch 7/20\n",
      "133/133 [==============================] - 1s 6ms/step - loss: 0.0457 - val_loss: 0.0037\n",
      "Epoch 8/20\n",
      "133/133 [==============================] - 1s 6ms/step - loss: 0.0457 - val_loss: 0.0037\n"
     ]
    }
   ],
   "source": [
    "history= model.fit([X_complement_train, X_trend_train, X_season_train, X_resid_train], Y_train, epochs=20, validation_split = 0.2, callbacks=callbacks)"
   ]
  },
  {
   "cell_type": "code",
   "execution_count": 782,
   "id": "analyzed-robin",
   "metadata": {},
   "outputs": [
    {
     "name": "stdout",
     "output_type": "stream",
     "text": [
      "42/42 [==============================] - 0s 3ms/step - loss: 0.0319\n"
     ]
    }
   ],
   "source": [
    "test_loss = model.evaluate([X_complement_test, X_trend_test, X_season_test, X_resid_test], Y_test)"
   ]
  },
  {
   "cell_type": "code",
   "execution_count": 772,
   "id": "stunning-driving",
   "metadata": {},
   "outputs": [
    {
     "data": {
      "image/png": "[encoded data removed]",
      "text/plain": [
       "<Figure size 432x288 with 1 Axes>"
      ]
     },
     "metadata": {
      "needs_background": "light"
     },
     "output_type": "display_data"
    }
   ],
   "source": [
    "plt.plot(history.history['loss'], color='b', label=\"Training loss\")\n",
    "plt.plot(history.history['val_loss'], color='r', label=\"validation loss\")\n",
    "plt.title('Training and validation loss')\n",
    "\n",
    "legend = plt.legend()\n",
    "plt.show()"
   ]
  },
  {
   "cell_type": "code",
   "execution_count": null,
   "id": "oriented-slave",
   "metadata": {},
   "outputs": [],
   "source": [
    "X_complement_train, X_complement_test, X_trend_train , X_trend_test, X_season_train, X_season_test, X_resid_train, X_resid_test, Y_train, Y_test = train_test_split(X_complement,X_trend,X_season,X_resid, y, test_size = 0.2, random_state=42)"
   ]
  },
  {
   "cell_type": "code",
   "execution_count": 876,
   "id": "surprised-picking",
   "metadata": {},
   "outputs": [
    {
     "name": "stdout",
     "output_type": "stream",
     "text": [
      "Epoch 1/20\n",
      "133/133 [==============================] - 1s 6ms/step - loss: 0.0435 - val_loss: 0.0037\n",
      "Epoch 2/20\n",
      "133/133 [==============================] - 1s 6ms/step - loss: 0.0435 - val_loss: 0.0037\n",
      "Epoch 3/20\n",
      "133/133 [==============================] - 1s 6ms/step - loss: 0.0435 - val_loss: 0.0037\n",
      "Epoch 4/20\n",
      "133/133 [==============================] - 1s 6ms/step - loss: 0.0435 - val_loss: 0.0037\n",
      "Epoch 5/20\n",
      "133/133 [==============================] - 1s 6ms/step - loss: 0.0435 - val_loss: 0.0037\n",
      "Epoch 6/20\n",
      "133/133 [==============================] - 1s 6ms/step - loss: 0.0435 - val_loss: 0.0037\n",
      "Epoch 7/20\n",
      "133/133 [==============================] - 1s 7ms/step - loss: 0.0435 - val_loss: 0.0037\n",
      "Epoch 8/20\n",
      "133/133 [==============================] - 1s 6ms/step - loss: 0.0435 - val_loss: 0.0037\n",
      "Epoch 9/20\n",
      "133/133 [==============================] - 1s 6ms/step - loss: 0.0435 - val_loss: 0.0037\n",
      "oko\n"
     ]
    }
   ],
   "source": [
    "choix_frequence(dfs, [5,10])"
   ]
  },
  {
   "cell_type": "code",
   "execution_count": 902,
   "id": "acting-trick",
   "metadata": {},
   "outputs": [],
   "source": [
    "def choix_frequence (serie, frequences) : \n",
    "    df_result_freq = pd.DataFrame(columns=['Frequence','Loss'])\n",
    "    for frequence in frequences : \n",
    "        print(\"En cours de traitement de la fréquence : \", frequence)\n",
    "        df_trend, df_season, df_resid = decompose_serie (serie, frequence)\n",
    "        X_trend, X_season, X_resid =  split_sequences_X(df_trend.values, 100), split_sequences_X(df_season.values, 100), split_sequences_X(df_resid.values, 100)\n",
    "        (X_complement_train, X_complement_test, X_trend_train , X_trend_test, X_season_train, X_season_test, X_resid_train, X_resid_test, Y_train, Y_test) = train_test_split(X_complement,X_trend,X_season,X_resid, y, test_size = 0.2)\n",
    "        history= model.fit([X_complement_train, X_trend_train, X_season_train, X_resid_train], Y_train, epochs=20, validation_split = 0.2, callbacks=callbacks)\n",
    "        test_loss = model.evaluate([X_complement_test, X_trend_test, X_season_test, X_resid_test], Y_test)\n",
    "        df_result_freq_i = pd.DataFrame({'Frequence': [frequence] ,'Var_2_trend' : [test_loss]})\n",
    "        df_result_freq = pd.concat([df_result_freq,df_result_freq_i])\n",
    "    return df_result_freq"
   ]
  },
  {
   "cell_type": "code",
   "execution_count": 903,
   "id": "afraid-split",
   "metadata": {},
   "outputs": [
    {
     "name": "stdout",
     "output_type": "stream",
     "text": [
      "En cours de traitement de la fréquence :  1\n"
     ]
    },
    {
     "name": "stderr",
     "output_type": "stream",
     "text": [
      "C:\\Users\\louis\\anaconda3\\envs\\tensorflow\\lib\\site-packages\\ipykernel_launcher.py:7: FutureWarning: the 'freq'' keyword is deprecated, use 'period' instead\n",
      "  import sys\n",
      "C:\\Users\\louis\\anaconda3\\envs\\tensorflow\\lib\\site-packages\\ipykernel_launcher.py:8: FutureWarning: the 'freq'' keyword is deprecated, use 'period' instead\n",
      "  \n",
      "C:\\Users\\louis\\anaconda3\\envs\\tensorflow\\lib\\site-packages\\ipykernel_launcher.py:9: FutureWarning: the 'freq'' keyword is deprecated, use 'period' instead\n",
      "  if __name__ == '__main__':\n",
      "C:\\Users\\louis\\anaconda3\\envs\\tensorflow\\lib\\site-packages\\ipykernel_launcher.py:10: FutureWarning: the 'freq'' keyword is deprecated, use 'period' instead\n",
      "  # Remove the CWD from sys.path while we load stuff.\n",
      "C:\\Users\\louis\\anaconda3\\envs\\tensorflow\\lib\\site-packages\\ipykernel_launcher.py:11: FutureWarning: the 'freq'' keyword is deprecated, use 'period' instead\n",
      "  # This is added back by InteractiveShellApp.init_path()\n"
     ]
    },
    {
     "name": "stdout",
     "output_type": "stream",
     "text": [
      "25% du traitement effectué\n",
      "50% du traitement effectué\n",
      "75% du traitement effectué\n",
      "Terminé ! \n",
      "Epoch 1/20\n",
      "133/133 [==============================] - 1s 7ms/step - loss: 0.0268 - val_loss: 0.0021\n",
      "Epoch 2/20\n",
      "133/133 [==============================] - 1s 8ms/step - loss: 0.0268 - val_loss: 0.0020\n",
      "Epoch 3/20\n",
      "133/133 [==============================] - 1s 9ms/step - loss: 0.0268 - val_loss: 0.0020\n",
      "Epoch 4/20\n",
      "133/133 [==============================] - 1s 8ms/step - loss: 0.0268 - val_loss: 0.0020\n",
      "Epoch 5/20\n",
      "133/133 [==============================] - 1s 8ms/step - loss: 0.0268 - val_loss: 0.0020\n",
      "Epoch 6/20\n",
      "133/133 [==============================] - 1s 8ms/step - loss: 0.0268 - val_loss: 0.0021\n",
      "Epoch 7/20\n",
      "133/133 [==============================] - 1s 8ms/step - loss: 0.0268 - val_loss: 0.0020\n",
      "Epoch 8/20\n",
      "133/133 [==============================] - 1s 8ms/step - loss: 0.0268 - val_loss: 0.0021\n",
      "Epoch 9/20\n",
      "133/133 [==============================] - 1s 8ms/step - loss: 0.0268 - val_loss: 0.0020\n",
      "Epoch 10/20\n",
      "133/133 [==============================] - 1s 8ms/step - loss: 0.0268 - val_loss: 0.0020\n",
      "42/42 [==============================] - 0s 3ms/step - loss: 0.0938\n",
      "En cours de traitement de la fréquence :  5\n",
      "25% du traitement effectué\n",
      "50% du traitement effectué\n",
      "75% du traitement effectué\n",
      "Terminé ! \n",
      "Epoch 1/20\n",
      "133/133 [==============================] - 1s 7ms/step - loss: 0.0480 - val_loss: 0.0056\n",
      "Epoch 2/20\n",
      "133/133 [==============================] - 1s 8ms/step - loss: 0.0480 - val_loss: 0.0057\n",
      "Epoch 3/20\n",
      "133/133 [==============================] - 1s 8ms/step - loss: 0.0480 - val_loss: 0.0057\n",
      "Epoch 4/20\n",
      "133/133 [==============================] - 1s 8ms/step - loss: 0.0480 - val_loss: 0.0057\n",
      "Epoch 5/20\n",
      "133/133 [==============================] - 1s 9ms/step - loss: 0.0480 - val_loss: 0.0056\n",
      "Epoch 6/20\n",
      "133/133 [==============================] - 1s 8ms/step - loss: 0.0480 - val_loss: 0.0057\n",
      "42/42 [==============================] - 0s 3ms/step - loss: 0.0229\n",
      "En cours de traitement de la fréquence :  10\n",
      "25% du traitement effectué\n",
      "50% du traitement effectué\n",
      "75% du traitement effectué\n",
      "Terminé ! \n",
      "Epoch 1/20\n",
      "133/133 [==============================] - 1s 10ms/step - loss: 0.0475 - val_loss: 0.0090\n",
      "Epoch 2/20\n",
      "133/133 [==============================] - 1s 9ms/step - loss: 0.0475 - val_loss: 0.0090\n",
      "Epoch 3/20\n",
      "133/133 [==============================] - 1s 9ms/step - loss: 0.0475 - val_loss: 0.0091\n",
      "Epoch 4/20\n",
      "133/133 [==============================] - 1s 10ms/step - loss: 0.0475 - val_loss: 0.0090\n",
      "Epoch 5/20\n",
      "133/133 [==============================] - 1s 10ms/step - loss: 0.0475 - val_loss: 0.0091\n",
      "Epoch 6/20\n",
      "133/133 [==============================] - 1s 9ms/step - loss: 0.0475 - val_loss: 0.0091\n",
      "Epoch 7/20\n",
      "133/133 [==============================] - 1s 10ms/step - loss: 0.0475 - val_loss: 0.0090\n",
      "Epoch 8/20\n",
      "133/133 [==============================] - 1s 10ms/step - loss: 0.0475 - val_loss: 0.0090\n",
      "Epoch 9/20\n",
      "133/133 [==============================] - 1s 10ms/step - loss: 0.0475 - val_loss: 0.0091\n",
      "Epoch 10/20\n",
      "133/133 [==============================] - 1s 10ms/step - loss: 0.0475 - val_loss: 0.0091\n",
      "Epoch 11/20\n",
      "133/133 [==============================] - 1s 10ms/step - loss: 0.0475 - val_loss: 0.0090\n",
      "Epoch 12/20\n",
      "133/133 [==============================] - 1s 10ms/step - loss: 0.0475 - val_loss: 0.0090\n",
      "42/42 [==============================] - 0s 4ms/step - loss: 0.0219\n",
      "En cours de traitement de la fréquence :  15\n",
      "25% du traitement effectué\n",
      "50% du traitement effectué\n",
      "75% du traitement effectué\n",
      "Terminé ! \n",
      "Epoch 1/20\n",
      "133/133 [==============================] - 1s 9ms/step - loss: 0.0410 - val_loss: 0.0582\n",
      "Epoch 2/20\n",
      "133/133 [==============================] - 1s 10ms/step - loss: 0.0410 - val_loss: 0.0582\n",
      "Epoch 3/20\n",
      "133/133 [==============================] - 1s 9ms/step - loss: 0.0410 - val_loss: 0.0582\n",
      "Epoch 4/20\n",
      "133/133 [==============================] - 1s 10ms/step - loss: 0.0410 - val_loss: 0.0581\n",
      "Epoch 5/20\n",
      "133/133 [==============================] - 1s 10ms/step - loss: 0.0410 - val_loss: 0.0583\n",
      "Epoch 6/20\n",
      "133/133 [==============================] - 1s 10ms/step - loss: 0.0410 - val_loss: 0.0582\n",
      "Epoch 7/20\n",
      "133/133 [==============================] - 1s 10ms/step - loss: 0.0410 - val_loss: 0.0582\n",
      "Epoch 8/20\n",
      "133/133 [==============================] - 1s 10ms/step - loss: 0.0410 - val_loss: 0.0581\n",
      "Epoch 9/20\n",
      "133/133 [==============================] - 1s 10ms/step - loss: 0.0410 - val_loss: 0.0581\n",
      "42/42 [==============================] - 0s 3ms/step - loss: 0.0035\n",
      "En cours de traitement de la fréquence :  20\n",
      "25% du traitement effectué\n",
      "50% du traitement effectué\n",
      "75% du traitement effectué\n",
      "Terminé ! \n",
      "Epoch 1/20\n",
      "133/133 [==============================] - 1s 10ms/step - loss: 0.0491 - val_loss: 0.0120\n",
      "Epoch 2/20\n",
      "133/133 [==============================] - 1s 10ms/step - loss: 0.0491 - val_loss: 0.0120\n",
      "Epoch 3/20\n",
      "133/133 [==============================] - 1s 10ms/step - loss: 0.0491 - val_loss: 0.0120\n",
      "Epoch 4/20\n",
      "133/133 [==============================] - 1s 10ms/step - loss: 0.0491 - val_loss: 0.0120\n",
      "Epoch 5/20\n",
      "133/133 [==============================] - 1s 10ms/step - loss: 0.0491 - val_loss: 0.0120\n",
      "Epoch 6/20\n",
      "133/133 [==============================] - 1s 10ms/step - loss: 0.0492 - val_loss: 0.0120\n",
      "42/42 [==============================] - 0s 4ms/step - loss: 0.0144\n",
      "En cours de traitement de la fréquence :  25\n",
      "25% du traitement effectué\n",
      "50% du traitement effectué\n",
      "75% du traitement effectué\n",
      "Terminé ! \n",
      "Epoch 1/20\n",
      "133/133 [==============================] - 1s 10ms/step - loss: 0.0183 - val_loss: 0.0254\n",
      "Epoch 2/20\n",
      "133/133 [==============================] - 1s 10ms/step - loss: 0.0183 - val_loss: 0.0254\n",
      "Epoch 3/20\n",
      "133/133 [==============================] - 1s 10ms/step - loss: 0.0183 - val_loss: 0.0254\n",
      "Epoch 4/20\n",
      "133/133 [==============================] - 1s 10ms/step - loss: 0.0183 - val_loss: 0.0254\n",
      "Epoch 5/20\n",
      "133/133 [==============================] - 1s 10ms/step - loss: 0.0183 - val_loss: 0.0254\n",
      "Epoch 6/20\n",
      "133/133 [==============================] - 1s 10ms/step - loss: 0.0183 - val_loss: 0.0254\n",
      "Epoch 7/20\n",
      "133/133 [==============================] - 1s 10ms/step - loss: 0.0183 - val_loss: 0.0254\n",
      "42/42 [==============================] - 0s 3ms/step - loss: 0.1021\n",
      "En cours de traitement de la fréquence :  30\n",
      "25% du traitement effectué\n",
      "50% du traitement effectué\n",
      "75% du traitement effectué\n",
      "Terminé ! \n",
      "Epoch 1/20\n",
      "133/133 [==============================] - 2s 16ms/step - loss: 0.0248 - val_loss: 0.1190\n",
      "Epoch 2/20\n",
      "133/133 [==============================] - 2s 15ms/step - loss: 0.0248 - val_loss: 0.1190\n",
      "Epoch 3/20\n",
      "133/133 [==============================] - 2s 16ms/step - loss: 0.0248 - val_loss: 0.1190\n",
      "Epoch 4/20\n",
      "133/133 [==============================] - 2s 15ms/step - loss: 0.0248 - val_loss: 0.1190\n",
      "Epoch 5/20\n",
      "133/133 [==============================] - 2s 16ms/step - loss: 0.0248 - val_loss: 0.1190\n",
      "Epoch 6/20\n",
      "133/133 [==============================] - 2s 16ms/step - loss: 0.0248 - val_loss: 0.1190\n",
      "Epoch 7/20\n",
      "133/133 [==============================] - 2s 16ms/step - loss: 0.0248 - val_loss: 0.1189\n",
      "Epoch 8/20\n",
      "133/133 [==============================] - 2s 16ms/step - loss: 0.0248 - val_loss: 0.1190\n",
      "Epoch 9/20\n",
      "133/133 [==============================] - 2s 15ms/step - loss: 0.0248 - val_loss: 0.1190\n",
      "Epoch 10/20\n",
      "133/133 [==============================] - 2s 16ms/step - loss: 0.0248 - val_loss: 0.1191\n",
      "Epoch 11/20\n",
      "133/133 [==============================] - 2s 16ms/step - loss: 0.0248 - val_loss: 0.1191\n",
      "Epoch 12/20\n",
      "133/133 [==============================] - 2s 15ms/step - loss: 0.0248 - val_loss: 0.1190\n",
      "42/42 [==============================] - 0s 7ms/step - loss: 0.0067\n",
      "En cours de traitement de la fréquence :  35\n",
      "25% du traitement effectué\n",
      "50% du traitement effectué\n",
      "75% du traitement effectué\n",
      "Terminé ! \n",
      "Epoch 1/20\n",
      "133/133 [==============================] - 2s 19ms/step - loss: 0.0515 - val_loss: 0.0063\n",
      "Epoch 2/20\n",
      "133/133 [==============================] - 2s 18ms/step - loss: 0.0515 - val_loss: 0.0063\n",
      "Epoch 3/20\n",
      "133/133 [==============================] - 2s 18ms/step - loss: 0.0515 - val_loss: 0.0063\n",
      "Epoch 4/20\n",
      "133/133 [==============================] - 2s 18ms/step - loss: 0.0515 - val_loss: 0.0063\n",
      "Epoch 5/20\n",
      "133/133 [==============================] - 2s 17ms/step - loss: 0.0515 - val_loss: 0.0063\n",
      "Epoch 6/20\n",
      "133/133 [==============================] - 2s 18ms/step - loss: 0.0515 - val_loss: 0.0063\n",
      "Epoch 7/20\n",
      "133/133 [==============================] - 2s 18ms/step - loss: 0.0515 - val_loss: 0.0063\n",
      "Epoch 8/20\n",
      "133/133 [==============================] - 2s 18ms/step - loss: 0.0515 - val_loss: 0.0064\n",
      "Epoch 9/20\n",
      "133/133 [==============================] - 2s 18ms/step - loss: 0.0515 - val_loss: 0.0063\n",
      "Epoch 10/20\n",
      "133/133 [==============================] - 2s 18ms/step - loss: 0.0515 - val_loss: 0.0064\n",
      "42/42 [==============================] - 0s 7ms/step - loss: 0.0115\n",
      "En cours de traitement de la fréquence :  40\n",
      "25% du traitement effectué\n",
      "50% du traitement effectué\n",
      "75% du traitement effectué\n",
      "Terminé ! \n",
      "Epoch 1/20\n",
      "133/133 [==============================] - 2s 19ms/step - loss: 0.0453 - val_loss: 0.0035\n",
      "Epoch 2/20\n",
      "133/133 [==============================] - 2s 18ms/step - loss: 0.0453 - val_loss: 0.0035\n",
      "Epoch 3/20\n",
      "133/133 [==============================] - 2s 18ms/step - loss: 0.0453 - val_loss: 0.0035\n",
      "Epoch 4/20\n",
      "133/133 [==============================] - 2s 18ms/step - loss: 0.0453 - val_loss: 0.0036\n",
      "Epoch 5/20\n",
      "133/133 [==============================] - 2s 18ms/step - loss: 0.0453 - val_loss: 0.0035\n",
      "Epoch 6/20\n",
      "133/133 [==============================] - 2s 18ms/step - loss: 0.0453 - val_loss: 0.0035\n",
      "42/42 [==============================] - 0s 7ms/step - loss: 0.0333\n",
      "En cours de traitement de la fréquence :  45\n",
      "25% du traitement effectué\n",
      "50% du traitement effectué\n",
      "75% du traitement effectué\n",
      "Terminé ! \n",
      "Epoch 1/20\n",
      "133/133 [==============================] - 2s 19ms/step - loss: 0.0394 - val_loss: 0.0336\n",
      "Epoch 2/20\n",
      "133/133 [==============================] - 2s 18ms/step - loss: 0.0393 - val_loss: 0.0336\n",
      "Epoch 3/20\n",
      "133/133 [==============================] - 2s 18ms/step - loss: 0.0394 - val_loss: 0.0336\n",
      "Epoch 4/20\n",
      "133/133 [==============================] - 2s 17ms/step - loss: 0.0394 - val_loss: 0.0336\n",
      "Epoch 5/20\n",
      "133/133 [==============================] - 2s 15ms/step - loss: 0.0394 - val_loss: 0.0337\n",
      "Epoch 6/20\n",
      "133/133 [==============================] - 2s 15ms/step - loss: 0.0394 - val_loss: 0.0336\n",
      "Epoch 7/20\n",
      "133/133 [==============================] - 2s 16ms/step - loss: 0.0394 - val_loss: 0.0337\n",
      "Epoch 8/20\n",
      "133/133 [==============================] - 2s 16ms/step - loss: 0.0394 - val_loss: 0.0336\n",
      "Epoch 9/20\n",
      "133/133 [==============================] - 2s 16ms/step - loss: 0.0393 - val_loss: 0.0336\n",
      "Epoch 10/20\n",
      "133/133 [==============================] - 2s 16ms/step - loss: 0.0394 - val_loss: 0.0336\n",
      "Epoch 11/20\n",
      "133/133 [==============================] - 2s 16ms/step - loss: 0.0393 - val_loss: 0.0336\n",
      "Epoch 12/20\n",
      "133/133 [==============================] - 2s 16ms/step - loss: 0.0393 - val_loss: 0.0336\n",
      "Epoch 13/20\n",
      "133/133 [==============================] - 2s 16ms/step - loss: 0.0394 - val_loss: 0.0337\n",
      "Epoch 14/20\n",
      "133/133 [==============================] - 2s 16ms/step - loss: 0.0394 - val_loss: 0.0336\n",
      "42/42 [==============================] - 0s 6ms/step - loss: 0.0283\n",
      "En cours de traitement de la fréquence :  50\n",
      "25% du traitement effectué\n",
      "50% du traitement effectué\n",
      "75% du traitement effectué\n",
      "Terminé ! \n",
      "Epoch 1/20\n",
      "133/133 [==============================] - 2s 16ms/step - loss: 0.0253 - val_loss: 0.0156\n",
      "Epoch 2/20\n",
      "133/133 [==============================] - 2s 15ms/step - loss: 0.0253 - val_loss: 0.0157\n",
      "Epoch 3/20\n",
      "133/133 [==============================] - 2s 15ms/step - loss: 0.0253 - val_loss: 0.0156\n",
      "Epoch 4/20\n",
      "133/133 [==============================] - 2s 15ms/step - loss: 0.0253 - val_loss: 0.0157\n",
      "Epoch 5/20\n",
      "133/133 [==============================] - 2s 16ms/step - loss: 0.0253 - val_loss: 0.0156\n",
      "Epoch 6/20\n",
      "133/133 [==============================] - 2s 15ms/step - loss: 0.0253 - val_loss: 0.0157\n",
      "Epoch 7/20\n",
      "133/133 [==============================] - 2s 15ms/step - loss: 0.0253 - val_loss: 0.0157\n",
      "Epoch 8/20\n",
      "133/133 [==============================] - 2s 16ms/step - loss: 0.0253 - val_loss: 0.0157\n",
      "42/42 [==============================] - 0s 6ms/step - loss: 0.0877\n"
     ]
    }
   ],
   "source": [
    "df_result_freq = choix_frequence (dfs, [1,5,10,15,20,25,30,35,40,45,50])"
   ]
  },
  {
   "cell_type": "code",
   "execution_count": 904,
   "id": "strong-colors",
   "metadata": {},
   "outputs": [
    {
     "data": {
      "text/html": [
       "<div>\n",
       "<style scoped>\n",
       "    .dataframe tbody tr th:only-of-type {\n",
       "        vertical-align: middle;\n",
       "    }\n",
       "\n",
       "    .dataframe tbody tr th {\n",
       "        vertical-align: top;\n",
       "    }\n",
       "\n",
       "    .dataframe thead th {\n",
       "        text-align: right;\n",
       "    }\n",
       "</style>\n",
       "<table border=\"1\" class=\"dataframe\">\n",
       "  <thead>\n",
       "    <tr style=\"text-align: right;\">\n",
       "      <th></th>\n",
       "      <th>Frequence</th>\n",
       "      <th>Loss</th>\n",
       "      <th>Var_2_trend</th>\n",
       "    </tr>\n",
       "  </thead>\n",
       "  <tbody>\n",
       "    <tr>\n",
       "      <th>0</th>\n",
       "      <td>1</td>\n",
       "      <td>NaN</td>\n",
       "      <td>0.093775</td>\n",
       "    </tr>\n",
       "    <tr>\n",
       "      <th>0</th>\n",
       "      <td>5</td>\n",
       "      <td>NaN</td>\n",
       "      <td>0.022926</td>\n",
       "    </tr>\n",
       "    <tr>\n",
       "      <th>0</th>\n",
       "      <td>10</td>\n",
       "      <td>NaN</td>\n",
       "      <td>0.021899</td>\n",
       "    </tr>\n",
       "    <tr>\n",
       "      <th>0</th>\n",
       "      <td>15</td>\n",
       "      <td>NaN</td>\n",
       "      <td>0.003528</td>\n",
       "    </tr>\n",
       "    <tr>\n",
       "      <th>0</th>\n",
       "      <td>20</td>\n",
       "      <td>NaN</td>\n",
       "      <td>0.014393</td>\n",
       "    </tr>\n",
       "    <tr>\n",
       "      <th>0</th>\n",
       "      <td>25</td>\n",
       "      <td>NaN</td>\n",
       "      <td>0.102117</td>\n",
       "    </tr>\n",
       "    <tr>\n",
       "      <th>0</th>\n",
       "      <td>30</td>\n",
       "      <td>NaN</td>\n",
       "      <td>0.006719</td>\n",
       "    </tr>\n",
       "    <tr>\n",
       "      <th>0</th>\n",
       "      <td>35</td>\n",
       "      <td>NaN</td>\n",
       "      <td>0.011503</td>\n",
       "    </tr>\n",
       "    <tr>\n",
       "      <th>0</th>\n",
       "      <td>40</td>\n",
       "      <td>NaN</td>\n",
       "      <td>0.033328</td>\n",
       "    </tr>\n",
       "    <tr>\n",
       "      <th>0</th>\n",
       "      <td>45</td>\n",
       "      <td>NaN</td>\n",
       "      <td>0.028298</td>\n",
       "    </tr>\n",
       "    <tr>\n",
       "      <th>0</th>\n",
       "      <td>50</td>\n",
       "      <td>NaN</td>\n",
       "      <td>0.087711</td>\n",
       "    </tr>\n",
       "  </tbody>\n",
       "</table>\n",
       "</div>"
      ],
      "text/plain": [
       "  Frequence Loss  Var_2_trend\n",
       "0         1  NaN     0.093775\n",
       "0         5  NaN     0.022926\n",
       "0        10  NaN     0.021899\n",
       "0        15  NaN     0.003528\n",
       "0        20  NaN     0.014393\n",
       "0        25  NaN     0.102117\n",
       "0        30  NaN     0.006719\n",
       "0        35  NaN     0.011503\n",
       "0        40  NaN     0.033328\n",
       "0        45  NaN     0.028298\n",
       "0        50  NaN     0.087711"
      ]
     },
     "execution_count": 904,
     "metadata": {},
     "output_type": "execute_result"
    }
   ],
   "source": [
    "df_result_freq"
   ]
  },
  {
   "cell_type": "code",
   "execution_count": 880,
   "id": "overhead-boston",
   "metadata": {},
   "outputs": [
    {
     "name": "stderr",
     "output_type": "stream",
     "text": [
      "C:\\Users\\louis\\anaconda3\\envs\\tensorflow\\lib\\site-packages\\ipykernel_launcher.py:7: FutureWarning: the 'freq'' keyword is deprecated, use 'period' instead\n",
      "  import sys\n",
      "C:\\Users\\louis\\anaconda3\\envs\\tensorflow\\lib\\site-packages\\ipykernel_launcher.py:8: FutureWarning: the 'freq'' keyword is deprecated, use 'period' instead\n",
      "  \n",
      "C:\\Users\\louis\\anaconda3\\envs\\tensorflow\\lib\\site-packages\\ipykernel_launcher.py:9: FutureWarning: the 'freq'' keyword is deprecated, use 'period' instead\n",
      "  if __name__ == '__main__':\n",
      "C:\\Users\\louis\\anaconda3\\envs\\tensorflow\\lib\\site-packages\\ipykernel_launcher.py:10: FutureWarning: the 'freq'' keyword is deprecated, use 'period' instead\n",
      "  # Remove the CWD from sys.path while we load stuff.\n",
      "C:\\Users\\louis\\anaconda3\\envs\\tensorflow\\lib\\site-packages\\ipykernel_launcher.py:11: FutureWarning: the 'freq'' keyword is deprecated, use 'period' instead\n",
      "  # This is added back by InteractiveShellApp.init_path()\n"
     ]
    },
    {
     "name": "stdout",
     "output_type": "stream",
     "text": [
      "25% du traitement effectué\n",
      "50% du traitement effectué\n",
      "75% du traitement effectué\n",
      "Terminé ! \n",
      "Epoch 1/20\n",
      "133/133 [==============================] - 1s 7ms/step - loss: 0.0166 - val_loss: 0.0114\n",
      "Epoch 2/20\n",
      "133/133 [==============================] - 1s 8ms/step - loss: 0.0166 - val_loss: 0.0114\n",
      "Epoch 3/20\n",
      "133/133 [==============================] - 1s 8ms/step - loss: 0.0166 - val_loss: 0.0114\n",
      "Epoch 4/20\n",
      "133/133 [==============================] - 1s 8ms/step - loss: 0.0165 - val_loss: 0.0114\n",
      "Epoch 5/20\n",
      "133/133 [==============================] - 1s 8ms/step - loss: 0.0166 - val_loss: 0.0114\n",
      "Epoch 6/20\n",
      "133/133 [==============================] - 1s 7ms/step - loss: 0.0166 - val_loss: 0.0114\n",
      "Epoch 7/20\n",
      "133/133 [==============================] - 1s 8ms/step - loss: 0.0166 - val_loss: 0.0114\n",
      "Epoch 8/20\n",
      "133/133 [==============================] - 1s 7ms/step - loss: 0.0166 - val_loss: 0.0114\n",
      "Epoch 9/20\n",
      "133/133 [==============================] - 1s 7ms/step - loss: 0.0166 - val_loss: 0.0114\n",
      "Epoch 10/20\n",
      "133/133 [==============================] - 1s 8ms/step - loss: 0.0166 - val_loss: 0.0114\n",
      "Epoch 11/20\n",
      "133/133 [==============================] - 1s 9ms/step - loss: 0.0166 - val_loss: 0.0114\n",
      "42/42 [==============================] - 0s 4ms/step - loss: 0.1190\n",
      "0.11896120756864548\n"
     ]
    },
    {
     "ename": "ValueError",
     "evalue": "If using all scalar values, you must pass an index",
     "output_type": "error",
     "traceback": [
      "\u001b[1;31m---------------------------------------------------------------------------\u001b[0m",
      "\u001b[1;31mValueError\u001b[0m                                Traceback (most recent call last)",
      "\u001b[1;32m<ipython-input-880-698bee3ad010>\u001b[0m in \u001b[0;36m<module>\u001b[1;34m\u001b[0m\n\u001b[1;32m----> 1\u001b[1;33m \u001b[0mchoix_frequence\u001b[0m \u001b[1;33m(\u001b[0m\u001b[0mdfs\u001b[0m\u001b[1;33m,\u001b[0m\u001b[1;33m[\u001b[0m\u001b[1;36m5\u001b[0m\u001b[1;33m,\u001b[0m\u001b[1;36m10\u001b[0m\u001b[1;33m]\u001b[0m\u001b[1;33m)\u001b[0m\u001b[1;33m\u001b[0m\u001b[1;33m\u001b[0m\u001b[0m\n\u001b[0m",
      "\u001b[1;32m<ipython-input-879-aae90a253c62>\u001b[0m in \u001b[0;36mchoix_frequence\u001b[1;34m(serie, frequences)\u001b[0m\n\u001b[0;32m      8\u001b[0m         \u001b[0mtest_loss\u001b[0m \u001b[1;33m=\u001b[0m \u001b[0mmodel\u001b[0m\u001b[1;33m.\u001b[0m\u001b[0mevaluate\u001b[0m\u001b[1;33m(\u001b[0m\u001b[1;33m[\u001b[0m\u001b[0mX_complement_test\u001b[0m\u001b[1;33m,\u001b[0m \u001b[0mX_trend_test\u001b[0m\u001b[1;33m,\u001b[0m \u001b[0mX_season_test\u001b[0m\u001b[1;33m,\u001b[0m \u001b[0mX_resid_test\u001b[0m\u001b[1;33m]\u001b[0m\u001b[1;33m,\u001b[0m \u001b[0mY_test\u001b[0m\u001b[1;33m)\u001b[0m\u001b[1;33m\u001b[0m\u001b[1;33m\u001b[0m\u001b[0m\n\u001b[0;32m      9\u001b[0m         \u001b[0mprint\u001b[0m \u001b[1;33m(\u001b[0m\u001b[0mtest_loss\u001b[0m\u001b[1;33m)\u001b[0m\u001b[1;33m\u001b[0m\u001b[1;33m\u001b[0m\u001b[0m\n\u001b[1;32m---> 10\u001b[1;33m         \u001b[0mdf_result_freq_i\u001b[0m \u001b[1;33m=\u001b[0m \u001b[0mpd\u001b[0m\u001b[1;33m.\u001b[0m\u001b[0mDataFrame\u001b[0m\u001b[1;33m(\u001b[0m\u001b[1;33m{\u001b[0m\u001b[1;34m'Frequence'\u001b[0m\u001b[1;33m:\u001b[0m \u001b[0mi\u001b[0m \u001b[1;33m,\u001b[0m\u001b[1;34m'Var_2_trend'\u001b[0m \u001b[1;33m:\u001b[0m \u001b[0mtest_loss\u001b[0m\u001b[1;33m}\u001b[0m\u001b[1;33m)\u001b[0m\u001b[1;33m\u001b[0m\u001b[1;33m\u001b[0m\u001b[0m\n\u001b[0m\u001b[0;32m     11\u001b[0m         \u001b[0mdf_result_freq\u001b[0m \u001b[1;33m=\u001b[0m \u001b[0mpd\u001b[0m\u001b[1;33m.\u001b[0m\u001b[0mconcat\u001b[0m\u001b[1;33m(\u001b[0m\u001b[1;33m[\u001b[0m\u001b[0mdf_result_freq\u001b[0m\u001b[1;33m,\u001b[0m\u001b[0mdf_result_freq_i\u001b[0m\u001b[1;33m]\u001b[0m\u001b[1;33m)\u001b[0m\u001b[1;33m\u001b[0m\u001b[1;33m\u001b[0m\u001b[0m\n",
      "\u001b[1;32m~\\anaconda3\\envs\\tensorflow\\lib\\site-packages\\pandas\\core\\frame.py\u001b[0m in \u001b[0;36m__init__\u001b[1;34m(self, data, index, columns, dtype, copy)\u001b[0m\n\u001b[0;32m    527\u001b[0m \u001b[1;33m\u001b[0m\u001b[0m\n\u001b[0;32m    528\u001b[0m         \u001b[1;32melif\u001b[0m \u001b[0misinstance\u001b[0m\u001b[1;33m(\u001b[0m\u001b[0mdata\u001b[0m\u001b[1;33m,\u001b[0m \u001b[0mdict\u001b[0m\u001b[1;33m)\u001b[0m\u001b[1;33m:\u001b[0m\u001b[1;33m\u001b[0m\u001b[1;33m\u001b[0m\u001b[0m\n\u001b[1;32m--> 529\u001b[1;33m             \u001b[0mmgr\u001b[0m \u001b[1;33m=\u001b[0m \u001b[0minit_dict\u001b[0m\u001b[1;33m(\u001b[0m\u001b[0mdata\u001b[0m\u001b[1;33m,\u001b[0m \u001b[0mindex\u001b[0m\u001b[1;33m,\u001b[0m \u001b[0mcolumns\u001b[0m\u001b[1;33m,\u001b[0m \u001b[0mdtype\u001b[0m\u001b[1;33m=\u001b[0m\u001b[0mdtype\u001b[0m\u001b[1;33m)\u001b[0m\u001b[1;33m\u001b[0m\u001b[1;33m\u001b[0m\u001b[0m\n\u001b[0m\u001b[0;32m    530\u001b[0m         \u001b[1;32melif\u001b[0m \u001b[0misinstance\u001b[0m\u001b[1;33m(\u001b[0m\u001b[0mdata\u001b[0m\u001b[1;33m,\u001b[0m \u001b[0mma\u001b[0m\u001b[1;33m.\u001b[0m\u001b[0mMaskedArray\u001b[0m\u001b[1;33m)\u001b[0m\u001b[1;33m:\u001b[0m\u001b[1;33m\u001b[0m\u001b[1;33m\u001b[0m\u001b[0m\n\u001b[0;32m    531\u001b[0m             \u001b[1;32mimport\u001b[0m \u001b[0mnumpy\u001b[0m\u001b[1;33m.\u001b[0m\u001b[0mma\u001b[0m\u001b[1;33m.\u001b[0m\u001b[0mmrecords\u001b[0m \u001b[1;32mas\u001b[0m \u001b[0mmrecords\u001b[0m\u001b[1;33m\u001b[0m\u001b[1;33m\u001b[0m\u001b[0m\n",
      "\u001b[1;32m~\\anaconda3\\envs\\tensorflow\\lib\\site-packages\\pandas\\core\\internals\\construction.py\u001b[0m in \u001b[0;36minit_dict\u001b[1;34m(data, index, columns, dtype)\u001b[0m\n\u001b[0;32m    285\u001b[0m             \u001b[0marr\u001b[0m \u001b[1;32mif\u001b[0m \u001b[1;32mnot\u001b[0m \u001b[0mis_datetime64tz_dtype\u001b[0m\u001b[1;33m(\u001b[0m\u001b[0marr\u001b[0m\u001b[1;33m)\u001b[0m \u001b[1;32melse\u001b[0m \u001b[0marr\u001b[0m\u001b[1;33m.\u001b[0m\u001b[0mcopy\u001b[0m\u001b[1;33m(\u001b[0m\u001b[1;33m)\u001b[0m \u001b[1;32mfor\u001b[0m \u001b[0marr\u001b[0m \u001b[1;32min\u001b[0m \u001b[0marrays\u001b[0m\u001b[1;33m\u001b[0m\u001b[1;33m\u001b[0m\u001b[0m\n\u001b[0;32m    286\u001b[0m         ]\n\u001b[1;32m--> 287\u001b[1;33m     \u001b[1;32mreturn\u001b[0m \u001b[0marrays_to_mgr\u001b[0m\u001b[1;33m(\u001b[0m\u001b[0marrays\u001b[0m\u001b[1;33m,\u001b[0m \u001b[0mdata_names\u001b[0m\u001b[1;33m,\u001b[0m \u001b[0mindex\u001b[0m\u001b[1;33m,\u001b[0m \u001b[0mcolumns\u001b[0m\u001b[1;33m,\u001b[0m \u001b[0mdtype\u001b[0m\u001b[1;33m=\u001b[0m\u001b[0mdtype\u001b[0m\u001b[1;33m)\u001b[0m\u001b[1;33m\u001b[0m\u001b[1;33m\u001b[0m\u001b[0m\n\u001b[0m\u001b[0;32m    288\u001b[0m \u001b[1;33m\u001b[0m\u001b[0m\n\u001b[0;32m    289\u001b[0m \u001b[1;33m\u001b[0m\u001b[0m\n",
      "\u001b[1;32m~\\anaconda3\\envs\\tensorflow\\lib\\site-packages\\pandas\\core\\internals\\construction.py\u001b[0m in \u001b[0;36marrays_to_mgr\u001b[1;34m(arrays, arr_names, index, columns, dtype, verify_integrity)\u001b[0m\n\u001b[0;32m     78\u001b[0m         \u001b[1;31m# figure out the index, if necessary\u001b[0m\u001b[1;33m\u001b[0m\u001b[1;33m\u001b[0m\u001b[1;33m\u001b[0m\u001b[0m\n\u001b[0;32m     79\u001b[0m         \u001b[1;32mif\u001b[0m \u001b[0mindex\u001b[0m \u001b[1;32mis\u001b[0m \u001b[1;32mNone\u001b[0m\u001b[1;33m:\u001b[0m\u001b[1;33m\u001b[0m\u001b[1;33m\u001b[0m\u001b[0m\n\u001b[1;32m---> 80\u001b[1;33m             \u001b[0mindex\u001b[0m \u001b[1;33m=\u001b[0m \u001b[0mextract_index\u001b[0m\u001b[1;33m(\u001b[0m\u001b[0marrays\u001b[0m\u001b[1;33m)\u001b[0m\u001b[1;33m\u001b[0m\u001b[1;33m\u001b[0m\u001b[0m\n\u001b[0m\u001b[0;32m     81\u001b[0m         \u001b[1;32melse\u001b[0m\u001b[1;33m:\u001b[0m\u001b[1;33m\u001b[0m\u001b[1;33m\u001b[0m\u001b[0m\n\u001b[0;32m     82\u001b[0m             \u001b[0mindex\u001b[0m \u001b[1;33m=\u001b[0m \u001b[0mensure_index\u001b[0m\u001b[1;33m(\u001b[0m\u001b[0mindex\u001b[0m\u001b[1;33m)\u001b[0m\u001b[1;33m\u001b[0m\u001b[1;33m\u001b[0m\u001b[0m\n",
      "\u001b[1;32m~\\anaconda3\\envs\\tensorflow\\lib\\site-packages\\pandas\\core\\internals\\construction.py\u001b[0m in \u001b[0;36mextract_index\u001b[1;34m(data)\u001b[0m\n\u001b[0;32m    389\u001b[0m \u001b[1;33m\u001b[0m\u001b[0m\n\u001b[0;32m    390\u001b[0m         \u001b[1;32mif\u001b[0m \u001b[1;32mnot\u001b[0m \u001b[0mindexes\u001b[0m \u001b[1;32mand\u001b[0m \u001b[1;32mnot\u001b[0m \u001b[0mraw_lengths\u001b[0m\u001b[1;33m:\u001b[0m\u001b[1;33m\u001b[0m\u001b[1;33m\u001b[0m\u001b[0m\n\u001b[1;32m--> 391\u001b[1;33m             \u001b[1;32mraise\u001b[0m \u001b[0mValueError\u001b[0m\u001b[1;33m(\u001b[0m\u001b[1;34m\"If using all scalar values, you must pass an index\"\u001b[0m\u001b[1;33m)\u001b[0m\u001b[1;33m\u001b[0m\u001b[1;33m\u001b[0m\u001b[0m\n\u001b[0m\u001b[0;32m    392\u001b[0m \u001b[1;33m\u001b[0m\u001b[0m\n\u001b[0;32m    393\u001b[0m         \u001b[1;32mif\u001b[0m \u001b[0mhave_series\u001b[0m\u001b[1;33m:\u001b[0m\u001b[1;33m\u001b[0m\u001b[1;33m\u001b[0m\u001b[0m\n",
      "\u001b[1;31mValueError\u001b[0m: If using all scalar values, you must pass an index"
     ]
    }
   ],
   "source": [
    "choix_frequence (dfs,[5,10])"
   ]
  },
  {
   "cell_type": "code",
   "execution_count": 814,
   "id": "aquatic-accuracy",
   "metadata": {},
   "outputs": [
    {
     "data": {
      "text/plain": [
       "array([[[0.10154525, 0.        , 0.47972885, ..., 0.33333333,\n",
       "         8.        , 0.6       ],\n",
       "        [0.10154525, 0.        , 0.48181463, ..., 0.33333333,\n",
       "         8.        , 0.6       ],\n",
       "        [0.10154525, 0.        , 0.48689871, ..., 0.33333333,\n",
       "         8.        , 0.6       ],\n",
       "        ...,\n",
       "        [0.10154525, 0.        , 0.47894668, ..., 0.33333333,\n",
       "         8.        , 0.6       ],\n",
       "        [0.10154525, 0.        , 0.48246643, ..., 0.33333333,\n",
       "         8.        , 0.6       ],\n",
       "        [0.10154525, 0.        , 0.49146135, ..., 0.33333333,\n",
       "         8.        , 0.6       ]],\n",
       "\n",
       "       [[0.76600442, 0.        , 0.13062182, ..., 0.        ,\n",
       "         2.        , 0.        ],\n",
       "        [0.76600442, 0.        , 0.13831313, ..., 0.        ,\n",
       "         2.        , 0.        ],\n",
       "        [0.76600442, 0.        , 0.13218616, ..., 0.        ,\n",
       "         2.        , 0.        ],\n",
       "        ...,\n",
       "        [0.76600442, 0.        , 0.13114327, ..., 0.        ,\n",
       "         2.        , 0.        ],\n",
       "        [0.76600442, 0.        , 0.13622735, ..., 0.        ,\n",
       "         2.        , 0.        ],\n",
       "        [0.76600442, 0.        , 0.12918785, ..., 0.        ,\n",
       "         2.        , 0.        ]],\n",
       "\n",
       "       [[0.47976453, 0.        , 0.22004954, ..., 0.        ,\n",
       "         4.        , 0.        ],\n",
       "        [0.47976453, 0.        , 0.21353148, ..., 0.        ,\n",
       "         4.        , 0.        ],\n",
       "        [0.47976453, 0.        , 0.2231782 , ..., 0.        ,\n",
       "         4.        , 0.        ],\n",
       "        ...,\n",
       "        [0.47976453, 0.        , 0.2137922 , ..., 0.        ,\n",
       "         4.        , 0.        ],\n",
       "        [0.47976453, 0.        , 0.20088646, ..., 0.        ,\n",
       "         4.        , 0.        ],\n",
       "        [0.47976453, 0.        , 0.20544909, ..., 0.        ,\n",
       "         4.        , 0.        ]],\n",
       "\n",
       "       ...,\n",
       "\n",
       "       [[0.18322296, 0.        , 0.3200365 , ..., 0.        ,\n",
       "         3.        , 0.4       ],\n",
       "        [0.18322296, 0.        , 0.36149133, ..., 0.        ,\n",
       "         3.        , 0.4       ],\n",
       "        [0.18322296, 0.        , 0.383392  , ..., 0.        ,\n",
       "         3.        , 0.4       ],\n",
       "        ...,\n",
       "        [0.18322296, 0.        , 0.23230348, ..., 0.        ,\n",
       "         3.        , 0.4       ],\n",
       "        [0.18322296, 0.        , 0.44752966, ..., 0.        ,\n",
       "         3.        , 0.4       ],\n",
       "        [0.18322296, 0.        , 0.31769   , ..., 0.        ,\n",
       "         3.        , 0.4       ]],\n",
       "\n",
       "       [[0.        , 0.        , 0.46877852, ..., 0.33333333,\n",
       "         2.        , 0.4       ],\n",
       "        [0.        , 0.        , 0.50332421, ..., 0.33333333,\n",
       "         2.        , 0.4       ],\n",
       "        [0.        , 0.        , 0.43618824, ..., 0.33333333,\n",
       "         2.        , 0.4       ],\n",
       "        ...,\n",
       "        [0.        , 0.        , 0.5184461 , ..., 0.33333333,\n",
       "         2.        , 0.4       ],\n",
       "        [0.        , 0.        , 0.54764698, ..., 0.33333333,\n",
       "         2.        , 0.4       ],\n",
       "        [0.        , 0.        , 0.46017468, ..., 0.33333333,\n",
       "         2.        , 0.4       ]],\n",
       "\n",
       "       [[0.        , 0.        , 0.10989441, ..., 0.        ,\n",
       "         0.        , 0.        ],\n",
       "        [0.        , 0.        , 0.02972233, ..., 0.        ,\n",
       "         0.        , 0.        ],\n",
       "        [0.        , 0.        , 0.01433972, ..., 0.        ,\n",
       "         0.        , 0.        ],\n",
       "        ...,\n",
       "        [0.        , 0.        , 0.10611394, ..., 0.        ,\n",
       "         0.        , 0.        ],\n",
       "        [0.        , 0.        , 0.15082779, ..., 0.        ,\n",
       "         0.        , 0.        ],\n",
       "        [0.        , 0.        , 0.03076522, ..., 0.        ,\n",
       "         0.        , 0.        ]]])"
      ]
     },
     "execution_count": 814,
     "metadata": {},
     "output_type": "execute_result"
    }
   ],
   "source": [
    "choix_frequence (3, 1) "
   ]
  },
  {
   "cell_type": "code",
   "execution_count": null,
   "id": "specific-cabin",
   "metadata": {},
   "outputs": [],
   "source": []
  },
  {
   "cell_type": "code",
   "execution_count": null,
   "id": "prescribed-hostel",
   "metadata": {},
   "outputs": [],
   "source": []
  },
  {
   "cell_type": "code",
   "execution_count": 425,
   "id": "naughty-fifteen",
   "metadata": {},
   "outputs": [
    {
     "data": {
      "text/plain": [
       "(5292, 100, 5)"
      ]
     },
     "execution_count": 425,
     "metadata": {},
     "output_type": "execute_result"
    }
   ],
   "source": [
    "X_trend_train.shape"
   ]
  },
  {
   "cell_type": "code",
   "execution_count": 424,
   "id": "encouraging-alfred",
   "metadata": {},
   "outputs": [
    {
     "data": {
      "text/plain": [
       "(5292, 100, 10)"
      ]
     },
     "execution_count": 424,
     "metadata": {},
     "output_type": "execute_result"
    }
   ],
   "source": [
    "X_complement_train.shape"
   ]
  },
  {
   "cell_type": "code",
   "execution_count": 426,
   "id": "macro-missile",
   "metadata": {},
   "outputs": [],
   "source": [
    "# define two sets of inputs\n",
    "inputA = Input(shape=(100,10))\n",
    "inputB = Input(shape=(100,5))\n",
    "# the first branch operates on the first input\n",
    "x = Dense(8, activation=\"relu\")(inputA)\n",
    "x = Dense(4, activation=\"relu\")(x)\n",
    "x = Model(inputs=inputA, outputs=x)\n",
    "# the second branch opreates on the second input\n",
    "y = Dense(64, activation=\"relu\")(inputB)\n",
    "y = Dense(32, activation=\"relu\")(y)\n",
    "y = Dense(4, activation=\"relu\")(y)\n",
    "y = Model(inputs=inputB, outputs=y)\n",
    "# combine the output of the two branches\n",
    "combined = concatenate([x.output, y.output])\n",
    "# apply a FC layer and then a regression prediction on the\n",
    "# combined outputs\n",
    "z = Dense(2, activation=\"relu\")(combined)\n",
    "z = Dense(1, activation=\"linear\")(z)\n",
    "# our model will accept the inputs of the two branches and\n",
    "# then output a single value\n",
    "model = Model(inputs=[x.input, y.input], outputs=z)"
   ]
  },
  {
   "cell_type": "code",
   "execution_count": 427,
   "id": "opening-travel",
   "metadata": {},
   "outputs": [
    {
     "ename": "RuntimeError",
     "evalue": "You must compile your model before training/testing. Use `model.compile(optimizer, loss)`.",
     "output_type": "error",
     "traceback": [
      "\u001b[1;31m---------------------------------------------------------------------------\u001b[0m",
      "\u001b[1;31mRuntimeError\u001b[0m                              Traceback (most recent call last)",
      "\u001b[1;32m<ipython-input-427-1af2407e385b>\u001b[0m in \u001b[0;36m<module>\u001b[1;34m\u001b[0m\n\u001b[1;32m----> 1\u001b[1;33m \u001b[0mhistory\u001b[0m \u001b[1;33m=\u001b[0m \u001b[0mmodel\u001b[0m\u001b[1;33m.\u001b[0m\u001b[0mfit\u001b[0m\u001b[1;33m(\u001b[0m\u001b[1;33m[\u001b[0m\u001b[0mX_complement_train\u001b[0m\u001b[1;33m,\u001b[0m\u001b[0mX_trend_train\u001b[0m\u001b[1;33m]\u001b[0m\u001b[1;33m,\u001b[0m \u001b[0mY_train\u001b[0m\u001b[1;33m,\u001b[0m \u001b[0mepochs\u001b[0m\u001b[1;33m=\u001b[0m\u001b[1;36m10\u001b[0m\u001b[1;33m,\u001b[0m \u001b[0mvalidation_split\u001b[0m \u001b[1;33m=\u001b[0m \u001b[1;36m0.2\u001b[0m\u001b[1;33m)\u001b[0m\u001b[1;33m\u001b[0m\u001b[1;33m\u001b[0m\u001b[0m\n\u001b[0m",
      "\u001b[1;32m~\\anaconda3\\envs\\tensorflow\\lib\\site-packages\\tensorflow\\python\\keras\\engine\\training.py\u001b[0m in \u001b[0;36m_method_wrapper\u001b[1;34m(self, *args, **kwargs)\u001b[0m\n\u001b[0;32m    106\u001b[0m   \u001b[1;32mdef\u001b[0m \u001b[0m_method_wrapper\u001b[0m\u001b[1;33m(\u001b[0m\u001b[0mself\u001b[0m\u001b[1;33m,\u001b[0m \u001b[1;33m*\u001b[0m\u001b[0margs\u001b[0m\u001b[1;33m,\u001b[0m \u001b[1;33m**\u001b[0m\u001b[0mkwargs\u001b[0m\u001b[1;33m)\u001b[0m\u001b[1;33m:\u001b[0m\u001b[1;33m\u001b[0m\u001b[1;33m\u001b[0m\u001b[0m\n\u001b[0;32m    107\u001b[0m     \u001b[1;32mif\u001b[0m \u001b[1;32mnot\u001b[0m \u001b[0mself\u001b[0m\u001b[1;33m.\u001b[0m\u001b[0m_in_multi_worker_mode\u001b[0m\u001b[1;33m(\u001b[0m\u001b[1;33m)\u001b[0m\u001b[1;33m:\u001b[0m  \u001b[1;31m# pylint: disable=protected-access\u001b[0m\u001b[1;33m\u001b[0m\u001b[1;33m\u001b[0m\u001b[0m\n\u001b[1;32m--> 108\u001b[1;33m       \u001b[1;32mreturn\u001b[0m \u001b[0mmethod\u001b[0m\u001b[1;33m(\u001b[0m\u001b[0mself\u001b[0m\u001b[1;33m,\u001b[0m \u001b[1;33m*\u001b[0m\u001b[0margs\u001b[0m\u001b[1;33m,\u001b[0m \u001b[1;33m**\u001b[0m\u001b[0mkwargs\u001b[0m\u001b[1;33m)\u001b[0m\u001b[1;33m\u001b[0m\u001b[1;33m\u001b[0m\u001b[0m\n\u001b[0m\u001b[0;32m    109\u001b[0m \u001b[1;33m\u001b[0m\u001b[0m\n\u001b[0;32m    110\u001b[0m     \u001b[1;31m# Running inside `run_distribute_coordinator` already.\u001b[0m\u001b[1;33m\u001b[0m\u001b[1;33m\u001b[0m\u001b[1;33m\u001b[0m\u001b[0m\n",
      "\u001b[1;32m~\\anaconda3\\envs\\tensorflow\\lib\\site-packages\\tensorflow\\python\\keras\\engine\\training.py\u001b[0m in \u001b[0;36mfit\u001b[1;34m(self, x, y, batch_size, epochs, verbose, callbacks, validation_split, validation_data, shuffle, class_weight, sample_weight, initial_epoch, steps_per_epoch, validation_steps, validation_batch_size, validation_freq, max_queue_size, workers, use_multiprocessing)\u001b[0m\n\u001b[0;32m   1029\u001b[0m     \u001b[1;31m# Legacy graph support is contained in `training_v1.Model`.\u001b[0m\u001b[1;33m\u001b[0m\u001b[1;33m\u001b[0m\u001b[1;33m\u001b[0m\u001b[0m\n\u001b[0;32m   1030\u001b[0m     \u001b[0mversion_utils\u001b[0m\u001b[1;33m.\u001b[0m\u001b[0mdisallow_legacy_graph\u001b[0m\u001b[1;33m(\u001b[0m\u001b[1;34m'Model'\u001b[0m\u001b[1;33m,\u001b[0m \u001b[1;34m'fit'\u001b[0m\u001b[1;33m)\u001b[0m\u001b[1;33m\u001b[0m\u001b[1;33m\u001b[0m\u001b[0m\n\u001b[1;32m-> 1031\u001b[1;33m     \u001b[0mself\u001b[0m\u001b[1;33m.\u001b[0m\u001b[0m_assert_compile_was_called\u001b[0m\u001b[1;33m(\u001b[0m\u001b[1;33m)\u001b[0m\u001b[1;33m\u001b[0m\u001b[1;33m\u001b[0m\u001b[0m\n\u001b[0m\u001b[0;32m   1032\u001b[0m     \u001b[0mself\u001b[0m\u001b[1;33m.\u001b[0m\u001b[0m_check_call_args\u001b[0m\u001b[1;33m(\u001b[0m\u001b[1;34m'fit'\u001b[0m\u001b[1;33m)\u001b[0m\u001b[1;33m\u001b[0m\u001b[1;33m\u001b[0m\u001b[0m\n\u001b[0;32m   1033\u001b[0m     \u001b[0m_disallow_inside_tf_function\u001b[0m\u001b[1;33m(\u001b[0m\u001b[1;34m'fit'\u001b[0m\u001b[1;33m)\u001b[0m\u001b[1;33m\u001b[0m\u001b[1;33m\u001b[0m\u001b[0m\n",
      "\u001b[1;32m~\\anaconda3\\envs\\tensorflow\\lib\\site-packages\\tensorflow\\python\\keras\\engine\\training.py\u001b[0m in \u001b[0;36m_assert_compile_was_called\u001b[1;34m(self)\u001b[0m\n\u001b[0;32m   2567\u001b[0m     \u001b[1;31m# (i.e. whether the model is built and its inputs/outputs are set).\u001b[0m\u001b[1;33m\u001b[0m\u001b[1;33m\u001b[0m\u001b[1;33m\u001b[0m\u001b[0m\n\u001b[0;32m   2568\u001b[0m     \u001b[1;32mif\u001b[0m \u001b[1;32mnot\u001b[0m \u001b[0mself\u001b[0m\u001b[1;33m.\u001b[0m\u001b[0m_is_compiled\u001b[0m\u001b[1;33m:\u001b[0m\u001b[1;33m\u001b[0m\u001b[1;33m\u001b[0m\u001b[0m\n\u001b[1;32m-> 2569\u001b[1;33m       raise RuntimeError('You must compile your model before '\n\u001b[0m\u001b[0;32m   2570\u001b[0m                          \u001b[1;34m'training/testing. '\u001b[0m\u001b[1;33m\u001b[0m\u001b[1;33m\u001b[0m\u001b[0m\n\u001b[0;32m   2571\u001b[0m                          'Use `model.compile(optimizer, loss)`.')\n",
      "\u001b[1;31mRuntimeError\u001b[0m: You must compile your model before training/testing. Use `model.compile(optimizer, loss)`."
     ]
    }
   ],
   "source": [
    "history = model.fit([X_complement_train,X_trend_train], Y_train, epochs=10, validation_split = 0.2)"
   ]
  },
  {
   "cell_type": "code",
   "execution_count": null,
   "id": "fabulous-wells",
   "metadata": {},
   "outputs": [],
   "source": []
  },
  {
   "cell_type": "code",
   "execution_count": null,
   "id": "significant-craft",
   "metadata": {},
   "outputs": [],
   "source": []
  },
  {
   "cell_type": "code",
   "execution_count": null,
   "id": "diagnostic-relative",
   "metadata": {},
   "outputs": [],
   "source": []
  },
  {
   "cell_type": "code",
   "execution_count": null,
   "id": "rational-designation",
   "metadata": {},
   "outputs": [],
   "source": []
  },
  {
   "cell_type": "code",
   "execution_count": null,
   "id": "nearby-alberta",
   "metadata": {},
   "outputs": [],
   "source": []
  },
  {
   "cell_type": "code",
   "execution_count": null,
   "id": "amended-trick",
   "metadata": {},
   "outputs": [],
   "source": []
  },
  {
   "cell_type": "code",
   "execution_count": null,
   "id": "banned-zimbabwe",
   "metadata": {},
   "outputs": [],
   "source": []
  },
  {
   "cell_type": "code",
   "execution_count": null,
   "id": "generic-health",
   "metadata": {},
   "outputs": [],
   "source": []
  },
  {
   "cell_type": "code",
   "execution_count": null,
   "id": "assured-growth",
   "metadata": {},
   "outputs": [],
   "source": []
  },
  {
   "cell_type": "code",
   "execution_count": 409,
   "id": "raising-senegal",
   "metadata": {},
   "outputs": [],
   "source": [
    "# define model\n",
    "model = Sequential()\n",
    "model.add(Conv1D(filters=64, kernel_size=2, activation='relu', input_shape=(100, X_complement_train.shape[2])))\n",
    "model.add(MaxPooling1D(pool_size=2))\n",
    "model.add(Flatten())\n",
    "model.add(Dense(50, activation='relu'))\n",
    "model.add(Dense(1))\n",
    "model.compile(optimizer='adam', loss='mse')"
   ]
  },
  {
   "cell_type": "code",
   "execution_count": 410,
   "id": "injured-minneapolis",
   "metadata": {},
   "outputs": [
    {
     "name": "stdout",
     "output_type": "stream",
     "text": [
      "Epoch 1/10\n",
      "133/133 [==============================] - 0s 3ms/step - loss: 0.1153 - val_loss: 0.0041\n",
      "Epoch 2/10\n",
      "133/133 [==============================] - 0s 2ms/step - loss: 0.0459 - val_loss: 0.0038\n",
      "Epoch 3/10\n",
      "133/133 [==============================] - 0s 2ms/step - loss: 0.0457 - val_loss: 0.0037\n",
      "Epoch 4/10\n",
      "133/133 [==============================] - 0s 2ms/step - loss: 0.0457 - val_loss: 0.0037\n",
      "Epoch 5/10\n",
      "133/133 [==============================] - 0s 2ms/step - loss: 0.0456 - val_loss: 0.0036\n",
      "Epoch 6/10\n",
      "133/133 [==============================] - 0s 2ms/step - loss: 0.0454 - val_loss: 0.0036\n",
      "Epoch 7/10\n",
      "133/133 [==============================] - 0s 2ms/step - loss: 0.0454 - val_loss: 0.0037\n",
      "Epoch 8/10\n",
      "133/133 [==============================] - 0s 2ms/step - loss: 0.0454 - val_loss: 0.0035\n",
      "Epoch 9/10\n",
      "133/133 [==============================] - 0s 2ms/step - loss: 0.0454 - val_loss: 0.0036\n",
      "Epoch 10/10\n",
      "133/133 [==============================] - 0s 2ms/step - loss: 0.0453 - val_loss: 0.0036\n"
     ]
    }
   ],
   "source": [
    "history = model.fit(X_complement_train, Y_train, epochs=10, validation_split = 0.2)"
   ]
  },
  {
   "cell_type": "code",
   "execution_count": 414,
   "id": "rolled-turner",
   "metadata": {},
   "outputs": [
    {
     "data": {
      "text/plain": [
       "(5292, 100, 10)"
      ]
     },
     "execution_count": 414,
     "metadata": {},
     "output_type": "execute_result"
    }
   ],
   "source": [
    "X_complement_train.shape"
   ]
  },
  {
   "cell_type": "code",
   "execution_count": 415,
   "id": "posted-designer",
   "metadata": {},
   "outputs": [],
   "source": [
    "x_input = X_complement_train[0]\n",
    "x_input = x_input.reshape((1, 100, 10))"
   ]
  },
  {
   "cell_type": "code",
   "execution_count": 416,
   "id": "thrown-highland",
   "metadata": {},
   "outputs": [
    {
     "data": {
      "text/plain": [
       "array([[[0.04709345, 0.        , 0.20949029, 0.        , 1.        ,\n",
       "         0.13685721, 0.13613258, 0.        , 2.        , 0.4       ],\n",
       "        [0.04709345, 0.        , 0.19853996, 0.        , 1.        ,\n",
       "         0.03921577, 0.21276349, 0.        , 2.        , 0.4       ],\n",
       "        [0.04709345, 0.        , 0.20088646, 0.        , 1.        ,\n",
       "         0.41974892, 0.26635718, 0.        , 2.        , 0.4       ],\n",
       "        [0.04709345, 0.        , 0.19176118, 0.        , 1.        ,\n",
       "         0.50566374, 0.15295494, 0.        , 2.        , 0.4       ],\n",
       "        [0.04709345, 0.        , 0.20023465, 0.        , 1.        ,\n",
       "         0.53477565, 0.20223274, 0.        , 2.        , 0.4       ],\n",
       "        [0.04709345, 0.        , 0.20440621, 0.        , 1.        ,\n",
       "         0.46138206, 0.12976427, 0.        , 2.        , 0.4       ],\n",
       "        [0.04709345, 0.        , 0.18589493, 0.        , 1.        ,\n",
       "         0.48140485, 0.19576851, 0.        , 2.        , 0.4       ],\n",
       "        [0.04709345, 0.        , 0.20570982, 0.        , 1.        ,\n",
       "         0.13884006, 0.39193982, 0.        , 2.        , 0.4       ],\n",
       "        [0.04709345, 0.        , 0.20831704, 0.        , 1.        ,\n",
       "         0.24471838, 0.28582665, 0.        , 2.        , 0.4       ],\n",
       "        [0.04709345, 0.        , 0.20935993, 0.        , 1.        ,\n",
       "         0.14750124, 0.16525044, 0.        , 2.        , 0.4       ],\n",
       "        [0.04709345, 0.        , 0.18146265, 0.        , 1.        ,\n",
       "         0.63055589, 0.20321103, 0.        , 2.        , 0.4       ],\n",
       "        [0.04709345, 0.        , 0.19515057, 0.        , 1.        ,\n",
       "         0.63602255, 0.22277635, 0.        , 2.        , 0.4       ],\n",
       "        [0.04709345, 0.        , 0.21105462, 0.        , 1.        ,\n",
       "         0.58236969, 0.20480307, 0.        , 2.        , 0.4       ],\n",
       "        [0.04709345, 0.        , 0.1943684 , 0.        , 1.        ,\n",
       "         0.73057561, 0.1790996 , 0.        , 2.        , 0.4       ],\n",
       "        [0.04709345, 0.        , 0.20779559, 0.        , 1.        ,\n",
       "         0.31083496, 0.22661272, 0.        , 2.        , 0.4       ],\n",
       "        [0.04709345, 0.        , 0.19684526, 0.        , 1.        ,\n",
       "         0.58049307, 0.21872901, 0.        , 2.        , 0.4       ],\n",
       "        [0.04709345, 0.        , 0.20870812, 0.        , 1.        ,\n",
       "         0.20382963, 0.26931118, 0.        , 2.        , 0.4       ],\n",
       "        [0.04709345, 0.        , 0.20623126, 0.        , 1.        ,\n",
       "         0.04012255, 0.32384476, 0.        , 2.        , 0.4       ],\n",
       "        [0.04709345, 0.        , 0.20701343, 0.        , 1.        ,\n",
       "         0.38808175, 0.19306386, 0.        , 2.        , 0.4       ],\n",
       "        [0.04709345, 0.        , 0.18863251, 0.        , 1.        ,\n",
       "         0.42860054, 0.18588997, 0.        , 2.        , 0.4       ],\n",
       "        [0.04709345, 0.        , 0.18380915, 0.        , 1.        ,\n",
       "         0.78842335, 0.1557171 , 0.        , 2.        , 0.4       ],\n",
       "        [0.04709345, 0.        , 0.18576457, 0.        , 1.        ,\n",
       "         0.30757564, 0.27333931, 0.        , 2.        , 0.4       ],\n",
       "        [0.04709345, 0.        , 0.20127754, 0.        , 1.        ,\n",
       "         0.038444  , 0.19878003, 0.        , 2.        , 0.4       ],\n",
       "        [0.04709345, 0.        , 0.18211446, 0.        , 1.        ,\n",
       "         0.1086252 , 0.21132489, 0.        , 2.        , 0.4       ],\n",
       "        [0.04709345, 0.        , 0.19371659, 0.        , 1.        ,\n",
       "         0.67825952, 0.21573669, 0.        , 2.        , 0.4       ],\n",
       "        [0.04709345, 0.        , 0.18120193, 0.        , 1.        ,\n",
       "         0.39129647, 0.19839643, 0.        , 2.        , 0.4       ],\n",
       "        [0.04709345, 0.        , 0.20505801, 0.        , 1.        ,\n",
       "         0.04471733, 0.19985423, 0.        , 2.        , 0.4       ],\n",
       "        [0.04709345, 0.        , 0.18602529, 0.        , 1.        ,\n",
       "         0.02556405, 0.13609419, 0.        , 2.        , 0.4       ],\n",
       "        [0.04709345, 0.        , 0.20362404, 0.        , 1.        ,\n",
       "         0.67753921, 0.17298064, 0.        , 2.        , 0.4       ],\n",
       "        [0.04709345, 0.        , 0.18758962, 0.        , 1.        ,\n",
       "         0.51159456, 0.16611362, 0.        , 2.        , 0.4       ],\n",
       "        [0.04709345, 0.        , 0.19228262, 0.        , 1.        ,\n",
       "         0.53396433, 0.20783379, 0.        , 2.        , 0.4       ],\n",
       "        [0.04709345, 0.        , 0.18446096, 0.        , 1.        ,\n",
       "         0.57010984, 0.2235628 , 0.        , 2.        , 0.4       ],\n",
       "        [0.04709345, 0.        , 0.20258115, 0.        , 1.        ,\n",
       "         0.42271887, 0.1952506 , 0.        , 2.        , 0.4       ],\n",
       "        [0.04709345, 0.        , 0.18811107, 0.        , 1.        ,\n",
       "         0.45572571, 0.16663152, 0.        , 2.        , 0.4       ],\n",
       "        [0.04709345, 0.        , 0.19215226, 0.        , 1.        ,\n",
       "         0.52601966, 0.20674045, 0.        , 2.        , 0.4       ],\n",
       "        [0.04709345, 0.        , 0.20597054, 0.        , 1.        ,\n",
       "         0.47874727, 0.16480925, 0.        , 2.        , 0.4       ],\n",
       "        [0.04709345, 0.        , 0.19775779, 0.        , 1.        ,\n",
       "         0.64762736, 0.11207875, 0.        , 2.        , 0.4       ],\n",
       "        [0.04709345, 0.        , 0.18706818, 0.        , 1.        ,\n",
       "         0.51230955, 0.30871044, 0.        , 2.        , 0.4       ],\n",
       "        [0.04709345, 0.        , 0.18798071, 0.        , 1.        ,\n",
       "         0.46075031, 0.16519285, 0.        , 2.        , 0.4       ],\n",
       "        [0.04709345, 0.        , 0.2067527 , 0.        , 1.        ,\n",
       "         0.28173416, 0.30000195, 0.        , 2.        , 0.4       ],\n",
       "        [0.04709345, 0.        , 0.20922957, 0.        , 1.        ,\n",
       "         0.15696671, 0.17039111, 0.        , 2.        , 0.4       ],\n",
       "        [0.04709345, 0.        , 0.19749707, 0.        , 1.        ,\n",
       "         0.27571498, 0.37076326, 0.        , 2.        , 0.4       ],\n",
       "        [0.04709345, 0.        , 0.20479729, 0.        , 1.        ,\n",
       "         0.38068247, 0.25016785, 0.        , 2.        , 0.4       ],\n",
       "        [0.04709345, 0.        , 0.20740451, 0.        , 1.        ,\n",
       "         0.33587334, 0.12679108, 0.        , 2.        , 0.4       ],\n",
       "        [0.04709345, 0.        , 0.18315735, 0.        , 1.        ,\n",
       "         0.41007207, 0.24514223, 0.        , 2.        , 0.4       ],\n",
       "        [0.04709345, 0.        , 0.1873289 , 0.        , 1.        ,\n",
       "         0.51191918, 0.26117812, 0.        , 2.        , 0.4       ],\n",
       "        [0.04709345, 0.        , 0.20636162, 0.        , 1.        ,\n",
       "         0.43131175, 0.22200909, 0.        , 2.        , 0.4       ],\n",
       "        [0.04709345, 0.        , 0.18420023, 0.        , 1.        ,\n",
       "         0.43071495, 0.36216981, 0.        , 2.        , 0.4       ],\n",
       "        [0.04709345, 0.        , 0.20166862, 0.        , 1.        ,\n",
       "         0.27312499, 0.2070282 , 0.        , 2.        , 0.4       ],\n",
       "        [0.04709345, 0.        , 0.1990614 , 0.        , 1.        ,\n",
       "         0.20373643, 0.31235491, 0.        , 2.        , 0.4       ],\n",
       "        [0.04709345, 0.        , 0.1849824 , 0.        , 1.        ,\n",
       "         0.56934989, 0.13294843, 0.        , 2.        , 0.4       ],\n",
       "        [0.04709345, 0.        , 0.19619346, 0.        , 1.        ,\n",
       "         0.72497225, 0.25404255, 0.        , 2.        , 0.4       ],\n",
       "        [0.04709345, 0.        , 0.18237518, 0.        , 1.        ,\n",
       "         0.39072766, 0.2031535 , 0.        , 2.        , 0.4       ],\n",
       "        [0.04709345, 0.        , 0.19293443, 0.        , 1.        ,\n",
       "         0.61415059, 0.17837073, 0.        , 2.        , 0.4       ],\n",
       "        [0.04709345, 0.        , 0.20205971, 0.        , 1.        ,\n",
       "         0.3407231 , 0.22494389, 0.        , 2.        , 0.4       ],\n",
       "        [0.04709345, 0.        , 0.20075609, 0.        , 1.        ,\n",
       "         0.59692344, 0.14242418, 0.        , 2.        , 0.4       ],\n",
       "        [0.04709345, 0.        , 0.21001173, 0.        , 1.        ,\n",
       "         0.09153833, 0.1728464 , 0.        , 2.        , 0.4       ],\n",
       "        [0.04709345, 0.        , 0.19462912, 0.        , 1.        ,\n",
       "         0.75749276, 0.13160567, 0.        , 2.        , 0.4       ],\n",
       "        [0.04709345, 0.        , 0.20714379, 0.        , 1.        ,\n",
       "         0.37553657, 0.38432473, 0.        , 2.        , 0.4       ],\n",
       "        [0.04709345, 0.        , 0.19449876, 0.        , 1.        ,\n",
       "         0.73751344, 0.15611989, 0.        , 2.        , 0.4       ],\n",
       "        [0.04709345, 0.        , 0.18133229, 0.        , 1.        ,\n",
       "         0.22965015, 0.21266758, 0.        , 2.        , 0.4       ],\n",
       "        [0.04709345, 0.        , 0.19163082, 0.        , 1.        ,\n",
       "         0.47914152, 0.17977094, 0.        , 2.        , 0.4       ],\n",
       "        [0.04709345, 0.        , 0.21066354, 0.        , 1.        ,\n",
       "         0.41525202, 0.17980933, 0.        , 2.        , 0.4       ],\n",
       "        [0.04709345, 0.        , 0.20688307, 0.        , 1.        ,\n",
       "         0.59964399, 0.11334472, 0.        , 2.        , 0.4       ],\n",
       "        [0.04709345, 0.        , 0.19358623, 0.        , 1.        ,\n",
       "         0.66922821, 0.23090941, 0.        , 2.        , 0.4       ],\n",
       "        [0.04709345, 0.        , 0.18159301, 0.        , 1.        ,\n",
       "         0.03784499, 0.21105634, 0.        , 2.        , 0.4       ],\n",
       "        [0.04709345, 0.        , 0.20466693, 0.        , 1.        ,\n",
       "         0.38053094, 0.22409991, 0.        , 2.        , 0.4       ],\n",
       "        [0.04709345, 0.        , 0.18354843, 0.        , 1.        ,\n",
       "         0.76760789, 0.15673372, 0.        , 2.        , 0.4       ],\n",
       "        [0.04709345, 0.        , 0.18941468, 0.        , 1.        ,\n",
       "         0.45076104, 0.16315962, 0.        , 2.        , 0.4       ],\n",
       "        [0.04709345, 0.        , 0.18928432, 0.        , 1.        ,\n",
       "         0.60131315, 0.16145246, 0.        , 2.        , 0.4       ],\n",
       "        [0.04709345, 0.        , 0.21092426, 0.        , 1.        ,\n",
       "         0.67127832, 0.2967602 , 0.        , 2.        , 0.4       ],\n",
       "        [0.04709345, 0.        , 0.19097901, 0.        , 1.        ,\n",
       "         0.4405469 , 0.20745019, 0.        , 2.        , 0.4       ],\n",
       "        [0.04709345, 0.        , 0.18954504, 0.        , 1.        ,\n",
       "         0.66266134, 0.13837684, 0.        , 2.        , 0.4       ],\n",
       "        [0.04709345, 0.        , 0.19045757, 0.        , 1.        ,\n",
       "         0.54904035, 0.15659948, 0.        , 2.        , 0.4       ],\n",
       "        [0.04709345, 0.        , 0.21040282, 0.        , 1.        ,\n",
       "         0.03956079, 0.18826847, 0.        , 2.        , 0.4       ],\n",
       "        [0.04709345, 0.        , 0.18289662, 0.        , 1.        ,\n",
       "         0.54949261, 0.15922733, 0.        , 2.        , 0.4       ],\n",
       "        [0.04709345, 0.        , 0.18224482, 0.        , 1.        ,\n",
       "         0.46722873, 0.19864579, 0.        , 2.        , 0.4       ],\n",
       "        [0.04709345, 0.        , 0.18876287, 0.        , 1.        ,\n",
       "         0.45296467, 0.21165096, 0.        , 2.        , 0.4       ],\n",
       "        [0.04709345, 0.        , 0.1920219 , 0.        , 1.        ,\n",
       "         0.51883943, 0.13131799, 0.        , 2.        , 0.4       ],\n",
       "        [0.04709345, 0.        , 0.20818668, 0.        , 1.        ,\n",
       "         0.25707495, 0.17664438, 0.        , 2.        , 0.4       ],\n",
       "        [0.04709345, 0.        , 0.20245079, 0.        , 1.        ,\n",
       "         0.29635319, 0.22830068, 0.        , 2.        , 0.4       ],\n",
       "        [0.04709345, 0.        , 0.21027245, 0.        , 1.        ,\n",
       "         0.04039533, 0.13760958, 0.        , 2.        , 0.4       ],\n",
       "        [0.04709345, 0.        , 0.18719854, 0.        , 1.        ,\n",
       "         0.51212687, 0.317745  , 0.        , 2.        , 0.4       ],\n",
       "        [0.04709345, 0.        , 0.2114457 , 0.        , 1.        ,\n",
       "         0.31900791, 0.23108204, 0.        , 2.        , 0.4       ],\n",
       "        [0.04709345, 0.        , 0.20753487, 0.        , 1.        ,\n",
       "         0.32802066, 0.13653538, 0.        , 2.        , 0.4       ],\n",
       "        [0.04709345, 0.        , 0.19150046, 0.        , 1.        ,\n",
       "         0.47197311, 0.16127983, 0.        , 2.        , 0.4       ],\n",
       "        [0.04709345, 0.        , 0.19345587, 0.        , 1.        ,\n",
       "         0.66195634, 0.17246273, 0.        , 2.        , 0.4       ],\n",
       "        [0.04709345, 0.        , 0.19110937, 0.        , 1.        ,\n",
       "         0.45235128, 0.19831971, 0.        , 2.        , 0.4       ],\n",
       "        [0.04709345, 0.        , 0.18302698, 0.        , 1.        ,\n",
       "         0.53006425, 0.30353138, 0.        , 2.        , 0.4       ],\n",
       "        [0.04709345, 0.        , 0.20010429, 0.        , 1.        ,\n",
       "         0.29384476, 0.16764814, 0.        , 2.        , 0.4       ],\n",
       "        [0.04709345, 0.        , 0.20962065, 0.        , 1.        ,\n",
       "         0.12134297, 0.16929777, 0.        , 2.        , 0.4       ],\n",
       "        [0.04709345, 0.        , 0.18850215, 0.        , 1.        ,\n",
       "         0.44231528, 0.2313122 , 0.        , 2.        , 0.4       ],\n",
       "        [0.04709345, 0.        , 0.18628601, 0.        , 1.        ,\n",
       "         0.27818601, 0.24991849, 0.        , 2.        , 0.4       ],\n",
       "        [0.04709345, 0.        , 0.20531873, 0.        , 1.        ,\n",
       "         0.03912939, 0.20675965, 0.        , 2.        , 0.4       ],\n",
       "        [0.04709345, 0.        , 0.20114718, 0.        , 1.        ,\n",
       "         0.45646787, 0.19567259, 0.        , 2.        , 0.4       ],\n",
       "        [0.04709345, 0.        , 0.19332551, 0.        , 1.        ,\n",
       "         0.65512492, 0.18038476, 0.        , 2.        , 0.4       ],\n",
       "        [0.04709345, 0.        , 0.21170643, 0.        , 1.        ,\n",
       "         0.54695391, 0.17610727, 0.        , 2.        , 0.4       ],\n",
       "        [0.04709345, 0.        , 0.18980576, 0.        , 1.        ,\n",
       "         0.24894328, 0.20443867, 0.        , 2.        , 0.4       ],\n",
       "        [0.04709345, 0.        , 0.20153826, 0.        , 1.        ,\n",
       "         0.34436678, 0.22289146, 0.        , 2.        , 0.4       ],\n",
       "        [0.04709345, 0.        , 0.20179898, 0.        , 1.        ,\n",
       "         0.03999203, 0.22250779, 0.        , 2.        , 0.4       ]]])"
      ]
     },
     "execution_count": 416,
     "metadata": {},
     "output_type": "execute_result"
    }
   ],
   "source": [
    "x_input"
   ]
  },
  {
   "cell_type": "code",
   "execution_count": 417,
   "id": "unusual-graphics",
   "metadata": {},
   "outputs": [
    {
     "data": {
      "text/plain": [
       "array([[-0.03070463]], dtype=float32)"
      ]
     },
     "execution_count": 417,
     "metadata": {},
     "output_type": "execute_result"
    }
   ],
   "source": [
    "model.predict(x_input)"
   ]
  },
  {
   "cell_type": "code",
   "execution_count": 418,
   "id": "simple-berlin",
   "metadata": {},
   "outputs": [
    {
     "data": {
      "text/plain": [
       "-0.06207703"
      ]
     },
     "execution_count": 418,
     "metadata": {},
     "output_type": "execute_result"
    }
   ],
   "source": [
    "Y_train[0]"
   ]
  },
  {
   "cell_type": "code",
   "execution_count": 94,
   "id": "chief-valve",
   "metadata": {},
   "outputs": [],
   "source": [
    "x_input = X_train[0:3]"
   ]
  },
  {
   "cell_type": "code",
   "execution_count": 95,
   "id": "figured-hungarian",
   "metadata": {},
   "outputs": [],
   "source": [
    "x_input\n",
    "x_input = x_input.reshape((3, 100, 15))"
   ]
  },
  {
   "cell_type": "code",
   "execution_count": 96,
   "id": "monetary-insurance",
   "metadata": {},
   "outputs": [
    {
     "data": {
      "text/plain": [
       "array([[ 0.30618152],\n",
       "       [-0.5657972 ],\n",
       "       [ 0.09630451]], dtype=float32)"
      ]
     },
     "execution_count": 96,
     "metadata": {},
     "output_type": "execute_result"
    }
   ],
   "source": [
    "model.predict(x_input)"
   ]
  },
  {
   "cell_type": "code",
   "execution_count": 97,
   "id": "bacterial-flashing",
   "metadata": {},
   "outputs": [
    {
     "data": {
      "text/plain": [
       "array([[ 0.30618152],\n",
       "       [-0.5657972 ],\n",
       "       [ 0.09630451]], dtype=float32)"
      ]
     },
     "execution_count": 97,
     "metadata": {},
     "output_type": "execute_result"
    }
   ],
   "source": [
    "model.predict(X_train[0:3])"
   ]
  },
  {
   "cell_type": "code",
   "execution_count": null,
   "id": "higher-madonna",
   "metadata": {},
   "outputs": [],
   "source": []
  },
  {
   "cell_type": "code",
   "execution_count": null,
   "id": "sized-truth",
   "metadata": {},
   "outputs": [],
   "source": []
  },
  {
   "cell_type": "code",
   "execution_count": 442,
   "id": "sporting-uruguay",
   "metadata": {},
   "outputs": [
    {
     "data": {
      "text/html": [
       "<div>\n",
       "<style scoped>\n",
       "    .dataframe tbody tr th:only-of-type {\n",
       "        vertical-align: middle;\n",
       "    }\n",
       "\n",
       "    .dataframe tbody tr th {\n",
       "        vertical-align: top;\n",
       "    }\n",
       "\n",
       "    .dataframe thead th {\n",
       "        text-align: right;\n",
       "    }\n",
       "</style>\n",
       "<table border=\"1\" class=\"dataframe\">\n",
       "  <thead>\n",
       "    <tr style=\"text-align: right;\">\n",
       "      <th></th>\n",
       "      <th>Interpolate_var_env_1</th>\n",
       "      <th>Interpolate_var_env_2</th>\n",
       "      <th>Interpolate_var_env_3</th>\n",
       "      <th>Interpolate_var_env_4</th>\n",
       "      <th>Interpolate_var_env_5</th>\n",
       "      <th>id_int</th>\n",
       "    </tr>\n",
       "  </thead>\n",
       "  <tbody>\n",
       "    <tr>\n",
       "      <th>0</th>\n",
       "      <td>0.001248</td>\n",
       "      <td>0.000382</td>\n",
       "      <td>0.469181</td>\n",
       "      <td>0.0</td>\n",
       "      <td>0.184318</td>\n",
       "      <td>1823.0</td>\n",
       "    </tr>\n",
       "    <tr>\n",
       "      <th>1</th>\n",
       "      <td>0.003273</td>\n",
       "      <td>0.002476</td>\n",
       "      <td>0.635294</td>\n",
       "      <td>0.0</td>\n",
       "      <td>0.111111</td>\n",
       "      <td>1823.0</td>\n",
       "    </tr>\n",
       "    <tr>\n",
       "      <th>2</th>\n",
       "      <td>0.002293</td>\n",
       "      <td>0.001096</td>\n",
       "      <td>0.538408</td>\n",
       "      <td>0.0</td>\n",
       "      <td>0.094444</td>\n",
       "      <td>1823.0</td>\n",
       "    </tr>\n",
       "    <tr>\n",
       "      <th>3</th>\n",
       "      <td>0.002097</td>\n",
       "      <td>0.008403</td>\n",
       "      <td>0.505882</td>\n",
       "      <td>0.0</td>\n",
       "      <td>0.136905</td>\n",
       "      <td>1823.0</td>\n",
       "    </tr>\n",
       "    <tr>\n",
       "      <th>4</th>\n",
       "      <td>0.000319</td>\n",
       "      <td>0.008403</td>\n",
       "      <td>0.435294</td>\n",
       "      <td>0.0</td>\n",
       "      <td>0.198413</td>\n",
       "      <td>1823.0</td>\n",
       "    </tr>\n",
       "    <tr>\n",
       "      <th>...</th>\n",
       "      <td>...</td>\n",
       "      <td>...</td>\n",
       "      <td>...</td>\n",
       "      <td>...</td>\n",
       "      <td>...</td>\n",
       "      <td>...</td>\n",
       "    </tr>\n",
       "    <tr>\n",
       "      <th>95</th>\n",
       "      <td>0.001151</td>\n",
       "      <td>0.008403</td>\n",
       "      <td>0.423529</td>\n",
       "      <td>0.0</td>\n",
       "      <td>0.186508</td>\n",
       "      <td>1823.0</td>\n",
       "    </tr>\n",
       "    <tr>\n",
       "      <th>96</th>\n",
       "      <td>0.003734</td>\n",
       "      <td>0.008403</td>\n",
       "      <td>0.517647</td>\n",
       "      <td>0.0</td>\n",
       "      <td>0.186508</td>\n",
       "      <td>1823.0</td>\n",
       "    </tr>\n",
       "    <tr>\n",
       "      <th>97</th>\n",
       "      <td>0.003251</td>\n",
       "      <td>0.001930</td>\n",
       "      <td>0.564706</td>\n",
       "      <td>0.0</td>\n",
       "      <td>0.156746</td>\n",
       "      <td>1823.0</td>\n",
       "    </tr>\n",
       "    <tr>\n",
       "      <th>98</th>\n",
       "      <td>0.000106</td>\n",
       "      <td>0.007237</td>\n",
       "      <td>0.590643</td>\n",
       "      <td>0.0</td>\n",
       "      <td>0.126563</td>\n",
       "      <td>1823.0</td>\n",
       "    </tr>\n",
       "    <tr>\n",
       "      <th>99</th>\n",
       "      <td>0.001294</td>\n",
       "      <td>0.008403</td>\n",
       "      <td>0.505882</td>\n",
       "      <td>0.0</td>\n",
       "      <td>0.136905</td>\n",
       "      <td>1823.0</td>\n",
       "    </tr>\n",
       "  </tbody>\n",
       "</table>\n",
       "<p>100 rows × 6 columns</p>\n",
       "</div>"
      ],
      "text/plain": [
       "    Interpolate_var_env_1  Interpolate_var_env_2  Interpolate_var_env_3  \\\n",
       "0                0.001248               0.000382               0.469181   \n",
       "1                0.003273               0.002476               0.635294   \n",
       "2                0.002293               0.001096               0.538408   \n",
       "3                0.002097               0.008403               0.505882   \n",
       "4                0.000319               0.008403               0.435294   \n",
       "..                    ...                    ...                    ...   \n",
       "95               0.001151               0.008403               0.423529   \n",
       "96               0.003734               0.008403               0.517647   \n",
       "97               0.003251               0.001930               0.564706   \n",
       "98               0.000106               0.007237               0.590643   \n",
       "99               0.001294               0.008403               0.505882   \n",
       "\n",
       "    Interpolate_var_env_4  Interpolate_var_env_5  id_int  \n",
       "0                     0.0               0.184318  1823.0  \n",
       "1                     0.0               0.111111  1823.0  \n",
       "2                     0.0               0.094444  1823.0  \n",
       "3                     0.0               0.136905  1823.0  \n",
       "4                     0.0               0.198413  1823.0  \n",
       "..                    ...                    ...     ...  \n",
       "95                    0.0               0.186508  1823.0  \n",
       "96                    0.0               0.186508  1823.0  \n",
       "97                    0.0               0.156746  1823.0  \n",
       "98                    0.0               0.126563  1823.0  \n",
       "99                    0.0               0.136905  1823.0  \n",
       "\n",
       "[100 rows x 6 columns]"
      ]
     },
     "execution_count": 442,
     "metadata": {},
     "output_type": "execute_result"
    }
   ],
   "source": [
    "dfs[0]"
   ]
  },
  {
   "cell_type": "code",
   "execution_count": 445,
   "id": "colored-specification",
   "metadata": {},
   "outputs": [
    {
     "data": {
      "image/png": "[encoded data removed]",
      "text/plain": [
       "<Figure size 432x288 with 1 Axes>"
      ]
     },
     "metadata": {
      "needs_background": "light"
     },
     "output_type": "display_data"
    }
   ],
   "source": [
    "from statsmodels.graphics import tsaplots\n",
    "import matplotlib.pyplot as plt\n",
    "\n",
    "# Display the autocorrelation plot of your time series\n",
    "fig = tsaplots.plot_acf(dfs[0]['Interpolate_var_env_5'])\n",
    "plt.show()"
   ]
  },
  {
   "cell_type": "code",
   "execution_count": 487,
   "id": "nuclear-voluntary",
   "metadata": {},
   "outputs": [
    {
     "data": {
      "image/png": "[encoded data removed]",
      "text/plain": [
       "<Figure size 432x288 with 1 Axes>"
      ]
     },
     "metadata": {
      "needs_background": "light"
     },
     "output_type": "display_data"
    }
   ],
   "source": [
    "fig = tsaplots.plot_acf(dfs[7]['Interpolate_var_env_3'])\n",
    "plt.show()"
   ]
  },
  {
   "cell_type": "code",
   "execution_count": 488,
   "id": "super-jamaica",
   "metadata": {},
   "outputs": [
    {
     "data": {
      "image/png": "[encoded data removed]",
      "text/plain": [
       "<Figure size 432x288 with 1 Axes>"
      ]
     },
     "metadata": {
      "needs_background": "light"
     },
     "output_type": "display_data"
    }
   ],
   "source": [
    "fig = tsaplots.plot_pacf(dfs[7]['Interpolate_var_env_3'])\n",
    "plt.show()"
   ]
  },
  {
   "cell_type": "code",
   "execution_count": 449,
   "id": "meaning-guard",
   "metadata": {},
   "outputs": [
    {
     "data": {
      "image/png": "[encoded data removed]",
      "text/plain": [
       "<Figure size 432x288 with 1 Axes>"
      ]
     },
     "execution_count": 449,
     "metadata": {},
     "output_type": "execute_result"
    },
    {
     "data": {
      "image/png": "[encoded data removed]",
      "text/plain": [
       "<Figure size 432x288 with 1 Axes>"
      ]
     },
     "metadata": {
      "needs_background": "light"
     },
     "output_type": "display_data"
    }
   ],
   "source": [
    "from statsmodels.graphics.tsaplots import plot_acf, plot_pacf\n",
    "plot_acf(dfs[0]['Interpolate_var_env_5'])"
   ]
  },
  {
   "cell_type": "code",
   "execution_count": 453,
   "id": "historic-hungarian",
   "metadata": {},
   "outputs": [
    {
     "data": {
      "image/png": "[encoded data removed]",
      "text/plain": [
       "<Figure size 432x288 with 1 Axes>"
      ]
     },
     "execution_count": 453,
     "metadata": {},
     "output_type": "execute_result"
    },
    {
     "data": {
      "image/png": "[encoded data removed]",
      "text/plain": [
       "<Figure size 432x288 with 1 Axes>"
      ]
     },
     "metadata": {
      "needs_background": "light"
     },
     "output_type": "display_data"
    }
   ],
   "source": [
    "plot_pacf(dfs[0]['Interpolate_var_env_5'], lags=20)"
   ]
  },
  {
   "cell_type": "code",
   "execution_count": 459,
   "id": "therapeutic-gothic",
   "metadata": {},
   "outputs": [
    {
     "data": {
      "text/plain": [
       "106000    0.003074\n",
       "106001    0.003470\n",
       "106002    0.002225\n",
       "106003    0.001173\n",
       "106004    0.008329\n",
       "            ...   \n",
       "661595    0.004110\n",
       "661596    0.001175\n",
       "661597    0.001327\n",
       "661598    0.007807\n",
       "661599    0.006232\n",
       "Name: Interpolate_var_env_1, Length: 1800, dtype: float64"
      ]
     },
     "execution_count": 459,
     "metadata": {},
     "output_type": "execute_result"
    }
   ],
   "source": [
    "X_Y[X_Y.engine_serial_number == 0 ].Interpolate_var_env_1"
   ]
  },
  {
   "cell_type": "code",
   "execution_count": 460,
   "id": "cultural-helen",
   "metadata": {},
   "outputs": [
    {
     "data": {
      "image/png": "[encoded data removed]",
      "text/plain": [
       "<Figure size 432x288 with 1 Axes>"
      ]
     },
     "execution_count": 460,
     "metadata": {},
     "output_type": "execute_result"
    },
    {
     "data": {
      "image/png": "[encoded data removed]",
      "text/plain": [
       "<Figure size 432x288 with 1 Axes>"
      ]
     },
     "metadata": {
      "needs_background": "light"
     },
     "output_type": "display_data"
    }
   ],
   "source": [
    "plot_acf(X_Y[X_Y.engine_serial_number == 0 ].Interpolate_var_env_1)"
   ]
  },
  {
   "cell_type": "code",
   "execution_count": 461,
   "id": "improving-invite",
   "metadata": {},
   "outputs": [
    {
     "data": {
      "image/png": "[encoded data removed]",
      "text/plain": [
       "<Figure size 432x288 with 1 Axes>"
      ]
     },
     "execution_count": 461,
     "metadata": {},
     "output_type": "execute_result"
    },
    {
     "data": {
      "image/png": "[encoded data removed]",
      "text/plain": [
       "<Figure size 432x288 with 1 Axes>"
      ]
     },
     "metadata": {
      "needs_background": "light"
     },
     "output_type": "display_data"
    }
   ],
   "source": [
    "plot_pacf(X_Y[X_Y.engine_serial_number == 0 ].Interpolate_var_env_1)"
   ]
  },
  {
   "cell_type": "code",
   "execution_count": 462,
   "id": "coordinated-orlando",
   "metadata": {},
   "outputs": [],
   "source": [
    "pretraitement = pd.read_csv(r'C:\\Users\\louis\\OneDrive\\Documents\\ENSAE\\2A\\Safran\\pretraitement.csv')"
   ]
  },
  {
   "cell_type": "code",
   "execution_count": 469,
   "id": "spiritual-instrumentation",
   "metadata": {},
   "outputs": [
    {
     "data": {
      "text/plain": [
       "33036   -0.250298\n",
       "33037    0.231598\n",
       "33038   -0.462672\n",
       "33039   -0.511420\n",
       "33040   -0.497516\n",
       "           ...   \n",
       "36870   -0.453885\n",
       "36871   -0.476415\n",
       "36872   -0.528947\n",
       "36873   -0.466439\n",
       "36874    0.138512\n",
       "Name: Interpolate_var_env_1, Length: 3839, dtype: float64"
      ]
     },
     "execution_count": 469,
     "metadata": {},
     "output_type": "execute_result"
    }
   ],
   "source": [
    "pretraitement[pretraitement.engine_serial_number =='ESN_4' ].Interpolate_var_env_1"
   ]
  },
  {
   "cell_type": "code",
   "execution_count": 470,
   "id": "connected-approval",
   "metadata": {},
   "outputs": [
    {
     "data": {
      "image/png": "[encoded data removed]",
      "text/plain": [
       "<Figure size 432x288 with 1 Axes>"
      ]
     },
     "execution_count": 470,
     "metadata": {},
     "output_type": "execute_result"
    },
    {
     "data": {
      "image/png": "[encoded data removed]",
      "text/plain": [
       "<Figure size 432x288 with 1 Axes>"
      ]
     },
     "metadata": {
      "needs_background": "light"
     },
     "output_type": "display_data"
    }
   ],
   "source": [
    "plot_acf(pretraitement[pretraitement.engine_serial_number =='ESN_4' ].Interpolate_var_env_1)"
   ]
  },
  {
   "cell_type": "code",
   "execution_count": 471,
   "id": "alternate-surgery",
   "metadata": {},
   "outputs": [
    {
     "data": {
      "image/png": "[encoded data removed]",
      "text/plain": [
       "<Figure size 432x288 with 1 Axes>"
      ]
     },
     "execution_count": 471,
     "metadata": {},
     "output_type": "execute_result"
    },
    {
     "data": {
      "image/png": "[encoded data removed]",
      "text/plain": [
       "<Figure size 432x288 with 1 Axes>"
      ]
     },
     "metadata": {
      "needs_background": "light"
     },
     "output_type": "display_data"
    }
   ],
   "source": [
    "plot_pacf(pretraitement[pretraitement.engine_serial_number =='ESN_4' ].Interpolate_var_env_1)"
   ]
  },
  {
   "cell_type": "code",
   "execution_count": null,
   "id": "secret-journalism",
   "metadata": {},
   "outputs": [],
   "source": [
    "X_Y[X_Y.engine_serial_number == 0 ].Interpolate_var_env_1"
   ]
  },
  {
   "cell_type": "code",
   "execution_count": 457,
   "id": "diagnostic-third",
   "metadata": {},
   "outputs": [
    {
     "data": {
      "text/html": [
       "<div>\n",
       "<style scoped>\n",
       "    .dataframe tbody tr th:only-of-type {\n",
       "        vertical-align: middle;\n",
       "    }\n",
       "\n",
       "    .dataframe tbody tr th {\n",
       "        vertical-align: top;\n",
       "    }\n",
       "\n",
       "    .dataframe thead th {\n",
       "        text-align: right;\n",
       "    }\n",
       "</style>\n",
       "<table border=\"1\" class=\"dataframe\">\n",
       "  <thead>\n",
       "    <tr style=\"text-align: right;\">\n",
       "      <th></th>\n",
       "      <th>engine_serial_number</th>\n",
       "      <th>engine_series</th>\n",
       "      <th>cycles_counter</th>\n",
       "      <th>config_A</th>\n",
       "      <th>config_B</th>\n",
       "      <th>Interpolate_var_mot_1</th>\n",
       "      <th>Interpolate_flight_leg_hours</th>\n",
       "      <th>Interpolate_SV_rank</th>\n",
       "      <th>Interpolate_WW_rank</th>\n",
       "      <th>Interpolate_Config_B_rank</th>\n",
       "      <th>Interpolate_var_env_1</th>\n",
       "      <th>Interpolate_var_env_2</th>\n",
       "      <th>Interpolate_var_env_3</th>\n",
       "      <th>Interpolate_var_env_4</th>\n",
       "      <th>Interpolate_var_env_5</th>\n",
       "      <th>id_int</th>\n",
       "      <th>Interpolate_egt_slope</th>\n",
       "    </tr>\n",
       "  </thead>\n",
       "  <tbody>\n",
       "    <tr>\n",
       "      <th>0</th>\n",
       "      <td>0.101545</td>\n",
       "      <td>0.0</td>\n",
       "      <td>0.479729</td>\n",
       "      <td>0.333333</td>\n",
       "      <td>1.0</td>\n",
       "      <td>0.323262</td>\n",
       "      <td>0.123242</td>\n",
       "      <td>0.333333</td>\n",
       "      <td>8.0</td>\n",
       "      <td>0.6</td>\n",
       "      <td>0.001248</td>\n",
       "      <td>0.000382</td>\n",
       "      <td>0.469181</td>\n",
       "      <td>0.0</td>\n",
       "      <td>0.184318</td>\n",
       "      <td>1823.0</td>\n",
       "      <td>-0.027761</td>\n",
       "    </tr>\n",
       "    <tr>\n",
       "      <th>1</th>\n",
       "      <td>0.101545</td>\n",
       "      <td>0.0</td>\n",
       "      <td>0.481815</td>\n",
       "      <td>0.333333</td>\n",
       "      <td>1.0</td>\n",
       "      <td>0.361258</td>\n",
       "      <td>0.101395</td>\n",
       "      <td>0.333333</td>\n",
       "      <td>8.0</td>\n",
       "      <td>0.6</td>\n",
       "      <td>0.003273</td>\n",
       "      <td>0.002476</td>\n",
       "      <td>0.635294</td>\n",
       "      <td>0.0</td>\n",
       "      <td>0.111111</td>\n",
       "      <td>1823.0</td>\n",
       "      <td>-0.027761</td>\n",
       "    </tr>\n",
       "    <tr>\n",
       "      <th>2</th>\n",
       "      <td>0.101545</td>\n",
       "      <td>0.0</td>\n",
       "      <td>0.486899</td>\n",
       "      <td>0.333333</td>\n",
       "      <td>1.0</td>\n",
       "      <td>0.414033</td>\n",
       "      <td>0.169298</td>\n",
       "      <td>0.333333</td>\n",
       "      <td>8.0</td>\n",
       "      <td>0.6</td>\n",
       "      <td>0.002293</td>\n",
       "      <td>0.001096</td>\n",
       "      <td>0.538408</td>\n",
       "      <td>0.0</td>\n",
       "      <td>0.094444</td>\n",
       "      <td>1823.0</td>\n",
       "      <td>-0.027761</td>\n",
       "    </tr>\n",
       "    <tr>\n",
       "      <th>3</th>\n",
       "      <td>0.101545</td>\n",
       "      <td>0.0</td>\n",
       "      <td>0.488593</td>\n",
       "      <td>0.333333</td>\n",
       "      <td>1.0</td>\n",
       "      <td>0.432734</td>\n",
       "      <td>0.157616</td>\n",
       "      <td>0.333333</td>\n",
       "      <td>8.0</td>\n",
       "      <td>0.6</td>\n",
       "      <td>0.002097</td>\n",
       "      <td>0.008403</td>\n",
       "      <td>0.505882</td>\n",
       "      <td>0.0</td>\n",
       "      <td>0.136905</td>\n",
       "      <td>1823.0</td>\n",
       "      <td>-0.027761</td>\n",
       "    </tr>\n",
       "    <tr>\n",
       "      <th>4</th>\n",
       "      <td>0.101545</td>\n",
       "      <td>0.0</td>\n",
       "      <td>0.482858</td>\n",
       "      <td>0.333333</td>\n",
       "      <td>1.0</td>\n",
       "      <td>0.374153</td>\n",
       "      <td>0.147661</td>\n",
       "      <td>0.333333</td>\n",
       "      <td>8.0</td>\n",
       "      <td>0.6</td>\n",
       "      <td>0.000319</td>\n",
       "      <td>0.008403</td>\n",
       "      <td>0.435294</td>\n",
       "      <td>0.0</td>\n",
       "      <td>0.198413</td>\n",
       "      <td>1823.0</td>\n",
       "      <td>-0.027761</td>\n",
       "    </tr>\n",
       "    <tr>\n",
       "      <th>...</th>\n",
       "      <td>...</td>\n",
       "      <td>...</td>\n",
       "      <td>...</td>\n",
       "      <td>...</td>\n",
       "      <td>...</td>\n",
       "      <td>...</td>\n",
       "      <td>...</td>\n",
       "      <td>...</td>\n",
       "      <td>...</td>\n",
       "      <td>...</td>\n",
       "      <td>...</td>\n",
       "      <td>...</td>\n",
       "      <td>...</td>\n",
       "      <td>...</td>\n",
       "      <td>...</td>\n",
       "      <td>...</td>\n",
       "      <td>...</td>\n",
       "    </tr>\n",
       "    <tr>\n",
       "      <th>661595</th>\n",
       "      <td>0.000000</td>\n",
       "      <td>0.0</td>\n",
       "      <td>0.033372</td>\n",
       "      <td>0.000000</td>\n",
       "      <td>0.0</td>\n",
       "      <td>0.608278</td>\n",
       "      <td>0.097098</td>\n",
       "      <td>0.000000</td>\n",
       "      <td>0.0</td>\n",
       "      <td>0.0</td>\n",
       "      <td>0.004110</td>\n",
       "      <td>0.029978</td>\n",
       "      <td>0.647059</td>\n",
       "      <td>0.0</td>\n",
       "      <td>0.146825</td>\n",
       "      <td>8438.0</td>\n",
       "      <td>-0.029193</td>\n",
       "    </tr>\n",
       "    <tr>\n",
       "      <th>661596</th>\n",
       "      <td>0.000000</td>\n",
       "      <td>0.0</td>\n",
       "      <td>0.070786</td>\n",
       "      <td>0.000000</td>\n",
       "      <td>0.0</td>\n",
       "      <td>0.619473</td>\n",
       "      <td>0.139931</td>\n",
       "      <td>0.000000</td>\n",
       "      <td>0.0</td>\n",
       "      <td>0.0</td>\n",
       "      <td>0.001175</td>\n",
       "      <td>0.046879</td>\n",
       "      <td>0.623529</td>\n",
       "      <td>0.0</td>\n",
       "      <td>0.099206</td>\n",
       "      <td>8438.0</td>\n",
       "      <td>-0.029193</td>\n",
       "    </tr>\n",
       "    <tr>\n",
       "      <th>661597</th>\n",
       "      <td>0.000000</td>\n",
       "      <td>0.0</td>\n",
       "      <td>0.106114</td>\n",
       "      <td>0.000000</td>\n",
       "      <td>0.0</td>\n",
       "      <td>0.569125</td>\n",
       "      <td>0.087680</td>\n",
       "      <td>0.000000</td>\n",
       "      <td>0.0</td>\n",
       "      <td>0.0</td>\n",
       "      <td>0.001327</td>\n",
       "      <td>0.019891</td>\n",
       "      <td>0.470588</td>\n",
       "      <td>0.0</td>\n",
       "      <td>0.107143</td>\n",
       "      <td>8438.0</td>\n",
       "      <td>-0.029193</td>\n",
       "    </tr>\n",
       "    <tr>\n",
       "      <th>661598</th>\n",
       "      <td>0.000000</td>\n",
       "      <td>0.0</td>\n",
       "      <td>0.150828</td>\n",
       "      <td>0.000000</td>\n",
       "      <td>0.0</td>\n",
       "      <td>0.463550</td>\n",
       "      <td>0.090001</td>\n",
       "      <td>0.000000</td>\n",
       "      <td>0.0</td>\n",
       "      <td>0.0</td>\n",
       "      <td>0.007807</td>\n",
       "      <td>0.024678</td>\n",
       "      <td>0.400000</td>\n",
       "      <td>0.0</td>\n",
       "      <td>0.172619</td>\n",
       "      <td>8438.0</td>\n",
       "      <td>-0.029193</td>\n",
       "    </tr>\n",
       "    <tr>\n",
       "      <th>661599</th>\n",
       "      <td>0.000000</td>\n",
       "      <td>0.0</td>\n",
       "      <td>0.030765</td>\n",
       "      <td>0.000000</td>\n",
       "      <td>0.0</td>\n",
       "      <td>0.607698</td>\n",
       "      <td>0.129419</td>\n",
       "      <td>0.000000</td>\n",
       "      <td>0.0</td>\n",
       "      <td>0.0</td>\n",
       "      <td>0.006232</td>\n",
       "      <td>0.040660</td>\n",
       "      <td>0.647059</td>\n",
       "      <td>0.0</td>\n",
       "      <td>0.146825</td>\n",
       "      <td>8438.0</td>\n",
       "      <td>-0.029193</td>\n",
       "    </tr>\n",
       "  </tbody>\n",
       "</table>\n",
       "<p>661600 rows × 17 columns</p>\n",
       "</div>"
      ],
      "text/plain": [
       "        engine_serial_number  engine_series  cycles_counter  config_A  \\\n",
       "0                   0.101545            0.0        0.479729  0.333333   \n",
       "1                   0.101545            0.0        0.481815  0.333333   \n",
       "2                   0.101545            0.0        0.486899  0.333333   \n",
       "3                   0.101545            0.0        0.488593  0.333333   \n",
       "4                   0.101545            0.0        0.482858  0.333333   \n",
       "...                      ...            ...             ...       ...   \n",
       "661595              0.000000            0.0        0.033372  0.000000   \n",
       "661596              0.000000            0.0        0.070786  0.000000   \n",
       "661597              0.000000            0.0        0.106114  0.000000   \n",
       "661598              0.000000            0.0        0.150828  0.000000   \n",
       "661599              0.000000            0.0        0.030765  0.000000   \n",
       "\n",
       "        config_B  Interpolate_var_mot_1  Interpolate_flight_leg_hours  \\\n",
       "0            1.0               0.323262                      0.123242   \n",
       "1            1.0               0.361258                      0.101395   \n",
       "2            1.0               0.414033                      0.169298   \n",
       "3            1.0               0.432734                      0.157616   \n",
       "4            1.0               0.374153                      0.147661   \n",
       "...          ...                    ...                           ...   \n",
       "661595       0.0               0.608278                      0.097098   \n",
       "661596       0.0               0.619473                      0.139931   \n",
       "661597       0.0               0.569125                      0.087680   \n",
       "661598       0.0               0.463550                      0.090001   \n",
       "661599       0.0               0.607698                      0.129419   \n",
       "\n",
       "        Interpolate_SV_rank  Interpolate_WW_rank  Interpolate_Config_B_rank  \\\n",
       "0                  0.333333                  8.0                        0.6   \n",
       "1                  0.333333                  8.0                        0.6   \n",
       "2                  0.333333                  8.0                        0.6   \n",
       "3                  0.333333                  8.0                        0.6   \n",
       "4                  0.333333                  8.0                        0.6   \n",
       "...                     ...                  ...                        ...   \n",
       "661595             0.000000                  0.0                        0.0   \n",
       "661596             0.000000                  0.0                        0.0   \n",
       "661597             0.000000                  0.0                        0.0   \n",
       "661598             0.000000                  0.0                        0.0   \n",
       "661599             0.000000                  0.0                        0.0   \n",
       "\n",
       "        Interpolate_var_env_1  Interpolate_var_env_2  Interpolate_var_env_3  \\\n",
       "0                    0.001248               0.000382               0.469181   \n",
       "1                    0.003273               0.002476               0.635294   \n",
       "2                    0.002293               0.001096               0.538408   \n",
       "3                    0.002097               0.008403               0.505882   \n",
       "4                    0.000319               0.008403               0.435294   \n",
       "...                       ...                    ...                    ...   \n",
       "661595               0.004110               0.029978               0.647059   \n",
       "661596               0.001175               0.046879               0.623529   \n",
       "661597               0.001327               0.019891               0.470588   \n",
       "661598               0.007807               0.024678               0.400000   \n",
       "661599               0.006232               0.040660               0.647059   \n",
       "\n",
       "        Interpolate_var_env_4  Interpolate_var_env_5  id_int  \\\n",
       "0                         0.0               0.184318  1823.0   \n",
       "1                         0.0               0.111111  1823.0   \n",
       "2                         0.0               0.094444  1823.0   \n",
       "3                         0.0               0.136905  1823.0   \n",
       "4                         0.0               0.198413  1823.0   \n",
       "...                       ...                    ...     ...   \n",
       "661595                    0.0               0.146825  8438.0   \n",
       "661596                    0.0               0.099206  8438.0   \n",
       "661597                    0.0               0.107143  8438.0   \n",
       "661598                    0.0               0.172619  8438.0   \n",
       "661599                    0.0               0.146825  8438.0   \n",
       "\n",
       "        Interpolate_egt_slope  \n",
       "0                   -0.027761  \n",
       "1                   -0.027761  \n",
       "2                   -0.027761  \n",
       "3                   -0.027761  \n",
       "4                   -0.027761  \n",
       "...                       ...  \n",
       "661595              -0.029193  \n",
       "661596              -0.029193  \n",
       "661597              -0.029193  \n",
       "661598              -0.029193  \n",
       "661599              -0.029193  \n",
       "\n",
       "[661600 rows x 17 columns]"
      ]
     },
     "execution_count": 457,
     "metadata": {},
     "output_type": "execute_result"
    }
   ],
   "source": [
    "X_Y"
   ]
  },
  {
   "cell_type": "code",
   "execution_count": 489,
   "id": "changing-petroleum",
   "metadata": {},
   "outputs": [
    {
     "data": {
      "text/html": [
       "<div>\n",
       "<style scoped>\n",
       "    .dataframe tbody tr th:only-of-type {\n",
       "        vertical-align: middle;\n",
       "    }\n",
       "\n",
       "    .dataframe tbody tr th {\n",
       "        vertical-align: top;\n",
       "    }\n",
       "\n",
       "    .dataframe thead th {\n",
       "        text-align: right;\n",
       "    }\n",
       "</style>\n",
       "<table border=\"1\" class=\"dataframe\">\n",
       "  <thead>\n",
       "    <tr style=\"text-align: right;\">\n",
       "      <th></th>\n",
       "      <th>Interpolate_var_env_1</th>\n",
       "      <th>Interpolate_var_env_2</th>\n",
       "      <th>Interpolate_var_env_3</th>\n",
       "      <th>Interpolate_var_env_4</th>\n",
       "      <th>Interpolate_var_env_5</th>\n",
       "      <th>id_int</th>\n",
       "    </tr>\n",
       "  </thead>\n",
       "  <tbody>\n",
       "    <tr>\n",
       "      <th>0</th>\n",
       "      <td>0.001248</td>\n",
       "      <td>0.000382</td>\n",
       "      <td>0.469181</td>\n",
       "      <td>0.0</td>\n",
       "      <td>0.184318</td>\n",
       "      <td>1823.0</td>\n",
       "    </tr>\n",
       "    <tr>\n",
       "      <th>1</th>\n",
       "      <td>0.003273</td>\n",
       "      <td>0.002476</td>\n",
       "      <td>0.635294</td>\n",
       "      <td>0.0</td>\n",
       "      <td>0.111111</td>\n",
       "      <td>1823.0</td>\n",
       "    </tr>\n",
       "    <tr>\n",
       "      <th>2</th>\n",
       "      <td>0.002293</td>\n",
       "      <td>0.001096</td>\n",
       "      <td>0.538408</td>\n",
       "      <td>0.0</td>\n",
       "      <td>0.094444</td>\n",
       "      <td>1823.0</td>\n",
       "    </tr>\n",
       "    <tr>\n",
       "      <th>3</th>\n",
       "      <td>0.002097</td>\n",
       "      <td>0.008403</td>\n",
       "      <td>0.505882</td>\n",
       "      <td>0.0</td>\n",
       "      <td>0.136905</td>\n",
       "      <td>1823.0</td>\n",
       "    </tr>\n",
       "    <tr>\n",
       "      <th>4</th>\n",
       "      <td>0.000319</td>\n",
       "      <td>0.008403</td>\n",
       "      <td>0.435294</td>\n",
       "      <td>0.0</td>\n",
       "      <td>0.198413</td>\n",
       "      <td>1823.0</td>\n",
       "    </tr>\n",
       "    <tr>\n",
       "      <th>...</th>\n",
       "      <td>...</td>\n",
       "      <td>...</td>\n",
       "      <td>...</td>\n",
       "      <td>...</td>\n",
       "      <td>...</td>\n",
       "      <td>...</td>\n",
       "    </tr>\n",
       "    <tr>\n",
       "      <th>95</th>\n",
       "      <td>0.001151</td>\n",
       "      <td>0.008403</td>\n",
       "      <td>0.423529</td>\n",
       "      <td>0.0</td>\n",
       "      <td>0.186508</td>\n",
       "      <td>1823.0</td>\n",
       "    </tr>\n",
       "    <tr>\n",
       "      <th>96</th>\n",
       "      <td>0.003734</td>\n",
       "      <td>0.008403</td>\n",
       "      <td>0.517647</td>\n",
       "      <td>0.0</td>\n",
       "      <td>0.186508</td>\n",
       "      <td>1823.0</td>\n",
       "    </tr>\n",
       "    <tr>\n",
       "      <th>97</th>\n",
       "      <td>0.003251</td>\n",
       "      <td>0.001930</td>\n",
       "      <td>0.564706</td>\n",
       "      <td>0.0</td>\n",
       "      <td>0.156746</td>\n",
       "      <td>1823.0</td>\n",
       "    </tr>\n",
       "    <tr>\n",
       "      <th>98</th>\n",
       "      <td>0.000106</td>\n",
       "      <td>0.007237</td>\n",
       "      <td>0.590643</td>\n",
       "      <td>0.0</td>\n",
       "      <td>0.126563</td>\n",
       "      <td>1823.0</td>\n",
       "    </tr>\n",
       "    <tr>\n",
       "      <th>99</th>\n",
       "      <td>0.001294</td>\n",
       "      <td>0.008403</td>\n",
       "      <td>0.505882</td>\n",
       "      <td>0.0</td>\n",
       "      <td>0.136905</td>\n",
       "      <td>1823.0</td>\n",
       "    </tr>\n",
       "  </tbody>\n",
       "</table>\n",
       "<p>100 rows × 6 columns</p>\n",
       "</div>"
      ],
      "text/plain": [
       "    Interpolate_var_env_1  Interpolate_var_env_2  Interpolate_var_env_3  \\\n",
       "0                0.001248               0.000382               0.469181   \n",
       "1                0.003273               0.002476               0.635294   \n",
       "2                0.002293               0.001096               0.538408   \n",
       "3                0.002097               0.008403               0.505882   \n",
       "4                0.000319               0.008403               0.435294   \n",
       "..                    ...                    ...                    ...   \n",
       "95               0.001151               0.008403               0.423529   \n",
       "96               0.003734               0.008403               0.517647   \n",
       "97               0.003251               0.001930               0.564706   \n",
       "98               0.000106               0.007237               0.590643   \n",
       "99               0.001294               0.008403               0.505882   \n",
       "\n",
       "    Interpolate_var_env_4  Interpolate_var_env_5  id_int  \n",
       "0                     0.0               0.184318  1823.0  \n",
       "1                     0.0               0.111111  1823.0  \n",
       "2                     0.0               0.094444  1823.0  \n",
       "3                     0.0               0.136905  1823.0  \n",
       "4                     0.0               0.198413  1823.0  \n",
       "..                    ...                    ...     ...  \n",
       "95                    0.0               0.186508  1823.0  \n",
       "96                    0.0               0.186508  1823.0  \n",
       "97                    0.0               0.156746  1823.0  \n",
       "98                    0.0               0.126563  1823.0  \n",
       "99                    0.0               0.136905  1823.0  \n",
       "\n",
       "[100 rows x 6 columns]"
      ]
     },
     "execution_count": 489,
     "metadata": {},
     "output_type": "execute_result"
    }
   ],
   "source": [
    "dfs[0]"
   ]
  },
  {
   "cell_type": "code",
   "execution_count": 493,
   "id": "express-garbage",
   "metadata": {},
   "outputs": [
    {
     "data": {
      "image/png": "[encoded data removed]",
      "text/plain": [
       "<Figure size 432x288 with 1 Axes>"
      ]
     },
     "metadata": {
      "needs_background": "light"
     },
     "output_type": "display_data"
    }
   ],
   "source": [
    "plot_acf(dfs[0]['Interpolate_var_env_1'], lags=99)\n",
    "plt.show()"
   ]
  },
  {
   "cell_type": "code",
   "execution_count": 533,
   "id": "general-contributor",
   "metadata": {},
   "outputs": [
    {
     "data": {
      "image/png": "[encoded data removed]",
      "text/plain": [
       "<Figure size 432x288 with 1 Axes>"
      ]
     },
     "metadata": {
      "needs_background": "light"
     },
     "output_type": "display_data"
    }
   ],
   "source": [
    "plot_acf(dfs[19]['Interpolate_var_env_5'], lags=30)\n",
    "plt.show()"
   ]
  },
  {
   "cell_type": "code",
   "execution_count": null,
   "id": "vietnamese-bishop",
   "metadata": {},
   "outputs": [],
   "source": []
  },
  {
   "cell_type": "code",
   "execution_count": 544,
   "id": "transsexual-integer",
   "metadata": {},
   "outputs": [
    {
     "data": {
      "image/png": "[encoded data removed]",
      "text/plain": [
       "<Figure size 432x288 with 1 Axes>"
      ]
     },
     "metadata": {
      "needs_background": "light"
     },
     "output_type": "display_data"
    }
   ],
   "source": [
    "plot_acf(pretraitement[pretraitement.engine_serial_number =='ESN_1' ].Interpolate_var_env_1, lags = 300)\n",
    "plt.show()"
   ]
  },
  {
   "cell_type": "code",
   "execution_count": null,
   "id": "recorded-gardening",
   "metadata": {},
   "outputs": [],
   "source": []
  },
  {
   "cell_type": "code",
   "execution_count": null,
   "id": "cheap-minnesota",
   "metadata": {},
   "outputs": [],
   "source": []
  }
 ],
 "metadata": {
  "kernelspec": {
   "display_name": "Python 3",
   "language": "python",
   "name": "python3"
  },
  "language_info": {
   "codemirror_mode": {
    "name": "ipython",
    "version": 3
   },
   "file_extension": ".py",
   "mimetype": "text/x-python",
   "name": "python",
   "nbconvert_exporter": "python",
   "pygments_lexer": "ipython3",
   "version": "3.7.10"
  }
 },
 "nbformat": 4,
 "nbformat_minor": 5
}
