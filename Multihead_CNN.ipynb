{
 "cells": [
  {
   "cell_type": "markdown",
   "id": "pregnant-header",
   "metadata": {},
   "source": [
    "# Modele de CNN multihead  "
   ]
  },
  {
   "cell_type": "code",
   "execution_count": 1,
   "id": "medical-albany",
   "metadata": {},
   "outputs": [],
   "source": [
    "# Package \n",
    "import pandas as pd\n",
    "import numpy as np\n",
    "from numpy import array\n",
    "from numpy import hstack\n",
    "import matplotlib.pyplot as plt\n",
    "from statsmodels.tsa.seasonal import seasonal_decompose"
   ]
  },
  {
   "cell_type": "code",
   "execution_count": 2,
   "id": "identified-battery",
   "metadata": {},
   "outputs": [],
   "source": [
    "X_Y = pd.read_csv(r'C:\\Users\\louis\\OneDrive\\Documents\\ENSAE\\2A\\Safran\\X_Y.csv')"
   ]
  },
  {
   "cell_type": "code",
   "execution_count": 3,
   "id": "funded-senegal",
   "metadata": {},
   "outputs": [],
   "source": [
    "pretraitement = pd.read_csv(r'C:\\Users\\louis\\OneDrive\\Documents\\ENSAE\\2A\\Safran\\pretraitement.csv')"
   ]
  },
  {
   "cell_type": "code",
   "execution_count": 4,
   "id": "worst-restoration",
   "metadata": {},
   "outputs": [],
   "source": [
    "X_Y =X_Y.drop('Unnamed: 0', axis= 1)\n",
    "pretraitement= pretraitement.drop('Unnamed: 0', axis= 1)\n",
    "pretraitement.index = pretraitement['date']\n",
    "del pretraitement['date']"
   ]
  },
  {
   "cell_type": "code",
   "execution_count": 5,
   "id": "temporal-friday",
   "metadata": {
    "scrolled": true
   },
   "outputs": [
    {
     "data": {
      "text/html": [
       "<div>\n",
       "<style scoped>\n",
       "    .dataframe tbody tr th:only-of-type {\n",
       "        vertical-align: middle;\n",
       "    }\n",
       "\n",
       "    .dataframe tbody tr th {\n",
       "        vertical-align: top;\n",
       "    }\n",
       "\n",
       "    .dataframe thead th {\n",
       "        text-align: right;\n",
       "    }\n",
       "</style>\n",
       "<table border=\"1\" class=\"dataframe\">\n",
       "  <thead>\n",
       "    <tr style=\"text-align: right;\">\n",
       "      <th></th>\n",
       "      <th>engine_serial_number</th>\n",
       "      <th>engine_series</th>\n",
       "      <th>cycles_counter</th>\n",
       "      <th>config_A</th>\n",
       "      <th>config_B</th>\n",
       "      <th>Interpolate_var_mot_1</th>\n",
       "      <th>Interpolate_flight_leg_hours</th>\n",
       "      <th>Interpolate_SV_rank</th>\n",
       "      <th>Interpolate_WW_rank</th>\n",
       "      <th>Interpolate_Config_B_rank</th>\n",
       "      <th>Interpolate_var_env_1</th>\n",
       "      <th>Interpolate_var_env_2</th>\n",
       "      <th>Interpolate_var_env_3</th>\n",
       "      <th>Interpolate_var_env_4</th>\n",
       "      <th>Interpolate_var_env_5</th>\n",
       "      <th>id_int</th>\n",
       "      <th>Interpolate_egt_slope</th>\n",
       "    </tr>\n",
       "  </thead>\n",
       "  <tbody>\n",
       "    <tr>\n",
       "      <th>0</th>\n",
       "      <td>0.101545</td>\n",
       "      <td>0.0</td>\n",
       "      <td>0.488202</td>\n",
       "      <td>0.333333</td>\n",
       "      <td>1.0</td>\n",
       "      <td>0.389301</td>\n",
       "      <td>0.041942</td>\n",
       "      <td>0.333333</td>\n",
       "      <td>8.0</td>\n",
       "      <td>0.6</td>\n",
       "      <td>0.000484</td>\n",
       "      <td>0.000383</td>\n",
       "      <td>0.519855</td>\n",
       "      <td>0.000000</td>\n",
       "      <td>0.132495</td>\n",
       "      <td>1823.0</td>\n",
       "      <td>-0.027761</td>\n",
       "    </tr>\n",
       "    <tr>\n",
       "      <th>1</th>\n",
       "      <td>0.101545</td>\n",
       "      <td>0.0</td>\n",
       "      <td>0.490027</td>\n",
       "      <td>0.333333</td>\n",
       "      <td>1.0</td>\n",
       "      <td>0.407359</td>\n",
       "      <td>0.054869</td>\n",
       "      <td>0.333333</td>\n",
       "      <td>8.0</td>\n",
       "      <td>0.6</td>\n",
       "      <td>0.001692</td>\n",
       "      <td>0.007238</td>\n",
       "      <td>0.551896</td>\n",
       "      <td>0.000000</td>\n",
       "      <td>0.160494</td>\n",
       "      <td>1823.0</td>\n",
       "      <td>-0.027761</td>\n",
       "    </tr>\n",
       "    <tr>\n",
       "      <th>2</th>\n",
       "      <td>0.101545</td>\n",
       "      <td>0.0</td>\n",
       "      <td>0.480772</td>\n",
       "      <td>0.333333</td>\n",
       "      <td>1.0</td>\n",
       "      <td>0.311815</td>\n",
       "      <td>0.057629</td>\n",
       "      <td>0.333333</td>\n",
       "      <td>8.0</td>\n",
       "      <td>0.6</td>\n",
       "      <td>0.000551</td>\n",
       "      <td>0.001096</td>\n",
       "      <td>0.482353</td>\n",
       "      <td>0.333333</td>\n",
       "      <td>0.198413</td>\n",
       "      <td>1823.0</td>\n",
       "      <td>-0.027761</td>\n",
       "    </tr>\n",
       "    <tr>\n",
       "      <th>3</th>\n",
       "      <td>0.101545</td>\n",
       "      <td>0.0</td>\n",
       "      <td>0.480511</td>\n",
       "      <td>0.333333</td>\n",
       "      <td>1.0</td>\n",
       "      <td>0.307892</td>\n",
       "      <td>0.051835</td>\n",
       "      <td>0.333333</td>\n",
       "      <td>8.0</td>\n",
       "      <td>0.6</td>\n",
       "      <td>0.000540</td>\n",
       "      <td>0.002214</td>\n",
       "      <td>0.491232</td>\n",
       "      <td>0.000000</td>\n",
       "      <td>0.181941</td>\n",
       "      <td>1823.0</td>\n",
       "      <td>-0.027761</td>\n",
       "    </tr>\n",
       "    <tr>\n",
       "      <th>4</th>\n",
       "      <td>0.101545</td>\n",
       "      <td>0.0</td>\n",
       "      <td>0.479729</td>\n",
       "      <td>0.333333</td>\n",
       "      <td>1.0</td>\n",
       "      <td>0.293103</td>\n",
       "      <td>0.044069</td>\n",
       "      <td>0.333333</td>\n",
       "      <td>8.0</td>\n",
       "      <td>0.6</td>\n",
       "      <td>0.000985</td>\n",
       "      <td>0.000383</td>\n",
       "      <td>0.469181</td>\n",
       "      <td>0.000000</td>\n",
       "      <td>0.184318</td>\n",
       "      <td>1823.0</td>\n",
       "      <td>-0.027761</td>\n",
       "    </tr>\n",
       "    <tr>\n",
       "      <th>...</th>\n",
       "      <td>...</td>\n",
       "      <td>...</td>\n",
       "      <td>...</td>\n",
       "      <td>...</td>\n",
       "      <td>...</td>\n",
       "      <td>...</td>\n",
       "      <td>...</td>\n",
       "      <td>...</td>\n",
       "      <td>...</td>\n",
       "      <td>...</td>\n",
       "      <td>...</td>\n",
       "      <td>...</td>\n",
       "      <td>...</td>\n",
       "      <td>...</td>\n",
       "      <td>...</td>\n",
       "      <td>...</td>\n",
       "      <td>...</td>\n",
       "    </tr>\n",
       "    <tr>\n",
       "      <th>661595</th>\n",
       "      <td>0.000000</td>\n",
       "      <td>0.0</td>\n",
       "      <td>0.063486</td>\n",
       "      <td>0.000000</td>\n",
       "      <td>0.0</td>\n",
       "      <td>0.568451</td>\n",
       "      <td>0.037881</td>\n",
       "      <td>0.000000</td>\n",
       "      <td>0.0</td>\n",
       "      <td>0.0</td>\n",
       "      <td>0.000623</td>\n",
       "      <td>0.028264</td>\n",
       "      <td>0.541176</td>\n",
       "      <td>0.000000</td>\n",
       "      <td>0.103175</td>\n",
       "      <td>8438.0</td>\n",
       "      <td>-0.029193</td>\n",
       "    </tr>\n",
       "    <tr>\n",
       "      <th>661596</th>\n",
       "      <td>0.000000</td>\n",
       "      <td>0.0</td>\n",
       "      <td>0.153826</td>\n",
       "      <td>0.000000</td>\n",
       "      <td>0.0</td>\n",
       "      <td>0.546965</td>\n",
       "      <td>0.033642</td>\n",
       "      <td>0.000000</td>\n",
       "      <td>0.0</td>\n",
       "      <td>0.0</td>\n",
       "      <td>0.027012</td>\n",
       "      <td>0.006616</td>\n",
       "      <td>0.376471</td>\n",
       "      <td>0.000000</td>\n",
       "      <td>0.172619</td>\n",
       "      <td>8438.0</td>\n",
       "      <td>-0.029193</td>\n",
       "    </tr>\n",
       "    <tr>\n",
       "      <th>661597</th>\n",
       "      <td>0.000000</td>\n",
       "      <td>0.0</td>\n",
       "      <td>0.131274</td>\n",
       "      <td>0.000000</td>\n",
       "      <td>0.0</td>\n",
       "      <td>0.374079</td>\n",
       "      <td>0.104182</td>\n",
       "      <td>0.000000</td>\n",
       "      <td>0.0</td>\n",
       "      <td>0.0</td>\n",
       "      <td>0.003318</td>\n",
       "      <td>0.008737</td>\n",
       "      <td>0.541176</td>\n",
       "      <td>0.000000</td>\n",
       "      <td>0.109127</td>\n",
       "      <td>8438.0</td>\n",
       "      <td>-0.029193</td>\n",
       "    </tr>\n",
       "    <tr>\n",
       "      <th>661598</th>\n",
       "      <td>0.000000</td>\n",
       "      <td>0.0</td>\n",
       "      <td>0.087994</td>\n",
       "      <td>0.000000</td>\n",
       "      <td>0.0</td>\n",
       "      <td>0.532420</td>\n",
       "      <td>0.054073</td>\n",
       "      <td>0.000000</td>\n",
       "      <td>0.0</td>\n",
       "      <td>0.0</td>\n",
       "      <td>0.196857</td>\n",
       "      <td>0.028143</td>\n",
       "      <td>0.505882</td>\n",
       "      <td>0.333333</td>\n",
       "      <td>0.162698</td>\n",
       "      <td>8438.0</td>\n",
       "      <td>-0.029193</td>\n",
       "    </tr>\n",
       "    <tr>\n",
       "      <th>661599</th>\n",
       "      <td>0.000000</td>\n",
       "      <td>0.0</td>\n",
       "      <td>0.021640</td>\n",
       "      <td>0.000000</td>\n",
       "      <td>0.0</td>\n",
       "      <td>0.558761</td>\n",
       "      <td>0.032243</td>\n",
       "      <td>0.000000</td>\n",
       "      <td>0.0</td>\n",
       "      <td>0.0</td>\n",
       "      <td>0.004119</td>\n",
       "      <td>0.026265</td>\n",
       "      <td>0.647059</td>\n",
       "      <td>0.000000</td>\n",
       "      <td>0.146825</td>\n",
       "      <td>8438.0</td>\n",
       "      <td>-0.029193</td>\n",
       "    </tr>\n",
       "  </tbody>\n",
       "</table>\n",
       "<p>661600 rows × 17 columns</p>\n",
       "</div>"
      ],
      "text/plain": [
       "        engine_serial_number  engine_series  cycles_counter  config_A  \\\n",
       "0                   0.101545            0.0        0.488202  0.333333   \n",
       "1                   0.101545            0.0        0.490027  0.333333   \n",
       "2                   0.101545            0.0        0.480772  0.333333   \n",
       "3                   0.101545            0.0        0.480511  0.333333   \n",
       "4                   0.101545            0.0        0.479729  0.333333   \n",
       "...                      ...            ...             ...       ...   \n",
       "661595              0.000000            0.0        0.063486  0.000000   \n",
       "661596              0.000000            0.0        0.153826  0.000000   \n",
       "661597              0.000000            0.0        0.131274  0.000000   \n",
       "661598              0.000000            0.0        0.087994  0.000000   \n",
       "661599              0.000000            0.0        0.021640  0.000000   \n",
       "\n",
       "        config_B  Interpolate_var_mot_1  Interpolate_flight_leg_hours  \\\n",
       "0            1.0               0.389301                      0.041942   \n",
       "1            1.0               0.407359                      0.054869   \n",
       "2            1.0               0.311815                      0.057629   \n",
       "3            1.0               0.307892                      0.051835   \n",
       "4            1.0               0.293103                      0.044069   \n",
       "...          ...                    ...                           ...   \n",
       "661595       0.0               0.568451                      0.037881   \n",
       "661596       0.0               0.546965                      0.033642   \n",
       "661597       0.0               0.374079                      0.104182   \n",
       "661598       0.0               0.532420                      0.054073   \n",
       "661599       0.0               0.558761                      0.032243   \n",
       "\n",
       "        Interpolate_SV_rank  Interpolate_WW_rank  Interpolate_Config_B_rank  \\\n",
       "0                  0.333333                  8.0                        0.6   \n",
       "1                  0.333333                  8.0                        0.6   \n",
       "2                  0.333333                  8.0                        0.6   \n",
       "3                  0.333333                  8.0                        0.6   \n",
       "4                  0.333333                  8.0                        0.6   \n",
       "...                     ...                  ...                        ...   \n",
       "661595             0.000000                  0.0                        0.0   \n",
       "661596             0.000000                  0.0                        0.0   \n",
       "661597             0.000000                  0.0                        0.0   \n",
       "661598             0.000000                  0.0                        0.0   \n",
       "661599             0.000000                  0.0                        0.0   \n",
       "\n",
       "        Interpolate_var_env_1  Interpolate_var_env_2  Interpolate_var_env_3  \\\n",
       "0                    0.000484               0.000383               0.519855   \n",
       "1                    0.001692               0.007238               0.551896   \n",
       "2                    0.000551               0.001096               0.482353   \n",
       "3                    0.000540               0.002214               0.491232   \n",
       "4                    0.000985               0.000383               0.469181   \n",
       "...                       ...                    ...                    ...   \n",
       "661595               0.000623               0.028264               0.541176   \n",
       "661596               0.027012               0.006616               0.376471   \n",
       "661597               0.003318               0.008737               0.541176   \n",
       "661598               0.196857               0.028143               0.505882   \n",
       "661599               0.004119               0.026265               0.647059   \n",
       "\n",
       "        Interpolate_var_env_4  Interpolate_var_env_5  id_int  \\\n",
       "0                    0.000000               0.132495  1823.0   \n",
       "1                    0.000000               0.160494  1823.0   \n",
       "2                    0.333333               0.198413  1823.0   \n",
       "3                    0.000000               0.181941  1823.0   \n",
       "4                    0.000000               0.184318  1823.0   \n",
       "...                       ...                    ...     ...   \n",
       "661595               0.000000               0.103175  8438.0   \n",
       "661596               0.000000               0.172619  8438.0   \n",
       "661597               0.000000               0.109127  8438.0   \n",
       "661598               0.333333               0.162698  8438.0   \n",
       "661599               0.000000               0.146825  8438.0   \n",
       "\n",
       "        Interpolate_egt_slope  \n",
       "0                   -0.027761  \n",
       "1                   -0.027761  \n",
       "2                   -0.027761  \n",
       "3                   -0.027761  \n",
       "4                   -0.027761  \n",
       "...                       ...  \n",
       "661595              -0.029193  \n",
       "661596              -0.029193  \n",
       "661597              -0.029193  \n",
       "661598              -0.029193  \n",
       "661599              -0.029193  \n",
       "\n",
       "[661600 rows x 17 columns]"
      ]
     },
     "execution_count": 5,
     "metadata": {},
     "output_type": "execute_result"
    }
   ],
   "source": [
    "X_Y"
   ]
  },
  {
   "cell_type": "markdown",
   "id": "flying-tattoo",
   "metadata": {},
   "source": [
    "## Prétraitement des variables environnementales"
   ]
  },
  {
   "cell_type": "markdown",
   "id": "planned-possible",
   "metadata": {},
   "source": [
    "A partir de ce dataframe, on souhaite décomposer les séries des variables environnementales en 3 séries :\n",
    "- tendance \n",
    "- saisonnalité \n",
    "- bruit \n",
    "\n",
    "afin de les intégrer dans différentes branches du réseau de neurones. \n",
    "\n",
    "Pour cela il faut trouver une période de temps ou une fréquence, sur laquelle les événements se répétent. \n",
    "\n",
    "Pour exemple, on affiche le graphique représentant la série var_env_1 pour deux moteurs (ESN_3 et ESN_45) sur leurs 200 premiers vols  : "
   ]
  },
  {
   "cell_type": "code",
   "execution_count": 6,
   "id": "outdoor-citizen",
   "metadata": {},
   "outputs": [
    {
     "data": {
      "text/plain": [
       "<AxesSubplot:xlabel='date'>"
      ]
     },
     "execution_count": 6,
     "metadata": {},
     "output_type": "execute_result"
    },
    {
     "data": {
      "image/png": "[encoded data removed]",
      "text/plain": [
       "<Figure size 432x288 with 1 Axes>"
      ]
     },
     "metadata": {
      "needs_background": "light"
     },
     "output_type": "display_data"
    }
   ],
   "source": [
    "pretraitement[pretraitement.engine_serial_number==\"ESN_3\"].head(200)['Interpolate_var_env_1'].plot()"
   ]
  },
  {
   "cell_type": "code",
   "execution_count": 7,
   "id": "periodic-liabilities",
   "metadata": {},
   "outputs": [
    {
     "data": {
      "text/plain": [
       "<AxesSubplot:xlabel='date'>"
      ]
     },
     "execution_count": 7,
     "metadata": {},
     "output_type": "execute_result"
    },
    {
     "data": {
      "image/png": "[encoded data removed]",
      "text/plain": [
       "<Figure size 432x288 with 1 Axes>"
      ]
     },
     "metadata": {
      "needs_background": "light"
     },
     "output_type": "display_data"
    }
   ],
   "source": [
    "pretraitement[pretraitement.engine_serial_number==\"ESN_45\"].head(200)['Interpolate_var_env_1'].plot()"
   ]
  },
  {
   "cell_type": "markdown",
   "id": "artistic-fancy",
   "metadata": {},
   "source": [
    "On remarque tout d'abord que les séries sont très différentes d'un moteur à l'autre. \n",
    "\n",
    "Analysons ces séries sur les intervalles de 100 vols choisis précedemment. "
   ]
  },
  {
   "cell_type": "code",
   "execution_count": 8,
   "id": "pretty-semiconductor",
   "metadata": {},
   "outputs": [
    {
     "data": {
      "text/html": [
       "<div>\n",
       "<style scoped>\n",
       "    .dataframe tbody tr th:only-of-type {\n",
       "        vertical-align: middle;\n",
       "    }\n",
       "\n",
       "    .dataframe tbody tr th {\n",
       "        vertical-align: top;\n",
       "    }\n",
       "\n",
       "    .dataframe thead th {\n",
       "        text-align: right;\n",
       "    }\n",
       "</style>\n",
       "<table border=\"1\" class=\"dataframe\">\n",
       "  <thead>\n",
       "    <tr style=\"text-align: right;\">\n",
       "      <th></th>\n",
       "      <th>Interpolate_var_env_1</th>\n",
       "      <th>Interpolate_var_env_2</th>\n",
       "      <th>Interpolate_var_env_3</th>\n",
       "      <th>Interpolate_var_env_4</th>\n",
       "      <th>Interpolate_var_env_5</th>\n",
       "      <th>id_int</th>\n",
       "    </tr>\n",
       "  </thead>\n",
       "  <tbody>\n",
       "    <tr>\n",
       "      <th>5000</th>\n",
       "      <td>0.002859</td>\n",
       "      <td>0.008401</td>\n",
       "      <td>0.658824</td>\n",
       "      <td>0.0</td>\n",
       "      <td>0.168651</td>\n",
       "      <td>1873.0</td>\n",
       "    </tr>\n",
       "    <tr>\n",
       "      <th>5001</th>\n",
       "      <td>0.005533</td>\n",
       "      <td>0.008206</td>\n",
       "      <td>0.694118</td>\n",
       "      <td>0.0</td>\n",
       "      <td>0.142857</td>\n",
       "      <td>1873.0</td>\n",
       "    </tr>\n",
       "    <tr>\n",
       "      <th>5002</th>\n",
       "      <td>0.000904</td>\n",
       "      <td>0.055761</td>\n",
       "      <td>0.576471</td>\n",
       "      <td>0.0</td>\n",
       "      <td>0.156746</td>\n",
       "      <td>1873.0</td>\n",
       "    </tr>\n",
       "    <tr>\n",
       "      <th>5003</th>\n",
       "      <td>0.010270</td>\n",
       "      <td>0.080571</td>\n",
       "      <td>0.635294</td>\n",
       "      <td>0.0</td>\n",
       "      <td>0.111111</td>\n",
       "      <td>1873.0</td>\n",
       "    </tr>\n",
       "    <tr>\n",
       "      <th>5004</th>\n",
       "      <td>0.002660</td>\n",
       "      <td>0.025640</td>\n",
       "      <td>0.623529</td>\n",
       "      <td>0.0</td>\n",
       "      <td>0.188492</td>\n",
       "      <td>1873.0</td>\n",
       "    </tr>\n",
       "    <tr>\n",
       "      <th>...</th>\n",
       "      <td>...</td>\n",
       "      <td>...</td>\n",
       "      <td>...</td>\n",
       "      <td>...</td>\n",
       "      <td>...</td>\n",
       "      <td>...</td>\n",
       "    </tr>\n",
       "    <tr>\n",
       "      <th>5095</th>\n",
       "      <td>0.004392</td>\n",
       "      <td>0.030277</td>\n",
       "      <td>0.658824</td>\n",
       "      <td>0.0</td>\n",
       "      <td>0.188492</td>\n",
       "      <td>1873.0</td>\n",
       "    </tr>\n",
       "    <tr>\n",
       "      <th>5096</th>\n",
       "      <td>0.002161</td>\n",
       "      <td>0.080571</td>\n",
       "      <td>0.564706</td>\n",
       "      <td>0.0</td>\n",
       "      <td>0.166667</td>\n",
       "      <td>1873.0</td>\n",
       "    </tr>\n",
       "    <tr>\n",
       "      <th>5097</th>\n",
       "      <td>0.000048</td>\n",
       "      <td>0.080571</td>\n",
       "      <td>0.576471</td>\n",
       "      <td>0.0</td>\n",
       "      <td>0.130952</td>\n",
       "      <td>1873.0</td>\n",
       "    </tr>\n",
       "    <tr>\n",
       "      <th>5098</th>\n",
       "      <td>0.001840</td>\n",
       "      <td>0.053393</td>\n",
       "      <td>0.729412</td>\n",
       "      <td>0.0</td>\n",
       "      <td>0.081349</td>\n",
       "      <td>1873.0</td>\n",
       "    </tr>\n",
       "    <tr>\n",
       "      <th>5099</th>\n",
       "      <td>0.000587</td>\n",
       "      <td>0.080965</td>\n",
       "      <td>0.576471</td>\n",
       "      <td>0.0</td>\n",
       "      <td>0.148810</td>\n",
       "      <td>1873.0</td>\n",
       "    </tr>\n",
       "  </tbody>\n",
       "</table>\n",
       "<p>100 rows × 6 columns</p>\n",
       "</div>"
      ],
      "text/plain": [
       "      Interpolate_var_env_1  Interpolate_var_env_2  Interpolate_var_env_3  \\\n",
       "5000               0.002859               0.008401               0.658824   \n",
       "5001               0.005533               0.008206               0.694118   \n",
       "5002               0.000904               0.055761               0.576471   \n",
       "5003               0.010270               0.080571               0.635294   \n",
       "5004               0.002660               0.025640               0.623529   \n",
       "...                     ...                    ...                    ...   \n",
       "5095               0.004392               0.030277               0.658824   \n",
       "5096               0.002161               0.080571               0.564706   \n",
       "5097               0.000048               0.080571               0.576471   \n",
       "5098               0.001840               0.053393               0.729412   \n",
       "5099               0.000587               0.080965               0.576471   \n",
       "\n",
       "      Interpolate_var_env_4  Interpolate_var_env_5  id_int  \n",
       "5000                    0.0               0.168651  1873.0  \n",
       "5001                    0.0               0.142857  1873.0  \n",
       "5002                    0.0               0.156746  1873.0  \n",
       "5003                    0.0               0.111111  1873.0  \n",
       "5004                    0.0               0.188492  1873.0  \n",
       "...                     ...                    ...     ...  \n",
       "5095                    0.0               0.188492  1873.0  \n",
       "5096                    0.0               0.166667  1873.0  \n",
       "5097                    0.0               0.130952  1873.0  \n",
       "5098                    0.0               0.081349  1873.0  \n",
       "5099                    0.0               0.148810  1873.0  \n",
       "\n",
       "[100 rows x 6 columns]"
      ]
     },
     "execution_count": 8,
     "metadata": {},
     "output_type": "execute_result"
    }
   ],
   "source": [
    "# On décompose le dataframe complet en 6 616 échantillons de 100 vols :\n",
    "dfs = np.array_split(X_Y[['Interpolate_var_env_1','Interpolate_var_env_2', 'Interpolate_var_env_3', 'Interpolate_var_env_4', 'Interpolate_var_env_5', 'id_int']], 6616)\n",
    "\n",
    "# Affichage d'un échantillon : \n",
    "dfs[50]"
   ]
  },
  {
   "cell_type": "markdown",
   "id": "buried-glance",
   "metadata": {},
   "source": [
    "Comme précedemment, on compare les graphiques de différents échantillons : "
   ]
  },
  {
   "cell_type": "code",
   "execution_count": 9,
   "id": "streaming-henry",
   "metadata": {},
   "outputs": [
    {
     "data": {
      "text/plain": [
       "<AxesSubplot:>"
      ]
     },
     "execution_count": 9,
     "metadata": {},
     "output_type": "execute_result"
    },
    {
     "data": {
      "image/png": "[encoded data removed]",
      "text/plain": [
       "<Figure size 432x288 with 1 Axes>"
      ]
     },
     "metadata": {
      "needs_background": "light"
     },
     "output_type": "display_data"
    }
   ],
   "source": [
    "dfs[50].Interpolate_var_env_2.plot()"
   ]
  },
  {
   "cell_type": "code",
   "execution_count": 10,
   "id": "freelance-laser",
   "metadata": {},
   "outputs": [
    {
     "data": {
      "text/plain": [
       "<AxesSubplot:>"
      ]
     },
     "execution_count": 10,
     "metadata": {},
     "output_type": "execute_result"
    },
    {
     "data": {
      "image/png": "[encoded data removed]",
      "text/plain": [
       "<Figure size 432x288 with 1 Axes>"
      ]
     },
     "metadata": {
      "needs_background": "light"
     },
     "output_type": "display_data"
    }
   ],
   "source": [
    "dfs[6536].Interpolate_var_env_2.plot()"
   ]
  },
  {
   "cell_type": "markdown",
   "id": "automatic-letter",
   "metadata": {},
   "source": [
    "Les graphiques sont très différents entre deux échantillons, pour une même variable environnementale. Il sera donc difficile de trouver une tendance et une saisonalité commune à tous les échantillons\n",
    "\n",
    "Analysons les corrélations entre les différentes variables environnementales :"
   ]
  },
  {
   "cell_type": "code",
   "execution_count": 11,
   "id": "federal-invention",
   "metadata": {},
   "outputs": [
    {
     "data": {
      "text/plain": [
       "<AxesSubplot:>"
      ]
     },
     "execution_count": 11,
     "metadata": {},
     "output_type": "execute_result"
    },
    {
     "data": {
      "image/png": "[encoded data removed]",
      "text/plain": [
       "<Figure size 1440x720 with 1 Axes>"
      ]
     },
     "metadata": {
      "needs_background": "light"
     },
     "output_type": "display_data"
    }
   ],
   "source": [
    "# Exemple pour l'échantillon 553 : \n",
    "dfs[553].plot( y=['Interpolate_var_env_1', 'Interpolate_var_env_2','Interpolate_var_env_3','Interpolate_var_env_4', 'Interpolate_var_env_5'], figsize=(20,10), grid=True)"
   ]
  },
  {
   "cell_type": "markdown",
   "id": "intermediate-livestock",
   "metadata": {},
   "source": [
    "Ce n'est pas impossible qu'il y ait une corrélation entre ces variables."
   ]
  },
  {
   "cell_type": "code",
   "execution_count": 12,
   "id": "contained-church",
   "metadata": {},
   "outputs": [
    {
     "data": {
      "text/html": [
       "<div>\n",
       "<style scoped>\n",
       "    .dataframe tbody tr th:only-of-type {\n",
       "        vertical-align: middle;\n",
       "    }\n",
       "\n",
       "    .dataframe tbody tr th {\n",
       "        vertical-align: top;\n",
       "    }\n",
       "\n",
       "    .dataframe thead th {\n",
       "        text-align: right;\n",
       "    }\n",
       "</style>\n",
       "<table border=\"1\" class=\"dataframe\">\n",
       "  <thead>\n",
       "    <tr style=\"text-align: right;\">\n",
       "      <th></th>\n",
       "      <th>Interpolate_var_env_1</th>\n",
       "      <th>Interpolate_var_env_2</th>\n",
       "      <th>Interpolate_var_env_3</th>\n",
       "      <th>Interpolate_var_env_4</th>\n",
       "      <th>Interpolate_var_env_5</th>\n",
       "      <th>id_int</th>\n",
       "    </tr>\n",
       "  </thead>\n",
       "  <tbody>\n",
       "    <tr>\n",
       "      <th>Interpolate_var_env_1</th>\n",
       "      <td>1.000000</td>\n",
       "      <td>-0.191347</td>\n",
       "      <td>-0.055728</td>\n",
       "      <td>-0.071533</td>\n",
       "      <td>0.020022</td>\n",
       "      <td>NaN</td>\n",
       "    </tr>\n",
       "    <tr>\n",
       "      <th>Interpolate_var_env_2</th>\n",
       "      <td>-0.191347</td>\n",
       "      <td>1.000000</td>\n",
       "      <td>0.274827</td>\n",
       "      <td>-0.062906</td>\n",
       "      <td>-0.351021</td>\n",
       "      <td>NaN</td>\n",
       "    </tr>\n",
       "    <tr>\n",
       "      <th>Interpolate_var_env_3</th>\n",
       "      <td>-0.055728</td>\n",
       "      <td>0.274827</td>\n",
       "      <td>1.000000</td>\n",
       "      <td>-0.258630</td>\n",
       "      <td>-0.892466</td>\n",
       "      <td>NaN</td>\n",
       "    </tr>\n",
       "    <tr>\n",
       "      <th>Interpolate_var_env_4</th>\n",
       "      <td>-0.071533</td>\n",
       "      <td>-0.062906</td>\n",
       "      <td>-0.258630</td>\n",
       "      <td>1.000000</td>\n",
       "      <td>0.233310</td>\n",
       "      <td>NaN</td>\n",
       "    </tr>\n",
       "    <tr>\n",
       "      <th>Interpolate_var_env_5</th>\n",
       "      <td>0.020022</td>\n",
       "      <td>-0.351021</td>\n",
       "      <td>-0.892466</td>\n",
       "      <td>0.233310</td>\n",
       "      <td>1.000000</td>\n",
       "      <td>NaN</td>\n",
       "    </tr>\n",
       "    <tr>\n",
       "      <th>id_int</th>\n",
       "      <td>NaN</td>\n",
       "      <td>NaN</td>\n",
       "      <td>NaN</td>\n",
       "      <td>NaN</td>\n",
       "      <td>NaN</td>\n",
       "      <td>NaN</td>\n",
       "    </tr>\n",
       "  </tbody>\n",
       "</table>\n",
       "</div>"
      ],
      "text/plain": [
       "                       Interpolate_var_env_1  Interpolate_var_env_2  \\\n",
       "Interpolate_var_env_1               1.000000              -0.191347   \n",
       "Interpolate_var_env_2              -0.191347               1.000000   \n",
       "Interpolate_var_env_3              -0.055728               0.274827   \n",
       "Interpolate_var_env_4              -0.071533              -0.062906   \n",
       "Interpolate_var_env_5               0.020022              -0.351021   \n",
       "id_int                                   NaN                    NaN   \n",
       "\n",
       "                       Interpolate_var_env_3  Interpolate_var_env_4  \\\n",
       "Interpolate_var_env_1              -0.055728              -0.071533   \n",
       "Interpolate_var_env_2               0.274827              -0.062906   \n",
       "Interpolate_var_env_3               1.000000              -0.258630   \n",
       "Interpolate_var_env_4              -0.258630               1.000000   \n",
       "Interpolate_var_env_5              -0.892466               0.233310   \n",
       "id_int                                   NaN                    NaN   \n",
       "\n",
       "                       Interpolate_var_env_5  id_int  \n",
       "Interpolate_var_env_1               0.020022     NaN  \n",
       "Interpolate_var_env_2              -0.351021     NaN  \n",
       "Interpolate_var_env_3              -0.892466     NaN  \n",
       "Interpolate_var_env_4               0.233310     NaN  \n",
       "Interpolate_var_env_5               1.000000     NaN  \n",
       "id_int                                   NaN     NaN  "
      ]
     },
     "execution_count": 12,
     "metadata": {},
     "output_type": "execute_result"
    }
   ],
   "source": [
    "dfs[553].corr()"
   ]
  },
  {
   "cell_type": "markdown",
   "id": "magnetic-slave",
   "metadata": {},
   "source": [
    "Pour cet échantillon, il semblerait que les variables environnementales 3 et 5 soient négativement corrélées.\n",
    "\n",
    "Analysons les corrélations de ces variables dans la base initiale "
   ]
  },
  {
   "cell_type": "code",
   "execution_count": 13,
   "id": "conservative-checklist",
   "metadata": {},
   "outputs": [
    {
     "data": {
      "text/html": [
       "<div>\n",
       "<style scoped>\n",
       "    .dataframe tbody tr th:only-of-type {\n",
       "        vertical-align: middle;\n",
       "    }\n",
       "\n",
       "    .dataframe tbody tr th {\n",
       "        vertical-align: top;\n",
       "    }\n",
       "\n",
       "    .dataframe thead th {\n",
       "        text-align: right;\n",
       "    }\n",
       "</style>\n",
       "<table border=\"1\" class=\"dataframe\">\n",
       "  <thead>\n",
       "    <tr style=\"text-align: right;\">\n",
       "      <th></th>\n",
       "      <th>Interpolate_var_env_1</th>\n",
       "      <th>Interpolate_var_env_2</th>\n",
       "      <th>Interpolate_var_env_3</th>\n",
       "      <th>Interpolate_var_env_4</th>\n",
       "      <th>Interpolate_var_env_5</th>\n",
       "    </tr>\n",
       "  </thead>\n",
       "  <tbody>\n",
       "    <tr>\n",
       "      <th>Interpolate_var_env_1</th>\n",
       "      <td>1.000000</td>\n",
       "      <td>0.021848</td>\n",
       "      <td>0.019692</td>\n",
       "      <td>0.066995</td>\n",
       "      <td>0.110219</td>\n",
       "    </tr>\n",
       "    <tr>\n",
       "      <th>Interpolate_var_env_2</th>\n",
       "      <td>0.021848</td>\n",
       "      <td>1.000000</td>\n",
       "      <td>0.182493</td>\n",
       "      <td>-0.001482</td>\n",
       "      <td>-0.169041</td>\n",
       "    </tr>\n",
       "    <tr>\n",
       "      <th>Interpolate_var_env_3</th>\n",
       "      <td>0.019692</td>\n",
       "      <td>0.182493</td>\n",
       "      <td>1.000000</td>\n",
       "      <td>-0.068075</td>\n",
       "      <td>-0.311830</td>\n",
       "    </tr>\n",
       "    <tr>\n",
       "      <th>Interpolate_var_env_4</th>\n",
       "      <td>0.066995</td>\n",
       "      <td>-0.001482</td>\n",
       "      <td>-0.068075</td>\n",
       "      <td>1.000000</td>\n",
       "      <td>0.217841</td>\n",
       "    </tr>\n",
       "    <tr>\n",
       "      <th>Interpolate_var_env_5</th>\n",
       "      <td>0.110219</td>\n",
       "      <td>-0.169041</td>\n",
       "      <td>-0.311830</td>\n",
       "      <td>0.217841</td>\n",
       "      <td>1.000000</td>\n",
       "    </tr>\n",
       "  </tbody>\n",
       "</table>\n",
       "</div>"
      ],
      "text/plain": [
       "                       Interpolate_var_env_1  Interpolate_var_env_2  \\\n",
       "Interpolate_var_env_1               1.000000               0.021848   \n",
       "Interpolate_var_env_2               0.021848               1.000000   \n",
       "Interpolate_var_env_3               0.019692               0.182493   \n",
       "Interpolate_var_env_4               0.066995              -0.001482   \n",
       "Interpolate_var_env_5               0.110219              -0.169041   \n",
       "\n",
       "                       Interpolate_var_env_3  Interpolate_var_env_4  \\\n",
       "Interpolate_var_env_1               0.019692               0.066995   \n",
       "Interpolate_var_env_2               0.182493              -0.001482   \n",
       "Interpolate_var_env_3               1.000000              -0.068075   \n",
       "Interpolate_var_env_4              -0.068075               1.000000   \n",
       "Interpolate_var_env_5              -0.311830               0.217841   \n",
       "\n",
       "                       Interpolate_var_env_5  \n",
       "Interpolate_var_env_1               0.110219  \n",
       "Interpolate_var_env_2              -0.169041  \n",
       "Interpolate_var_env_3              -0.311830  \n",
       "Interpolate_var_env_4               0.217841  \n",
       "Interpolate_var_env_5               1.000000  "
      ]
     },
     "execution_count": 13,
     "metadata": {},
     "output_type": "execute_result"
    }
   ],
   "source": [
    "pretraitement[['Interpolate_var_env_1', 'Interpolate_var_env_2','Interpolate_var_env_3', 'Interpolate_var_env_4', 'Interpolate_var_env_5']].corr()"
   ]
  },
  {
   "cell_type": "markdown",
   "id": "adaptive-expert",
   "metadata": {},
   "source": [
    "Les variables sont corrélées, pour certaines très faiblement.\n",
    "\n",
    "Il est donc incertain que les séries des variables environnementales aient les mêmes propriétés de saisonnalité ou de tendance. Cependant, par soucis de temps et pour simplifier nos calculs nous ne chercherons pas à différencier les propriétés des différentes variables environnementales.\n",
    "\n",
    "Nous cherchons à trouver la fréquence (unique pour toutes les variables environnementales) qui optimise les résultats du modèle "
   ]
  },
  {
   "cell_type": "code",
   "execution_count": 14,
   "id": "continuous-description",
   "metadata": {},
   "outputs": [],
   "source": [
    "def decompose_serie (serie, frequence ):\n",
    "    '''\n",
    "    Cette fonction permet de décomposer une série (composée de plusieurs échantillons) en fonction de la fréquence\n",
    "    passée en paramètre. Elle renvoie la série décomposée en tendance, saisonnalité et bruit \n",
    "    \n",
    "    Exemple :\n",
    "    decompose_serie (dfs, 6 ) : décompose la série dfs, composée de 6 616, en 3 dataframe : la tendance, la saisonnalité,\n",
    "    le bruit. \n",
    "    \n",
    "    \n",
    "    \n",
    "    '''\n",
    "    df_trend = pd.DataFrame(columns=['Var_1_trend','Var_2_trend','Var_3_trend','Var_4_trend' , 'Var_5_trend', 'id_int'])\n",
    "    df_season = pd.DataFrame(columns=['Var_1_season','Var_2_season','Var_3_season','Var_4_season' , 'Var_5_season', 'id_int'])\n",
    "    df_resid = pd.DataFrame(columns=['Var_1_resid','Var_2_resid','Var_3_resid','Var_4_resid' , 'Var_5_resid', 'id_int'])\n",
    "\n",
    "    for i in range(len(serie)) :\n",
    "        result_1 = seasonal_decompose(serie[i]['Interpolate_var_env_1'], model='additive', freq=frequence)\n",
    "        result_2 = seasonal_decompose(serie[i]['Interpolate_var_env_2'], model='additive', freq=frequence)\n",
    "        result_3 = seasonal_decompose(serie[i]['Interpolate_var_env_3'], model='additive', freq=frequence)\n",
    "        result_4 = seasonal_decompose(serie[i]['Interpolate_var_env_4'], model='additive', freq=frequence)\n",
    "        result_5 = seasonal_decompose(serie[i]['Interpolate_var_env_5'], model='additive', freq=frequence)\n",
    "\n",
    "        df_trend_i= pd.DataFrame({'Var_1_trend': result_1.trend ,'Var_2_trend' : result_2.trend,'Var_3_trend':result_3.trend,'Var_4_trend': result_4.trend, 'Var_5_trend':result_5.trend, 'id_int': dfs[i].id_int})\n",
    "        df_trend_i= df_trend_i.fillna(df_trend_i.ffill())\n",
    "        df_trend_i= df_trend_i.fillna(df_trend_i.bfill())\n",
    "        df_trend = pd.concat([df_trend,df_trend_i])\n",
    "\n",
    "        df_season_i= pd.DataFrame({'Var_1_season': result_1.seasonal ,'Var_2_season' : result_2.seasonal,'Var_3_season':result_3.seasonal,'Var_4_season': result_4.seasonal, 'Var_5_season':result_5.seasonal, 'id_int': dfs[i].id_int})\n",
    "        df_season = pd.concat([df_season,df_season_i])\n",
    "\n",
    "        df_resid_i= pd.DataFrame({'Var_1_resid': result_1.resid,'Var_2_resid' : result_2.resid,'Var_3_resid':result_3.resid,'Var_4_resid': result_4.resid, 'Var_5_resid':result_5.resid, 'id_int': dfs[i].id_int})\n",
    "        df_resid_i= df_resid_i.fillna(df_resid_i.ffill())\n",
    "        df_resid_i= df_resid_i.fillna(df_resid_i.bfill())\n",
    "        df_resid = pd.concat([df_resid,df_resid_i])\n",
    "\n",
    "        if i == int(len(serie)/4):\n",
    "            print(\"25% du traitement effectué\")\n",
    "        if i == int(len(serie)/2):\n",
    "            print(\"50% du traitement effectué\")\n",
    "        if i == int(len(serie) *(3/4)):\n",
    "            print(\"75% du traitement effectué\")\n",
    "        if i == int(len(serie)-1):\n",
    "            print(\"Terminé ! \")\n",
    "    return df_trend, df_season, df_resid"
   ]
  },
  {
   "cell_type": "code",
   "execution_count": 15,
   "id": "interesting-catholic",
   "metadata": {},
   "outputs": [
    {
     "name": "stderr",
     "output_type": "stream",
     "text": [
      "C:\\Users\\louis\\anaconda3\\envs\\tensorflow\\lib\\site-packages\\ipykernel_launcher.py:18: FutureWarning: the 'freq'' keyword is deprecated, use 'period' instead\n",
      "C:\\Users\\louis\\anaconda3\\envs\\tensorflow\\lib\\site-packages\\ipykernel_launcher.py:19: FutureWarning: the 'freq'' keyword is deprecated, use 'period' instead\n",
      "C:\\Users\\louis\\anaconda3\\envs\\tensorflow\\lib\\site-packages\\ipykernel_launcher.py:20: FutureWarning: the 'freq'' keyword is deprecated, use 'period' instead\n",
      "C:\\Users\\louis\\anaconda3\\envs\\tensorflow\\lib\\site-packages\\ipykernel_launcher.py:21: FutureWarning: the 'freq'' keyword is deprecated, use 'period' instead\n",
      "C:\\Users\\louis\\anaconda3\\envs\\tensorflow\\lib\\site-packages\\ipykernel_launcher.py:22: FutureWarning: the 'freq'' keyword is deprecated, use 'period' instead\n"
     ]
    },
    {
     "name": "stdout",
     "output_type": "stream",
     "text": [
      "25% du traitement effectué\n",
      "50% du traitement effectué\n",
      "75% du traitement effectué\n",
      "Terminé ! \n"
     ]
    }
   ],
   "source": [
    "# Temps de traitement autour de 5 minutes\n",
    "df_trend, df_season, df_resid = decompose_serie (dfs, 15 )"
   ]
  },
  {
   "cell_type": "code",
   "execution_count": 16,
   "id": "clean-headquarters",
   "metadata": {},
   "outputs": [],
   "source": [
    "# On introduit le dataframe correspondant aux autres variables (hors environnementales) à prendre en compte\n",
    "df_complement = X_Y[['engine_serial_number', 'engine_series', 'cycles_counter', 'config_A',\n",
    "       'config_B', 'Interpolate_var_mot_1', 'Interpolate_flight_leg_hours',\n",
    "       'Interpolate_SV_rank', 'Interpolate_WW_rank','Interpolate_Config_B_rank','Interpolate_egt_slope']]"
   ]
  },
  {
   "cell_type": "markdown",
   "id": "applied-mouse",
   "metadata": {},
   "source": [
    "On traite nos dataframes pour qu'ils puissent entrer dans le modèle. \n",
    "\n",
    "On souhaite couper ce dataframe en échantillon de taille 100, où à chaque échantillon correspond une valeur de pente pour la marge EGT. "
   ]
  },
  {
   "cell_type": "code",
   "execution_count": 17,
   "id": "strange-operations",
   "metadata": {},
   "outputs": [],
   "source": [
    "def split_sequences_X_Y(sequences, n_steps) : \n",
    "    '''\n",
    "    Découpage d'un dataframe correspondant aux variables X et Y, en échantillon de taille n_steps\n",
    "    '''\n",
    "    X, y = list(), list()\n",
    "    n_iteration = int(len(sequences)/n_steps)\n",
    "    if len(sequences)%n_steps != 0 : \n",
    "        print(\"Attention, modulo différent de zero\")\n",
    "    for i in range(n_iteration): \n",
    "        seq_x, seq_y = sequences [i*n_steps :(i+1)*n_steps, :-1 ], sequences[i*n_steps ,-1]\n",
    "        X.append(seq_x)\n",
    "        y.append(seq_y)\n",
    "    return array(X), array(y)    "
   ]
  },
  {
   "cell_type": "code",
   "execution_count": 18,
   "id": "conscious-annex",
   "metadata": {},
   "outputs": [],
   "source": [
    "X_complement, y = split_sequences_X_Y(df_complement.values, 100)"
   ]
  },
  {
   "cell_type": "code",
   "execution_count": 19,
   "id": "assigned-century",
   "metadata": {},
   "outputs": [],
   "source": [
    "def split_sequences_X(sequences, n_steps) : \n",
    "    '''\n",
    "    Découpage d'un dataframe correspondant aux variables X en échantillon de taille n_steps\n",
    "    '''\n",
    "    X= list()\n",
    "    n_iteration = int(len(sequences)/n_steps)\n",
    "    if len(sequences)%n_steps != 0 : \n",
    "        print(\"Attention, modulo différent de zero\")\n",
    "    for i in range(n_iteration): \n",
    "        seq_x = sequences [i*n_steps :(i+1)*n_steps,:-1]\n",
    "        X.append(seq_x)\n",
    "    return array(X)"
   ]
  },
  {
   "cell_type": "code",
   "execution_count": 20,
   "id": "after-clothing",
   "metadata": {},
   "outputs": [],
   "source": [
    "X_trend, X_season, X_resid =  split_sequences_X(df_trend.values, 100), split_sequences_X(df_season.values, 100), split_sequences_X(df_resid.values, 100)"
   ]
  },
  {
   "cell_type": "code",
   "execution_count": 21,
   "id": "worthy-laser",
   "metadata": {},
   "outputs": [],
   "source": [
    "from sklearn.model_selection import train_test_split"
   ]
  },
  {
   "cell_type": "code",
   "execution_count": 22,
   "id": "harmful-separation",
   "metadata": {},
   "outputs": [],
   "source": [
    "X_complement_train, X_complement_test, X_trend_train , X_trend_test, X_season_train, X_season_test, X_resid_train, X_resid_test, Y_train, Y_test = train_test_split(X_complement,X_trend,X_season,X_resid, y, test_size = 0.2, random_state=42)"
   ]
  },
  {
   "cell_type": "markdown",
   "id": "suburban-kenya",
   "metadata": {},
   "source": [
    "## Le modèle "
   ]
  },
  {
   "cell_type": "code",
   "execution_count": 140,
   "id": "chicken-liberal",
   "metadata": {},
   "outputs": [],
   "source": [
    "# Importation des packages de deep learning \n",
    "from tensorflow import keras\n",
    "from tensorflow.keras import layers\n",
    "from keras.models import Sequential \n",
    "from tensorflow.keras.layers import (Conv1D, Dense,Dropout, Flatten,MaxPooling1D, concatenate)\n",
    "\n",
    "from tensorflow.keras import optimizers\n",
    "from tensorflow.keras import models\n",
    "from tensorflow.keras import Input\n",
    "from keras.models import Model\n",
    "from tensorflow.keras.callbacks import EarlyStopping"
   ]
  },
  {
   "cell_type": "code",
   "execution_count": 141,
   "id": "national-implement",
   "metadata": {},
   "outputs": [],
   "source": [
    "# Importation des packages de deep learning \n",
    "from tensorflow import keras\n",
    "from tensorflow.keras import layers\n",
    "from keras.models import Sequential \n",
    "from keras.layers.core import (Dense,Dropout, Flatten)\n",
    "from keras.layers.convolutional import Conv1D, MaxPooling1D, SeparableConv2D\n",
    "from keras.layers import  concatenate\n",
    "\n",
    "from tensorflow.keras import optimizers\n",
    "from tensorflow.keras import models\n",
    "from tensorflow.keras import Input\n",
    "from keras.models import Model\n",
    "from tensorflow.keras.callbacks import EarlyStopping"
   ]
  },
  {
   "cell_type": "code",
   "execution_count": 142,
   "id": "distributed-mauritius",
   "metadata": {},
   "outputs": [],
   "source": [
    "# first input model\n",
    "visible1 = Input(shape=(100, 10))\n",
    "cnn1 = Conv1D(filters=64, kernel_size=2, activation='tanh',padding='same')(visible1)\n",
    "cnn1 = MaxPooling1D(pool_size=2)(cnn1)\n",
    "cnn1 = Flatten()(cnn1)"
   ]
  },
  {
   "cell_type": "code",
   "execution_count": 143,
   "id": "turkish-spanking",
   "metadata": {},
   "outputs": [],
   "source": [
    "visible2 = Input(shape=(100, 5))\n",
    "cnn2 = Conv1D(filters=64, kernel_size=2, activation='tanh', padding='same')(visible2)\n",
    "cnn2 = MaxPooling1D(pool_size=2)(cnn2)\n",
    "cnn2 = Flatten()(cnn2)"
   ]
  },
  {
   "cell_type": "code",
   "execution_count": 144,
   "id": "stretch-license",
   "metadata": {},
   "outputs": [],
   "source": [
    "visible3 = Input(shape=(100, 5))\n",
    "cnn3 = Conv1D(filters=64, kernel_size=2, activation='tanh',padding='same')(visible3)\n",
    "cnn3 = MaxPooling1D(pool_size=2)(cnn3)\n",
    "cnn3 = Flatten()(cnn3)"
   ]
  },
  {
   "cell_type": "code",
   "execution_count": 145,
   "id": "after-label",
   "metadata": {},
   "outputs": [],
   "source": [
    "visible4 = Input(shape=(100, 5))\n",
    "cnn4 = Conv1D(filters=64, kernel_size=2, activation='tanh', padding='same')(visible4)\n",
    "cnn4 = MaxPooling1D(pool_size=2)(cnn4)\n",
    "cnn4 = Flatten()(cnn4)"
   ]
  },
  {
   "cell_type": "code",
   "execution_count": 146,
   "id": "wrapped-orleans",
   "metadata": {},
   "outputs": [],
   "source": [
    "# merge input models\n",
    "merge = concatenate([cnn1, cnn2, cnn3, cnn4])\n",
    "dense = Dense(20)(merge)\n",
    "output = Dense(1,activation='tanh')(dense)"
   ]
  },
  {
   "cell_type": "code",
   "execution_count": 147,
   "id": "fancy-behavior",
   "metadata": {},
   "outputs": [],
   "source": [
    "model = Model(inputs=[visible1, visible2,visible3,visible4 ], outputs=output)"
   ]
  },
  {
   "cell_type": "code",
   "execution_count": 148,
   "id": "pressing-blink",
   "metadata": {},
   "outputs": [],
   "source": [
    "model.compile(optimizer='adam', loss='mse')"
   ]
  },
  {
   "cell_type": "code",
   "execution_count": 149,
   "id": "blessed-rochester",
   "metadata": {},
   "outputs": [],
   "source": [
    "# La condition suivante permet d'arrêter l'entrainement si le modéle n'apprend pas pendant 5 périodes : \n",
    "earlystop = EarlyStopping(patience=5) \n",
    "callbacks = [earlystop]"
   ]
  },
  {
   "cell_type": "code",
   "execution_count": 150,
   "id": "found-begin",
   "metadata": {},
   "outputs": [
    {
     "name": "stdout",
     "output_type": "stream",
     "text": [
      "Epoch 1/10\n",
      "133/133 [==============================] - 1s 8ms/step - loss: 0.9743 - val_loss: 0.9401\n",
      "Epoch 2/10\n",
      "133/133 [==============================] - 1s 6ms/step - loss: 0.9801 - val_loss: 0.9401\n",
      "Epoch 3/10\n",
      "133/133 [==============================] - 1s 7ms/step - loss: 0.9801 - val_loss: 0.9400\n",
      "Epoch 4/10\n",
      "133/133 [==============================] - 1s 7ms/step - loss: 0.9706 - val_loss: 0.9401\n",
      "Epoch 5/10\n",
      "133/133 [==============================] - 1s 7ms/step - loss: 0.9801 - val_loss: 0.9401\n",
      "Epoch 6/10\n",
      "133/133 [==============================] - 1s 7ms/step - loss: 0.9801 - val_loss: 0.9401\n",
      "Epoch 7/10\n",
      "133/133 [==============================] - 1s 7ms/step - loss: 0.9801 - val_loss: 0.9401\n",
      "Epoch 8/10\n",
      "133/133 [==============================] - 1s 7ms/step - loss: 0.9801 - val_loss: 0.9401\n",
      "Epoch 9/10\n",
      "133/133 [==============================] - 1s 6ms/step - loss: 0.9801 - val_loss: 0.9401\n",
      "Epoch 10/10\n",
      "133/133 [==============================] - 1s 8ms/step - loss: 0.9801 - val_loss: 0.9401\n"
     ]
    }
   ],
   "source": [
    "history= model.fit([X_complement_train, X_trend_train, X_season_train, X_resid_train], Y_train, epochs=10, validation_split = 0.2)"
   ]
  },
  {
   "cell_type": "code",
   "execution_count": 151,
   "id": "excess-birthday",
   "metadata": {},
   "outputs": [
    {
     "name": "stdout",
     "output_type": "stream",
     "text": [
      "42/42 [==============================] - 0s 5ms/step - loss: 0.9606\n"
     ]
    }
   ],
   "source": [
    "test_loss = model.evaluate([X_complement_test, X_trend_test, X_season_test, X_resid_test], Y_test)"
   ]
  },
  {
   "cell_type": "code",
   "execution_count": 131,
   "id": "incomplete-phrase",
   "metadata": {},
   "outputs": [
    {
     "data": {
      "image/png": "[encoded data removed]",
      "text/plain": [
       "<Figure size 432x288 with 1 Axes>"
      ]
     },
     "metadata": {
      "needs_background": "light"
     },
     "output_type": "display_data"
    }
   ],
   "source": [
    "plt.plot(history.history['loss'], color='b', label=\"Training loss\")\n",
    "plt.plot(history.history['val_loss'], color='r', label=\"validation loss\")\n",
    "plt.title('Training and validation loss')\n",
    "\n",
    "legend = plt.legend()\n",
    "plt.show()"
   ]
  },
  {
   "cell_type": "code",
   "execution_count": 132,
   "id": "anticipated-cowboy",
   "metadata": {},
   "outputs": [],
   "source": [
    "preds = model.predict([X_complement_test, X_trend_test, X_season_test, X_resid_test])"
   ]
  },
  {
   "cell_type": "code",
   "execution_count": 133,
   "id": "bridal-wagner",
   "metadata": {},
   "outputs": [
    {
     "data": {
      "text/plain": [
       "array([[0.],\n",
       "       [0.],\n",
       "       [0.],\n",
       "       ...,\n",
       "       [0.],\n",
       "       [0.],\n",
       "       [0.]], dtype=float32)"
      ]
     },
     "execution_count": 133,
     "metadata": {},
     "output_type": "execute_result"
    }
   ],
   "source": [
    "preds"
   ]
  },
  {
   "cell_type": "code",
   "execution_count": 119,
   "id": "excess-islam",
   "metadata": {},
   "outputs": [
    {
     "data": {
      "image/png": "[encoded data removed]",
      "text/plain": [
       "<Figure size 720x360 with 1 Axes>"
      ]
     },
     "metadata": {
      "needs_background": "light"
     },
     "output_type": "display_data"
    }
   ],
   "source": [
    "from matplotlib import pyplot\n",
    "pyplot.figure(figsize=(10,5))\n",
    "pyplot.plot(Y_test)\n",
    "plt.ylim(-0.35,0.35)\n",
    "pyplot.plot(preds, 'r')\n",
    "pyplot.show()"
   ]
  },
  {
   "cell_type": "code",
   "execution_count": null,
   "id": "related-narrow",
   "metadata": {},
   "outputs": [],
   "source": [
    "# X_complement_train, X_complement_test, X_trend_train , X_trend_test, X_season_train, X_season_test, X_resid_train, X_resid_test, Y_train, Y_test = train_test_split(X_complement,X_trend,X_season,X_resid, y, test_size = 0.2, random_state=42)"
   ]
  },
  {
   "cell_type": "code",
   "execution_count": 876,
   "id": "missing-complexity",
   "metadata": {},
   "outputs": [
    {
     "name": "stdout",
     "output_type": "stream",
     "text": [
      "Epoch 1/20\n",
      "133/133 [==============================] - 1s 6ms/step - loss: 0.0435 - val_loss: 0.0037\n",
      "Epoch 2/20\n",
      "133/133 [==============================] - 1s 6ms/step - loss: 0.0435 - val_loss: 0.0037\n",
      "Epoch 3/20\n",
      "133/133 [==============================] - 1s 6ms/step - loss: 0.0435 - val_loss: 0.0037\n",
      "Epoch 4/20\n",
      "133/133 [==============================] - 1s 6ms/step - loss: 0.0435 - val_loss: 0.0037\n",
      "Epoch 5/20\n",
      "133/133 [==============================] - 1s 6ms/step - loss: 0.0435 - val_loss: 0.0037\n",
      "Epoch 6/20\n",
      "133/133 [==============================] - 1s 6ms/step - loss: 0.0435 - val_loss: 0.0037\n",
      "Epoch 7/20\n",
      "133/133 [==============================] - 1s 7ms/step - loss: 0.0435 - val_loss: 0.0037\n",
      "Epoch 8/20\n",
      "133/133 [==============================] - 1s 6ms/step - loss: 0.0435 - val_loss: 0.0037\n",
      "Epoch 9/20\n",
      "133/133 [==============================] - 1s 6ms/step - loss: 0.0435 - val_loss: 0.0037\n",
      "oko\n"
     ]
    }
   ],
   "source": [
    "choix_frequence(dfs, [5,10])"
   ]
  },
  {
   "cell_type": "code",
   "execution_count": 902,
   "id": "quiet-costa",
   "metadata": {},
   "outputs": [],
   "source": [
    "def choix_frequence (serie, frequences) : \n",
    "    '''\n",
    "    Fonction qui teste le modèle pour différentes fréquences passées en paramètre. \n",
    "    Attention, cette fonction met un certain temps à s'effectuer : proportionnel à la taille de la série et au nombre de \n",
    "    fréquences à tester.\n",
    "    Elle renvoie un dataframe comprenant les différentes fréquences associées à la loss sur la base de test. \n",
    "    '''\n",
    "    df_result_freq = pd.DataFrame(columns=['Frequence','Var_2_trend'])\n",
    "    for frequence in frequences : \n",
    "        print(\"En cours de traitement de la fréquence : \", frequence)\n",
    "        df_trend, df_season, df_resid = decompose_serie (serie, frequence)\n",
    "        X_trend, X_season, X_resid =  split_sequences_X(df_trend.values, 100), split_sequences_X(df_season.values, 100), split_sequences_X(df_resid.values, 100)\n",
    "        (X_complement_train, X_complement_test, X_trend_train , X_trend_test, X_season_train, X_season_test, X_resid_train, X_resid_test, Y_train, Y_test) = train_test_split(X_complement,X_trend,X_season,X_resid, y, test_size = 0.2)\n",
    "        history= model.fit([X_complement_train, X_trend_train, X_season_train, X_resid_train], Y_train, epochs=20, validation_split = 0.2, callbacks=callbacks)\n",
    "        test_loss = model.evaluate([X_complement_test, X_trend_test, X_season_test, X_resid_test], Y_test)\n",
    "        df_result_freq_i = pd.DataFrame({'Frequence': [frequence] ,'Var_2_trend' : [test_loss]})\n",
    "        df_result_freq = pd.concat([df_result_freq,df_result_freq_i])\n",
    "    return df_result_freq"
   ]
  },
  {
   "cell_type": "code",
   "execution_count": 903,
   "id": "changed-turning",
   "metadata": {},
   "outputs": [
    {
     "name": "stdout",
     "output_type": "stream",
     "text": [
      "En cours de traitement de la fréquence :  1\n"
     ]
    },
    {
     "name": "stderr",
     "output_type": "stream",
     "text": [
      "C:\\Users\\louis\\anaconda3\\envs\\tensorflow\\lib\\site-packages\\ipykernel_launcher.py:7: FutureWarning: the 'freq'' keyword is deprecated, use 'period' instead\n",
      "  import sys\n",
      "C:\\Users\\louis\\anaconda3\\envs\\tensorflow\\lib\\site-packages\\ipykernel_launcher.py:8: FutureWarning: the 'freq'' keyword is deprecated, use 'period' instead\n",
      "  \n",
      "C:\\Users\\louis\\anaconda3\\envs\\tensorflow\\lib\\site-packages\\ipykernel_launcher.py:9: FutureWarning: the 'freq'' keyword is deprecated, use 'period' instead\n",
      "  if __name__ == '__main__':\n",
      "C:\\Users\\louis\\anaconda3\\envs\\tensorflow\\lib\\site-packages\\ipykernel_launcher.py:10: FutureWarning: the 'freq'' keyword is deprecated, use 'period' instead\n",
      "  # Remove the CWD from sys.path while we load stuff.\n",
      "C:\\Users\\louis\\anaconda3\\envs\\tensorflow\\lib\\site-packages\\ipykernel_launcher.py:11: FutureWarning: the 'freq'' keyword is deprecated, use 'period' instead\n",
      "  # This is added back by InteractiveShellApp.init_path()\n"
     ]
    },
    {
     "name": "stdout",
     "output_type": "stream",
     "text": [
      "25% du traitement effectué\n",
      "50% du traitement effectué\n",
      "75% du traitement effectué\n",
      "Terminé ! \n",
      "Epoch 1/20\n",
      "133/133 [==============================] - 1s 7ms/step - loss: 0.0268 - val_loss: 0.0021\n",
      "Epoch 2/20\n",
      "133/133 [==============================] - 1s 8ms/step - loss: 0.0268 - val_loss: 0.0020\n",
      "Epoch 3/20\n",
      "133/133 [==============================] - 1s 9ms/step - loss: 0.0268 - val_loss: 0.0020\n",
      "Epoch 4/20\n",
      "133/133 [==============================] - 1s 8ms/step - loss: 0.0268 - val_loss: 0.0020\n",
      "Epoch 5/20\n",
      "133/133 [==============================] - 1s 8ms/step - loss: 0.0268 - val_loss: 0.0020\n",
      "Epoch 6/20\n",
      "133/133 [==============================] - 1s 8ms/step - loss: 0.0268 - val_loss: 0.0021\n",
      "Epoch 7/20\n",
      "133/133 [==============================] - 1s 8ms/step - loss: 0.0268 - val_loss: 0.0020\n",
      "Epoch 8/20\n",
      "133/133 [==============================] - 1s 8ms/step - loss: 0.0268 - val_loss: 0.0021\n",
      "Epoch 9/20\n",
      "133/133 [==============================] - 1s 8ms/step - loss: 0.0268 - val_loss: 0.0020\n",
      "Epoch 10/20\n",
      "133/133 [==============================] - 1s 8ms/step - loss: 0.0268 - val_loss: 0.0020\n",
      "42/42 [==============================] - 0s 3ms/step - loss: 0.0938\n",
      "En cours de traitement de la fréquence :  5\n",
      "25% du traitement effectué\n",
      "50% du traitement effectué\n",
      "75% du traitement effectué\n",
      "Terminé ! \n",
      "Epoch 1/20\n",
      "133/133 [==============================] - 1s 7ms/step - loss: 0.0480 - val_loss: 0.0056\n",
      "Epoch 2/20\n",
      "133/133 [==============================] - 1s 8ms/step - loss: 0.0480 - val_loss: 0.0057\n",
      "Epoch 3/20\n",
      "133/133 [==============================] - 1s 8ms/step - loss: 0.0480 - val_loss: 0.0057\n",
      "Epoch 4/20\n",
      "133/133 [==============================] - 1s 8ms/step - loss: 0.0480 - val_loss: 0.0057\n",
      "Epoch 5/20\n",
      "133/133 [==============================] - 1s 9ms/step - loss: 0.0480 - val_loss: 0.0056\n",
      "Epoch 6/20\n",
      "133/133 [==============================] - 1s 8ms/step - loss: 0.0480 - val_loss: 0.0057\n",
      "42/42 [==============================] - 0s 3ms/step - loss: 0.0229\n",
      "En cours de traitement de la fréquence :  10\n",
      "25% du traitement effectué\n",
      "50% du traitement effectué\n",
      "75% du traitement effectué\n",
      "Terminé ! \n",
      "Epoch 1/20\n",
      "133/133 [==============================] - 1s 10ms/step - loss: 0.0475 - val_loss: 0.0090\n",
      "Epoch 2/20\n",
      "133/133 [==============================] - 1s 9ms/step - loss: 0.0475 - val_loss: 0.0090\n",
      "Epoch 3/20\n",
      "133/133 [==============================] - 1s 9ms/step - loss: 0.0475 - val_loss: 0.0091\n",
      "Epoch 4/20\n",
      "133/133 [==============================] - 1s 10ms/step - loss: 0.0475 - val_loss: 0.0090\n",
      "Epoch 5/20\n",
      "133/133 [==============================] - 1s 10ms/step - loss: 0.0475 - val_loss: 0.0091\n",
      "Epoch 6/20\n",
      "133/133 [==============================] - 1s 9ms/step - loss: 0.0475 - val_loss: 0.0091\n",
      "Epoch 7/20\n",
      "133/133 [==============================] - 1s 10ms/step - loss: 0.0475 - val_loss: 0.0090\n",
      "Epoch 8/20\n",
      "133/133 [==============================] - 1s 10ms/step - loss: 0.0475 - val_loss: 0.0090\n",
      "Epoch 9/20\n",
      "133/133 [==============================] - 1s 10ms/step - loss: 0.0475 - val_loss: 0.0091\n",
      "Epoch 10/20\n",
      "133/133 [==============================] - 1s 10ms/step - loss: 0.0475 - val_loss: 0.0091\n",
      "Epoch 11/20\n",
      "133/133 [==============================] - 1s 10ms/step - loss: 0.0475 - val_loss: 0.0090\n",
      "Epoch 12/20\n",
      "133/133 [==============================] - 1s 10ms/step - loss: 0.0475 - val_loss: 0.0090\n",
      "42/42 [==============================] - 0s 4ms/step - loss: 0.0219\n",
      "En cours de traitement de la fréquence :  15\n",
      "25% du traitement effectué\n",
      "50% du traitement effectué\n",
      "75% du traitement effectué\n",
      "Terminé ! \n",
      "Epoch 1/20\n",
      "133/133 [==============================] - 1s 9ms/step - loss: 0.0410 - val_loss: 0.0582\n",
      "Epoch 2/20\n",
      "133/133 [==============================] - 1s 10ms/step - loss: 0.0410 - val_loss: 0.0582\n",
      "Epoch 3/20\n",
      "133/133 [==============================] - 1s 9ms/step - loss: 0.0410 - val_loss: 0.0582\n",
      "Epoch 4/20\n",
      "133/133 [==============================] - 1s 10ms/step - loss: 0.0410 - val_loss: 0.0581\n",
      "Epoch 5/20\n",
      "133/133 [==============================] - 1s 10ms/step - loss: 0.0410 - val_loss: 0.0583\n",
      "Epoch 6/20\n",
      "133/133 [==============================] - 1s 10ms/step - loss: 0.0410 - val_loss: 0.0582\n",
      "Epoch 7/20\n",
      "133/133 [==============================] - 1s 10ms/step - loss: 0.0410 - val_loss: 0.0582\n",
      "Epoch 8/20\n",
      "133/133 [==============================] - 1s 10ms/step - loss: 0.0410 - val_loss: 0.0581\n",
      "Epoch 9/20\n",
      "133/133 [==============================] - 1s 10ms/step - loss: 0.0410 - val_loss: 0.0581\n",
      "42/42 [==============================] - 0s 3ms/step - loss: 0.0035\n",
      "En cours de traitement de la fréquence :  20\n",
      "25% du traitement effectué\n",
      "50% du traitement effectué\n",
      "75% du traitement effectué\n",
      "Terminé ! \n",
      "Epoch 1/20\n",
      "133/133 [==============================] - 1s 10ms/step - loss: 0.0491 - val_loss: 0.0120\n",
      "Epoch 2/20\n",
      "133/133 [==============================] - 1s 10ms/step - loss: 0.0491 - val_loss: 0.0120\n",
      "Epoch 3/20\n",
      "133/133 [==============================] - 1s 10ms/step - loss: 0.0491 - val_loss: 0.0120\n",
      "Epoch 4/20\n",
      "133/133 [==============================] - 1s 10ms/step - loss: 0.0491 - val_loss: 0.0120\n",
      "Epoch 5/20\n",
      "133/133 [==============================] - 1s 10ms/step - loss: 0.0491 - val_loss: 0.0120\n",
      "Epoch 6/20\n",
      "133/133 [==============================] - 1s 10ms/step - loss: 0.0492 - val_loss: 0.0120\n",
      "42/42 [==============================] - 0s 4ms/step - loss: 0.0144\n",
      "En cours de traitement de la fréquence :  25\n",
      "25% du traitement effectué\n",
      "50% du traitement effectué\n",
      "75% du traitement effectué\n",
      "Terminé ! \n",
      "Epoch 1/20\n",
      "133/133 [==============================] - 1s 10ms/step - loss: 0.0183 - val_loss: 0.0254\n",
      "Epoch 2/20\n",
      "133/133 [==============================] - 1s 10ms/step - loss: 0.0183 - val_loss: 0.0254\n",
      "Epoch 3/20\n",
      "133/133 [==============================] - 1s 10ms/step - loss: 0.0183 - val_loss: 0.0254\n",
      "Epoch 4/20\n",
      "133/133 [==============================] - 1s 10ms/step - loss: 0.0183 - val_loss: 0.0254\n",
      "Epoch 5/20\n",
      "133/133 [==============================] - 1s 10ms/step - loss: 0.0183 - val_loss: 0.0254\n",
      "Epoch 6/20\n",
      "133/133 [==============================] - 1s 10ms/step - loss: 0.0183 - val_loss: 0.0254\n",
      "Epoch 7/20\n",
      "133/133 [==============================] - 1s 10ms/step - loss: 0.0183 - val_loss: 0.0254\n",
      "42/42 [==============================] - 0s 3ms/step - loss: 0.1021\n",
      "En cours de traitement de la fréquence :  30\n",
      "25% du traitement effectué\n",
      "50% du traitement effectué\n",
      "75% du traitement effectué\n",
      "Terminé ! \n",
      "Epoch 1/20\n",
      "133/133 [==============================] - 2s 16ms/step - loss: 0.0248 - val_loss: 0.1190\n",
      "Epoch 2/20\n",
      "133/133 [==============================] - 2s 15ms/step - loss: 0.0248 - val_loss: 0.1190\n",
      "Epoch 3/20\n",
      "133/133 [==============================] - 2s 16ms/step - loss: 0.0248 - val_loss: 0.1190\n",
      "Epoch 4/20\n",
      "133/133 [==============================] - 2s 15ms/step - loss: 0.0248 - val_loss: 0.1190\n",
      "Epoch 5/20\n",
      "133/133 [==============================] - 2s 16ms/step - loss: 0.0248 - val_loss: 0.1190\n",
      "Epoch 6/20\n",
      "133/133 [==============================] - 2s 16ms/step - loss: 0.0248 - val_loss: 0.1190\n",
      "Epoch 7/20\n",
      "133/133 [==============================] - 2s 16ms/step - loss: 0.0248 - val_loss: 0.1189\n",
      "Epoch 8/20\n",
      "133/133 [==============================] - 2s 16ms/step - loss: 0.0248 - val_loss: 0.1190\n",
      "Epoch 9/20\n",
      "133/133 [==============================] - 2s 15ms/step - loss: 0.0248 - val_loss: 0.1190\n",
      "Epoch 10/20\n",
      "133/133 [==============================] - 2s 16ms/step - loss: 0.0248 - val_loss: 0.1191\n",
      "Epoch 11/20\n",
      "133/133 [==============================] - 2s 16ms/step - loss: 0.0248 - val_loss: 0.1191\n",
      "Epoch 12/20\n",
      "133/133 [==============================] - 2s 15ms/step - loss: 0.0248 - val_loss: 0.1190\n",
      "42/42 [==============================] - 0s 7ms/step - loss: 0.0067\n",
      "En cours de traitement de la fréquence :  35\n",
      "25% du traitement effectué\n",
      "50% du traitement effectué\n",
      "75% du traitement effectué\n",
      "Terminé ! \n",
      "Epoch 1/20\n",
      "133/133 [==============================] - 2s 19ms/step - loss: 0.0515 - val_loss: 0.0063\n",
      "Epoch 2/20\n",
      "133/133 [==============================] - 2s 18ms/step - loss: 0.0515 - val_loss: 0.0063\n",
      "Epoch 3/20\n",
      "133/133 [==============================] - 2s 18ms/step - loss: 0.0515 - val_loss: 0.0063\n",
      "Epoch 4/20\n",
      "133/133 [==============================] - 2s 18ms/step - loss: 0.0515 - val_loss: 0.0063\n",
      "Epoch 5/20\n",
      "133/133 [==============================] - 2s 17ms/step - loss: 0.0515 - val_loss: 0.0063\n",
      "Epoch 6/20\n",
      "133/133 [==============================] - 2s 18ms/step - loss: 0.0515 - val_loss: 0.0063\n",
      "Epoch 7/20\n",
      "133/133 [==============================] - 2s 18ms/step - loss: 0.0515 - val_loss: 0.0063\n",
      "Epoch 8/20\n",
      "133/133 [==============================] - 2s 18ms/step - loss: 0.0515 - val_loss: 0.0064\n",
      "Epoch 9/20\n",
      "133/133 [==============================] - 2s 18ms/step - loss: 0.0515 - val_loss: 0.0063\n",
      "Epoch 10/20\n",
      "133/133 [==============================] - 2s 18ms/step - loss: 0.0515 - val_loss: 0.0064\n",
      "42/42 [==============================] - 0s 7ms/step - loss: 0.0115\n",
      "En cours de traitement de la fréquence :  40\n",
      "25% du traitement effectué\n",
      "50% du traitement effectué\n",
      "75% du traitement effectué\n",
      "Terminé ! \n",
      "Epoch 1/20\n",
      "133/133 [==============================] - 2s 19ms/step - loss: 0.0453 - val_loss: 0.0035\n",
      "Epoch 2/20\n",
      "133/133 [==============================] - 2s 18ms/step - loss: 0.0453 - val_loss: 0.0035\n",
      "Epoch 3/20\n",
      "133/133 [==============================] - 2s 18ms/step - loss: 0.0453 - val_loss: 0.0035\n",
      "Epoch 4/20\n",
      "133/133 [==============================] - 2s 18ms/step - loss: 0.0453 - val_loss: 0.0036\n",
      "Epoch 5/20\n",
      "133/133 [==============================] - 2s 18ms/step - loss: 0.0453 - val_loss: 0.0035\n",
      "Epoch 6/20\n",
      "133/133 [==============================] - 2s 18ms/step - loss: 0.0453 - val_loss: 0.0035\n",
      "42/42 [==============================] - 0s 7ms/step - loss: 0.0333\n",
      "En cours de traitement de la fréquence :  45\n",
      "25% du traitement effectué\n",
      "50% du traitement effectué\n",
      "75% du traitement effectué\n",
      "Terminé ! \n",
      "Epoch 1/20\n",
      "133/133 [==============================] - 2s 19ms/step - loss: 0.0394 - val_loss: 0.0336\n",
      "Epoch 2/20\n",
      "133/133 [==============================] - 2s 18ms/step - loss: 0.0393 - val_loss: 0.0336\n",
      "Epoch 3/20\n",
      "133/133 [==============================] - 2s 18ms/step - loss: 0.0394 - val_loss: 0.0336\n",
      "Epoch 4/20\n",
      "133/133 [==============================] - 2s 17ms/step - loss: 0.0394 - val_loss: 0.0336\n",
      "Epoch 5/20\n",
      "133/133 [==============================] - 2s 15ms/step - loss: 0.0394 - val_loss: 0.0337\n",
      "Epoch 6/20\n",
      "133/133 [==============================] - 2s 15ms/step - loss: 0.0394 - val_loss: 0.0336\n",
      "Epoch 7/20\n",
      "133/133 [==============================] - 2s 16ms/step - loss: 0.0394 - val_loss: 0.0337\n",
      "Epoch 8/20\n",
      "133/133 [==============================] - 2s 16ms/step - loss: 0.0394 - val_loss: 0.0336\n",
      "Epoch 9/20\n",
      "133/133 [==============================] - 2s 16ms/step - loss: 0.0393 - val_loss: 0.0336\n",
      "Epoch 10/20\n",
      "133/133 [==============================] - 2s 16ms/step - loss: 0.0394 - val_loss: 0.0336\n",
      "Epoch 11/20\n",
      "133/133 [==============================] - 2s 16ms/step - loss: 0.0393 - val_loss: 0.0336\n",
      "Epoch 12/20\n",
      "133/133 [==============================] - 2s 16ms/step - loss: 0.0393 - val_loss: 0.0336\n",
      "Epoch 13/20\n",
      "133/133 [==============================] - 2s 16ms/step - loss: 0.0394 - val_loss: 0.0337\n",
      "Epoch 14/20\n",
      "133/133 [==============================] - 2s 16ms/step - loss: 0.0394 - val_loss: 0.0336\n",
      "42/42 [==============================] - 0s 6ms/step - loss: 0.0283\n",
      "En cours de traitement de la fréquence :  50\n",
      "25% du traitement effectué\n",
      "50% du traitement effectué\n",
      "75% du traitement effectué\n",
      "Terminé ! \n",
      "Epoch 1/20\n",
      "133/133 [==============================] - 2s 16ms/step - loss: 0.0253 - val_loss: 0.0156\n",
      "Epoch 2/20\n",
      "133/133 [==============================] - 2s 15ms/step - loss: 0.0253 - val_loss: 0.0157\n",
      "Epoch 3/20\n",
      "133/133 [==============================] - 2s 15ms/step - loss: 0.0253 - val_loss: 0.0156\n",
      "Epoch 4/20\n",
      "133/133 [==============================] - 2s 15ms/step - loss: 0.0253 - val_loss: 0.0157\n",
      "Epoch 5/20\n",
      "133/133 [==============================] - 2s 16ms/step - loss: 0.0253 - val_loss: 0.0156\n",
      "Epoch 6/20\n",
      "133/133 [==============================] - 2s 15ms/step - loss: 0.0253 - val_loss: 0.0157\n",
      "Epoch 7/20\n",
      "133/133 [==============================] - 2s 15ms/step - loss: 0.0253 - val_loss: 0.0157\n",
      "Epoch 8/20\n",
      "133/133 [==============================] - 2s 16ms/step - loss: 0.0253 - val_loss: 0.0157\n",
      "42/42 [==============================] - 0s 6ms/step - loss: 0.0877\n"
     ]
    }
   ],
   "source": [
    "df_result_freq = choix_frequence (dfs, [1,5,10,15,20,25,30,35,40,45,50])"
   ]
  },
  {
   "cell_type": "code",
   "execution_count": 904,
   "id": "heard-removal",
   "metadata": {},
   "outputs": [
    {
     "data": {
      "text/html": [
       "<div>\n",
       "<style scoped>\n",
       "    .dataframe tbody tr th:only-of-type {\n",
       "        vertical-align: middle;\n",
       "    }\n",
       "\n",
       "    .dataframe tbody tr th {\n",
       "        vertical-align: top;\n",
       "    }\n",
       "\n",
       "    .dataframe thead th {\n",
       "        text-align: right;\n",
       "    }\n",
       "</style>\n",
       "<table border=\"1\" class=\"dataframe\">\n",
       "  <thead>\n",
       "    <tr style=\"text-align: right;\">\n",
       "      <th></th>\n",
       "      <th>Frequence</th>\n",
       "      <th>Loss</th>\n",
       "      <th>Var_2_trend</th>\n",
       "    </tr>\n",
       "  </thead>\n",
       "  <tbody>\n",
       "    <tr>\n",
       "      <th>0</th>\n",
       "      <td>1</td>\n",
       "      <td>NaN</td>\n",
       "      <td>0.093775</td>\n",
       "    </tr>\n",
       "    <tr>\n",
       "      <th>0</th>\n",
       "      <td>5</td>\n",
       "      <td>NaN</td>\n",
       "      <td>0.022926</td>\n",
       "    </tr>\n",
       "    <tr>\n",
       "      <th>0</th>\n",
       "      <td>10</td>\n",
       "      <td>NaN</td>\n",
       "      <td>0.021899</td>\n",
       "    </tr>\n",
       "    <tr>\n",
       "      <th>0</th>\n",
       "      <td>15</td>\n",
       "      <td>NaN</td>\n",
       "      <td>0.003528</td>\n",
       "    </tr>\n",
       "    <tr>\n",
       "      <th>0</th>\n",
       "      <td>20</td>\n",
       "      <td>NaN</td>\n",
       "      <td>0.014393</td>\n",
       "    </tr>\n",
       "    <tr>\n",
       "      <th>0</th>\n",
       "      <td>25</td>\n",
       "      <td>NaN</td>\n",
       "      <td>0.102117</td>\n",
       "    </tr>\n",
       "    <tr>\n",
       "      <th>0</th>\n",
       "      <td>30</td>\n",
       "      <td>NaN</td>\n",
       "      <td>0.006719</td>\n",
       "    </tr>\n",
       "    <tr>\n",
       "      <th>0</th>\n",
       "      <td>35</td>\n",
       "      <td>NaN</td>\n",
       "      <td>0.011503</td>\n",
       "    </tr>\n",
       "    <tr>\n",
       "      <th>0</th>\n",
       "      <td>40</td>\n",
       "      <td>NaN</td>\n",
       "      <td>0.033328</td>\n",
       "    </tr>\n",
       "    <tr>\n",
       "      <th>0</th>\n",
       "      <td>45</td>\n",
       "      <td>NaN</td>\n",
       "      <td>0.028298</td>\n",
       "    </tr>\n",
       "    <tr>\n",
       "      <th>0</th>\n",
       "      <td>50</td>\n",
       "      <td>NaN</td>\n",
       "      <td>0.087711</td>\n",
       "    </tr>\n",
       "  </tbody>\n",
       "</table>\n",
       "</div>"
      ],
      "text/plain": [
       "  Frequence Loss  Var_2_trend\n",
       "0         1  NaN     0.093775\n",
       "0         5  NaN     0.022926\n",
       "0        10  NaN     0.021899\n",
       "0        15  NaN     0.003528\n",
       "0        20  NaN     0.014393\n",
       "0        25  NaN     0.102117\n",
       "0        30  NaN     0.006719\n",
       "0        35  NaN     0.011503\n",
       "0        40  NaN     0.033328\n",
       "0        45  NaN     0.028298\n",
       "0        50  NaN     0.087711"
      ]
     },
     "execution_count": 904,
     "metadata": {},
     "output_type": "execute_result"
    }
   ],
   "source": [
    "df_result_freq"
   ]
  },
  {
   "cell_type": "code",
   "execution_count": null,
   "id": "fantastic-delaware",
   "metadata": {},
   "outputs": [],
   "source": []
  },
  {
   "cell_type": "code",
   "execution_count": null,
   "id": "hidden-athletics",
   "metadata": {},
   "outputs": [],
   "source": []
  },
  {
   "cell_type": "code",
   "execution_count": null,
   "id": "thermal-russia",
   "metadata": {},
   "outputs": [],
   "source": []
  },
  {
   "cell_type": "code",
   "execution_count": null,
   "id": "western-writing",
   "metadata": {},
   "outputs": [],
   "source": []
  },
  {
   "cell_type": "code",
   "execution_count": null,
   "id": "generic-harris",
   "metadata": {},
   "outputs": [],
   "source": []
  },
  {
   "cell_type": "code",
   "execution_count": null,
   "id": "imposed-stream",
   "metadata": {},
   "outputs": [],
   "source": []
  },
  {
   "cell_type": "code",
   "execution_count": null,
   "id": "celtic-hierarchy",
   "metadata": {},
   "outputs": [],
   "source": []
  },
  {
   "cell_type": "code",
   "execution_count": null,
   "id": "executed-heating",
   "metadata": {},
   "outputs": [],
   "source": []
  },
  {
   "cell_type": "code",
   "execution_count": null,
   "id": "becoming-estonia",
   "metadata": {},
   "outputs": [],
   "source": []
  },
  {
   "cell_type": "code",
   "execution_count": null,
   "id": "welcome-metropolitan",
   "metadata": {},
   "outputs": [],
   "source": []
  },
  {
   "cell_type": "code",
   "execution_count": null,
   "id": "located-match",
   "metadata": {},
   "outputs": [],
   "source": []
  },
  {
   "cell_type": "code",
   "execution_count": null,
   "id": "popular-kuwait",
   "metadata": {},
   "outputs": [],
   "source": []
  },
  {
   "cell_type": "code",
   "execution_count": null,
   "id": "spare-outline",
   "metadata": {},
   "outputs": [],
   "source": []
  },
  {
   "cell_type": "code",
   "execution_count": null,
   "id": "coupled-slovenia",
   "metadata": {},
   "outputs": [],
   "source": []
  },
  {
   "cell_type": "code",
   "execution_count": null,
   "id": "unlimited-vector",
   "metadata": {},
   "outputs": [],
   "source": []
  },
  {
   "cell_type": "code",
   "execution_count": null,
   "id": "vanilla-point",
   "metadata": {},
   "outputs": [],
   "source": []
  },
  {
   "cell_type": "code",
   "execution_count": null,
   "id": "frank-transformation",
   "metadata": {},
   "outputs": [],
   "source": []
  },
  {
   "cell_type": "code",
   "execution_count": 409,
   "id": "elegant-wound",
   "metadata": {},
   "outputs": [],
   "source": [
    "# define model\n",
    "model = Sequential()\n",
    "model.add(Conv1D(filters=64, kernel_size=2, activation='relu', input_shape=(100, X_complement_train.shape[2])))\n",
    "model.add(MaxPooling1D(pool_size=2))\n",
    "model.add(Flatten())\n",
    "model.add(Dense(50, activation='relu'))\n",
    "model.add(Dense(1))\n",
    "model.compile(optimizer='adam', loss='mse')"
   ]
  },
  {
   "cell_type": "code",
   "execution_count": 410,
   "id": "thermal-motion",
   "metadata": {},
   "outputs": [
    {
     "name": "stdout",
     "output_type": "stream",
     "text": [
      "Epoch 1/10\n",
      "133/133 [==============================] - 0s 3ms/step - loss: 0.1153 - val_loss: 0.0041\n",
      "Epoch 2/10\n",
      "133/133 [==============================] - 0s 2ms/step - loss: 0.0459 - val_loss: 0.0038\n",
      "Epoch 3/10\n",
      "133/133 [==============================] - 0s 2ms/step - loss: 0.0457 - val_loss: 0.0037\n",
      "Epoch 4/10\n",
      "133/133 [==============================] - 0s 2ms/step - loss: 0.0457 - val_loss: 0.0037\n",
      "Epoch 5/10\n",
      "133/133 [==============================] - 0s 2ms/step - loss: 0.0456 - val_loss: 0.0036\n",
      "Epoch 6/10\n",
      "133/133 [==============================] - 0s 2ms/step - loss: 0.0454 - val_loss: 0.0036\n",
      "Epoch 7/10\n",
      "133/133 [==============================] - 0s 2ms/step - loss: 0.0454 - val_loss: 0.0037\n",
      "Epoch 8/10\n",
      "133/133 [==============================] - 0s 2ms/step - loss: 0.0454 - val_loss: 0.0035\n",
      "Epoch 9/10\n",
      "133/133 [==============================] - 0s 2ms/step - loss: 0.0454 - val_loss: 0.0036\n",
      "Epoch 10/10\n",
      "133/133 [==============================] - 0s 2ms/step - loss: 0.0453 - val_loss: 0.0036\n"
     ]
    }
   ],
   "source": [
    "history = model.fit(X_complement_train, Y_train, epochs=10, validation_split = 0.2)"
   ]
  },
  {
   "cell_type": "code",
   "execution_count": 414,
   "id": "small-portrait",
   "metadata": {},
   "outputs": [
    {
     "data": {
      "text/plain": [
       "(5292, 100, 10)"
      ]
     },
     "execution_count": 414,
     "metadata": {},
     "output_type": "execute_result"
    }
   ],
   "source": [
    "X_complement_train.shape"
   ]
  },
  {
   "cell_type": "code",
   "execution_count": 415,
   "id": "underlying-bowling",
   "metadata": {},
   "outputs": [],
   "source": [
    "x_input = X_complement_train[0]\n",
    "x_input = x_input.reshape((1, 100, 10))"
   ]
  },
  {
   "cell_type": "code",
   "execution_count": 416,
   "id": "respective-maple",
   "metadata": {},
   "outputs": [
    {
     "data": {
      "text/plain": [
       "array([[[0.04709345, 0.        , 0.20949029, 0.        , 1.        ,\n",
       "         0.13685721, 0.13613258, 0.        , 2.        , 0.4       ],\n",
       "        [0.04709345, 0.        , 0.19853996, 0.        , 1.        ,\n",
       "         0.03921577, 0.21276349, 0.        , 2.        , 0.4       ],\n",
       "        [0.04709345, 0.        , 0.20088646, 0.        , 1.        ,\n",
       "         0.41974892, 0.26635718, 0.        , 2.        , 0.4       ],\n",
       "        [0.04709345, 0.        , 0.19176118, 0.        , 1.        ,\n",
       "         0.50566374, 0.15295494, 0.        , 2.        , 0.4       ],\n",
       "        [0.04709345, 0.        , 0.20023465, 0.        , 1.        ,\n",
       "         0.53477565, 0.20223274, 0.        , 2.        , 0.4       ],\n",
       "        [0.04709345, 0.        , 0.20440621, 0.        , 1.        ,\n",
       "         0.46138206, 0.12976427, 0.        , 2.        , 0.4       ],\n",
       "        [0.04709345, 0.        , 0.18589493, 0.        , 1.        ,\n",
       "         0.48140485, 0.19576851, 0.        , 2.        , 0.4       ],\n",
       "        [0.04709345, 0.        , 0.20570982, 0.        , 1.        ,\n",
       "         0.13884006, 0.39193982, 0.        , 2.        , 0.4       ],\n",
       "        [0.04709345, 0.        , 0.20831704, 0.        , 1.        ,\n",
       "         0.24471838, 0.28582665, 0.        , 2.        , 0.4       ],\n",
       "        [0.04709345, 0.        , 0.20935993, 0.        , 1.        ,\n",
       "         0.14750124, 0.16525044, 0.        , 2.        , 0.4       ],\n",
       "        [0.04709345, 0.        , 0.18146265, 0.        , 1.        ,\n",
       "         0.63055589, 0.20321103, 0.        , 2.        , 0.4       ],\n",
       "        [0.04709345, 0.        , 0.19515057, 0.        , 1.        ,\n",
       "         0.63602255, 0.22277635, 0.        , 2.        , 0.4       ],\n",
       "        [0.04709345, 0.        , 0.21105462, 0.        , 1.        ,\n",
       "         0.58236969, 0.20480307, 0.        , 2.        , 0.4       ],\n",
       "        [0.04709345, 0.        , 0.1943684 , 0.        , 1.        ,\n",
       "         0.73057561, 0.1790996 , 0.        , 2.        , 0.4       ],\n",
       "        [0.04709345, 0.        , 0.20779559, 0.        , 1.        ,\n",
       "         0.31083496, 0.22661272, 0.        , 2.        , 0.4       ],\n",
       "        [0.04709345, 0.        , 0.19684526, 0.        , 1.        ,\n",
       "         0.58049307, 0.21872901, 0.        , 2.        , 0.4       ],\n",
       "        [0.04709345, 0.        , 0.20870812, 0.        , 1.        ,\n",
       "         0.20382963, 0.26931118, 0.        , 2.        , 0.4       ],\n",
       "        [0.04709345, 0.        , 0.20623126, 0.        , 1.        ,\n",
       "         0.04012255, 0.32384476, 0.        , 2.        , 0.4       ],\n",
       "        [0.04709345, 0.        , 0.20701343, 0.        , 1.        ,\n",
       "         0.38808175, 0.19306386, 0.        , 2.        , 0.4       ],\n",
       "        [0.04709345, 0.        , 0.18863251, 0.        , 1.        ,\n",
       "         0.42860054, 0.18588997, 0.        , 2.        , 0.4       ],\n",
       "        [0.04709345, 0.        , 0.18380915, 0.        , 1.        ,\n",
       "         0.78842335, 0.1557171 , 0.        , 2.        , 0.4       ],\n",
       "        [0.04709345, 0.        , 0.18576457, 0.        , 1.        ,\n",
       "         0.30757564, 0.27333931, 0.        , 2.        , 0.4       ],\n",
       "        [0.04709345, 0.        , 0.20127754, 0.        , 1.        ,\n",
       "         0.038444  , 0.19878003, 0.        , 2.        , 0.4       ],\n",
       "        [0.04709345, 0.        , 0.18211446, 0.        , 1.        ,\n",
       "         0.1086252 , 0.21132489, 0.        , 2.        , 0.4       ],\n",
       "        [0.04709345, 0.        , 0.19371659, 0.        , 1.        ,\n",
       "         0.67825952, 0.21573669, 0.        , 2.        , 0.4       ],\n",
       "        [0.04709345, 0.        , 0.18120193, 0.        , 1.        ,\n",
       "         0.39129647, 0.19839643, 0.        , 2.        , 0.4       ],\n",
       "        [0.04709345, 0.        , 0.20505801, 0.        , 1.        ,\n",
       "         0.04471733, 0.19985423, 0.        , 2.        , 0.4       ],\n",
       "        [0.04709345, 0.        , 0.18602529, 0.        , 1.        ,\n",
       "         0.02556405, 0.13609419, 0.        , 2.        , 0.4       ],\n",
       "        [0.04709345, 0.        , 0.20362404, 0.        , 1.        ,\n",
       "         0.67753921, 0.17298064, 0.        , 2.        , 0.4       ],\n",
       "        [0.04709345, 0.        , 0.18758962, 0.        , 1.        ,\n",
       "         0.51159456, 0.16611362, 0.        , 2.        , 0.4       ],\n",
       "        [0.04709345, 0.        , 0.19228262, 0.        , 1.        ,\n",
       "         0.53396433, 0.20783379, 0.        , 2.        , 0.4       ],\n",
       "        [0.04709345, 0.        , 0.18446096, 0.        , 1.        ,\n",
       "         0.57010984, 0.2235628 , 0.        , 2.        , 0.4       ],\n",
       "        [0.04709345, 0.        , 0.20258115, 0.        , 1.        ,\n",
       "         0.42271887, 0.1952506 , 0.        , 2.        , 0.4       ],\n",
       "        [0.04709345, 0.        , 0.18811107, 0.        , 1.        ,\n",
       "         0.45572571, 0.16663152, 0.        , 2.        , 0.4       ],\n",
       "        [0.04709345, 0.        , 0.19215226, 0.        , 1.        ,\n",
       "         0.52601966, 0.20674045, 0.        , 2.        , 0.4       ],\n",
       "        [0.04709345, 0.        , 0.20597054, 0.        , 1.        ,\n",
       "         0.47874727, 0.16480925, 0.        , 2.        , 0.4       ],\n",
       "        [0.04709345, 0.        , 0.19775779, 0.        , 1.        ,\n",
       "         0.64762736, 0.11207875, 0.        , 2.        , 0.4       ],\n",
       "        [0.04709345, 0.        , 0.18706818, 0.        , 1.        ,\n",
       "         0.51230955, 0.30871044, 0.        , 2.        , 0.4       ],\n",
       "        [0.04709345, 0.        , 0.18798071, 0.        , 1.        ,\n",
       "         0.46075031, 0.16519285, 0.        , 2.        , 0.4       ],\n",
       "        [0.04709345, 0.        , 0.2067527 , 0.        , 1.        ,\n",
       "         0.28173416, 0.30000195, 0.        , 2.        , 0.4       ],\n",
       "        [0.04709345, 0.        , 0.20922957, 0.        , 1.        ,\n",
       "         0.15696671, 0.17039111, 0.        , 2.        , 0.4       ],\n",
       "        [0.04709345, 0.        , 0.19749707, 0.        , 1.        ,\n",
       "         0.27571498, 0.37076326, 0.        , 2.        , 0.4       ],\n",
       "        [0.04709345, 0.        , 0.20479729, 0.        , 1.        ,\n",
       "         0.38068247, 0.25016785, 0.        , 2.        , 0.4       ],\n",
       "        [0.04709345, 0.        , 0.20740451, 0.        , 1.        ,\n",
       "         0.33587334, 0.12679108, 0.        , 2.        , 0.4       ],\n",
       "        [0.04709345, 0.        , 0.18315735, 0.        , 1.        ,\n",
       "         0.41007207, 0.24514223, 0.        , 2.        , 0.4       ],\n",
       "        [0.04709345, 0.        , 0.1873289 , 0.        , 1.        ,\n",
       "         0.51191918, 0.26117812, 0.        , 2.        , 0.4       ],\n",
       "        [0.04709345, 0.        , 0.20636162, 0.        , 1.        ,\n",
       "         0.43131175, 0.22200909, 0.        , 2.        , 0.4       ],\n",
       "        [0.04709345, 0.        , 0.18420023, 0.        , 1.        ,\n",
       "         0.43071495, 0.36216981, 0.        , 2.        , 0.4       ],\n",
       "        [0.04709345, 0.        , 0.20166862, 0.        , 1.        ,\n",
       "         0.27312499, 0.2070282 , 0.        , 2.        , 0.4       ],\n",
       "        [0.04709345, 0.        , 0.1990614 , 0.        , 1.        ,\n",
       "         0.20373643, 0.31235491, 0.        , 2.        , 0.4       ],\n",
       "        [0.04709345, 0.        , 0.1849824 , 0.        , 1.        ,\n",
       "         0.56934989, 0.13294843, 0.        , 2.        , 0.4       ],\n",
       "        [0.04709345, 0.        , 0.19619346, 0.        , 1.        ,\n",
       "         0.72497225, 0.25404255, 0.        , 2.        , 0.4       ],\n",
       "        [0.04709345, 0.        , 0.18237518, 0.        , 1.        ,\n",
       "         0.39072766, 0.2031535 , 0.        , 2.        , 0.4       ],\n",
       "        [0.04709345, 0.        , 0.19293443, 0.        , 1.        ,\n",
       "         0.61415059, 0.17837073, 0.        , 2.        , 0.4       ],\n",
       "        [0.04709345, 0.        , 0.20205971, 0.        , 1.        ,\n",
       "         0.3407231 , 0.22494389, 0.        , 2.        , 0.4       ],\n",
       "        [0.04709345, 0.        , 0.20075609, 0.        , 1.        ,\n",
       "         0.59692344, 0.14242418, 0.        , 2.        , 0.4       ],\n",
       "        [0.04709345, 0.        , 0.21001173, 0.        , 1.        ,\n",
       "         0.09153833, 0.1728464 , 0.        , 2.        , 0.4       ],\n",
       "        [0.04709345, 0.        , 0.19462912, 0.        , 1.        ,\n",
       "         0.75749276, 0.13160567, 0.        , 2.        , 0.4       ],\n",
       "        [0.04709345, 0.        , 0.20714379, 0.        , 1.        ,\n",
       "         0.37553657, 0.38432473, 0.        , 2.        , 0.4       ],\n",
       "        [0.04709345, 0.        , 0.19449876, 0.        , 1.        ,\n",
       "         0.73751344, 0.15611989, 0.        , 2.        , 0.4       ],\n",
       "        [0.04709345, 0.        , 0.18133229, 0.        , 1.        ,\n",
       "         0.22965015, 0.21266758, 0.        , 2.        , 0.4       ],\n",
       "        [0.04709345, 0.        , 0.19163082, 0.        , 1.        ,\n",
       "         0.47914152, 0.17977094, 0.        , 2.        , 0.4       ],\n",
       "        [0.04709345, 0.        , 0.21066354, 0.        , 1.        ,\n",
       "         0.41525202, 0.17980933, 0.        , 2.        , 0.4       ],\n",
       "        [0.04709345, 0.        , 0.20688307, 0.        , 1.        ,\n",
       "         0.59964399, 0.11334472, 0.        , 2.        , 0.4       ],\n",
       "        [0.04709345, 0.        , 0.19358623, 0.        , 1.        ,\n",
       "         0.66922821, 0.23090941, 0.        , 2.        , 0.4       ],\n",
       "        [0.04709345, 0.        , 0.18159301, 0.        , 1.        ,\n",
       "         0.03784499, 0.21105634, 0.        , 2.        , 0.4       ],\n",
       "        [0.04709345, 0.        , 0.20466693, 0.        , 1.        ,\n",
       "         0.38053094, 0.22409991, 0.        , 2.        , 0.4       ],\n",
       "        [0.04709345, 0.        , 0.18354843, 0.        , 1.        ,\n",
       "         0.76760789, 0.15673372, 0.        , 2.        , 0.4       ],\n",
       "        [0.04709345, 0.        , 0.18941468, 0.        , 1.        ,\n",
       "         0.45076104, 0.16315962, 0.        , 2.        , 0.4       ],\n",
       "        [0.04709345, 0.        , 0.18928432, 0.        , 1.        ,\n",
       "         0.60131315, 0.16145246, 0.        , 2.        , 0.4       ],\n",
       "        [0.04709345, 0.        , 0.21092426, 0.        , 1.        ,\n",
       "         0.67127832, 0.2967602 , 0.        , 2.        , 0.4       ],\n",
       "        [0.04709345, 0.        , 0.19097901, 0.        , 1.        ,\n",
       "         0.4405469 , 0.20745019, 0.        , 2.        , 0.4       ],\n",
       "        [0.04709345, 0.        , 0.18954504, 0.        , 1.        ,\n",
       "         0.66266134, 0.13837684, 0.        , 2.        , 0.4       ],\n",
       "        [0.04709345, 0.        , 0.19045757, 0.        , 1.        ,\n",
       "         0.54904035, 0.15659948, 0.        , 2.        , 0.4       ],\n",
       "        [0.04709345, 0.        , 0.21040282, 0.        , 1.        ,\n",
       "         0.03956079, 0.18826847, 0.        , 2.        , 0.4       ],\n",
       "        [0.04709345, 0.        , 0.18289662, 0.        , 1.        ,\n",
       "         0.54949261, 0.15922733, 0.        , 2.        , 0.4       ],\n",
       "        [0.04709345, 0.        , 0.18224482, 0.        , 1.        ,\n",
       "         0.46722873, 0.19864579, 0.        , 2.        , 0.4       ],\n",
       "        [0.04709345, 0.        , 0.18876287, 0.        , 1.        ,\n",
       "         0.45296467, 0.21165096, 0.        , 2.        , 0.4       ],\n",
       "        [0.04709345, 0.        , 0.1920219 , 0.        , 1.        ,\n",
       "         0.51883943, 0.13131799, 0.        , 2.        , 0.4       ],\n",
       "        [0.04709345, 0.        , 0.20818668, 0.        , 1.        ,\n",
       "         0.25707495, 0.17664438, 0.        , 2.        , 0.4       ],\n",
       "        [0.04709345, 0.        , 0.20245079, 0.        , 1.        ,\n",
       "         0.29635319, 0.22830068, 0.        , 2.        , 0.4       ],\n",
       "        [0.04709345, 0.        , 0.21027245, 0.        , 1.        ,\n",
       "         0.04039533, 0.13760958, 0.        , 2.        , 0.4       ],\n",
       "        [0.04709345, 0.        , 0.18719854, 0.        , 1.        ,\n",
       "         0.51212687, 0.317745  , 0.        , 2.        , 0.4       ],\n",
       "        [0.04709345, 0.        , 0.2114457 , 0.        , 1.        ,\n",
       "         0.31900791, 0.23108204, 0.        , 2.        , 0.4       ],\n",
       "        [0.04709345, 0.        , 0.20753487, 0.        , 1.        ,\n",
       "         0.32802066, 0.13653538, 0.        , 2.        , 0.4       ],\n",
       "        [0.04709345, 0.        , 0.19150046, 0.        , 1.        ,\n",
       "         0.47197311, 0.16127983, 0.        , 2.        , 0.4       ],\n",
       "        [0.04709345, 0.        , 0.19345587, 0.        , 1.        ,\n",
       "         0.66195634, 0.17246273, 0.        , 2.        , 0.4       ],\n",
       "        [0.04709345, 0.        , 0.19110937, 0.        , 1.        ,\n",
       "         0.45235128, 0.19831971, 0.        , 2.        , 0.4       ],\n",
       "        [0.04709345, 0.        , 0.18302698, 0.        , 1.        ,\n",
       "         0.53006425, 0.30353138, 0.        , 2.        , 0.4       ],\n",
       "        [0.04709345, 0.        , 0.20010429, 0.        , 1.        ,\n",
       "         0.29384476, 0.16764814, 0.        , 2.        , 0.4       ],\n",
       "        [0.04709345, 0.        , 0.20962065, 0.        , 1.        ,\n",
       "         0.12134297, 0.16929777, 0.        , 2.        , 0.4       ],\n",
       "        [0.04709345, 0.        , 0.18850215, 0.        , 1.        ,\n",
       "         0.44231528, 0.2313122 , 0.        , 2.        , 0.4       ],\n",
       "        [0.04709345, 0.        , 0.18628601, 0.        , 1.        ,\n",
       "         0.27818601, 0.24991849, 0.        , 2.        , 0.4       ],\n",
       "        [0.04709345, 0.        , 0.20531873, 0.        , 1.        ,\n",
       "         0.03912939, 0.20675965, 0.        , 2.        , 0.4       ],\n",
       "        [0.04709345, 0.        , 0.20114718, 0.        , 1.        ,\n",
       "         0.45646787, 0.19567259, 0.        , 2.        , 0.4       ],\n",
       "        [0.04709345, 0.        , 0.19332551, 0.        , 1.        ,\n",
       "         0.65512492, 0.18038476, 0.        , 2.        , 0.4       ],\n",
       "        [0.04709345, 0.        , 0.21170643, 0.        , 1.        ,\n",
       "         0.54695391, 0.17610727, 0.        , 2.        , 0.4       ],\n",
       "        [0.04709345, 0.        , 0.18980576, 0.        , 1.        ,\n",
       "         0.24894328, 0.20443867, 0.        , 2.        , 0.4       ],\n",
       "        [0.04709345, 0.        , 0.20153826, 0.        , 1.        ,\n",
       "         0.34436678, 0.22289146, 0.        , 2.        , 0.4       ],\n",
       "        [0.04709345, 0.        , 0.20179898, 0.        , 1.        ,\n",
       "         0.03999203, 0.22250779, 0.        , 2.        , 0.4       ]]])"
      ]
     },
     "execution_count": 416,
     "metadata": {},
     "output_type": "execute_result"
    }
   ],
   "source": [
    "x_input"
   ]
  },
  {
   "cell_type": "code",
   "execution_count": 417,
   "id": "american-mercy",
   "metadata": {},
   "outputs": [
    {
     "data": {
      "text/plain": [
       "array([[-0.03070463]], dtype=float32)"
      ]
     },
     "execution_count": 417,
     "metadata": {},
     "output_type": "execute_result"
    }
   ],
   "source": [
    "model.predict(x_input)"
   ]
  },
  {
   "cell_type": "code",
   "execution_count": 418,
   "id": "ordered-patrol",
   "metadata": {},
   "outputs": [
    {
     "data": {
      "text/plain": [
       "-0.06207703"
      ]
     },
     "execution_count": 418,
     "metadata": {},
     "output_type": "execute_result"
    }
   ],
   "source": [
    "Y_train[0]"
   ]
  },
  {
   "cell_type": "code",
   "execution_count": 94,
   "id": "demonstrated-overall",
   "metadata": {},
   "outputs": [],
   "source": [
    "x_input = X_train[0:3]"
   ]
  },
  {
   "cell_type": "code",
   "execution_count": 95,
   "id": "improved-dietary",
   "metadata": {},
   "outputs": [],
   "source": [
    "x_input\n",
    "x_input = x_input.reshape((3, 100, 15))"
   ]
  },
  {
   "cell_type": "code",
   "execution_count": 96,
   "id": "competitive-petroleum",
   "metadata": {},
   "outputs": [
    {
     "data": {
      "text/plain": [
       "array([[ 0.30618152],\n",
       "       [-0.5657972 ],\n",
       "       [ 0.09630451]], dtype=float32)"
      ]
     },
     "execution_count": 96,
     "metadata": {},
     "output_type": "execute_result"
    }
   ],
   "source": [
    "model.predict(x_input)"
   ]
  },
  {
   "cell_type": "code",
   "execution_count": 97,
   "id": "lasting-excuse",
   "metadata": {},
   "outputs": [
    {
     "data": {
      "text/plain": [
       "array([[ 0.30618152],\n",
       "       [-0.5657972 ],\n",
       "       [ 0.09630451]], dtype=float32)"
      ]
     },
     "execution_count": 97,
     "metadata": {},
     "output_type": "execute_result"
    }
   ],
   "source": [
    "model.predict(X_train[0:3])"
   ]
  },
  {
   "cell_type": "code",
   "execution_count": null,
   "id": "secondary-salon",
   "metadata": {},
   "outputs": [],
   "source": []
  },
  {
   "cell_type": "code",
   "execution_count": null,
   "id": "checked-quality",
   "metadata": {},
   "outputs": [],
   "source": []
  }
 ],
 "metadata": {
  "kernelspec": {
   "display_name": "Python 3",
   "language": "python",
   "name": "python3"
  },
  "language_info": {
   "codemirror_mode": {
    "name": "ipython",
    "version": 3
   },
   "file_extension": ".py",
   "mimetype": "text/x-python",
   "name": "python",
   "nbconvert_exporter": "python",
   "pygments_lexer": "ipython3",
   "version": "3.7.10"
  }
 },
 "nbformat": 4,
 "nbformat_minor": 5
}
